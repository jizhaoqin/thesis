{
 "cells": [
  {
   "cell_type": "code",
   "execution_count": null,
   "metadata": {},
   "outputs": [],
   "source": [
    "# data normalization\n",
    "dtype = np.float32\n",
    "in_data_column = [\n",
    "    # magnitude\n",
    "    \"EBV\",\n",
    "    \"FLUX_G\",\n",
    "    \"FLUX_R\",\n",
    "    \"FLUX_Z\",\n",
    "    # \"FLUX_W1\",\n",
    "    # \"FLUX_W2\",\n",
    "    \"FIBERFLUX_G\",\n",
    "    \"FIBERFLUX_R\",\n",
    "    \"FIBERFLUX_Z\",\n",
    "    \"FIBERTOTFLUX_G\",\n",
    "    \"FIBERTOTFLUX_R\",\n",
    "    \"FIBERTOTFLUX_Z\",\n",
    "    # shape\n",
    "    \"SERSIC\",\n",
    "    \"SHAPE_R\",\n",
    "    \"SHAPE_E1\",\n",
    "    \"SHAPE_E2\",\n",
    "    # exposure\n",
    "    \"COADD_NUMEXP\",\n",
    "    \"COADD_EXPTIME\",\n",
    "]\n",
    "\n",
    "np_in_data = np.zeros(len(data))\n",
    "for column in in_data_column:\n",
    "    # if \"FLUX_\" in column:\n",
    "    #     normalize = 22.5 - np.log10(data[column].data.astype(dtype))\n",
    "    # else:\n",
    "    #     normalize = data[column].data.astype(dtype)\n",
    "    normalize = data[column].data.astype(dtype)\n",
    "    normalize = z_score_normalization(normalize)\n",
    "    np_in_data = np.vstack((np_in_data, normalize))\n",
    "\n",
    "np_in_data = np_in_data[1:, :].astype(dtype).T\n",
    "# input data dimension\n",
    "in_data_shape = np_in_data.shape[1]\n",
    "print(np_in_data.shape, np_in_data.dtype)"
   ]
  }
 ],
 "metadata": {
  "language_info": {
   "name": "python"
  }
 },
 "nbformat": 4,
 "nbformat_minor": 2
}
