{
 "cells": [
  {
   "cell_type": "markdown",
   "id": "d95f95e0-8e39-4d16-9c24-d33c527e1ab6",
   "metadata": {},
   "source": [
    "# Demo code"
   ]
  },
  {
   "cell_type": "code",
   "execution_count": 7,
   "id": "5428d571-9a99-4357-8583-265f99324e7f",
   "metadata": {
    "tags": []
   },
   "outputs": [],
   "source": [
    "import numpy as np\n",
    "import torch\n",
    "import gc"
   ]
  },
  {
   "cell_type": "code",
   "execution_count": 10,
   "id": "efd32be1-d9a8-461c-971f-8584b32aea21",
   "metadata": {
    "tags": []
   },
   "outputs": [
    {
     "data": {
      "text/plain": [
       "864"
      ]
     },
     "execution_count": 10,
     "metadata": {},
     "output_type": "execute_result"
    }
   ],
   "source": [
    "gc.collect()"
   ]
  },
  {
   "cell_type": "markdown",
   "id": "05d1dc3b-0fdf-4496-97d4-cd4f1207d77f",
   "metadata": {},
   "source": [
    "### Stack 2 or several arrays"
   ]
  },
  {
   "cell_type": "code",
   "execution_count": 15,
   "id": "dbf632e1-da15-44ab-9c74-7f246e93c784",
   "metadata": {
    "tags": []
   },
   "outputs": [
    {
     "name": "stdout",
     "output_type": "stream",
     "text": [
      "Stacked Tensor:\n",
      " tensor([[1, 2, 3],\n",
      "        [4, 5, 6]]) torch.Size([2, 3])\n"
     ]
    }
   ],
   "source": [
    "# Create two NumPy arrays\n",
    "array1 = np.array([1, 2, 3])\n",
    "array2 = np.array([4, 5, 6])\n",
    "\n",
    "# Convert NumPy arrays to PyTorch tensors\n",
    "tensor1 = torch.as_tensor(array1)\n",
    "tensor2 = torch.as_tensor(array2)\n",
    "\n",
    "# Stack the tensors along a new dimension (dim=0)\n",
    "stacked_tensor = torch.stack((tensor1, tensor2), dim=0)\n",
    "print(\"Stacked Tensor:\\n\", stacked_tensor, stacked_tensor.shape)"
   ]
  },
  {
   "cell_type": "code",
   "execution_count": 17,
   "id": "506bd76b-7358-4fd4-84fb-64f6ccf1c56b",
   "metadata": {
    "tags": []
   },
   "outputs": [
    {
     "name": "stdout",
     "output_type": "stream",
     "text": [
      "Stacked Array:\n",
      " [[1 2 3]\n",
      " [4 5 6]\n",
      " [1 2 3]] (3, 3)\n",
      "Vertically Stacked Array:\n",
      " [[1 2 3]\n",
      " [4 5 6]] (2, 3)\n"
     ]
    }
   ],
   "source": [
    "# Create two NumPy arrays\n",
    "array1 = np.array([1, 2, 3])\n",
    "array2 = np.array([4, 5, 6])\n",
    "\n",
    "# Stack the arrays along a new dimension\n",
    "stacked_array = np.stack((array1, array2, array1))\n",
    "print(\"Stacked Array:\\n\", stacked_array, stacked_array.shape)\n",
    "\n",
    "# Stack the arrays vertically\n",
    "vstacked_array = np.vstack((array1, array2))\n",
    "print(\"Vertically Stacked Array:\\n\", vstacked_array, vstacked_array.shape)"
   ]
  },
  {
   "cell_type": "code",
   "execution_count": 9,
   "id": "895cfaf6-6aeb-46e0-9eeb-29cfe4fb15dc",
   "metadata": {
    "tags": []
   },
   "outputs": [
    {
     "name": "stdout",
     "output_type": "stream",
     "text": [
      "torch.Size([2, 3])\n"
     ]
    }
   ],
   "source": []
  }
 ],
 "metadata": {
  "kernelspec": {
   "display_name": "DESI main",
   "language": "python",
   "name": "desi-main"
  },
  "language_info": {
   "codemirror_mode": {
    "name": "ipython",
    "version": 3
   },
   "file_extension": ".py",
   "mimetype": "text/x-python",
   "name": "python",
   "nbconvert_exporter": "python",
   "pygments_lexer": "ipython3",
   "version": "3.10.14"
  }
 },
 "nbformat": 4,
 "nbformat_minor": 5
}
