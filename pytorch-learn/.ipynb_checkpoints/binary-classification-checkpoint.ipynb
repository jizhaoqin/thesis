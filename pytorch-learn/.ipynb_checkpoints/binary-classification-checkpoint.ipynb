{
 "cells": [
  {
   "cell_type": "markdown",
   "id": "8642c8b6-2526-4f65-bb10-8c2ffcedcf19",
   "metadata": {
    "tags": []
   },
   "source": [
    "## 1. Extract Data from DESI data release\n",
    "- refer to `intro_to_DESI_EDR_files.ipynb`"
   ]
  },
  {
   "cell_type": "code",
   "execution_count": 1,
   "id": "a4be952c-e174-41a1-82be-a16782f71134",
   "metadata": {
    "tags": []
   },
   "outputs": [],
   "source": [
    "# import some python packages \n",
    "import gc\n",
    "import os\n",
    "import numpy as np\n",
    "import matplotlib\n",
    "import matplotlib.pyplot as plt\n",
    "\n",
    "from astropy.table import Table\n",
    "\n",
    "plt.style.use('./others/desi.mplstyle')"
   ]
  },
  {
   "cell_type": "code",
   "execution_count": 2,
   "id": "e298766e-d755-412b-a34b-eb35249ac48c",
   "metadata": {
    "tags": []
   },
   "outputs": [
    {
     "name": "stdout",
     "output_type": "stream",
     "text": [
      "/global/cfs/cdirs/desi/spectro/redux/iron\n"
     ]
    }
   ],
   "source": [
    "# Release directory path\n",
    "specprod = 'iron'    # Internal name for the EDR\n",
    "specprod_dir = '/global/cfs/cdirs/desi/spectro/redux/' + specprod\n",
    "print(specprod_dir)\n",
    "# os.listdir(specprod_dir + \"/zcatalog\")"
   ]
  },
  {
   "cell_type": "code",
   "execution_count": 24,
   "id": "a291439f-8de9-47a6-8018-a8c5e57e96b8",
   "metadata": {
    "tags": []
   },
   "outputs": [],
   "source": [
    "# os.listdir(specprod_dir + \"/zcatalog/\")"
   ]
  },
  {
   "cell_type": "code",
   "execution_count": 3,
   "id": "f9feed5f-ec74-4644-b705-1260578b1919",
   "metadata": {
    "tags": []
   },
   "outputs": [],
   "source": [
    "datasize = 500000\n",
    "zpix_main_dark = Table.read(f'{specprod_dir}/zcatalog/zpix-main-dark.fits', hdu=\"ZCATALOG\")[:datasize]"
   ]
  },
  {
   "cell_type": "code",
   "execution_count": 4,
   "id": "c79029b4-0784-4f03-91c7-c1ea46bff150",
   "metadata": {
    "tags": []
   },
   "outputs": [
    {
     "data": {
      "text/plain": [
       "0"
      ]
     },
     "execution_count": 4,
     "metadata": {},
     "output_type": "execute_result"
    }
   ],
   "source": [
    "gc.collect()"
   ]
  },
  {
   "cell_type": "code",
   "execution_count": 5,
   "id": "114203c0-de54-4715-a82d-b1ed47c0c402",
   "metadata": {
    "tags": []
   },
   "outputs": [
    {
     "name": "stdout",
     "output_type": "stream",
     "text": [
      "<class 'astropy.table.table.Table'> 500000\n"
     ]
    },
    {
     "data": {
      "text/html": [
       "<div><i>Table length=2</i>\n",
       "<table id=\"table140596438996624\" class=\"table-striped table-bordered table-condensed\">\n",
       "<thead><tr><th>TARGETID</th><th>HEALPIX</th><th>SPGRPVAL</th><th>Z</th><th>ZERR</th><th>ZWARN</th><th>CHI2</th><th>COEFF</th><th>NPIXELS</th><th>SPECTYPE</th><th>SUBTYPE</th><th>NCOEFF</th><th>DELTACHI2</th><th>COADD_FIBERSTATUS</th><th>TARGET_RA</th><th>TARGET_DEC</th><th>PMRA</th><th>PMDEC</th><th>REF_EPOCH</th><th>FA_TARGET</th><th>FA_TYPE</th><th>OBJTYPE</th><th>SUBPRIORITY</th><th>OBSCONDITIONS</th><th>RELEASE</th><th>BRICKNAME</th><th>BRICKID</th><th>BRICK_OBJID</th><th>MORPHTYPE</th><th>EBV</th><th>FLUX_G</th><th>FLUX_R</th><th>FLUX_Z</th><th>FLUX_W1</th><th>FLUX_W2</th><th>FLUX_IVAR_G</th><th>FLUX_IVAR_R</th><th>FLUX_IVAR_Z</th><th>FLUX_IVAR_W1</th><th>FLUX_IVAR_W2</th><th>FIBERFLUX_G</th><th>FIBERFLUX_R</th><th>FIBERFLUX_Z</th><th>FIBERTOTFLUX_G</th><th>FIBERTOTFLUX_R</th><th>FIBERTOTFLUX_Z</th><th>MASKBITS</th><th>SERSIC</th><th>SHAPE_R</th><th>SHAPE_E1</th><th>SHAPE_E2</th><th>REF_ID</th><th>REF_CAT</th><th>GAIA_PHOT_G_MEAN_MAG</th><th>GAIA_PHOT_BP_MEAN_MAG</th><th>GAIA_PHOT_RP_MEAN_MAG</th><th>PARALLAX</th><th>PHOTSYS</th><th>PRIORITY_INIT</th><th>NUMOBS_INIT</th><th>DESI_TARGET</th><th>BGS_TARGET</th><th>MWS_TARGET</th><th>SCND_TARGET</th><th>PLATE_RA</th><th>PLATE_DEC</th><th>COADD_NUMEXP</th><th>COADD_EXPTIME</th><th>COADD_NUMNIGHT</th><th>COADD_NUMTILE</th><th>MEAN_DELTA_X</th><th>RMS_DELTA_X</th><th>MEAN_DELTA_Y</th><th>RMS_DELTA_Y</th><th>MEAN_FIBER_RA</th><th>STD_FIBER_RA</th><th>MEAN_FIBER_DEC</th><th>STD_FIBER_DEC</th><th>MEAN_PSF_TO_FIBER_SPECFLUX</th><th>TSNR2_GPBDARK_B</th><th>TSNR2_ELG_B</th><th>TSNR2_GPBBRIGHT_B</th><th>TSNR2_LYA_B</th><th>TSNR2_BGS_B</th><th>TSNR2_GPBBACKUP_B</th><th>TSNR2_QSO_B</th><th>TSNR2_LRG_B</th><th>TSNR2_GPBDARK_R</th><th>TSNR2_ELG_R</th><th>TSNR2_GPBBRIGHT_R</th><th>TSNR2_LYA_R</th><th>TSNR2_BGS_R</th><th>TSNR2_GPBBACKUP_R</th><th>TSNR2_QSO_R</th><th>TSNR2_LRG_R</th><th>TSNR2_GPBDARK_Z</th><th>TSNR2_ELG_Z</th><th>TSNR2_GPBBRIGHT_Z</th><th>TSNR2_LYA_Z</th><th>TSNR2_BGS_Z</th><th>TSNR2_GPBBACKUP_Z</th><th>TSNR2_QSO_Z</th><th>TSNR2_LRG_Z</th><th>TSNR2_GPBDARK</th><th>TSNR2_ELG</th><th>TSNR2_GPBBRIGHT</th><th>TSNR2_LYA</th><th>TSNR2_BGS</th><th>TSNR2_GPBBACKUP</th><th>TSNR2_QSO</th><th>TSNR2_LRG</th><th>ZCAT_NSPEC</th><th>ZCAT_PRIMARY</th></tr></thead>\n",
       "<thead><tr><th>int64</th><th>int32</th><th>int32</th><th>float64</th><th>float64</th><th>int64</th><th>float64</th><th>float64[10]</th><th>int64</th><th>bytes6</th><th>bytes20</th><th>int64</th><th>float64</th><th>int32</th><th>float64</th><th>float64</th><th>float32</th><th>float32</th><th>float32</th><th>int64</th><th>uint8</th><th>bytes3</th><th>float64</th><th>int32</th><th>int16</th><th>bytes8</th><th>int32</th><th>int32</th><th>bytes4</th><th>float32</th><th>float32</th><th>float32</th><th>float32</th><th>float32</th><th>float32</th><th>float32</th><th>float32</th><th>float32</th><th>float32</th><th>float32</th><th>float32</th><th>float32</th><th>float32</th><th>float32</th><th>float32</th><th>float32</th><th>int16</th><th>float32</th><th>float32</th><th>float32</th><th>float32</th><th>int64</th><th>bytes2</th><th>float32</th><th>float32</th><th>float32</th><th>float32</th><th>bytes1</th><th>int64</th><th>int64</th><th>int64</th><th>int64</th><th>int64</th><th>int64</th><th>float64</th><th>float64</th><th>int16</th><th>float32</th><th>int16</th><th>int16</th><th>float32</th><th>float32</th><th>float32</th><th>float32</th><th>float64</th><th>float32</th><th>float64</th><th>float32</th><th>float32</th><th>float32</th><th>float32</th><th>float32</th><th>float32</th><th>float32</th><th>float32</th><th>float32</th><th>float32</th><th>float32</th><th>float32</th><th>float32</th><th>float32</th><th>float32</th><th>float32</th><th>float32</th><th>float32</th><th>float32</th><th>float32</th><th>float32</th><th>float32</th><th>float32</th><th>float32</th><th>float32</th><th>float32</th><th>float32</th><th>float32</th><th>float32</th><th>float32</th><th>float32</th><th>float32</th><th>float32</th><th>float32</th><th>int16</th><th>bool</th></tr></thead>\n",
       "<tr><td>39627791519455541</td><td>0</td><td>0</td><td>1.0600606548790055</td><td>3.159785119949562e-05</td><td>0</td><td>8455.493470430374</td><td>7.871147628980599 .. -3.464246177134475</td><td>7924</td><td>GALAXY</td><td>--</td><td>10</td><td>124.49216902256012</td><td>0</td><td>44.95710904769754</td><td>0.29601775427757326</td><td>0.0</td><td>0.0</td><td>2015.5</td><td>1179842</td><td>1</td><td>TGT</td><td>0.7448592964709855</td><td>1</td><td>9010</td><td>0448p002</td><td>331987</td><td>6453</td><td>REX</td><td>0.08529133</td><td>0.5112773</td><td>0.8088075</td><td>1.9720992</td><td>4.497251</td><td>2.2245574</td><td>2194.88</td><td>1401.5427</td><td>195.36507</td><td>3.212774</td><td>0.69577605</td><td>0.32950142</td><td>0.52124983</td><td>1.270953</td><td>0.32950142</td><td>0.52124983</td><td>1.270953</td><td>0</td><td>1.0</td><td>0.30905497</td><td>0.0</td><td>0.0</td><td>0</td><td>--</td><td>0.0</td><td>0.0</td><td>0.0</td><td>0.0</td><td>S</td><td>3200</td><td>2</td><td>1179842</td><td>0</td><td>0</td><td>0</td><td>44.95710904769754</td><td>0.29601775427757326</td><td>2</td><td>2268.9917</td><td>1</td><td>1</td><td>0.006</td><td>0.006</td><td>-0.001</td><td>0.001</td><td>44.95713364290965</td><td>0.0</td><td>0.2960218984132155</td><td>0.0</td><td>0.78508085</td><td>185.54222</td><td>0.13449673</td><td>33.377472</td><td>139.38693</td><td>643.2175</td><td>265.50085</td><td>3.766011</td><td>1.0373025</td><td>13730.734</td><td>30.15841</td><td>2364.0542</td><td>0.049498063</td><td>2709.5178</td><td>16809.28</td><td>9.544438</td><td>43.287083</td><td>2.4303741e-05</td><td>101.15603</td><td>4.3491696e-06</td><td>0.0</td><td>4260.865</td><td>3.4233508e-05</td><td>21.673206</td><td>45.961</td><td>13916.276</td><td>131.44893</td><td>2397.4316</td><td>139.43643</td><td>7613.6006</td><td>17074.78</td><td>34.983658</td><td>90.285385</td><td>1</td><td>True</td></tr>\n",
       "<tr><td>39627797559249099</td><td>0</td><td>0</td><td>0.7959107257501742</td><td>0.0002877584669765345</td><td>0</td><td>8387.745522020385</td><td>81.36580183505004 .. -2.384659908401636</td><td>7928</td><td>GALAXY</td><td>--</td><td>10</td><td>125.70156261511147</td><td>0</td><td>44.84192052493657</td><td>0.4402893629880319</td><td>0.0</td><td>0.0</td><td>2015.5</td><td>65537</td><td>1</td><td>TGT</td><td>0.1696902336883085</td><td>1</td><td>9010</td><td>0448p005</td><td>333427</td><td>2251</td><td>DEV</td><td>0.08678342</td><td>0.10015152</td><td>0.87373894</td><td>5.2166753</td><td>23.173536</td><td>11.860822</td><td>1608.0344</td><td>1040.5786</td><td>110.82788</td><td>2.5195916</td><td>0.6210469</td><td>0.048373904</td><td>0.4220222</td><td>2.5196917</td><td>0.048373993</td><td>0.4220227</td><td>2.5196936</td><td>0</td><td>4.0</td><td>0.49559644</td><td>0.009148924</td><td>0.0049461983</td><td>0</td><td>--</td><td>0.0</td><td>0.0</td><td>0.0</td><td>0.0</td><td>S</td><td>3200</td><td>2</td><td>65537</td><td>0</td><td>0</td><td>0</td><td>44.84192052493657</td><td>0.4402893629880319</td><td>2</td><td>2268.9917</td><td>1</td><td>1</td><td>0.003</td><td>0.003</td><td>-0.001</td><td>0.001</td><td>44.841932837156044</td><td>0.0</td><td>0.440293488744039</td><td>0.0</td><td>0.78152734</td><td>194.60448</td><td>0.1410598</td><td>34.88578</td><td>146.7426</td><td>670.58453</td><td>277.27</td><td>3.960417</td><td>1.0886247</td><td>14195.274</td><td>31.46727</td><td>2435.6636</td><td>0.05055847</td><td>2783.6704</td><td>17319.268</td><td>9.928746</td><td>44.9773</td><td>2.4999104e-05</td><td>104.55236</td><td>4.4612852e-06</td><td>0.0</td><td>4371.2544</td><td>3.5164216e-05</td><td>22.404274</td><td>47.32295</td><td>14389.879</td><td>136.16069</td><td>2470.5493</td><td>146.79315</td><td>7825.5093</td><td>17596.537</td><td>36.293438</td><td>93.38887</td><td>1</td><td>True</td></tr>\n",
       "</table></div>"
      ],
      "text/plain": [
       "<Table length=2>\n",
       "     TARGETID     HEALPIX SPGRPVAL ... TSNR2_LRG ZCAT_NSPEC ZCAT_PRIMARY\n",
       "      int64        int32   int32   ...  float32    int16        bool    \n",
       "----------------- ------- -------- ... --------- ---------- ------------\n",
       "39627791519455541       0        0 ... 90.285385          1         True\n",
       "39627797559249099       0        0 ...  93.38887          1         True"
      ]
     },
     "execution_count": 5,
     "metadata": {},
     "output_type": "execute_result"
    }
   ],
   "source": [
    "print(type(zpix_main_dark), len(zpix_main_dark))\n",
    "zpix_main_dark[50:52]"
   ]
  },
  {
   "cell_type": "code",
   "execution_count": 6,
   "id": "4c37d963-9269-41e7-ba8a-d484f9931bc9",
   "metadata": {
    "tags": []
   },
   "outputs": [],
   "source": [
    "is_galaxy = zpix_main_dark[\"SPECTYPE\"] == \"GALAXY\"\n",
    "# np.save(\"./saves/zpix-main-dark_is_galaxy\", is_galaxy)"
   ]
  },
  {
   "cell_type": "code",
   "execution_count": 7,
   "id": "3378081a-5fc1-4a57-845e-1e262a0dca46",
   "metadata": {
    "tags": []
   },
   "outputs": [
    {
     "name": "stdout",
     "output_type": "stream",
     "text": [
      "<class 'numpy.ndarray'> 500000\n",
      "427322\n"
     ]
    }
   ],
   "source": [
    "print(type(is_galaxy), len(is_galaxy))\n",
    "zpix_main_dark = zpix_main_dark[is_galaxy]\n",
    "print(len(zpix_main_dark))"
   ]
  },
  {
   "cell_type": "code",
   "execution_count": 8,
   "id": "5a86f6db-cd2d-435e-8c71-f2095036d02a",
   "metadata": {
    "tags": []
   },
   "outputs": [
    {
     "name": "stdout",
     "output_type": "stream",
     "text": [
      "[ True  True  True  True False False  True  True  True  True] 255977\n"
     ]
    }
   ],
   "source": [
    "# flag of confidence -> Δχ^2>40 or not\n",
    "is_confident = zpix_main_dark[\"DELTACHI2\"] > 40\n",
    "print(is_confident[:10], is_confident.sum())"
   ]
  },
  {
   "cell_type": "code",
   "execution_count": 9,
   "id": "02d9a179-8520-4357-8d13-b7d95a09567b",
   "metadata": {
    "tags": []
   },
   "outputs": [
    {
     "name": "stdout",
     "output_type": "stream",
     "text": [
      ">f4 bool\n"
     ]
    }
   ],
   "source": [
    "print(zpix_main_dark[\"SHAPE_R\"].data.dtype, is_confident.dtype)"
   ]
  },
  {
   "cell_type": "markdown",
   "id": "15513e0f-a6c8-47ba-b5cd-864c17f26090",
   "metadata": {
    "tags": []
   },
   "source": [
    "## 2. Transfer data to DataLoader for training"
   ]
  },
  {
   "cell_type": "code",
   "execution_count": 10,
   "id": "d19d54a4-2771-415b-a948-20d875053946",
   "metadata": {
    "tags": []
   },
   "outputs": [],
   "source": [
    "from torch.utils.data import Dataset, TensorDataset, DataLoader, random_split\n",
    "import torch\n",
    "from torch import nn"
   ]
  },
  {
   "cell_type": "code",
   "execution_count": 11,
   "id": "a7daf3ea-1360-436d-8292-6aa0f8111b2e",
   "metadata": {
    "tags": []
   },
   "outputs": [
    {
     "data": {
      "text/plain": [
       "((427322, 2), (427322,))"
      ]
     },
     "execution_count": 11,
     "metadata": {},
     "output_type": "execute_result"
    }
   ],
   "source": [
    "np_in_data = np.stack((zpix_main_dark[\"SHAPE_R\"].data.astype(np.float32), zpix_main_dark[\"GAIA_PHOT_G_MEAN_MAG\"].data.astype(np.float32)), axis=-1)\n",
    "np_out_data = is_confident.astype(np.intp).squeeze()\n",
    "dataset = TensorDataset(\n",
    "    torch.as_tensor(np_in_data),\n",
    "    torch.as_tensor(np_out_data),\n",
    ")\n",
    "np_in_data.shape, np_out_data.shape"
   ]
  },
  {
   "cell_type": "code",
   "execution_count": 12,
   "id": "44d82a48-befb-4946-8cbc-637e086ef3ea",
   "metadata": {
    "tags": []
   },
   "outputs": [],
   "source": [
    "# Use random_split to create the splits\n",
    "train_dataset, val_dataset, test_dataset = random_split(dataset, [0.8, 0.1, 0.1])"
   ]
  },
  {
   "cell_type": "code",
   "execution_count": 13,
   "id": "77796b90-4909-4a5f-920f-a425edf30478",
   "metadata": {
    "tags": []
   },
   "outputs": [
    {
     "name": "stdout",
     "output_type": "stream",
     "text": [
      "<class 'torch.utils.data.dataloader.DataLoader'> 1336 85504 341857.60000000003\n",
      "info of input data: <class 'torch.Tensor'>, torch.Size([256, 2]), torch.float32\n",
      "info of output flag: <class 'torch.Tensor'>, torch.Size([256]) torch.int64\n"
     ]
    }
   ],
   "source": [
    "batch_size = 256\n",
    "# construct instances for class `DataLoader`, with parameters \n",
    "train_dataloader = DataLoader(train_dataset, batch_size=batch_size, shuffle=True)\n",
    "test_dataloader = DataLoader(test_dataset, batch_size=batch_size, shuffle=True)\n",
    "val_dataloader = DataLoader(val_dataset, batch_size=batch_size, shuffle=True)\n",
    "\n",
    "# `DataLoader` instances are iterable, but not subscpriptable\n",
    "print(type(train_dataloader), len(train_dataloader), len(train_dataloader)*64, len(zpix_main_dark)*0.8)\n",
    "\n",
    "for X, y in train_dataloader:\n",
    "    print(f\"info of input data: {type(X)}, {X.shape}, {X.dtype}\")\n",
    "    print(f\"info of output flag: {type(y)}, {y.shape} {y.dtype}\")\n",
    "    break  # only show index 0"
   ]
  },
  {
   "cell_type": "code",
   "execution_count": 14,
   "id": "ec1f09ba-1b80-45b9-ba82-78b204230d73",
   "metadata": {
    "tags": []
   },
   "outputs": [
    {
     "data": {
      "text/plain": [
       "0"
      ]
     },
     "execution_count": 14,
     "metadata": {},
     "output_type": "execute_result"
    }
   ],
   "source": [
    "gc.collect()"
   ]
  },
  {
   "cell_type": "markdown",
   "id": "e02cbfbd-e65d-44e2-8d7c-0ef773c84f33",
   "metadata": {
    "tags": []
   },
   "source": [
    "## 3. Define neural network and training"
   ]
  },
  {
   "cell_type": "code",
   "execution_count": 15,
   "id": "57cf6238-1085-46a7-b135-75ee504bfb08",
   "metadata": {
    "tags": []
   },
   "outputs": [
    {
     "name": "stdout",
     "output_type": "stream",
     "text": [
      "Using cuda device\n",
      "NeuralNetwork(\n",
      "  (flatten): Flatten(start_dim=1, end_dim=-1)\n",
      "  (linear_relu_stack): Sequential(\n",
      "    (0): Linear(in_features=2, out_features=16, bias=True)\n",
      "    (1): ReLU()\n",
      "    (2): Linear(in_features=16, out_features=32, bias=True)\n",
      "    (3): ReLU()\n",
      "    (4): Linear(in_features=32, out_features=2, bias=True)\n",
      "  )\n",
      ")\n"
     ]
    }
   ],
   "source": [
    "# Get cpu, gpu or mps device for training.\n",
    "device = (\n",
    "    \"cuda\"\n",
    "    if torch.cuda.is_available()\n",
    "    else \"mps\"\n",
    "    if torch.backends.mps.is_available()\n",
    "    else \"cpu\"\n",
    ")\n",
    "print(f\"Using {device} device\")\n",
    "\n",
    "# Define model\n",
    "class NeuralNetwork(nn.Module):\n",
    "    def __init__(self):\n",
    "        super().__init__()\n",
    "        self.flatten = nn.Flatten()\n",
    "        self.linear_relu_stack = nn.Sequential(\n",
    "            nn.Linear(2, 16),\n",
    "            nn.ReLU(),\n",
    "            nn.Linear(16, 32),\n",
    "            nn.ReLU(),\n",
    "            nn.Linear(32, 2)\n",
    "        )\n",
    "\n",
    "    def forward(self, x):\n",
    "        x = self.flatten(x)\n",
    "        logits = self.linear_relu_stack(x)\n",
    "        return logits\n",
    "\n",
    "model = NeuralNetwork().to(device)\n",
    "print(model)"
   ]
  },
  {
   "cell_type": "code",
   "execution_count": 16,
   "id": "0d3650ab-e4d3-446c-be49-f2fc03542fd6",
   "metadata": {},
   "outputs": [
    {
     "name": "stdout",
     "output_type": "stream",
     "text": [
      "<class '__main__.NeuralNetwork'>\n"
     ]
    }
   ],
   "source": [
    "print(type(model))\n",
    "\n",
    "# To train a model, we need a loss function and an optimizer.\n",
    "loss_fn = nn.CrossEntropyLoss()\n",
    "optimizer = torch.optim.SGD(model.parameters(), lr=1e-1)"
   ]
  },
  {
   "cell_type": "code",
   "execution_count": 17,
   "id": "bd2a15f5-6019-46a2-8f98-c4d0f9337d01",
   "metadata": {
    "tags": []
   },
   "outputs": [],
   "source": [
    "# In a single training loop, the model makes predictions on the training dataset (fed to it in batches),\n",
    "# and backpropagates the prediction error to adjust the model’s parameters.\n",
    "def train(dataloader, model, loss_fn, optimizer):\n",
    "    size = len(dataloader.dataset)\n",
    "    \n",
    "    model.train() # default is true, means training, false means evaluation mode\n",
    "    for batch, (X, y) in enumerate(dataloader):\n",
    "        X, y = X.to(device), y.to(device)\n",
    "\n",
    "        # clear gradients for the optimizer, for next time optimization\n",
    "        optimizer.zero_grad()\n",
    "        \n",
    "        # forward pass to predict the output with current network\n",
    "        pred = model(X)\n",
    "        \n",
    "        # Compute the loss, output is torch.Tensor\n",
    "        loss = loss_fn(pred, y)\n",
    "\n",
    "        # Backpropagation\n",
    "        loss.backward()\n",
    "        \n",
    "        # update the weights of the network\n",
    "        optimizer.step()\n",
    "\n",
    "        if batch % 100 == 0:\n",
    "            loss, current = loss.item(), (batch + 1) * len(X)\n",
    "            print(f\"loss: {loss:>7f}  [{current:>5d}/{size:>5d}]\")\n",
    "\n",
    "\n",
    "# check the model’s performance against the test dataset to ensure it is learning.\n",
    "def test(dataloader, model, loss_fn):\n",
    "    size = len(dataloader.dataset)\n",
    "    num_batches = len(dataloader)\n",
    "    model.eval()\n",
    "    test_loss, correct = 0, 0\n",
    "    with torch.no_grad():\n",
    "        for X, y in dataloader:\n",
    "            X, y = X.to(device), y.to(device)\n",
    "            pred = model(X)\n",
    "            test_loss += loss_fn(pred, y).item()\n",
    "            correct += (pred.argmax(1) == y).type(torch.float).sum().item()\n",
    "    test_loss /= num_batches\n",
    "    correct /= size\n",
    "    print(f\"Test Error: \\n Accuracy: {(100*correct):>0.1f}%, Avg loss: {test_loss:>8f} \\n\")"
   ]
  },
  {
   "cell_type": "code",
   "execution_count": 18,
   "id": "5b3e7147-ac53-4b40-be81-66fbdeb3da09",
   "metadata": {
    "tags": []
   },
   "outputs": [
    {
     "name": "stdout",
     "output_type": "stream",
     "text": [
      "Epoch 1\n",
      "-------------------------------\n",
      "loss: 0.682851  [  256/341858]\n",
      "loss: 0.666090  [25856/341858]\n",
      "loss: 0.675657  [51456/341858]\n",
      "loss: 0.679881  [77056/341858]\n",
      "loss: 0.691050  [102656/341858]\n",
      "loss: 0.654802  [128256/341858]\n",
      "loss: 0.665377  [153856/341858]\n",
      "loss: 0.645438  [179456/341858]\n",
      "loss: 0.646301  [205056/341858]\n",
      "loss: 0.656280  [230656/341858]\n",
      "loss: 0.642612  [256256/341858]\n",
      "loss: 0.635218  [281856/341858]\n",
      "loss: 0.637717  [307456/341858]\n",
      "loss: 0.636917  [333056/341858]\n",
      "Test Error: \n",
      " Accuracy: 59.7%, Avg loss: 0.622117 \n",
      "\n",
      "Done!\n"
     ]
    }
   ],
   "source": [
    "epochs = 1\n",
    "for t in range(epochs):\n",
    "    print(f\"Epoch {t+1}\\n-------------------------------\")\n",
    "    train(train_dataloader, model, loss_fn, optimizer)\n",
    "    test(test_dataloader, model, loss_fn)\n",
    "print(\"Done!\")"
   ]
  },
  {
   "cell_type": "code",
   "execution_count": 19,
   "id": "765d32b3-2f84-4344-89e9-d12482c360ee",
   "metadata": {
    "tags": []
   },
   "outputs": [],
   "source": [
    "# torch.save(model.state_dict(), \"model.pth\")"
   ]
  },
  {
   "cell_type": "code",
   "execution_count": 20,
   "id": "54a76edc-fc5b-40e9-9e57-5e8fa74bdebd",
   "metadata": {
    "tags": []
   },
   "outputs": [
    {
     "name": "stdout",
     "output_type": "stream",
     "text": [
      "Predicted: \"not-confident\", Actual: \"not-confident\"\n",
      "tensor([-0.4664,  0.4166], device='cuda:0') tensor(1, device='cuda:0')\n"
     ]
    }
   ],
   "source": [
    "# This model can now be used to make predictions.\n",
    "classes = [\n",
    "    \"confident\",\n",
    "    \"not-confident\",\n",
    "]\n",
    "\n",
    "model.eval()\n",
    "for x, y in test_dataloader:\n",
    "    # torch.no_grad(): Context-manager that disables gradient calculation.\n",
    "    with torch.no_grad():\n",
    "        x = x.to(device)\n",
    "        pred = model(x)\n",
    "        predicted, actual = classes[pred[0].argmax()], classes[y[0]]\n",
    "        print(f'Predicted: \"{predicted}\", Actual: \"{actual}\"')\n",
    "        print(pred[0], pred[0].argmax())\n",
    "        # print(classes[pred[0].argmax()], y[0])\n",
    "    break"
   ]
  },
  {
   "cell_type": "code",
   "execution_count": 21,
   "id": "0db6bdda-3879-447d-8bdd-048fa52bd11c",
   "metadata": {
    "tags": []
   },
   "outputs": [
    {
     "data": {
      "text/plain": [
       "0"
      ]
     },
     "execution_count": 21,
     "metadata": {},
     "output_type": "execute_result"
    }
   ],
   "source": [
    "gc.collect()"
   ]
  }
 ],
 "metadata": {
  "kernelspec": {
   "display_name": "DESI main",
   "language": "python",
   "name": "desi-main"
  },
  "language_info": {
   "codemirror_mode": {
    "name": "ipython",
    "version": 3
   },
   "file_extension": ".py",
   "mimetype": "text/x-python",
   "name": "python",
   "nbconvert_exporter": "python",
   "pygments_lexer": "ipython3",
   "version": "3.10.14"
  }
 },
 "nbformat": 4,
 "nbformat_minor": 5
}
