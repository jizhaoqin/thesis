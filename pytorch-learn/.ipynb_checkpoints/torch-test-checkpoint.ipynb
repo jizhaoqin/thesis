{
 "cells": [
  {
   "cell_type": "code",
   "execution_count": 1,
   "id": "4e4965b5-1756-4830-913e-bfdd528c8fc2",
   "metadata": {
    "tags": []
   },
   "outputs": [],
   "source": [
    "import torch\n",
    "from torch import nn\n",
    "from torch.utils.data import DataLoader\n",
    "from torchvision import datasets\n",
    "from torchvision.transforms import ToTensor"
   ]
  },
  {
   "cell_type": "code",
   "execution_count": 5,
   "id": "dbd8c879-c52d-419b-83bf-3baf85e1dee8",
   "metadata": {
    "tags": []
   },
   "outputs": [],
   "source": [
    "# Download training data from open datasets.\n",
    "training_data = datasets.FashionMNIST(\n",
    "    root=\"data\",\n",
    "    train=True,\n",
    "    download=True,\n",
    "    transform=ToTensor(),\n",
    ")\n",
    "\n",
    "# Download test data from open datasets.\n",
    "test_data = datasets.FashionMNIST(\n",
    "    root=\"data\",\n",
    "    train=False,\n",
    "    download=True,\n",
    "    transform=ToTensor(),\n",
    ")"
   ]
  },
  {
   "cell_type": "code",
   "execution_count": 28,
   "id": "4022eb5b-5cbb-4a31-86ef-44146d70c6a8",
   "metadata": {
    "tags": []
   },
   "outputs": [
    {
     "name": "stdout",
     "output_type": "stream",
     "text": [
      "<class 'torchvision.datasets.mnist.FashionMNIST'> 60000 10000 <class 'tuple'> <class 'torch.Tensor'> torch.Size([1, 28, 28]) 5\n"
     ]
    }
   ],
   "source": [
    "# data structure\n",
    "print(\n",
    "    type(training_data),\n",
    "    len(training_data),\n",
    "    len(test_data),\n",
    "    type(training_data[40000]),\n",
    "    type(training_data[23422][0]),\n",
    "    training_data[59999][0].shape,\n",
    "    training_data[59999][1],\n",
    ")"
   ]
  },
  {
   "cell_type": "code",
   "execution_count": 9,
   "id": "e4ac6e30-f043-4391-94ce-fac839bb301f",
   "metadata": {
    "tags": []
   },
   "outputs": [
    {
     "name": "stdout",
     "output_type": "stream",
     "text": [
      "<class 'torch.utils.data.dataloader.DataLoader'> 938 60032\n",
      "<class 'list'> 2\n",
      "info of input data [N, C, H, W]: <class 'torch.Tensor'>, torch.Size([64, 1, 28, 28]), torch.float32\n",
      "info of output flag: <class 'torch.Tensor'>, torch.Size([64]) torch.int64\n"
     ]
    }
   ],
   "source": [
    "batch_size = 64\n",
    "\n",
    "# construct instances for class `DataLoader`, with parameters \n",
    "train_dataloader = DataLoader(training_data, batch_size=batch_size)\n",
    "test_dataloader = DataLoader(test_data, batch_size=batch_size)\n",
    "\n",
    "# `DataLoader` instances are iterable, but not subscpriptable\n",
    "print(type(train_dataloader), len(train_dataloader), len(train_dataloader)*batch_size)\n",
    "\n",
    "for a in train_dataloader:\n",
    "    print(type(a), len(a))\n",
    "    X, y = a\n",
    "    print(f\"info of input data [N, C, H, W]: {type(X)}, {X.shape}, {X.dtype}\")\n",
    "    print(f\"info of output flag: {type(y)}, {y.shape} {y.dtype}\")\n",
    "    break  # only show index 0"
   ]
  },
  {
   "cell_type": "code",
   "execution_count": 11,
   "id": "0e77eecb-53fb-4305-aba3-9bf31ee1faac",
   "metadata": {
    "tags": []
   },
   "outputs": [
    {
     "name": "stdout",
     "output_type": "stream",
     "text": [
      "Using cuda device\n",
      "NeuralNetwork(\n",
      "  (flatten): Flatten(start_dim=1, end_dim=-1)\n",
      "  (linear_relu_stack): Sequential(\n",
      "    (0): Linear(in_features=784, out_features=512, bias=True)\n",
      "    (1): ReLU()\n",
      "    (2): Linear(in_features=512, out_features=512, bias=True)\n",
      "    (3): ReLU()\n",
      "    (4): Linear(in_features=512, out_features=10, bias=True)\n",
      "  )\n",
      ")\n"
     ]
    }
   ],
   "source": [
    "# Get cpu, gpu or mps device for training.\n",
    "device = (\n",
    "    \"cuda\"\n",
    "    if torch.cuda.is_available()\n",
    "    else \"mps\"\n",
    "    if torch.backends.mps.is_available()\n",
    "    else \"cpu\"\n",
    ")\n",
    "print(f\"Using {device} device\")\n",
    "\n",
    "# Define model\n",
    "class NeuralNetwork(nn.Module):\n",
    "    def __init__(self):\n",
    "        super().__init__()\n",
    "        self.flatten = nn.Flatten()\n",
    "        self.linear_relu_stack = nn.Sequential(\n",
    "            nn.Linear(28*28, 512),\n",
    "            nn.ReLU(),\n",
    "            nn.Linear(512, 512),\n",
    "            nn.ReLU(),\n",
    "            nn.Linear(512, 10)\n",
    "        )\n",
    "\n",
    "    def forward(self, x):\n",
    "        x = self.flatten(x)\n",
    "        logits = self.linear_relu_stack(x)\n",
    "        return logits\n",
    "\n",
    "model = NeuralNetwork().to(device)\n",
    "print(model)"
   ]
  },
  {
   "cell_type": "code",
   "execution_count": 14,
   "id": "9800d7a2-183a-42db-a0ab-9f30a622528c",
   "metadata": {},
   "outputs": [
    {
     "name": "stdout",
     "output_type": "stream",
     "text": [
      "<class '__main__.NeuralNetwork'>\n"
     ]
    }
   ],
   "source": [
    "print(type(model))\n",
    "\n",
    "# To train a model, we need a loss function and an optimizer.\n",
    "loss_fn = nn.CrossEntropyLoss()\n",
    "optimizer = torch.optim.SGD(model.parameters(), lr=1e-3)"
   ]
  },
  {
   "cell_type": "code",
   "execution_count": 15,
   "id": "a195546f-a5b9-44ad-890c-590ba4c273b1",
   "metadata": {
    "tags": []
   },
   "outputs": [],
   "source": [
    "# In a single training loop, the model makes predictions on the training dataset (fed to it in batches),\n",
    "# and backpropagates the prediction error to adjust the model’s parameters.\n",
    "def train(dataloader, model, loss_fn, optimizer):\n",
    "    size = len(dataloader.dataset)\n",
    "    \n",
    "    model.train() # default is true, means training, false means evaluation mode\n",
    "    for batch, (X, y) in enumerate(dataloader):\n",
    "        X, y = X.to(device), y.to(device)\n",
    "\n",
    "        # clear gradients for the optimizer, for next time optimization\n",
    "        optimizer.zero_grad()\n",
    "        \n",
    "        # forward pass to predict the output with current network\n",
    "        pred = model(X)\n",
    "        \n",
    "        # Compute the loss, output is torch.Tensor\n",
    "        loss = loss_fn(pred, y)\n",
    "\n",
    "        # Backpropagation\n",
    "        loss.backward()\n",
    "        \n",
    "        # update the weights of the network\n",
    "        optimizer.step()\n",
    "\n",
    "        if batch % 100 == 0:\n",
    "            print(f\"{type(loss):}\")\n",
    "            loss, current = loss.item(), (batch + 1) * len(X)\n",
    "            print(f\"loss: {loss:>7f}  [{current:>5d}/{size:>5d}]\")\n",
    "\n",
    "\n",
    "# check the model’s performance against the test dataset to ensure it is learning.\n",
    "def test(dataloader, model, loss_fn):\n",
    "    size = len(dataloader.dataset)\n",
    "    num_batches = len(dataloader)\n",
    "    model.eval()\n",
    "    test_loss, correct = 0, 0\n",
    "    with torch.no_grad():\n",
    "        for X, y in dataloader:\n",
    "            X, y = X.to(device), y.to(device)\n",
    "            pred = model(X)\n",
    "            test_loss += loss_fn(pred, y).item()\n",
    "            correct += (pred.argmax(1) == y).type(torch.float).sum().item()\n",
    "    test_loss /= num_batches\n",
    "    correct /= size\n",
    "    print(f\"Test Error: \\n Accuracy: {(100*correct):>0.1f}%, Avg loss: {test_loss:>8f} \\n\")"
   ]
  },
  {
   "cell_type": "code",
   "execution_count": 26,
   "id": "69bf9859-e5c5-481f-87b2-54e59f1214e1",
   "metadata": {
    "tags": []
   },
   "outputs": [
    {
     "name": "stdout",
     "output_type": "stream",
     "text": [
      "Epoch 1\n",
      "-------------------------------\n",
      "<class 'torch.Tensor'>\n",
      "loss: 2.185605  [   64/60000]\n",
      "<class 'torch.Tensor'>\n",
      "loss: 2.182749  [ 6464/60000]\n",
      "<class 'torch.Tensor'>\n",
      "loss: 2.135801  [12864/60000]\n",
      "<class 'torch.Tensor'>\n",
      "loss: 2.138386  [19264/60000]\n",
      "<class 'torch.Tensor'>\n",
      "loss: 2.100825  [25664/60000]\n",
      "<class 'torch.Tensor'>\n",
      "loss: 2.041935  [32064/60000]\n",
      "<class 'torch.Tensor'>\n",
      "loss: 2.068167  [38464/60000]\n",
      "<class 'torch.Tensor'>\n",
      "loss: 1.998987  [44864/60000]\n",
      "<class 'torch.Tensor'>\n",
      "loss: 2.004174  [51264/60000]\n",
      "<class 'torch.Tensor'>\n",
      "loss: 1.917760  [57664/60000]\n",
      "Test Error: \n",
      " Accuracy: 53.1%, Avg loss: 1.934997 \n",
      "\n",
      "Done!\n"
     ]
    }
   ],
   "source": [
    "epochs = 1\n",
    "for t in range(epochs):\n",
    "    print(f\"Epoch {t+1}\\n-------------------------------\")\n",
    "    train(train_dataloader, model, loss_fn, optimizer)\n",
    "    test(test_dataloader, model, loss_fn)\n",
    "print(\"Done!\")"
   ]
  },
  {
   "cell_type": "code",
   "execution_count": 18,
   "id": "4c9402ff-64a8-4325-b20f-f4e34390d47a",
   "metadata": {
    "tags": []
   },
   "outputs": [],
   "source": [
    "# torch.save(model.state_dict(), \"model.pth\")"
   ]
  },
  {
   "cell_type": "code",
   "execution_count": 27,
   "id": "e93160ff-b43c-42f9-b8b6-baed6f8a356c",
   "metadata": {
    "tags": []
   },
   "outputs": [
    {
     "name": "stdout",
     "output_type": "stream",
     "text": [
      "Predicted: \"Bag\", Actual: \"Bag\"\n",
      "tensor([ 0.0233, -0.2449,  0.2658, -0.0811,  0.2321, -0.4454,  0.0950, -0.3962,\n",
      "         0.2664,  0.0180], device='cuda:0') tensor(8, device='cuda:0')\n"
     ]
    }
   ],
   "source": [
    "# This model can now be used to make predictions.\n",
    "classes = [\n",
    "    \"T-shirt/top\",\n",
    "    \"Trouser\",\n",
    "    \"Pullover\",\n",
    "    \"Dress\",\n",
    "    \"Coat\",\n",
    "    \"Sandal\",\n",
    "    \"Shirt\",\n",
    "    \"Sneaker\",\n",
    "    \"Bag\",\n",
    "    \"Ankle boot\",\n",
    "]\n",
    "\n",
    "model.eval()\n",
    "x, y = test_data[2000][0], test_data[2000][1]\n",
    "# torch.no_grad(): Context-manager that disables gradient calculation.\n",
    "with torch.no_grad():\n",
    "    x = x.to(device)\n",
    "    pred = model(x)\n",
    "    predicted, actual = classes[pred[0].argmax(0)], classes[y]\n",
    "    print(f'Predicted: \"{predicted}\", Actual: \"{actual}\"')\n",
    "    print(pred[0], pred[0].argmax())"
   ]
  },
  {
   "cell_type": "markdown",
   "id": "87b82b45-55fc-4770-a15b-dd580135aa42",
   "metadata": {
    "tags": []
   },
   "source": []
  }
 ],
 "metadata": {
  "kernelspec": {
   "display_name": "DESI main",
   "language": "python",
   "name": "desi-main"
  },
  "language_info": {
   "codemirror_mode": {
    "name": "ipython",
    "version": 3
   },
   "file_extension": ".py",
   "mimetype": "text/x-python",
   "name": "python",
   "nbconvert_exporter": "python",
   "pygments_lexer": "ipython3",
   "version": "3.10.14"
  }
 },
 "nbformat": 4,
 "nbformat_minor": 5
}
