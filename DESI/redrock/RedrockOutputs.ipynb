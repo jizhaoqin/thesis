{
 "cells": [
  {
   "cell_type": "markdown",
   "metadata": {
    "tags": []
   },
   "source": [
    "# Understanding redrock output\n",
    "\n",
    "This tutorial describes how to combine the zbest fit coefficients with the\n",
    "redrock templates to see how the best fit template compares to the actual data.\n",
    "\n",
    "See https://desi.lbl.gov/trac/wiki/Computing/JupyterAtNERSC to configure Jupyter at NERSC to be able to run this\n",
    "tutorial using jupyter.nersc.gov and the fuji data in `/global/cfs/cdirs/desi/spectro/redux/fuji/tiles/cumulative/80618/20210328/`. This notebook runs on kernel 22.2. \n",
    "\n",
    "If running locally, see https://desi.lbl.gov/trac/wiki/Pipeline/GettingStarted/Laptop for installing code and download the the fuji reference run data set from NERSC at `/global/cfs/cdirs/desi/spectro/redux/fuji/tiles/cumulative/80618/20210328/`.\n",
    "\n",
    "The bottom of this tutorial lists the code versions used while testing this.\n",
    "\n",
    "Stephen Bailey<br/>\n",
    "December 2020 (last mofified in July 2022)"
   ]
  },
  {
   "cell_type": "markdown",
   "metadata": {},
   "source": [
    "## Basic setup"
   ]
  },
  {
   "cell_type": "code",
   "execution_count": null,
   "metadata": {},
   "outputs": [],
   "source": [
    "import os\n",
    "from astropy.table import Table\n",
    "import numpy as np\n",
    "import desispec.io\n",
    "import sys\n",
    "import matplotlib.pyplot as plt\n",
    "# import redrock.io"
   ]
  },
  {
   "cell_type": "markdown",
   "metadata": {},
   "source": [
    "Add the tutorials directory to the python search path so that we can import desitutorials"
   ]
  },
  {
   "cell_type": "code",
   "execution_count": null,
   "metadata": {},
   "outputs": [],
   "source": [
    "sys.path.append(os.path.abspath(os.getcwd()+'/../py/'))\n",
    "import desitutorials"
   ]
  },
  {
   "cell_type": "markdown",
   "metadata": {},
   "source": [
    "For convenience, move into the directory that contains the reference run data and set some environment variables so that desispec can find the files.  If you are running locally (*e.g.* on your laptop instead of at jupyter.nersc.gov, replace these with wherever you installed the reference run data."
   ]
  },
  {
   "cell_type": "code",
   "execution_count": null,
   "metadata": {},
   "outputs": [],
   "source": [
    "os.chdir('/global/cfs/cdirs/desi/spectro/redux/fuji/tiles/cumulative/80618/20210328/')\n",
    "# os.environ['DESI_SPECTRO_REDUX'] = os.path.join(os.getcwd(), 'spectro', 'redux')\n",
    "# os.environ['SPECPROD'] = 'mini'"
   ]
  },
  {
   "cell_type": "markdown",
   "metadata": {},
   "source": [
    "## Read in some spectra and the matching zbest file"
   ]
  },
  {
   "cell_type": "code",
   "execution_count": null,
   "metadata": {},
   "outputs": [],
   "source": [
    "# specfile = desispec.io.findfile('spectra', groupname='5299', nside=64)\n",
    "# zbestfile = desispec.io.findfile('zbest', groupname='5299', nside=64)\n",
    "zbest = Table.read('redrock-0-80618-thru20210328.fits', hdu=1).filled('')\n",
    "spectra = desispec.io.read_spectra('coadd-0-80618-thru20210328.fits')"
   ]
  },
  {
   "cell_type": "markdown",
   "metadata": {},
   "source": [
    "Also read the fibermap and trim to a unique set that row-matches the zbest file;\n",
    "we'll use this later to pick targets targeted as ELGs."
   ]
  },
  {
   "cell_type": "code",
   "execution_count": null,
   "metadata": {},
   "outputs": [],
   "source": [
    "fm = Table.read('redrock-0-80618-thru20210328.fits', hdu='FIBERMAP')\n",
    "ii=sorted(np.unique(fm['TARGETID'], return_index=True)[1])\n",
    "assert np.all(fm['TARGETID'] == zbest['TARGETID'])\n",
    "fm = fm[ii]"
   ]
  },
  {
   "cell_type": "markdown",
   "metadata": {},
   "source": [
    "What did we get?"
   ]
  },
  {
   "cell_type": "code",
   "execution_count": null,
   "metadata": {},
   "outputs": [],
   "source": [
    "zbest['SPECTYPE', 'Z'][0:5]"
   ]
  },
  {
   "cell_type": "code",
   "execution_count": null,
   "metadata": {},
   "outputs": [],
   "source": [
    "for spectype in set(zbest['SPECTYPE']):\n",
    "    ii = (zbest['SPECTYPE'] == spectype)\n",
    "    plt.hist(zbest['Z'][ii], 41, (-0.1,4), label=spectype.strip())\n",
    "plt.legend()"
   ]
  },
  {
   "cell_type": "markdown",
   "metadata": {},
   "source": [
    "Note that redrock does not distinguish between ELGs and LRGs: both are just `spectype=='GALAXY'`."
   ]
  },
  {
   "cell_type": "markdown",
   "metadata": {},
   "source": [
    "## Compare redrock templates to spectra\n",
    "\n",
    "`redrock.io.read_templates` returns a list of templates, then convert those into a dict of template type -> Template object.  Ignore INFO messages about using default values for redshift ranges."
   ]
  },
  {
   "cell_type": "code",
   "execution_count": null,
   "metadata": {},
   "outputs": [],
   "source": [
    "# tx = redrock.io.read_templates()\n",
    "import redrock.templates\n",
    "\n",
    "templates = dict()\n",
    "for filename in redrock.templates.find_templates():\n",
    "    t = redrock.templates.Template(filename)\n",
    "    templates[(t.template_type, t.sub_type)] = t"
   ]
  },
  {
   "cell_type": "markdown",
   "metadata": {},
   "source": [
    "Pick an ELG target with confident redshift and use its zbest coefficients to construct the redrock template fit for that\n",
    "object."
   ]
  },
  {
   "cell_type": "code",
   "execution_count": null,
   "metadata": {},
   "outputs": [],
   "source": [
    "from desitarget.targets import desi_mask"
   ]
  },
  {
   "cell_type": "code",
   "execution_count": null,
   "metadata": {},
   "outputs": [],
   "source": [
    "goodELGs = (zbest['SPECTYPE'] == 'GALAXY') & (0.01 < zbest['Z']) & (zbest['Z'] < 1.0)\n",
    "goodELGs &= (zbest['ZWARN'] == 0) & (zbest['DELTACHI2']>5)\n",
    "# goodELGs &= ((fm['DESI_TARGET'] & desi_mask.ELG) != 0)"
   ]
  },
  {
   "cell_type": "code",
   "execution_count": null,
   "metadata": {},
   "outputs": [],
   "source": [
    "i = np.where(goodELGs)[0][0]\n",
    "z = zbest['Z'][i]\n",
    "targetid = zbest['TARGETID'][i]\n",
    "spectype = zbest['SPECTYPE'][i].strip()\n",
    "subtype = zbest['SUBTYPE'][i].strip()\n",
    "fulltype = (spectype, subtype)\n",
    "ncoeff = templates[fulltype].flux.shape[0]\n",
    "coeff = zbest['COEFF'][i][0:ncoeff]"
   ]
  },
  {
   "cell_type": "code",
   "execution_count": null,
   "metadata": {},
   "outputs": [],
   "source": [
    "tflux = templates[fulltype].flux.T.dot(coeff)\n",
    "twave = templates[fulltype].wave * (1+z)"
   ]
  },
  {
   "cell_type": "code",
   "execution_count": null,
   "metadata": {},
   "outputs": [],
   "source": [
    "ispec = np.where(spectra.fibermap['TARGETID'] == targetid)[0][0]\n",
    "\n",
    "plt.figure(figsize=(8,5))\n",
    "plt.subplot(211)\n",
    "maxflux = 0.0\n",
    "for band in spectra.bands:\n",
    "    plt.plot(spectra.wave[band], spectra.flux[band][ispec], 'k-', alpha=0.5)\n",
    "    maxflux = max(maxflux, np.max(spectra.flux[band][ispec]))\n",
    "\n",
    "plt.plot(twave, tflux, 'r-')\n",
    "plt.xlim(3500, 10000)\n",
    "# ylim(-1, 0.9*maxflux)\n",
    "plt.ylim(-1, 8)\n",
    "\n",
    "#- zoom in on [OII]\n",
    "plt.subplot(212)\n",
    "for band in spectra.bands:\n",
    "    plt.plot(spectra.wave[band], spectra.flux[band][ispec], 'k-', alpha=0.5)\n",
    "\n",
    "plt.plot(twave, tflux, 'r-')\n",
    "plt.xlim(3727*(1+z)-100, 3727*(1+z)+100)\n",
    "plt.ylim(-1,8)"
   ]
  },
  {
   "cell_type": "markdown",
   "metadata": {},
   "source": [
    "That wasn't quite correct because the redrock templates are high resolution\n",
    "before any instrumental resolution is applied.  Let's update that to include\n",
    "the spectral resolution."
   ]
  },
  {
   "cell_type": "code",
   "execution_count": null,
   "metadata": {},
   "outputs": [],
   "source": [
    "from desispec.interpolation import resample_flux\n",
    "from desispec.resolution import Resolution\n",
    "R = Resolution(spectra.resolution_data['b'][ispec])\n",
    "txflux = R.dot(resample_flux(spectra.wave['b'], twave, tflux))"
   ]
  },
  {
   "cell_type": "code",
   "execution_count": null,
   "metadata": {},
   "outputs": [],
   "source": [
    "plt.plot(spectra.wave['b'], spectra.flux['b'][ispec])\n",
    "plt.plot(spectra.wave['b'], txflux)\n",
    "plt.ylim(0,6)\n",
    "plt.xlim(3727*(1+z)-100, 3727*(1+z)+100)"
   ]
  },
  {
   "cell_type": "markdown",
   "metadata": {},
   "source": [
    "## Future work\n",
    "\n",
    "**TODO**: document redrock rr*.h5 files, e.g. the chi2 vs. redshift and how to get the second, third, etc. best fits"
   ]
  },
  {
   "cell_type": "markdown",
   "metadata": {},
   "source": [
    "## Code versions"
   ]
  },
  {
   "cell_type": "code",
   "execution_count": null,
   "metadata": {},
   "outputs": [],
   "source": [
    "print('Code versions used for this tutorial:')\n",
    "desitutorials.print_code_versions()"
   ]
  }
 ],
 "metadata": {
  "anaconda-cloud": {},
  "kernelspec": {
   "display_name": "DESI 22.2",
   "language": "python",
   "name": "desi-22.2"
  },
  "language_info": {
   "codemirror_mode": {
    "name": "ipython",
    "version": 3
   },
   "file_extension": ".py",
   "mimetype": "text/x-python",
   "name": "python",
   "nbconvert_exporter": "python",
   "pygments_lexer": "ipython3",
   "version": "3.9.7"
  }
 },
 "nbformat": 4,
 "nbformat_minor": 4
}
