{
 "cells": [
  {
   "cell_type": "markdown",
   "metadata": {},
   "source": [
    "# Redrock on BOSS data\n",
    "\n",
    "This tutorial demonstrates running redrock on BOSS data.\n",
    "Some pieces are a bit cryptic because of code organized for parallelism\n",
    "rather than interactive use.  In general one would use the `rrboss` script,\n",
    "but this tutorial pokes under the hood a bit to see the pieces."
   ]
  },
  {
   "cell_type": "code",
   "execution_count": 1,
   "metadata": {
    "collapsed": false,
    "jupyter": {
     "outputs_hidden": false
    }
   },
   "outputs": [],
   "source": [
    "import os\n",
    "import numpy as np\n",
    "from redrock.external import boss\n",
    "from redrock.zfind import zfind\n",
    "\n",
    "from redrock.targets import Spectrum, Target, DistTargetsCopy\n",
    "from redrock.templates import load_dist_templates\n",
    "import matplotlib.pyplot as plt"
   ]
  },
  {
   "cell_type": "markdown",
   "metadata": {},
   "source": [
    "Read a subset of the data from spPlate-3678-55208.fits.\n",
    "* If fiberid is not specified, all fibers from the plate are read.\n",
    "* If use_frames is True, the individual exposures will be discovered from the spPlate header. The corresponding spCFrame files should be in the same directory as the spPlate file.\n",
    "* BEWARE: The targets list might not have the same order as the input fiberid\n",
    "\n",
    "**NOTE**: BOSS/eBOSS is publicly accessible and can be downloaded\n",
    "from https://data.sdss.org/sas/dr14/eboss/spectro/redux/\n",
    "\n",
    "They are also available at NERSC: `/global/cfs/cdirs/cosmo/data/sdss/dr14/eboss/spectro/redux/v5_10_0`."
   ]
  },
  {
   "cell_type": "code",
   "execution_count": 2,
   "metadata": {
    "collapsed": false,
    "jupyter": {
     "outputs_hidden": false
    }
   },
   "outputs": [
    {
     "name": "stdout",
     "output_type": "stream",
     "text": [
      "DEBUG: read /global/cfs/cdirs/cosmo/data/sdss/dr14/eboss/spectro/redux/v5_10_0/3678/spPlate-3678-55208.fits \n"
     ]
    }
   ],
   "source": [
    "if 'NERSC_HOST' in os.environ:\n",
    "    spplate = \"/global/cfs/cdirs/cosmo/data/sdss/dr14/eboss/spectro/redux/v5_10_0/3678/spPlate-3678-55208.fits\"\n",
    "else:\n",
    "    spplate=\"data/spPlate-3678-55208.fits\"\n",
    "targets,meta = boss.read_spectra([spplate,], use_frames=False, fiberid=[36,51,52,54,60])"
   ]
  },
  {
   "cell_type": "code",
   "execution_count": 3,
   "metadata": {},
   "outputs": [
    {
     "name": "stdout",
     "output_type": "stream",
     "text": [
      "DEBUG: Read templates from /global/common/software/desi/cori/desiconda/20211217-2.0.0/code/redrock-templates/0.7.2\n",
      "DEBUG: Using default redshift range -0.0050-1.6997 for rrtemplate-galaxy.fits\n",
      "DEBUG: Using default redshift range 0.0500-5.9934 for rrtemplate-qso.fits\n",
      "DEBUG: Using default redshift range -0.0020-0.0020 for rrtemplate-star-A.fits\n",
      "DEBUG: Using default redshift range -0.0020-0.0020 for rrtemplate-star-B.fits\n",
      "DEBUG: Using default redshift range -0.0020-0.0020 for rrtemplate-star-CV.fits\n",
      "DEBUG: Using default redshift range -0.0020-0.0020 for rrtemplate-star-F.fits\n",
      "DEBUG: Using default redshift range -0.0020-0.0020 for rrtemplate-star-G.fits\n",
      "DEBUG: Using default redshift range -0.0020-0.0020 for rrtemplate-star-K.fits\n",
      "DEBUG: Using default redshift range -0.0020-0.0020 for rrtemplate-star-M.fits\n",
      "DEBUG: Using default redshift range -0.0020-0.0020 for rrtemplate-star-WD.fits\n",
      "Read and broadcast of 10 templates: 0.1 seconds\n",
      "Rebinning templates: 23.7 seconds\n"
     ]
    }
   ],
   "source": [
    "dtargets = DistTargetsCopy(targets)\n",
    "dwave = dtargets.wavegrids()\n",
    "dtemplates = load_dist_templates(dwave)\n",
    "templates = dict()\n",
    "for dt in dtemplates:\n",
    "    templates[dt.template.full_type] = dt.template"
   ]
  },
  {
   "cell_type": "markdown",
   "metadata": {},
   "source": [
    "# Doing the redshifts scans\n",
    "\n",
    "Define the templates and to the redshift scans over those templates.\n",
    "\n",
    "This might take a few minutes, please be patient! Your computer is working hard."
   ]
  },
  {
   "cell_type": "code",
   "execution_count": 4,
   "metadata": {
    "collapsed": false,
    "jupyter": {
     "outputs_hidden": false
    }
   },
   "outputs": [
    {
     "name": "stdout",
     "output_type": "stream",
     "text": [
      "Computing redshifts\n",
      "  Scanning redshifts for template GALAXY\n",
      "    Progress:   0 %\n",
      "    Progress:  10 %\n",
      "    Progress:  20 %\n",
      "    Progress:  30 %\n",
      "    Progress:  40 %\n",
      "    Progress:  50 %\n",
      "    Finished in: 7.3 seconds\n",
      "  Scanning redshifts for template QSO\n",
      "    Progress:   0 %\n",
      "    Progress:  10 %\n",
      "    Progress:  20 %\n",
      "    Progress:  30 %\n",
      "    Progress:  40 %\n",
      "    Progress:  50 %\n",
      "    Finished in: 4.2 seconds\n",
      "  Scanning redshifts for template STAR:::A\n",
      "    Progress:   0 %\n",
      "    Progress:  10 %\n",
      "    Progress:  20 %\n",
      "    Progress:  30 %\n",
      "    Progress:  40 %\n",
      "    Progress:  50 %\n",
      "    Finished in: 0.5 seconds\n",
      "  Scanning redshifts for template STAR:::B\n",
      "    Progress:   0 %\n",
      "    Progress:  10 %\n",
      "    Progress:  20 %\n",
      "    Progress:  30 %\n",
      "    Progress:  40 %\n",
      "    Progress:  50 %\n",
      "    Finished in: 0.5 seconds\n",
      "  Scanning redshifts for template STAR:::CV\n",
      "    Progress:   0 %\n",
      "    Progress:  10 %\n",
      "    Progress:  20 %\n",
      "    Progress:  30 %\n",
      "    Progress:  40 %\n",
      "    Progress:  50 %\n",
      "    Finished in: 0.4 seconds\n",
      "  Scanning redshifts for template STAR:::F\n",
      "    Progress:   0 %\n",
      "    Progress:  10 %\n",
      "    Progress:  20 %\n",
      "    Progress:  30 %\n",
      "    Progress:  40 %\n",
      "    Progress:  50 %\n",
      "    Finished in: 0.5 seconds\n",
      "  Scanning redshifts for template STAR:::G\n",
      "    Progress:   0 %\n",
      "    Progress:  10 %\n",
      "    Progress:  20 %\n",
      "    Progress:  30 %\n",
      "    Progress:  40 %\n",
      "    Progress:  50 %\n",
      "    Finished in: 0.4 seconds\n",
      "  Scanning redshifts for template STAR:::K\n",
      "    Progress:   0 %\n",
      "    Progress:  10 %\n",
      "    Progress:  20 %\n",
      "    Progress:  30 %\n",
      "    Progress:  40 %\n",
      "    Progress:  50 %\n",
      "    Finished in: 0.4 seconds\n",
      "  Scanning redshifts for template STAR:::M\n",
      "    Progress:   0 %\n",
      "    Progress:  10 %\n",
      "    Progress:  20 %\n",
      "    Progress:  30 %\n",
      "    Progress:  40 %\n",
      "    Progress:  50 %\n",
      "    Finished in: 0.4 seconds\n",
      "  Scanning redshifts for template STAR:::WD\n",
      "    Progress:   0 %\n",
      "    Progress:  10 %\n",
      "    Progress:  20 %\n",
      "    Progress:  30 %\n",
      "    Progress:  40 %\n",
      "    Progress:  50 %\n",
      "    Finished in: 0.5 seconds\n",
      "  Finding best fits for template GALAXY\n",
      "    Finished in: 2.5 seconds\n",
      "  Finding best fits for template QSO\n",
      "    Finished in: 1.3 seconds\n",
      "  Finding best fits for template STAR:::A\n",
      "    Finished in: 1.4 seconds\n",
      "  Finding best fits for template STAR:::B\n",
      "    Finished in: 1.3 seconds\n",
      "  Finding best fits for template STAR:::CV\n",
      "    Finished in: 1.3 seconds\n",
      "  Finding best fits for template STAR:::F\n",
      "    Finished in: 1.3 seconds\n",
      "  Finding best fits for template STAR:::G\n",
      "    Finished in: 1.6 seconds\n",
      "  Finding best fits for template STAR:::K\n",
      "    Finished in: 1.3 seconds\n",
      "  Finding best fits for template STAR:::M\n",
      "    Finished in: 1.3 seconds\n",
      "  Finding best fits for template STAR:::WD\n",
      "    Finished in: 1.3 seconds\n"
     ]
    }
   ],
   "source": [
    "zscan, zfit = zfind(dtargets, dtemplates)"
   ]
  },
  {
   "cell_type": "markdown",
   "metadata": {},
   "source": [
    "# Exploring the output\n",
    "\n",
    "The zscan dictionary contains the all the redshift scan information for each target and each template.\n",
    "\n",
    "For example, here's a plot of the $\\chi^2$ vs $z$ for the first target.\n"
   ]
  },
  {
   "cell_type": "code",
   "execution_count": 5,
   "metadata": {
    "collapsed": false,
    "jupyter": {
     "outputs_hidden": false
    }
   },
   "outputs": [
    {
     "data": {
      "text/plain": [
       "Text(0, 0.5, '$\\\\chi^2$')"
      ]
     },
     "execution_count": 5,
     "metadata": {},
     "output_type": "execute_result"
    },
    {
     "data": {
      "image/png": "[encoded data removed]",
      "text/plain": [
       "<Figure size 432x288 with 1 Axes>"
      ]
     },
     "metadata": {
      "needs_background": "light"
     },
     "output_type": "display_data"
    }
   ],
   "source": [
    "targetid = targets[0].id\n",
    "for template in dtemplates:\n",
    "    full_type = template.template.full_type\n",
    "    plt.plot(zscan[targetid][full_type]['redshifts'],\\\n",
    "         zscan[targetid][full_type]['zchi2'],label=full_type)\n",
    "\n",
    "plt.legend(loc=0,frameon=False)\n",
    "plt.ylim(4000,6000)\n",
    "plt.grid()\n",
    "plt.xlabel(\"redshift\",fontsize=24)\n",
    "plt.ylabel(\"$\\chi^2$\",fontsize=24)"
   ]
  },
  {
   "cell_type": "markdown",
   "metadata": {},
   "source": [
    "Excellent! We find that the best fit is corresponds to a QSO template at redshift around 1.8. \n",
    "\n",
    "Let's confirm that by looking at the zfit table:"
   ]
  },
  {
   "cell_type": "code",
   "execution_count": 6,
   "metadata": {
    "collapsed": false,
    "jupyter": {
     "outputs_hidden": false
    }
   },
   "outputs": [
    {
     "name": "stdout",
     "output_type": "stream",
     "text": [
      "Redrock thinks 3678552080036 is a QSO at redshift 1.871151350370875\n"
     ]
    }
   ],
   "source": [
    "print(\"Redrock thinks {} is a {} at redshift {}\".format(targets[0].id,zfit[0]['spectype'],zfit[0]['z']))"
   ]
  },
  {
   "cell_type": "markdown",
   "metadata": {},
   "source": [
    "Let's now make a plot of the spectrum and its best fit. The best fit is obtained by evaluating the best fit template (in this case a QSO) at the best fit redshift. Let's list the template types:"
   ]
  },
  {
   "cell_type": "code",
   "execution_count": 7,
   "metadata": {
    "collapsed": false,
    "jupyter": {
     "outputs_hidden": false
    }
   },
   "outputs": [
    {
     "name": "stdout",
     "output_type": "stream",
     "text": [
      "0 GALAXY\n",
      "1 QSO\n",
      "2 STAR:::A\n",
      "3 STAR:::B\n",
      "4 STAR:::CV\n",
      "5 STAR:::F\n",
      "6 STAR:::G\n",
      "7 STAR:::K\n",
      "8 STAR:::M\n",
      "9 STAR:::WD\n"
     ]
    }
   ],
   "source": [
    "for i,t in enumerate(templates.values()):\n",
    "    print(i,t.full_type)"
   ]
  },
  {
   "cell_type": "markdown",
   "metadata": {},
   "source": [
    "We now evaluate the template 'QSO' at the best fit redshift:"
   ]
  },
  {
   "cell_type": "code",
   "execution_count": 8,
   "metadata": {
    "collapsed": false,
    "jupyter": {
     "outputs_hidden": false
    }
   },
   "outputs": [],
   "source": [
    "tid = targets[0].id\n",
    "t_qso = templates['QSO']\n",
    "\n",
    "## several minima are stored in the zfit table\n",
    "minumum_number = 0\n",
    "\n",
    "## select the target id and minumum number\n",
    "w = (zfit[:]['targetid']==tid) & (zfit[:]['znum']==minumum_number)\n",
    "\n",
    "## now get the coefficients\n",
    "coeff = zfit[w]['coeff'].reshape(-1)\n",
    "zbest = zfit[w]['z'][0]\n",
    "\n",
    "## compute the best fit:\n",
    "fit = t_qso.eval(coeff[:4],targets[0].spectra[0].wave,zbest)\n",
    "\n",
    "## remultiply by (1+z)\n",
    "fit *= (1+zbest)"
   ]
  },
  {
   "cell_type": "code",
   "execution_count": 9,
   "metadata": {
    "collapsed": false,
    "jupyter": {
     "outputs_hidden": false
    }
   },
   "outputs": [
    {
     "data": {
      "text/plain": [
       "(-1.0, 6.0)"
      ]
     },
     "execution_count": 9,
     "metadata": {},
     "output_type": "execute_result"
    },
    {
     "data": {
      "image/png": "[encoded data removed]",
      "text/plain": [
       "<Figure size 432x288 with 1 Axes>"
      ]
     },
     "metadata": {
      "needs_background": "light"
     },
     "output_type": "display_data"
    }
   ],
   "source": [
    "wave=targets[0].spectra[0].wave\n",
    "flux = targets[0].spectra[0].flux\n",
    "plt.plot(wave,flux)\n",
    "plt.plot(wave,fit)\n",
    "plt.ylim(-1,6)"
   ]
  },
  {
   "cell_type": "markdown",
   "metadata": {},
   "source": [
    "Let's add a bit of rebinning to smooth out the noise:"
   ]
  },
  {
   "cell_type": "code",
   "execution_count": 10,
   "metadata": {
    "collapsed": false,
    "jupyter": {
     "outputs_hidden": false
    }
   },
   "outputs": [
    {
     "data": {
      "text/plain": [
       "[<matplotlib.lines.Line2D at 0x1554bfdcce50>]"
      ]
     },
     "execution_count": 10,
     "metadata": {},
     "output_type": "execute_result"
    },
    {
     "data": {
      "image/png": "[encoded data removed]",
      "text/plain": [
       "<Figure size 432x288 with 1 Axes>"
      ]
     },
     "metadata": {
      "needs_background": "light"
     },
     "output_type": "display_data"
    }
   ],
   "source": [
    "i = np.arange(len(fit),dtype=float)\n",
    "A = i - i[:,None]\n",
    "rebin = 5\n",
    "w = abs(A)<rebin\n",
    "A[w]=1.\n",
    "A[~w]=0\n",
    "A /= A.sum(axis=1).reshape(-1,1)\n",
    "plt.plot(wave,A.dot(flux))\n",
    "plt.plot(wave,A.dot(fit))"
   ]
  },
  {
   "cell_type": "code",
   "execution_count": null,
   "metadata": {},
   "outputs": [],
   "source": []
  }
 ],
 "metadata": {
  "anaconda-cloud": {},
  "kernelspec": {
   "display_name": "DESI main",
   "language": "python",
   "name": "desi-main"
  },
  "language_info": {
   "codemirror_mode": {
    "name": "ipython",
    "version": 3
   },
   "file_extension": ".py",
   "mimetype": "text/x-python",
   "name": "python",
   "nbconvert_exporter": "python",
   "pygments_lexer": "ipython3",
   "version": "3.10.14"
  }
 },
 "nbformat": 4,
 "nbformat_minor": 4
}
