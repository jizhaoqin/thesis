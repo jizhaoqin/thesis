{
 "cells": [
  {
   "cell_type": "markdown",
   "metadata": {},
   "source": [
    "# n(z) histograms from Spectroscopic Reduction"
   ]
  },
  {
   "cell_type": "markdown",
   "metadata": {},
   "source": [
    "This tutorial is a worked example of how to make an n(z) histogram\n",
    "for a production run of the spectroscopic pipeline. It shows you how the per-tile per-night per-spectrograph\n",
    "\"zbest\" redshift files are organized, and gives you some details about working\n",
    "with commissioning (CMX) and survey validation (SV) target bits and \"fibermaps\"."
   ]
  },
  {
   "cell_type": "code",
   "execution_count": null,
   "metadata": {},
   "outputs": [],
   "source": [
    "#- Basic imports\n",
    "import sys, os, glob\n",
    "import numpy as np\n",
    "import fitsio\n",
    "from astropy.table import Table\n",
    "\n",
    "from desitarget.cmx.cmx_targetmask import cmx_mask\n",
    "from desitarget.sv1.sv1_targetmask import desi_mask\n",
    "\n",
    "import matplotlib.pyplot as plt"
   ]
  },
  {
   "cell_type": "markdown",
   "metadata": {},
   "source": [
    "## Spectro pipeline production directories\n",
    "\n",
    "Official DESI spectro pipeline runs are located at NERSC under `/global/cfs/cdirs/desi/spectro/redux`,\n",
    "grouped by a \"specprod\" name. For example:\n",
    "* \"daily\" : the daily spectroscopic reductions after the data transfer from KPNO.\n",
    "* \"andes\" : production run from May 2020.\n",
    "* \"blanc\" : production run from Jan 2021.\n",
    "* ...\n",
    "\n",
    "Let's use the \"blanc\" run. If you want to browse the outputs on the web, see\n",
    "https://data.desi.lbl.gov/desi/spectro/redux/blanc .  Search the DESI wiki for \"collaboration username\" (in quotes) to find\n",
    "the authentication info."
   ]
  },
  {
   "cell_type": "code",
   "execution_count": null,
   "metadata": {},
   "outputs": [],
   "source": [
    "specprod = 'blanc'\n",
    "specprod_dir = os.path.join(os.environ['DESI_SPECTRO_REDUX'], specprod)"
   ]
  },
  {
   "cell_type": "markdown",
   "metadata": {},
   "source": [
    "In andes, we did not make a combined redshift catalog across all tiles and all nights (sorry...).\n",
    "Instead, we have to load the individual \"zbest\" files for each tile.  These are grouped by\n",
    "tiles/TILEID/YEARMMDD/zbest-SPECTROGRAPH-TILEID-NIGHT.fits.\n",
    "See https://desi.lbl.gov/trac/wiki/TargetSelectionWG/SV0 for human-friendly summary of what was observed when."
   ]
  },
  {
   "cell_type": "code",
   "execution_count": null,
   "metadata": {},
   "outputs": [],
   "source": [
    "zbfiles = sorted(glob.glob(specprod_dir+'/tiles/*/20*/zbest*.fits'))\n",
    "print('{} zbest files found'.format(len(zbfiles)))"
   ]
  },
  {
   "cell_type": "code",
   "execution_count": null,
   "metadata": {},
   "outputs": [],
   "source": [
    "#- Print a few of them as an example\n",
    "zbfiles[0::50]"
   ]
  },
  {
   "cell_type": "markdown",
   "metadata": {},
   "source": [
    "Even a relatively small production like andes has a lot of data, which motivates why you should\n",
    "get used to using NERSC (e.g. via Jupyter) instead of always starting by downloading the data\n",
    "locally."
   ]
  },
  {
   "cell_type": "code",
   "execution_count": null,
   "metadata": {},
   "outputs": [],
   "source": [
    "!du -hs $specprod_dir/tiles"
   ]
  },
  {
   "cell_type": "markdown",
   "metadata": {},
   "source": [
    "## Reading the zbest files\n",
    "\n",
    "Now let's loop over all the zbest files, load their redshifts table (ZBEST), plus their \"FIBERMAP\" table that gives\n",
    "further information about each target, and accumulate their good redshifts.\n",
    "\n",
    "### Target selection bitmasks\n",
    "\n",
    "Target selection bitmasks identify which targets are which.\n",
    "\n",
    "Since we have a combination of commissioning (CMX) and early survey validation (SV0) tiles,\n",
    "as well as the post-COVID restart of survey validation (SV1), we need to adjust the bitmasks\n",
    "depending on the input.\n",
    "\n",
    "For more details on working with targeting bits, see\n",
    "https://github.com/desihub/desitarget/blob/master/doc/nb/target-selection-bits-and-bitmasks.ipynb"
   ]
  },
  {
   "cell_type": "code",
   "execution_count": null,
   "metadata": {},
   "outputs": [],
   "source": [
    "#- redshift lists that we will extend\n",
    "zbgs = list()\n",
    "zlrg = list()\n",
    "zelg = list()\n",
    "zqso = list()\n",
    "nstar = 0   #- Sorry, MWS, we're just going to count stars\n",
    "\n",
    "#- Since a TARGETID could be observed more than once, keep track of ones that we've already\n",
    "#- seen before, and only take the first redshift that we find\n",
    "previous_targetids = list()\n",
    "\n",
    "num_zbfiles = len(zbfiles)\n",
    "for i, filename in enumerate(zbfiles):\n",
    "    if i%100 == 0:\n",
    "        print(f'{i}/{num_zbfiles}')\n",
    "\n",
    "    #- The ZBEST HDU contains the redshift fits\n",
    "    zb = fitsio.read(filename, 'ZBEST')\n",
    "    \n",
    "    #- The FIBERMAP HDU contains information about which targets are assigned to which positioners\n",
    "    fm = fitsio.read(filename, 'FIBERMAP')\n",
    "\n",
    "    #- ZBEST has one entry per target, while FIBERMAP has one entry per target per exposure\n",
    "    #- Get one CMX_TARGET entry per target, from the fibermap\n",
    "    targetid, ii = np.unique(fm['TARGETID'], return_index=True)\n",
    "    assert np.all(zb['TARGETID'] == fm['TARGETID'][ii])\n",
    "    \n",
    "    # Choose CMX/SV0 or SV1 bitmasks on the fly.\n",
    "    if 'SV1_DESI_TARGET' in fm.dtype.names:\n",
    "        targetcol = 'SV1_DESI_TARGET'\n",
    "        bgsMask = desi_mask.mask('BGS_ANY')\n",
    "        lrgMask = desi_mask.mask('LRG')\n",
    "        elgMask = desi_mask.mask('ELG')\n",
    "        qsoMask = desi_mask.mask('QSO')\n",
    "    elif 'CMX_TARGET' in fm.dtype.names:\n",
    "        targetcol = 'CMX_TARGET'\n",
    "        bgsMask = cmx_mask.mask('SV0_BGS')\n",
    "        lrgMask = cmx_mask.mask('MINI_SV_LRG|SV0_LRG')\n",
    "        elgMask = cmx_mask.mask('MINI_SV_ELG|SV0_ELG')\n",
    "        qsoMask = cmx_mask.mask('MINI_SV_QSO|SV0_QSO')\n",
    "    \n",
    "    desi_target = fm[targetcol][ii]\n",
    "\n",
    "    #- ZWARN==0 means no warnings means redrock thinks it's a good redshift\n",
    "    #- identify ZWARN==0 per spectral classification\n",
    "    isGal = (zb['SPECTYPE'] == 'GALAXY') & (zb['ZWARN'] == 0)\n",
    "    isQSO = (zb['SPECTYPE'] == 'QSO') & (zb['ZWARN'] == 0)\n",
    "    isStar = (zb['SPECTYPE'] == 'STAR') & (zb['ZWARN'] == 0)\n",
    "    \n",
    "    #- Good targets that we haven't seen in a previous zbest file (e.g. from an earlier night)\n",
    "    isNew = np.in1d(targetid, list(previous_targetids), invert=True) & (zb['ZWARN'] == 0)\n",
    "\n",
    "    #- Count stars\n",
    "    nstar += np.count_nonzero(isStar & isNew)\n",
    "\n",
    "    #- collect redshifts\n",
    "    isBGS = isNew & isGal & ((desi_target & bgsMask) != 0)\n",
    "    isLRG = isNew & isGal & ((desi_target & lrgMask) != 0)\n",
    "    isELG = isNew & isGal & ((desi_target & elgMask) != 0)\n",
    "    isQSO = isNew & isQSO & ((desi_target & qsoMask) != 0)\n",
    "\n",
    "    zbgs.append(zb['Z'][isBGS])\n",
    "    zlrg.append(zb['Z'][isLRG])\n",
    "    zelg.append(zb['Z'][isELG])\n",
    "    zqso.append(zb['Z'][isQSO])\n",
    "\n",
    "    #- Keep track of ones we've seen before\n",
    "    previous_targetids.extend(targetid[isNew])\n",
    "\n",
    "#- convert those into 1D arrays of redshifts per target class\n",
    "zbgs = np.concatenate(zbgs)\n",
    "zlrg = np.concatenate(zlrg)\n",
    "zelg = np.concatenate(zelg)\n",
    "zqso = np.concatenate(zqso)"
   ]
  },
  {
   "cell_type": "code",
   "execution_count": null,
   "metadata": {},
   "outputs": [],
   "source": [
    "print('# Star:', nstar)\n",
    "print('# BGS: ', len(zbgs))\n",
    "print('# LRG: ', len(zlrg))\n",
    "print('# ELG: ', len(zelg))\n",
    "print('# QSO: ', len(zqso))"
   ]
  },
  {
   "cell_type": "markdown",
   "metadata": {},
   "source": [
    "## Let's make some plots"
   ]
  },
  {
   "cell_type": "code",
   "execution_count": null,
   "metadata": {},
   "outputs": [],
   "source": [
    "plt.figure(figsize=(8,6))\n",
    "plt.subplot(411)\n",
    "n = plt.hist(zbgs, 35, (0, 3.5), color='C4')[0]\n",
    "plt.text(3.6, int(0.8*np.max(n)), f'{len(zbgs)} BGS', ha='right')\n",
    "plt.title(f'{specprod} n(z)')\n",
    "\n",
    "plt.subplot(412)\n",
    "n = plt.hist(zlrg, 35, (0, 3.5), color='C3')[0]\n",
    "plt.text(3.6, int(0.8*np.max(n)), f'{len(zlrg)} LRG', ha='right')\n",
    "\n",
    "plt.subplot(413)\n",
    "n = plt.hist(zelg, 35, (0, 3.5), color='C2')[0]\n",
    "plt.text(3.6, int(0.8*np.max(n)), f'{len(zelg)} ELG', ha='right')\n",
    "\n",
    "plt.subplot(414)\n",
    "n = plt.hist(zqso, 35, (0, 3.5), color='C0')[0]\n",
    "plt.text(3.6, int(0.8*np.max(n)), f'{len(zqso)} QSO', ha='right')\n",
    "\n",
    "plt.xlabel('redshift')\n",
    "plt.tight_layout()"
   ]
  },
  {
   "cell_type": "markdown",
   "metadata": {},
   "source": [
    "## Exercises\n",
    "  * make a radial velocity histogram for stars instead of just counting them\n",
    "  * explore the contents of the FIBERMAP and the ZBEST HDUs to make plots like\n",
    "    * fraction of ZWARN==0 (good) vs. FLUX_R\n",
    "    * g-r color vs. redshift\n",
    "    * histogram number of exposures per target"
   ]
  }
 ],
 "metadata": {
  "kernelspec": {
   "display_name": "DESI 22.2",
   "language": "python",
   "name": "desi-22.2"
  },
  "language_info": {
   "codemirror_mode": {
    "name": "ipython",
    "version": 3
   },
   "file_extension": ".py",
   "mimetype": "text/x-python",
   "name": "python",
   "nbconvert_exporter": "python",
   "pygments_lexer": "ipython3",
   "version": "3.9.7"
  }
 },
 "nbformat": 4,
 "nbformat_minor": 4
}
