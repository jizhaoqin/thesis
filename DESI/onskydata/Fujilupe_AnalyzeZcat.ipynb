{
 "cells": [
  {
   "cell_type": "markdown",
   "id": "09db9039-680d-449c-9cb5-b3d714d219cf",
   "metadata": {
    "tags": []
   },
   "source": [
    "# Statistics of fuji + guadalupe and targets with multiple spectra\n",
    "\n",
    "April 2022\n",
    "\n",
    "Angela Berti, Ragadeepika Pucha, Stephanie Juneau, Anthony Kremin<br>\n",
    "This notebook has been tested with the DESI 23.1 kernel.\n",
    "\n",
    "### Table of Contents\n",
    "* [Overview](#overview)\n",
    "* [Imports](#imports)\n",
    "* [Accessing the data at NERSC](#data)\n",
    "* [Catalog statistics by survey](#stats_survey)\n",
    "  * [Unique targets in each survey](#counts_survey_total)\n",
    "  * [Survey Validation (SV) versus Main Survey targets](#counts_sv_main_unique)\n",
    "* [Primary spectra](#primary)\n",
    "* [Catalog statistics by target type](#stats_target)\n",
    "  * [DESI target masks](#masks_desi)\n",
    "  * [Spectra by target type](#counts_target)\n",
    "* [Redshift distributions by target type and survey](#redshift_dist)\n",
    "* [Target counts by target type and survey](#counts_target_survey)\n",
    "* [Targets with multiple spectra](#multispec)\n",
    "  * [Multiple SPECTYPE classifications](#spectype_diff)\n",
    "  * [Bright versus dark time spectra of the same target](#bright_dark)\n",
    "\n",
    "<a class=\"anchor\" id=\"overview\"></a>\n",
    "## Overview\n",
    "This notebook is a companion to `Fujilupe_CombineZcat.ipynb`, which demonstrates how combine the [fuji](https://desi.lbl.gov/trac/wiki/Pipeline/Releases/Fuji) and [guadalupe](https://desi.lbl.gov/trac/wiki/Pipeline/Releases/Guadalupe) data releases into a single catalog, flag a unique set of the primary (i.e., best) spectrum for each object in the catalog, and apply some basic quality cuts. This notebook provides examples of how break down the data in the combined catalog by target type (BGS, LRG, etc.), survey (SV, main, etc.), and the number of spectra per target. It also covers how to extract and plot different spectra of the same target.\n",
    "\n",
    "<a class=\"anchor\" id=\"imports\"></a>\n",
    "## Imports"
   ]
  },
  {
   "cell_type": "code",
   "execution_count": null,
   "id": "9d6b236f-26e5-4c31-90a5-c48cfad38000",
   "metadata": {},
   "outputs": [],
   "source": [
    "import os\n",
    "import numpy as np\n",
    "\n",
    "import fitsio\n",
    "\n",
    "from astropy.io import fits\n",
    "from astropy.table import Table, vstack, join\n",
    "from astropy.convolution import convolve, Gaussian1DKernel\n",
    "\n",
    "import matplotlib\n",
    "import matplotlib.pyplot as plt\n",
    "\n",
    "%matplotlib inline\n",
    "\n",
    "#-- input/output functions related to DESI spectra\n",
    "import desispec.io\n"
   ]
  },
  {
   "cell_type": "code",
   "execution_count": null,
   "id": "ea73da3b-ef4a-4977-929b-59d10088a2da",
   "metadata": {
    "tags": []
   },
   "outputs": [],
   "source": [
    "#-- specify format of plots\n",
    "\n",
    "settings = {\n",
    "    \"font.size\": 22,\n",
    "    \"axes.linewidth\": 2.0,\n",
    "    \"xtick.major.size\": 6.0,\n",
    "    \"xtick.minor.size\": 4.0,\n",
    "    \"xtick.major.width\": 2.0,\n",
    "    \"xtick.minor.width\": 1.5,\n",
    "    \"xtick.direction\": \"in\", \n",
    "    \"xtick.minor.visible\": True,\n",
    "    \"xtick.top\": True,\n",
    "    \"ytick.major.size\": 6.0,\n",
    "    \"ytick.minor.size\": 4.0,\n",
    "    \"ytick.major.width\": 2.0,\n",
    "    \"ytick.minor.width\": 1.5,\n",
    "    \"ytick.direction\": \"in\", \n",
    "    \"ytick.minor.visible\": False,\n",
    "    \"ytick.right\": True,\n",
    "}\n",
    "\n",
    "plt.rcParams.update(**settings)\n"
   ]
  },
  {
   "cell_type": "markdown",
   "id": "c67a1345-1763-4a89-9539-7994f9334806",
   "metadata": {},
   "source": [
    "<a class=\"anchor\" id=\"data\"></a>\n",
    "## Accessing the data\n",
    "\n",
    "The notebook `Fujilupe_CombineZcat.ipynb` shows how this catalog is constructed, and can also be used as a guide to create your own version with just the columns needed for your science case. To load the combined fuji + guadalupe (fujilupe) catalog with *all* available columns:\n"
   ]
  },
  {
   "cell_type": "code",
   "execution_count": null,
   "id": "4758fb35-69d9-49e5-9dd6-96712abb9d97",
   "metadata": {},
   "outputs": [],
   "source": [
    "%%time\n",
    "\n",
    "fujilupe = Table( fitsio.read(\"/global/cfs/cdirs/desi/science/gqp/zcatalog_summary/zall-pix-fujilupe.fits\") )\n"
   ]
  },
  {
   "cell_type": "markdown",
   "id": "4dcecb99-a5b9-49e1-b138-9036d979d6ed",
   "metadata": {},
   "source": [
    "<a class=\"anchor\" id=\"stats_survey\"></a>\n",
    "\n",
    "## Statistics of the combined catalog by survey\n",
    "\n",
    "<a class=\"anchor\" id=\"masks_survey\"></a>\n",
    "\n",
    "### Create masks to select each survey"
   ]
  },
  {
   "cell_type": "code",
   "execution_count": null,
   "id": "71ab0f8f-575e-4f68-bedf-907ebec1cbfa",
   "metadata": {},
   "outputs": [],
   "source": [
    "#-- main survey\n",
    "is_main = (fujilupe[\"SURVEY\"].astype(str).data == \"main\")\n",
    "\n",
    "#-- SV1/2/3\n",
    "is_sv1 = (fujilupe[\"SURVEY\"].astype(str).data == \"sv1\")\n",
    "is_sv2 = (fujilupe[\"SURVEY\"].astype(str).data == \"sv2\")\n",
    "is_sv3 = (fujilupe[\"SURVEY\"].astype(str).data == \"sv3\")\n",
    "\n",
    "#-- all SV data\n",
    "is_sv = (is_sv1 | is_sv2 | is_sv3)\n",
    "\n",
    "#-- commissioning data\n",
    "is_cmx = (fujilupe[\"SURVEY\"].astype(str).data == \"cmx\")\n",
    "\n",
    "#-- special tiles\n",
    "is_special = (fujilupe[\"SURVEY\"].astype(str).data == \"special\")\n"
   ]
  },
  {
   "cell_type": "markdown",
   "id": "97b94f4d-7cab-4884-bb63-b8fdb179bd99",
   "metadata": {},
   "source": [
    "<a class=\"anchor\" id=\"counts_survey_total\"></a>\n",
    "\n",
    "### Identify the total number of unique targets observed in each survey, as well as in the combined catalog\n",
    "\n",
    "Uncomment specific lines to print numbers for additional surveys."
   ]
  },
  {
   "cell_type": "code",
   "execution_count": null,
   "id": "1925db46-b0cd-4ff4-bad1-02eb72ee65eb",
   "metadata": {},
   "outputs": [],
   "source": [
    "#-- all unique targets in the main survey\n",
    "targids_main = np.unique(fujilupe[\"TARGETID\"][is_main])\n",
    "\n",
    "#-- all unique targets in SV\n",
    "targids_sv = np.unique(fujilupe[\"TARGETID\"][is_sv])\n",
    "\n",
    "print(\"Unique targets in main survey:{0:8}\".format( len(targids_main) ))\n",
    "print(\"Unique targets in SV:         {0:8}\".format( len(targids_sv) ))\n",
    "\n",
    "print(\"\\nTotal unique targets in combined catalog: {}\\n\".format( len(np.unique(fujilupe[\"TARGETID\"])) ))\n",
    "\n",
    "# print(\"Unique targets in SV1:    {0:8}\".format( len(np.unique(fujilupe[\"TARGETID\"][is_sv1])) ))\n",
    "# print(\"Unique targets in SV2:    {0:8}\".format( len(np.unique(fujilupe[\"TARGETID\"][is_sv2])) ))\n",
    "# print(\"Unique targets in SV3:    {0:8}\".format( len(np.unique(fujilupe[\"TARGETID\"][is_sv3])) ))\n",
    "\n",
    "# print(\"\\nUnique targets in CMX:    {0:8}\".format( len(np.unique(fujilupe[\"TARGETID\"][is_cmx])) ))\n",
    "\n",
    "# print(\"\\nUnique targets in Special:{0:8}\".format( len(np.unique(fujilupe[\"TARGETID\"][is_special])) ))\n"
   ]
  },
  {
   "cell_type": "markdown",
   "id": "8920272f-1a84-4f20-89e5-ea184c5deac3",
   "metadata": {},
   "source": [
    "Note that the total number of unique targets in the combined catalog is close to, but not exactly, the total of unique targets in the main survey and in SV. This is because some targets are observed in both surveys, and because a (relatively small) number of targets are from commissioning and special tiles.\n",
    "\n",
    "<a class=\"anchor\" id=\"counts_sv_main_unique\"></a>\n",
    "\n",
    "### How many unique targets are in only the main survey, only SV, or both?"
   ]
  },
  {
   "cell_type": "code",
   "execution_count": null,
   "id": "36f49d75-bbde-4feb-940f-fb864019b246",
   "metadata": {},
   "outputs": [],
   "source": [
    "print(\"Unique targets in...\\n\")\n",
    "print(\"  main survey and not SV: {0:8}\".format(len(list(set(targids_main).difference(targids_sv))) ))\n",
    "print(\"  SV and not main survey: {0:8}\".format(len(list(set(targids_sv).difference(targids_main))) ))\n",
    "print(\"  both main survey and SV:{0:8}\".format(len(list(set(targids_main).intersection(targids_sv))) ))\n"
   ]
  },
  {
   "cell_type": "markdown",
   "id": "03ca89fe-63d0-415a-8931-995f70c1141a",
   "metadata": {},
   "source": [
    "<a class=\"anchor\" id=\"primary\"></a>\n",
    "\n",
    "## Primary spectra\n",
    "\n",
    "The combined catalog contains columns that flag the set of primary spectra within just the main survey (`MAIN_PRIMARY`), just SV data (`SV_PRIMARY`), and the across entire catalog (`ZCAT_PRIMARY`). Note that the set of primary spectra identified within just main survey data or just SV data (`SV_PRIMARY` flag) is *not* the same as identifying primary spectra across the entire combined catalog and *then* selecting by survey, i.e.,\n",
    "\n",
    "$$\n",
    "\\begin{align}\n",
    "\\texttt{fujilupe}[\"\\!\\texttt{ZCAT}\\_\\texttt{PRIMARY}\\!\"][\\ \\texttt{is}\\_\\texttt{main}\\ ] &\\neq \\texttt{fujilupe}[\"\\!\\texttt{MAIN}\\_\\texttt{PRIMARY}\\!\"] \\\\\n",
    "\\texttt{fujilupe}[\"\\!\\texttt{ZCAT}\\_\\texttt{PRIMARY}\\!\"][\\ \\texttt{is}\\_\\texttt{sv}\\ ] &\\neq \\texttt{fujilupe}[\"\\!\\texttt{SV}\\_\\texttt{PRIMARY}\\!\"] \n",
    "\\end{align}\n",
    "$$\n",
    "\n",
    "<a class=\"anchor\" id=\"counts_survey_unique\"></a>\n",
    "### How many primary spectra are in the main survey, SV, the combined catalog, and other surveys?\n",
    "Uncomment specific lines to print numbers for other surveys."
   ]
  },
  {
   "cell_type": "code",
   "execution_count": null,
   "id": "636a83d1-9353-4f96-9785-956630f3de3d",
   "metadata": {},
   "outputs": [],
   "source": [
    "print(\"Primary spectra in...\\n\")\n",
    "print(\"  main survey:     {0:8}\".format( len(fujilupe[is_main & fujilupe[\"MAIN_PRIMARY\"]]) ))\n",
    "print(\"  SV:              {0:8}\".format( len(fujilupe[is_sv & fujilupe[\"SV_PRIMARY\"]]) ))\n",
    "print(\"  combined catalog:{0:8}\\n\".format( len(fujilupe[fujilupe[\"ZCAT_PRIMARY\"]]) ))\n",
    "\n",
    "# print(\"  SV1:    {0:8}\".format( len(fujilupe[is_sv1 & fujilupe[\"SV_PRIMARY\"]]) ))\n",
    "# print(\"  SV2:    {0:8}\".format( len(fujilupe[is_sv2 & fujilupe[\"SV_PRIMARY\"]]) ))\n",
    "# print(\"  SV3:    {0:8}\\n\".format( len(fujilupe[is_sv3 & fujilupe[\"SV_PRIMARY\"]]) ))\n",
    "\n",
    "# print(\"  CMX:    {0:8}\\n\".format( len(fujilupe[is_cmx & fujilupe[\"ZCAT_PRIMARY\"]]) ))\n",
    "\n",
    "# print(\"  Special:{0:8}\".format( len(fujilupe[is_special & fujilupe[\"ZCAT_PRIMARY\"]]) ))\n"
   ]
  },
  {
   "cell_type": "markdown",
   "id": "12b829a4-c325-4c4e-9ff7-d2747c7153ff",
   "metadata": {
    "tags": []
   },
   "source": [
    "As expected, the total number of primary spectra in the combined catalog is exactly the number of unique targets in this catalog (see above).\n",
    "\n",
    "<a class=\"anchor\" id=\"stats_target\"></a>\n",
    "## Statistics of the combined catalog by target type\n",
    "\n",
    "<a class=\"anchor\" id=\"masks_desi\"></a>\n",
    "### DESI target masks\n",
    "\n",
    "Targeting bits are encoded in `desi_mask`, which can be imported from `desitarget.targetmask` or from any of the SV libraries (e.g., from `desitarget.sv1.sv1_targetmask`, etc.). While not universally true, for the purposes of this notebook it doesn\"t matter which `desi_mask` is used; any of the four import options below will give the same results.\n"
   ]
  },
  {
   "cell_type": "code",
   "execution_count": null,
   "id": "3373af8f-d369-4a9d-8cbc-448e27ae151e",
   "metadata": {},
   "outputs": [],
   "source": [
    "from desitarget.targetmask import desi_mask, bgs_mask, scnd_mask          # main survey\n",
    "# from desitarget.sv1.sv1_targetmask import desi_mask, bgs_mask, scnd_mask  # SV1\n",
    "# from desitarget.sv2.sv2_targetmask import desi_mask, bgs_mask, scnd_mask  # SV2\n",
    "# from desitarget.sv3.sv3_targetmask import desi_mask, bgs_mask, scnd_mask  # SV3\n"
   ]
  },
  {
   "cell_type": "code",
   "execution_count": null,
   "id": "fadfc877-af89-4223-96f4-766d3cea7a5d",
   "metadata": {},
   "outputs": [],
   "source": [
    "#-- select the target mask for each type of target (BGS, LRG, ELG, QSO, etc.)\n",
    "\n",
    "bgs_tgtmask  = desi_mask[\"BGS_ANY\"]\n",
    "lrg_tgtmask  = desi_mask[\"LRG\"]\n",
    "elg_tgtmask  = desi_mask[\"ELG\"]\n",
    "qso_tgtmask  = desi_mask[\"QSO\"]\n",
    "mws_tgtmask  = desi_mask[\"MWS_ANY\"]\n",
    "scnd_tgtmask = desi_mask[\"SCND_ANY\"]\n"
   ]
  },
  {
   "cell_type": "markdown",
   "id": "ab0af6c8-3e8e-463d-aebb-3cab7d1c9dd6",
   "metadata": {
    "tags": []
   },
   "source": [
    "<a class=\"anchor\" id=\"masks_target\"></a>\n",
    "\n",
    "### Define masks to select all targets of each type from the combined catalog\n",
    "\n",
    "Information about DESI target selection is stored in the `DESI_TARGET` column. Similarly, the `SV1_DESI_TARGET`, `SV2_DESI_TARGET`, and `SV3_DESI_TARGET` columns indicate which objects were targeted specifically during SV. The masks below select *all* targets of a given type.\n"
   ]
  },
  {
   "cell_type": "code",
   "execution_count": null,
   "id": "7e60afd7-fe63-40a5-892d-2172217d86da",
   "metadata": {},
   "outputs": [],
   "source": [
    "desi_target = fujilupe[\"DESI_TARGET\"]\n",
    "\n",
    "#-- all BGS targets\n",
    "is_bgs = (desi_target & bgs_tgtmask != 0) | (fujilupe[\"SV1_DESI_TARGET\"] & bgs_tgtmask != 0) | \\\n",
    "         (fujilupe[\"SV2_DESI_TARGET\"] & bgs_tgtmask != 0) | (fujilupe[\"SV3_DESI_TARGET\"] & bgs_tgtmask != 0)\n",
    "\n",
    "#-- all LRG targets\n",
    "is_lrg = (desi_target & lrg_tgtmask != 0) | (fujilupe[\"SV1_DESI_TARGET\"] & lrg_tgtmask != 0) | \\\n",
    "         (fujilupe[\"SV2_DESI_TARGET\"] & lrg_tgtmask != 0) | (fujilupe[\"SV3_DESI_TARGET\"] & lrg_tgtmask != 0)\n",
    "\n",
    "#-- all ELG targets\n",
    "is_elg = (desi_target & elg_tgtmask != 0) | (fujilupe[\"SV1_DESI_TARGET\"] & elg_tgtmask != 0) | \\\n",
    "         (fujilupe[\"SV2_DESI_TARGET\"] & elg_tgtmask != 0) | (fujilupe[\"SV3_DESI_TARGET\"] & elg_tgtmask != 0)\n",
    "\n",
    "#-- all QSO targets\n",
    "is_qso = (desi_target & qso_tgtmask != 0) | (fujilupe[\"SV1_DESI_TARGET\"] & qso_tgtmask != 0) | \\\n",
    "         (fujilupe[\"SV2_DESI_TARGET\"] & qso_tgtmask != 0) | (fujilupe[\"SV3_DESI_TARGET\"] & qso_tgtmask != 0)\n",
    "\n",
    "#-- all Milky Way targets\n",
    "is_mws = (desi_target & mws_tgtmask != 0) | (fujilupe[\"SV1_DESI_TARGET\"] & mws_tgtmask != 0) | \\\n",
    "         (fujilupe[\"SV2_DESI_TARGET\"] & mws_tgtmask != 0) | (fujilupe[\"SV3_DESI_TARGET\"] & mws_tgtmask != 0)\n",
    "\n",
    "#-- all secondary targets\n",
    "is_scnd = (desi_target & scnd_tgtmask != 0) | (fujilupe[\"SV1_DESI_TARGET\"] & scnd_tgtmask != 0) | \\\n",
    "          (fujilupe[\"SV2_DESI_TARGET\"] & scnd_tgtmask != 0) | (fujilupe[\"SV3_DESI_TARGET\"] & scnd_tgtmask != 0)\n"
   ]
  },
  {
   "cell_type": "markdown",
   "id": "50d72365-c208-4044-a267-e2def723825d",
   "metadata": {},
   "source": [
    "<a class=\"anchor\" id=\"counts_target\"></a>\n",
    "### Plot the total number of spectra of each target type\n"
   ]
  },
  {
   "cell_type": "code",
   "execution_count": null,
   "id": "d11c02d2-0853-466b-806b-bbfb2fe2dcf7",
   "metadata": {},
   "outputs": [],
   "source": [
    "#-- total number of spectra by target type\n",
    "n_bgs  = len(fujilupe[is_bgs])\n",
    "n_lrg  = len(fujilupe[is_lrg])\n",
    "n_elg  = len(fujilupe[is_elg])\n",
    "n_qso  = len(fujilupe[is_qso])\n",
    "n_mws  = len(fujilupe[is_mws])\n",
    "n_scnd = len(fujilupe[is_scnd])\n",
    "\n",
    "counts = [n_bgs, n_lrg, n_elg, n_qso, n_mws, n_scnd]\n",
    "\n",
    "#-- number of primary spectra by target type\n",
    "is_primary = fujilupe[\"ZCAT_PRIMARY\"]\n",
    "\n",
    "n_bgs_prim  = len(fujilupe[is_bgs & is_primary])\n",
    "n_lrg_prim  = len(fujilupe[is_lrg & is_primary])\n",
    "n_elg_prim  = len(fujilupe[is_elg & is_primary])\n",
    "n_qso_prim  = len(fujilupe[is_qso & is_primary])\n",
    "n_mws_prim  = len(fujilupe[is_mws & is_primary])\n",
    "n_scnd_prim = len(fujilupe[is_scnd & is_primary])\n",
    "\n",
    "counts_prim = [n_bgs_prim, n_lrg_prim, n_elg_prim, n_qso_prim, n_mws_prim, n_scnd_prim]\n"
   ]
  },
  {
   "cell_type": "code",
   "execution_count": null,
   "id": "1c8706f1-ea84-44cf-8db1-c3e2ff1d7786",
   "metadata": {},
   "outputs": [],
   "source": [
    "fig, ax = plt.subplots(1, 1, figsize=(12,6))\n",
    "\n",
    "targets = [\"BGS\", \"LRG\", \"ELG\", \"QSO\", \"MWS\", \"SCND\"]\n",
    "\n",
    "ax.bar(targets, counts, color=\"purple\", alpha=0.4, label=\"All spectra (includes duplicate targets)\")\n",
    "ax.bar(targets, counts_prim, color=\"purple\", alpha=1, label=\"Primary spectra (unique targets)\")\n",
    "ax.set_ylabel(\"Number of spectra\")\n",
    "ax.semilogy()\n",
    "ax.set_ylim(4e5, 2e6)\n",
    "\n",
    "for i in range(len(targets)):\n",
    "    ax.text(targets[i], counts[i], counts[i], ha=\"center\", va=\"bottom\", fontsize=18)\n",
    "    ax.text(targets[i], counts_prim[i], counts_prim[i], ha=\"center\", va=\"top\", fontsize=18, color=\"white\")\n",
    "\n",
    "plt.legend(fontsize=18, frameon=False, markerfirst=False)\n",
    "plt.tight_layout()\n",
    "plt.show()\n"
   ]
  },
  {
   "cell_type": "markdown",
   "id": "7b623fb7-fada-471a-b387-f29a3338533f",
   "metadata": {},
   "source": [
    "<a class=\"anchor\" id=\"redshift_dist\"></a>\n",
    "\n",
    "## Redshift distributions by target type and survey"
   ]
  },
  {
   "cell_type": "code",
   "execution_count": null,
   "id": "689e1227-d083-49df-bd44-04d95660c506",
   "metadata": {},
   "outputs": [],
   "source": [
    "fig, axes = plt.subplots(2, 2, figsize=(16,10))\n",
    "\n",
    "bins = np.arange(0,4,0.1)\n",
    "\n",
    "type_masks = (is_bgs, is_lrg, is_elg, is_qso)\n",
    "colors     = (\"C0\",\"C1\",\"C2\",\"C3\")\n",
    "\n",
    "for ax,type_mask,name,color in zip(np.concatenate(axes), type_masks, targets[:-2], colors):\n",
    "    kwargs = dict(color=color, bins=bins)\n",
    "    \n",
    "    ax.hist(fujilupe[\"Z\"][type_mask], **kwargs, alpha=0.3, label=f\"Total: {len(fujilupe[type_mask])}\")\n",
    "    ax.hist(fujilupe[\"Z\"][type_mask], bins=bins, histtype=\"step\", color=\"black\")\n",
    "\n",
    "    mask = type_mask & (is_main | is_sv)\n",
    "    ax.hist(fujilupe[\"Z\"][mask], **kwargs, alpha=0.6, label=f\"SV + Main: {len(fujilupe[mask])}\")\n",
    "    \n",
    "    mask = type_mask & is_sv\n",
    "    ax.hist(fujilupe[\"Z\"][mask], **kwargs, label=f\"SV only: {len(fujilupe[mask])}\")\n",
    "    ax.hist(fujilupe[\"Z\"][mask], bins=bins, histtype=\"step\", color=\"black\")\n",
    "    \n",
    "    ax.legend(fontsize=20, markerfirst=False, handletextpad=0.25, frameon=False)\n",
    "    ax.set_title(f\"{name} targets\", fontsize=22)\n",
    "\n",
    "for ax in axes[-1]:\n",
    "    ax.set_xlabel(\"Redshift\")\n",
    "\n",
    "for ax in np.concatenate(axes):\n",
    "    ax.set_xlim(-0.1,4.0)\n",
    "    ax.set_xticks(np.arange(0,4.1,0.5))\n",
    "    ax.set_ylabel(\"N(z)\")\n",
    "    ax.ticklabel_format(axis=\"y\", style=\"sci\", scilimits=(0,0))\n",
    "\n",
    "plt.tight_layout()\n",
    "plt.subplots_adjust(hspace=0.2, wspace=0.15)\n",
    "plt.show()\n",
    "\n"
   ]
  },
  {
   "cell_type": "markdown",
   "id": "4da59646-672a-4f07-b5c3-6ed3cec7ad4a",
   "metadata": {},
   "source": [
    "### Target class versus Redrock spectral type\n",
    "\n",
    "The above plot shows $N(z)$ for all *targets* of a given type, but [Redrock](https://github.com/desihub/redrock) will not necessarily classify all spectra as having the same spectral type as their original target class. For example, the following plot breaks down QSO targets by their Redrock spectral type (`GALAXY`, `QSO`, or `STAR`), contained in the `SPECTYPE` column."
   ]
  },
  {
   "cell_type": "code",
   "execution_count": null,
   "id": "7c4a0cc9-74d5-45a9-b468-ebe2f8db0c75",
   "metadata": {},
   "outputs": [],
   "source": [
    "fig, ax = plt.subplots(1, 1, figsize=(10.5,7.5))\n",
    "\n",
    "bins = np.arange(0,4.1,0.1)\n",
    "\n",
    "#-- all QSO targets\n",
    "ax.hist(fujilupe[\"Z\"][is_qso], bins=bins, color=\"gray\", alpha=0.5, label=f\"QSO targets: {n_qso}\")\n",
    "\n",
    "#-- QSO targets classified as galaxies\n",
    "spec_gal = is_qso & (fujilupe[\"SPECTYPE\"]==\"GALAXY\")\n",
    "ax.hist(fujilupe[\"Z\"][spec_gal], bins=bins, histtype=\"step\", hatch=\"\\\\\\\\\\\\\", color=\"k\", lw=1.5,\n",
    "        label=f\"SPECTYPE=\\\"GALAXY\\\" ({100*len(fujilupe[spec_gal])/n_qso:.1f}%)\")\n",
    "\n",
    "#-- QSO targets classified as quasars\n",
    "spec_qso = is_qso & (fujilupe[\"SPECTYPE\"]==\"QSO\")\n",
    "ax.hist(fujilupe[\"Z\"][spec_qso], bins=bins, color=\"red\", alpha=0.5,\n",
    "        label=f\"SPECTYPE=\\\"QSO\\\" ({100*len(fujilupe[spec_qso])/n_qso:.1f}%)\")\n",
    "ax.hist(fujilupe[\"Z\"][spec_qso], bins=bins, histtype=\"step\", color=\"k\", lw=1)\n",
    "\n",
    "#-- QSO targets classified as stars\n",
    "spec_star = is_qso & (fujilupe[\"SPECTYPE\"]==\"STAR\")\n",
    "ax.hist(fujilupe[\"Z\"][spec_star], bins=bins, color=\"purple\",\n",
    "        label=f\"SPECTYPE=\\\"STAR\\\" ({100*len(fujilupe[spec_star])/n_qso:.1f}%)\")\n",
    "ax.hist(fujilupe[\"Z\"][spec_star], bins=bins, histtype=\"step\", color=\"k\", lw=1)\n",
    "\n",
    "ax.hist(fujilupe[\"Z\"][is_qso], bins=bins, histtype=\"step\", color=\"black\", lw=2)\n",
    "\n",
    "ax.legend(fontsize=18, markerfirst=False, handletextpad=0.5, frameon=False)\n",
    "\n",
    "ax.set_xlabel(\"Redshift\")\n",
    "ax.set_xlim(-0.1,4.0)\n",
    "ax.set_xticks(np.arange(0,4.1,0.5))\n",
    "ax.set_ylabel(\"N(z)\")\n",
    "ax.ticklabel_format(axis=\"y\", style=\"sci\", scilimits=(0,0))\n",
    "\n",
    "plt.tight_layout()\n",
    "plt.show()\n"
   ]
  },
  {
   "cell_type": "markdown",
   "id": "a9b96cf9-e45f-4a0a-97f1-d68c0377d1db",
   "metadata": {},
   "source": [
    "Of the over 660k QSO targets in the combined catalog, only 49% are actually classified as quasars (red histogram) by Redrock. Nearly 42% are classified as galaxies (black hatched histogram), and the remaining 9% as stars (purple histogram at $z\\sim0$). The abrupt drop in $N(z)$ at $z=1.7$ reflects the fact that Redrock is constrained to fit redshifts $z<1.7$ to spectra it classifies as galaxies.\n",
    "\n",
    "<a class=\"anchor\" id=\"counts_target_survey\"></a>\n",
    "## Target counts by target type and survey\n"
   ]
  },
  {
   "cell_type": "code",
   "execution_count": null,
   "id": "c355bc92-ad16-480b-8f1b-fbd7847af415",
   "metadata": {
    "tags": []
   },
   "outputs": [],
   "source": [
    "#-- BGS\n",
    "is_bgs_sv1 = (fujilupe[\"SV1_DESI_TARGET\"] & bgs_tgtmask != 0)\n",
    "is_bgs_sv2 = (fujilupe[\"SV2_DESI_TARGET\"] & bgs_tgtmask != 0)\n",
    "is_bgs_sv3 = (fujilupe[\"SV3_DESI_TARGET\"] & bgs_tgtmask != 0)\n",
    "is_bgs_sv  = is_bgs_sv1 | is_bgs_sv2 | is_bgs_sv3 \n",
    "\n",
    "#-- LRG\n",
    "is_lrg_sv1 = (fujilupe[\"SV1_DESI_TARGET\"] & lrg_tgtmask != 0)\n",
    "is_lrg_sv2 = (fujilupe[\"SV2_DESI_TARGET\"] & lrg_tgtmask != 0)\n",
    "is_lrg_sv3 = (fujilupe[\"SV3_DESI_TARGET\"] & lrg_tgtmask != 0)\n",
    "is_lrg_sv  = is_lrg_sv1 | is_lrg_sv2 | is_lrg_sv3\n",
    "\n",
    "#-- ELG\n",
    "is_elg_sv1 = (fujilupe[\"SV1_DESI_TARGET\"] & elg_tgtmask != 0)\n",
    "is_elg_sv2 = (fujilupe[\"SV2_DESI_TARGET\"] & elg_tgtmask != 0)\n",
    "is_elg_sv3 = (fujilupe[\"SV3_DESI_TARGET\"] & elg_tgtmask != 0)\n",
    "is_elg_sv  = is_elg_sv1 | is_elg_sv2 | is_elg_sv3\n",
    "\n",
    "#-- QSO\n",
    "is_qso_sv1 = (fujilupe[\"SV1_DESI_TARGET\"] & qso_tgtmask != 0)\n",
    "is_qso_sv2 = (fujilupe[\"SV2_DESI_TARGET\"] & qso_tgtmask != 0)\n",
    "is_qso_sv3 = (fujilupe[\"SV3_DESI_TARGET\"] & qso_tgtmask != 0)\n",
    "is_qso_sv  = is_qso_sv1 | is_qso_sv2 | is_qso_sv3\n",
    "\n",
    "#-- Milky Way\n",
    "is_mws_sv1 = (fujilupe[\"SV1_DESI_TARGET\"] & mws_tgtmask != 0)\n",
    "is_mws_sv2 = (fujilupe[\"SV2_DESI_TARGET\"] & mws_tgtmask != 0)\n",
    "is_mws_sv3 = (fujilupe[\"SV3_DESI_TARGET\"] & mws_tgtmask != 0)\n",
    "is_mws_sv  = is_mws_sv1 | is_mws_sv2 | is_mws_sv3\n",
    "\n",
    "#-- secondary\n",
    "is_scnd_sv1 = (fujilupe[\"SV1_DESI_TARGET\"] & scnd_tgtmask != 0)\n",
    "is_scnd_sv2 = (fujilupe[\"SV2_DESI_TARGET\"] & scnd_tgtmask != 0)\n",
    "is_scnd_sv3 = (fujilupe[\"SV3_DESI_TARGET\"] & scnd_tgtmask != 0)\n",
    "is_scnd_sv  = is_scnd_sv1 | is_scnd_sv2 | is_scnd_sv3\n"
   ]
  },
  {
   "cell_type": "code",
   "execution_count": null,
   "id": "d73bfee0-639b-420b-87a6-8187e2937782",
   "metadata": {},
   "outputs": [],
   "source": [
    "print(\"BGS    SV:{0:8}\\n     Main:{1:8}\\n\".format(len(fujilupe[is_bgs_sv]), len(fujilupe[is_bgs & ~is_bgs_sv]) ))\n",
    "print(\"LRG    SV:{0:8}\\n     Main:{1:8}\\n\".format(len(fujilupe[is_lrg_sv]), len(fujilupe[is_lrg & ~is_lrg_sv]) ))\n",
    "\n",
    "print(\"ELG    SV:{0:8}\\n     Main:{1:8}\\n\".format(len(fujilupe[is_elg_sv]), len(fujilupe[is_elg & ~is_elg_sv]) ))\n",
    "print(\"QSO    SV:{0:8}\\n     Main:{1:8}\\n\".format(len(fujilupe[is_qso_sv]), len(fujilupe[is_qso & ~is_qso_sv]) ))\n",
    "\n",
    "print(\"MWS    SV:{0:8}\\n     Main:{1:8}\\n\".format(len(fujilupe[is_mws_sv]), len(fujilupe[is_mws & ~is_mws_sv]) ))\n",
    "print(\"SCND   SV:{0:8}\\n     Main:{1:8}\\n\".format(len(fujilupe[is_scnd_sv]), len(fujilupe[is_scnd & ~is_scnd_sv]) ))\n"
   ]
  },
  {
   "cell_type": "markdown",
   "id": "6c36cec1-58a0-4bc0-a61e-a3a1f677fab3",
   "metadata": {},
   "source": [
    "<a class=\"anchor\" id=\"multispec\"></a>\n",
    "## Targets with multiple spectra\n",
    "\n",
    "As shown in the plot below, the vast majority of targets in the combined catalog have only one spectrum. About 3% of targets have two spectra, and only a few thousand have three, four, or five (the maximum).\n",
    "\n",
    "Note that these numbers will be slightly different depending on whether the bad fiber quality cut has been applied to the combined catalog. If spectra associated with bad fibers are removed *after* `ZCAT_NSPEC` has been computed and added to the catalog, then some targets with `ZCAT_NSPEC`$\\,=x$ (where $x>1$) may appear in the catalog fewer than $x$ times.\n"
   ]
  },
  {
   "cell_type": "code",
   "execution_count": null,
   "id": "209607d8-1f70-4c88-b99a-3b3a8197fc31",
   "metadata": {},
   "outputs": [],
   "source": [
    "fig, ax = plt.subplots(1, 1, figsize=(8,6))\n",
    "\n",
    "freq, hist = np.array(np.unique(fujilupe[\"ZCAT_NSPEC\"], return_counts=True))\n",
    "hist  = ( hist / np.arange(1,np.max(freq)+1) ).astype(int)\n",
    "n_tot = sum(hist)\n",
    "ax.bar(freq, hist, color=\"purple\", alpha=0.4)\n",
    "\n",
    "ax.set_xlabel(\"Number of spectra per target\")\n",
    "ax.set_xlim(0.4,5.6)\n",
    "ax.set_ylabel(\"Number of unique targets\")\n",
    "ax.set_ylim(1e1,1e8)\n",
    "ax.semilogy()\n",
    "\n",
    "round_to = [1,1,2,2,3]\n",
    "pct = [f\"{np.round( 100*hist[i]/n_tot, round_to[i] )}\" for i in range(len(round_to))]\n",
    "\n",
    "for i in range(len(round_to)):\n",
    "    ax.text(freq[i], hist[i], f\"{hist[i]}\\n({pct[i]}%)\", ha=\"center\", va=\"bottom\", fontsize=18)\n",
    "\n",
    "plt.tight_layout()\n",
    "plt.show()\n"
   ]
  },
  {
   "cell_type": "markdown",
   "id": "cd7e227f-9644-49f2-94a5-458d17650daf",
   "metadata": {},
   "source": [
    "#### Below we'll look more closely at the targets with five spectra\n"
   ]
  },
  {
   "cell_type": "code",
   "execution_count": null,
   "id": "f5fefcaa-1950-48ec-a6fd-3b895d0b3eac",
   "metadata": {},
   "outputs": [],
   "source": [
    "#-- get all targets with NSPEC=5\n",
    "t_fivespec = fujilupe[fujilupe[\"ZCAT_NSPEC\"]==5]\n",
    "\n",
    "#-- unique TARGETID of each object with five spectra\n",
    "targids = np.unique(t_fivespec[\"TARGETID\"])\n",
    "\n",
    "print(\"\\tTARGETID\\t\\tSPECTYPE of all 5 spectra\")\n",
    "for i,tid in enumerate(targids):\n",
    "    these_spec = t_fivespec[t_fivespec[\"TARGETID\"]==tid]\n",
    "    spectype   = these_spec[\"SPECTYPE\"].data.astype(str)\n",
    "    print(\"{0:3}\\t{1}\\t{2}\".format(i+1, tid, spectype))\n"
   ]
  },
  {
   "cell_type": "markdown",
   "id": "5d086af9-c6c2-428d-9a1f-6557ab6e30e7",
   "metadata": {},
   "source": [
    "Most of the targets with five spectra have been flagged as stars by Redrock. One object (12 above) has four spectra flagged as a star, but the fifth classification is a galaxy. Let's look more closely at this object.\n",
    "\n",
    "<a class=\"anchor\" id=\"spectype_diff\"></a>\n",
    "### Targets with multiple `SPECTYPE` classifications\n"
   ]
  },
  {
   "cell_type": "code",
   "execution_count": null,
   "id": "25d6e3de-24fa-47d1-8fdb-b0b973c8f012",
   "metadata": {},
   "outputs": [],
   "source": [
    "#-- get the data for all observations of this TARGETID\n",
    "these_spec = t_fivespec[ t_fivespec[\"TARGETID\"]==targids[11] ]\n",
    "\n",
    "#-- get the SURVEY, PROGRAM, SPECTYPE, and redshift values for each of the five spectra of this object\n",
    "survey   = these_spec[\"SURVEY\"].data.astype(str)\n",
    "program  = these_spec[\"PROGRAM\"].data.astype(str)\n",
    "redshift = np.round(these_spec[\"Z\"].data,5)\n",
    "spectype = these_spec[\"SPECTYPE\"].data.astype(str)\n",
    "\n",
    "print(\"\\tSURVEY  PROGRAM  SPECTYPE  REDSHIFT\")\n",
    "for i in range(5):\n",
    "    print(\"{0:1}/5\\t{1:7} {2:8} {3:8} {4:8}\".format(i+1, survey[i], program[i], spectype[i], redshift[i]))\n"
   ]
  },
  {
   "cell_type": "markdown",
   "id": "6342ad54-c3a0-42e3-af79-25748af53193",
   "metadata": {},
   "source": [
    "The four spectra classified as `STAR` have $z\\sim0$, while the redshift of the spectrum with the `GALAXY` classification is $z\\sim0.316$. Let's plot several of these spectra to invesitgate the different in `SPECTYPE` classification and redshift measurement.\n",
    "\n",
    "The `get_spec_data` function defined below is a convenience function to load the relevant data for plotting the spectrum for a given `TARGETID`, `SURVEY`, and `PROGRAM`. We will use it to load different spectra of the same object."
   ]
  },
  {
   "cell_type": "code",
   "execution_count": null,
   "id": "a7695f69-7c06-40e2-85dd-317e1f6551f6",
   "metadata": {},
   "outputs": [],
   "source": [
    "def get_spec_data(tid, survey=None, program=None):\n",
    "    #-- the index of the specific target can be uniquely determined with the combination of TARGETID, SURVEY, and PROGRAM\n",
    "    idx = np.where( (fujilupe[\"TARGETID\"]==tid) & (fujilupe[\"SURVEY\"]==survey) & (fujilupe[\"PROGRAM\"]==program) )[0][0]\n",
    "\n",
    "    #-- healpix values are integers but are converted here into a string for easier access to the file path\n",
    "    hpx = fujilupe[\"HEALPIX\"].astype(str)\n",
    "\n",
    "    if \"sv\" in survey:\n",
    "        specprod = \"fuji\"\n",
    "    elif survey==\"main\":\n",
    "        specprod = \"guadalupe\"\n",
    "\n",
    "    specprod_dir = f\"/global/cfs/cdirs/desi/spectro/redux/{specprod}\"\n",
    "    target_dir   = f\"{specprod_dir}/healpix/{survey}/{program}/{hpx[idx][:-2]}/{hpx[idx]}\"\n",
    "    coadd_fname  = f\"coadd-{survey}-{program}-{hpx[idx]}.fits\"\n",
    "\n",
    "    #-- read in the spectra with desispec\n",
    "    coadd_obj  = desispec.io.read_spectra(f\"{target_dir}/{coadd_fname}\")\n",
    "    coadd_tgts = coadd_obj.target_ids().data\n",
    "\n",
    "    #-- select the spectrum of  targetid\n",
    "    row = ( coadd_tgts==fujilupe[\"TARGETID\"][idx] )\n",
    "    coadd_spec = coadd_obj[row]\n",
    "\n",
    "    return coadd_spec\n"
   ]
  },
  {
   "cell_type": "code",
   "execution_count": null,
   "id": "3875ff36-cd91-4103-abe9-5f7025969df2",
   "metadata": {},
   "outputs": [],
   "source": [
    "#-- get the third, fourth, and fifth spectra for this object \n",
    "\n",
    "tid = targids[11] #-- TARGETID\n",
    "\n",
    "#-- 3/5 above; SPECTYPE = STAR\n",
    "sv1_other_star = get_spec_data(tid, survey=\"sv1\", program=\"other\")\n",
    "\n",
    "#-- 4/5 above; SPECTYPE = STAR\n",
    "sv3_bright_star = get_spec_data(tid, survey=\"sv3\", program=\"bright\")\n",
    "\n",
    "#-- 5/5 above; SPECTYPE = GALAXY\n",
    "sv3_dark_gal = get_spec_data(tid, survey=\"sv3\", program=\"dark\")\n"
   ]
  },
  {
   "cell_type": "code",
   "execution_count": null,
   "id": "f563ebf6-df04-4751-a101-8060cba30f7a",
   "metadata": {},
   "outputs": [],
   "source": [
    "#-- plot the spectra\n",
    "\n",
    "fig, ax = plt.subplots(1, 1, figsize=(18,6))\n",
    "\n",
    "ax.set_xlim(3500, 9900)\n",
    "ax.set_xlabel(r\"wavelength $\\lambda\\ \\left[ \\AA \\right]$\")\n",
    "ax.set_ylim(-2, 44)\n",
    "ax.set_ylabel(r\"$F_{\\lambda}\\ \\left[ 10^{-17}\\ {\\rm erg\\ s}^{-1}\\ {\\rm cm}^{-2}\\ \\AA^{-1} \\right]$\")\n",
    "\n",
    "spectra = ( sv1_other_star, sv3_dark_gal, sv3_bright_star )\n",
    "zwarn   = (0,0,1570)\n",
    "coaddfs = (0,0,0)\n",
    "for PROG,ST,spec,color,zw,cfs in zip( (\"OTHER\",\"DARK\",\"BRIGHT\"), (\"STAR\",\"GALAXY\",\"STAR\"), spectra, (\"k\",\"orange\",\"magenta\"), zwarn, coaddfs ):\n",
    "    for band in (\"b\",\"r\",\"z\"):\n",
    "        label = f\"PROG={PROG} | SPECTYPE={ST} | COADD_FIBERSTATUS={cfs} | ZWARN={zw}\" if band==\"b\" else \"\"\n",
    "        ax.plot(spec.wave[band], convolve(spec.flux[band][0], Gaussian1DKernel(5)), label=label, color=color, lw=2)\n",
    "\n",
    "ax.text(3600, 39, f\"TARGETID = {tid}\", ha=\"left\", va=\"bottom\")\n",
    "ax.legend(markerfirst=False, fontsize=18, handletextpad=0.5, frameon=False)\n",
    "\n",
    "#-- annotations\n",
    "ax.text(5800, 10, r\"$\\leftarrow$\" + \"arm overlap (not absorption)\" + r\"$\\rightarrow$\", ha=\"left\", va=\"bottom\", fontsize=19, color=\"red\", rotation=350)\n",
    "ax.text(4800, 34, r\"$\\downarrow$\", ha=\"left\", va=\"bottom\", fontsize=24, color=\"red\")\n",
    "ax.text(6500, 23, r\"$\\downarrow$\", ha=\"left\", va=\"bottom\", fontsize=24, color=\"red\")\n",
    "ax.text(4920, 36, \"absorption line\", ha=\"left\", va=\"bottom\", fontsize=19, color=\"red\")\n",
    "ax.text(6620, 25, \"absorption line\", ha=\"left\", va=\"bottom\", fontsize=19, color=\"red\")\n",
    "\n",
    "plt.tight_layout()\n",
    "plt.show()\n"
   ]
  },
  {
   "cell_type": "markdown",
   "id": "1575379c-fd32-4439-afba-e814d1b40b5d",
   "metadata": {},
   "source": [
    "The SV1 dark time spectrum (black line) is clearly a stellar spectrum and correctly classified by Redrock, while the shape of the SV3 \"other\" program spectrum (orange line) is somewhat ambiguous. It is not surpising that this spectrum was misclassified as a galaxy. The SV3 bright time spectrum (magenta line) obviously has no flux data, and it is not immediately clear why it was classified as a stellar spectrum. Below we'll look at additional columns for these spectra.\n"
   ]
  },
  {
   "cell_type": "code",
   "execution_count": null,
   "id": "7043161b-1323-4873-932e-66cacaf05bd5",
   "metadata": {},
   "outputs": [],
   "source": [
    "#-- show all data columns for the five spectra for this target\n",
    "\n",
    "t_fivespec[ t_fivespec[\"TARGETID\"]==tid ].show_in_notebook()\n"
   ]
  },
  {
   "cell_type": "markdown",
   "id": "ba61698b-080f-427f-a5a9-fe7eb556c478",
   "metadata": {},
   "source": [
    "Looking at all the columns for these five spectra, we can see that all five have `COADD_FIBERSTATUS=0` (i.e., no bad fiber warning). However, the spectrum with no flux (4/5) has `ZWARN=1570`, while the other (good) spectra all have `ZWARN=0`. Scroll to the final column (`ZCAT_PRIMARY`) and we'll see that the third spectra (black line in the above plot) is the primary spectrum for this target.\n",
    "\n",
    "<a class=\"anchor\" id=\"bright_dark\"></a>\n",
    "### `BRIGHT` versus `DARK` program spectra of the same target\n",
    "\n",
    "Now we'll look more closely at the `SURVEY`, `PROGRAM`, and redshift values of the four galaxy targets with five spectra."
   ]
  },
  {
   "cell_type": "code",
   "execution_count": null,
   "id": "debdc01a-3472-47a7-ae82-e0cb22867ada",
   "metadata": {},
   "outputs": [],
   "source": [
    "for tid in targids[:4]:\n",
    "    these_spec = t_fivespec[t_fivespec[\"TARGETID\"]==tid]\n",
    "    survey   = these_spec[\"SURVEY\"].data.astype(str)\n",
    "    program  = these_spec[\"PROGRAM\"].data.astype(str)\n",
    "    redshift = these_spec[\"Z\"].data\n",
    "    print(f\"TARGETID = {tid}\")\n",
    "    print(\"    Survey  \\t{0}\\t{1}\\t{2}\\t{3}\\t{4}\".format(*survey))\n",
    "    print(\"    Program \\t{0}\\t{1}\\t{2}\\t{3}\\t{4}\".format(*program))\n",
    "    print(\"    Redshift\\t{0:.4f}\\t{1:.4f}\\t{2:.4f}\\t{3:.4f}\\t{4:.4f}\\n\".format(*redshift))\n"
   ]
  },
  {
   "cell_type": "markdown",
   "id": "66266337-20dc-4c2f-804e-c31e8cb76af8",
   "metadata": {},
   "source": [
    "Each of these targets was observed once each during SV1, SV2, and SV3, and twice during the main survey (once each during the bright and dark programs). Note that for each object all five redshift measurements agree to at least the third or fourth decimal place.\n",
    "\n",
    "Below we compare the dark and bright time spectra of this object from the main survey. The top panel shows the smoothed bright time spectrum in magenta against the smoothed dark time spectrum in black. The middle and bottom panels show the bright and dark time spectra, respectively, smoothed in black, as well as the flux from each arm (*B*, *R*, and *Z*) shown in blue, green, and red. As expected, the bright time spectrum is clearly nosier than the dark time. While the two spectra have very similar continuua, the $4000$ Angstrom break (gray dashed line; redshifted to $\\sim5600\\ {\\rm A}$) is easier to identify in the dark time sepctrum."
   ]
  },
  {
   "cell_type": "code",
   "execution_count": null,
   "id": "d2fd0e60-df10-4ccb-8c6e-61a38d456284",
   "metadata": {},
   "outputs": [],
   "source": [
    "#-- get two spectra for this object (first of the four galaxies with five spectra)\n",
    "\n",
    "tid = targids[0] #-- TARGETID \n",
    "\n",
    "#-- get the DARK TIME spectrum\n",
    "spec_dark = get_spec_data(tid, survey=\"main\", program=\"dark\")\n",
    "\n",
    "#-- get the BRIGHT TIME spectrum\n",
    "spec_bright = get_spec_data(tid, survey=\"main\", program=\"bright\")\n"
   ]
  },
  {
   "cell_type": "code",
   "execution_count": null,
   "id": "900e435a-f3e4-4fcb-a673-2d8e3ad6438e",
   "metadata": {},
   "outputs": [],
   "source": [
    "#-- plot the spectra\n",
    "\n",
    "fig, axes = plt.subplots(3, 1, figsize=(18,15), sharex=True, sharey=True)\n",
    "\n",
    "for ax in axes:\n",
    "    ax.set_xlim(3500, 9900)\n",
    "    ax.set_ylim(-3.9, 6)  #-- change depending on specific spectrum\n",
    "    ax.set_ylabel(r\"$F_{\\lambda}\\ \\left[ 10^{-17}\\ {\\rm erg\\ s}^{-1}\\ {\\rm cm}^{-2}\\ \\AA^{-1} \\right]$\")\n",
    "    ax.plot(5610*np.ones(2), ax.get_ylim(), color=\"gray\", ls=\"--\", label=\"$4000\\ \\AA$ break (approx.)\")\n",
    "\n",
    "axes[-1].set_xlabel(r\"wavelength $\\lambda\\ \\left[ \\AA \\right]$\")\n",
    "\n",
    "#-- plot the BRIGHT TIME and DARK TIME spectra (both smoothed) on the same axis\n",
    "for band in (\"b\",\"r\",\"z\"):\n",
    "    if band==\"z\":\n",
    "        label_bright = \"PROGRAM = BRIGHT\"\n",
    "        label_dark   = \"PROGRAM = DARK\"\n",
    "    else:\n",
    "        label_bright = label_dark = \"\"\n",
    "    axes[0].plot(spec_bright.wave[band], convolve(spec_bright.flux[band][0], Gaussian1DKernel(5)), color=\"magenta\", label=label_bright)\n",
    "    axes[0].plot(spec_dark.wave[band], convolve(spec_dark.flux[band][0], Gaussian1DKernel(5)), color=\"k\", label=label_dark)\n",
    "axes[0].legend(markerfirst=False, loc=4, handletextpad=0.5, frameon=False)\n",
    "axes[0].text(3600, 0.8*axes[0].get_ylim()[1], f\"TARGETID = {tid}\", ha=\"left\", va=\"bottom\")\n",
    "\n",
    "#-- plot the BRIGHT TIME and DARK TIME spectra at full resolution on separate axes\n",
    "for ax,coadd_spec,prog in zip(axes[1:],(spec_bright,spec_dark),(\"BRIGHT\",\"DARK\")):\n",
    "    ax.text(9800, 0.9*ax.get_ylim()[0], f\"\\nPROGRAM = {prog.upper()}\", ha=\"right\", va=\"bottom\")\n",
    "    for band,color in zip((\"b\",\"r\",\"z\"),(\"b\",\"g\",\"r\")):\n",
    "        #-- plot the spectrum from each arm (B,R,Z) in blue, green, red\n",
    "        ax.plot(coadd_spec.wave[band], coadd_spec.flux[band][0], color=color, alpha=0.3)\n",
    "        #-- add smoothed spectrum in black for all the three arms\n",
    "        ax.plot(coadd_spec.wave[band], convolve(coadd_spec.flux[band][0], Gaussian1DKernel(5)), color=\"k\")\n",
    "        \n",
    "plt.tight_layout()\n",
    "plt.subplots_adjust(hspace=0.05)\n",
    "plt.show()\n"
   ]
  }
 ],
 "metadata": {
  "kernelspec": {
   "display_name": "DESI 23.1",
   "language": "python",
   "name": "desi-23.1"
  },
  "language_info": {
   "codemirror_mode": {
    "name": "ipython",
    "version": 3
   },
   "file_extension": ".py",
   "mimetype": "text/x-python",
   "name": "python",
   "nbconvert_exporter": "python",
   "pygments_lexer": "ipython3",
   "version": "3.10.8"
  },
  "toc-showcode": false
 },
 "nbformat": 4,
 "nbformat_minor": 5
}
