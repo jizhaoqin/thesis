{
 "cells": [
  {
   "cell_type": "markdown",
   "id": "9d4769f5-088c-4d53-b776-d1dd75f7d6c4",
   "metadata": {},
   "source": [
    "# Sub-selecting DESI Spectra\n",
    "\n",
    "If your analysis requires only a small subset of DESI spectra, it can be useful\n",
    "to subselect the spectra of interest ahead of time and save those separately so\n",
    "that subsequent analysis steps can start with a much smaller curated file instead\n",
    "of re-reading and re-filtering the original files every time.\n",
    "\n",
    "This tutorial shows some utility features in desispec for reading, sub-selecting,\n",
    "combining, and writing spectra.  It also shows how to associate a catalog with\n",
    "spectra that can be written to the same output file and read back in.\n",
    "\n",
    "*Stephen Bailey (LBL)*<br/>\n",
    "*September 2023*"
   ]
  },
  {
   "cell_type": "code",
   "execution_count": 1,
   "id": "41491c25-c8a8-495b-adc2-ea5f179f3c4d",
   "metadata": {
    "tags": []
   },
   "outputs": [],
   "source": [
    "import os\n",
    "import numpy as np\n",
    "import desispec.io\n",
    "from desispec.spectra import stack"
   ]
  },
  {
   "cell_type": "markdown",
   "id": "7773aaf4-c5dc-4c12-8b81-479cc6c50b9e",
   "metadata": {},
   "source": [
    "## Slicing (sub-selecting) Spectra\n",
    "\n",
    "`desispec.io.read_spectra(filename)` returns a `Spectra` object that can be sliced (sub-selected) using notation like numpy arrays.  We'll start by reading an example coadd spectra file from the \"fuji\" production included with the DESI Early Data Release (EDR)."
   ]
  },
  {
   "cell_type": "code",
   "execution_count": 2,
   "id": "eeb9d7c9-4f72-481d-bcb1-1b6b256b69e6",
   "metadata": {
    "tags": []
   },
   "outputs": [
    {
     "name": "stdout",
     "output_type": "stream",
     "text": [
      "INFO:spectra.py:372:read_spectra: iotime 1.054 sec to read coadd-0-100-thru20210505.fits at 2023-09-20T16:10:36.738042\n",
      "There are 500 spectra in coadd-0-100-thru20210505.fits\n"
     ]
    }
   ],
   "source": [
    "fujidir = os.path.expandvars('$DESI_ROOT/spectro/redux/fuji')\n",
    "specfile = f'{fujidir}/tiles/cumulative/100/20210505/coadd-0-100-thru20210505.fits'\n",
    "spectra = desispec.io.read_spectra(specfile)\n",
    "print('There are {} spectra in {}'.format(spectra.num_spectra(), os.path.basename(specfile)))"
   ]
  },
  {
   "cell_type": "markdown",
   "id": "ce078352-c7c4-46e1-93c4-aa50e1d2fb2f",
   "metadata": {},
   "source": [
    "Spectra can be sliced like numpy arrays using arrays of booleans, arrays of integer indices, or Python slices."
   ]
  },
  {
   "cell_type": "code",
   "execution_count": 3,
   "id": "da4a160b-366f-4a38-a475-0b6e2e53ef51",
   "metadata": {
    "tags": []
   },
   "outputs": [
    {
     "name": "stdout",
     "output_type": "stream",
     "text": [
      "Original number of spectra: 500\n",
      "\n",
      "Subset 1 selected with boolean array FIBER%50==0 -> 10 spectra\n",
      "FIBER      TARGETID     \n",
      "----- ------------------\n",
      "    0 616094145466860255\n",
      "   50  39633393171825713\n",
      "  100  39633399102572725\n",
      "  150  39633390172898751\n",
      "  200  39633396153974983\n",
      "  250  39633399102574156\n",
      "  300  39633390181286972\n",
      "  350  39633396153976678\n",
      "  400  39633404941045627\n",
      "  450  39633393176021808\n",
      "\n",
      "Subset 2 selected with index array [10, 30, 452] -> 3 spectra\n",
      "TARGETIDs match: True\n",
      "FIBER      TARGETID    \n",
      "----- -----------------\n",
      "   10 39633396149780852\n",
      "   30 39633396145589048\n",
      "  452 39633390177093311\n",
      "\n",
      "Subset 3 selected with spectra[10:15] -> 5 spectra\n",
      "TARGETIDs match: True\n",
      "FIBER      TARGETID     \n",
      "----- ------------------\n",
      "   10  39633396149780852\n",
      "   11           -1000237\n",
      "   12  39633396149781848\n",
      "   13  39633396149780580\n",
      "   14 616094148449009805\n"
     ]
    }
   ],
   "source": [
    "print('Original number of spectra:', spectra.num_spectra())\n",
    "print()\n",
    "\n",
    "# subset with boolean array\n",
    "keep = spectra.fibermap['FIBER'] % 50 == 0\n",
    "subset1 = spectra[keep]\n",
    "print('Subset 1 selected with boolean array FIBER%50==0 -> {} spectra'.format(subset1.num_spectra()))\n",
    "print(subset1.fibermap['FIBER', 'TARGETID'])\n",
    "print()\n",
    "\n",
    "# subset with integer indices\n",
    "keep_indices = [10,30,452]\n",
    "subset2 = spectra[keep_indices]\n",
    "print('Subset 2 selected with index array {} -> {} spectra'.format(keep_indices, subset2.num_spectra()))\n",
    "\n",
    "# confirm that these actually match the original subset\n",
    "ok = np.all(spectra.fibermap['TARGETID'][keep_indices] == subset2.fibermap['TARGETID'])\n",
    "print('TARGETIDs match:', ok)\n",
    "print(subset2.fibermap['FIBER', 'TARGETID'])\n",
    "print()\n",
    "\n",
    "# subset with Python slice notation\n",
    "subset3 = spectra[10:15]\n",
    "print('Subset 3 selected with spectra[10:15] -> {} spectra'.format(subset3.num_spectra()))\n",
    "\n",
    "ok = np.all(spectra.fibermap['TARGETID'][10:15] == subset3.fibermap['TARGETID'])\n",
    "print('TARGETIDs match:', ok)\n",
    "print(subset3.fibermap['FIBER', 'TARGETID'])\n"
   ]
  },
  {
   "cell_type": "markdown",
   "id": "8ce46c2d-ce15-4b3e-a6f9-3fb7ea53ad25",
   "metadata": {},
   "source": [
    "## Stacking spectra\n",
    "\n",
    "Multiple Spectra objects can be re-combined into a single Spectra\n",
    "object using `desispec.spectra.stack(list_of_spectra)`."
   ]
  },
  {
   "cell_type": "code",
   "execution_count": 4,
   "id": "7b39d5b8-4269-456c-bcb5-2aa089ee73be",
   "metadata": {
    "tags": []
   },
   "outputs": [
    {
     "name": "stdout",
     "output_type": "stream",
     "text": [
      "combined_spectra has 18 spectra, generated from subsets with 10, 3, and 5 spectra\n"
     ]
    }
   ],
   "source": [
    "combined_spectra = stack([subset1, subset2, subset3])\n",
    "\n",
    "print('combined_spectra has {} spectra, generated from subsets with {}, {}, and {} spectra'.format(\n",
    "    combined_spectra.num_spectra(), subset1.num_spectra(), subset2.num_spectra(), subset3.num_spectra()))"
   ]
  },
  {
   "cell_type": "markdown",
   "id": "441921b2-6fc4-4d28-a684-dbf50ace62ef",
   "metadata": {
    "tags": []
   },
   "source": [
    "## Exercise\n",
    "\n",
    "Note that index 10 is included in both subset2 (indices 10,30,452) and subset3 (slice 10:15).\n",
    "Check `combined_spectra.fibermap['FIBER', 'TARGETID']` to see if it is duplicated in the\n",
    "stacked spectra or not.\n",
    "If needed, how would you remove duplicates from input subsets prior to stacking?"
   ]
  },
  {
   "cell_type": "markdown",
   "id": "8cb6ea90-c365-41da-9c1a-a328a22cfaa1",
   "metadata": {},
   "source": [
    "## Sorting spectra\n",
    "\n",
    "The same index slice notation can be used to sort Spectra objects."
   ]
  },
  {
   "cell_type": "code",
   "execution_count": 5,
   "id": "9918a2f2-c443-49ef-b47c-048cf8e08d39",
   "metadata": {
    "tags": []
   },
   "outputs": [
    {
     "name": "stdout",
     "output_type": "stream",
     "text": [
      "Original order of the spectra:\n",
      "     TARGETID      FOCALPLANE_RADIUS\n",
      "------------------ -----------------\n",
      "616094145466860255          301.6674\n",
      " 39633393171825713         275.26178\n",
      " 39633399102572725         186.94934\n",
      " 39633390172898751         341.90472\n",
      " 39633396153974983         234.18489\n",
      " 39633399102574156         183.96696\n",
      " 39633390181286972         385.61755\n",
      " 39633396153976678         258.99908\n",
      " 39633404941045627         32.213264\n",
      " 39633393176021808          339.2598\n",
      "\n",
      "Order after sorting by focal plane radius:\n",
      "     TARGETID      FOCALPLANE_RADIUS\n",
      "------------------ -----------------\n",
      " 39633404941045627         32.213264\n",
      " 39633399102574156         183.96696\n",
      " 39633399102572725         186.94934\n",
      " 39633396153974983         234.18489\n",
      " 39633396153976678         258.99908\n",
      " 39633393171825713         275.26178\n",
      "616094145466860255          301.6674\n",
      " 39633393176021808          339.2598\n",
      " 39633390172898751         341.90472\n",
      " 39633390181286972         385.61755\n"
     ]
    }
   ],
   "source": [
    "focalplane_radius = np.sqrt(subset1.fibermap['MEAN_FIBER_X']**2 + subset1.fibermap['MEAN_FIBER_Y']**2)\n",
    "subset1.fibermap['FOCALPLANE_RADIUS'] = focalplane_radius\n",
    "\n",
    "print('Original order of the spectra:')\n",
    "print(subset1.fibermap['TARGETID', 'FOCALPLANE_RADIUS'])\n",
    "\n",
    "sort_indices = np.argsort(focalplane_radius)\n",
    "subset1 = subset1[sort_indices]\n",
    "print('\\nOrder after sorting by focal plane radius:')\n",
    "print(subset1.fibermap['TARGETID', 'FOCALPLANE_RADIUS'])\n"
   ]
  },
  {
   "cell_type": "markdown",
   "id": "12798e06-1d89-4334-a9cc-b05a81e77522",
   "metadata": {},
   "source": [
    "## Writing spectra\n",
    "\n",
    "You can use `desispec.io.write_spectra` to write specta to a separate file\n",
    "for subsequent analysis.  Here we'll write it to a file and then\n",
    "read it back in to confirm we get the same thing."
   ]
  },
  {
   "cell_type": "code",
   "execution_count": 6,
   "id": "bbd88678-8b1a-4659-8d13-1a36a8f91f16",
   "metadata": {
    "tags": []
   },
   "outputs": [
    {
     "name": "stdout",
     "output_type": "stream",
     "text": [
      "INFO:spectra.py:184:write_spectra: iotime 0.080 sec to write desi_spectra_subset.fits at 2023-09-20T16:10:37.204075\n"
     ]
    },
    {
     "data": {
      "text/plain": [
       "'/pscratch/sd/s/sjbailey/desi_spectra_subset.fits'"
      ]
     },
     "execution_count": 6,
     "metadata": {},
     "output_type": "execute_result"
    }
   ],
   "source": [
    "outfile = os.path.expandvars('$SCRATCH/desi_spectra_subset.fits')\n",
    "desispec.io.write_spectra(outfile, combined_spectra)"
   ]
  },
  {
   "cell_type": "code",
   "execution_count": 7,
   "id": "25642926-573b-4451-9105-76bd3d4de171",
   "metadata": {
    "tags": []
   },
   "outputs": [
    {
     "name": "stdout",
     "output_type": "stream",
     "text": [
      "INFO:spectra.py:372:read_spectra: iotime 0.023 sec to read desi_spectra_subset.fits at 2023-09-20T16:10:37.235220\n",
      "TARGETIDs match: True\n",
      "fluxes match: True\n"
     ]
    }
   ],
   "source": [
    "newspec = desispec.io.read_spectra(outfile)\n",
    "ok = np.all(combined_spectra.fibermap['TARGETID'] == newspec.fibermap['TARGETID'])\n",
    "print('TARGETIDs match:', ok)\n",
    "\n",
    "ok = np.all(combined_spectra.flux['b'] == newspec.flux['b'])\n",
    "print('fluxes match:', ok)"
   ]
  },
  {
   "cell_type": "markdown",
   "id": "6988628f-e4f0-449d-839f-cafa3551932c",
   "metadata": {},
   "source": [
    "## Worked example: Bright QSO subset\n",
    "\n",
    "In this worked example, we'll find the 10 brightest z>2 QSOs in the SV1 survey DARK program,\n",
    "read them in from their individual files, coadd them across cameras, and combine them\n",
    "into a single Spectrum object to write to a separate file for further analysis.\n",
    "\n",
    "In this case, we will already know the TARGETIDs that we want from the redshift catalog,\n",
    "so we'll make use of `read_spectra(filename, targetids=...)` to read just the subset of\n",
    "TARGETIDs that we want, instead of having to read the entire file and subselect the\n",
    "spectra post-factor.\n",
    "\n",
    "This section will also show how to associate the redshift catalog subset to the spectra so that\n",
    "it can be written and read back in along with the spectra themselves, instead of having to be\n",
    "tracked separately."
   ]
  },
  {
   "cell_type": "code",
   "execution_count": 8,
   "id": "ddf22021-0a21-4443-89d4-0a954d7a1073",
   "metadata": {
    "tags": []
   },
   "outputs": [],
   "source": [
    "import fitsio\n",
    "from astropy.table import Table\n",
    "from desispec.coaddition import coadd_cameras"
   ]
  },
  {
   "cell_type": "code",
   "execution_count": 9,
   "id": "2e364add-7664-47eb-b085-fe64352d4579",
   "metadata": {
    "tags": []
   },
   "outputs": [],
   "source": [
    "# Read the sv1-dark combined redshift catalog across all tiles\n",
    "os.environ['SPECPROD'] = 'fuji'\n",
    "fujidir = os.path.expandvars('$DESI_ROOT/spectro/redux/fuji')\n",
    "zcatfile = f'{fujidir}/zcatalog/ztile-sv1-dark-cumulative.fits'\n",
    "zcat = fitsio.read(zcatfile, 'ZCATALOG', columns=('TARGETID', 'TILEID', 'LASTNIGHT', 'PETAL_LOC', 'SPECTYPE', 'Z', 'ZWARN', 'FLUX_G'))"
   ]
  },
  {
   "cell_type": "code",
   "execution_count": 10,
   "id": "2c8ceed2-c12e-494f-a679-14b2043e044c",
   "metadata": {
    "tags": []
   },
   "outputs": [],
   "source": [
    "# subselect to confident z>2 QSOs\n",
    "keep = (zcat['SPECTYPE']=='QSO') & (zcat['ZWARN']==0) & (zcat['Z']>2)\n",
    "zcat = zcat[keep]"
   ]
  },
  {
   "cell_type": "code",
   "execution_count": 11,
   "id": "5595373e-f322-47b1-a78d-7e0de3608fb1",
   "metadata": {
    "tags": []
   },
   "outputs": [
    {
     "name": "stdout",
     "output_type": "stream",
     "text": [
      "     TARGETID     LASTNIGHT         Z          ... PETAL_LOC   FLUX_G   TILEID\n",
      "----------------- --------- ------------------ ... --------- ---------- ------\n",
      "39628170290268893  20210404 2.0050244697713833 ...         6  59.962227  80893\n",
      "39633315216492822  20210222  2.259111679446162 ...         4  61.812695  80712\n",
      "39628523018653064  20210406 2.5714594724078568 ...         9    65.7126  80897\n",
      "39627217130493416  20210116  2.544975906861089 ...         1    65.9629  80674\n",
      "39628526546061698  20210109 2.6987046629928293 ...         2   70.07165  80682\n",
      "39628511480121439  20210318 2.0897803029105906 ...         1  73.675964  80698\n",
      "39628438411150843  20210318 2.0771515712878044 ...         7   74.12616  80856\n",
      "39628454605358968  20210221  2.866434757277841 ...         5   88.01636  80708\n",
      "39628210912103893  20210321  2.755069936210957 ...         3 118.559364  80859\n",
      "39632950383345740  20210318 2.5001202098916853 ...         5  129.35292  80698\n"
     ]
    }
   ],
   "source": [
    "# sort by FLUX_G and print the brightest 10\n",
    "ii = np.argsort(zcat['FLUX_G'])\n",
    "bright_qso_zcat = Table(zcat[ii[-10:]])\n",
    "print(bright_qso_zcat)"
   ]
  },
  {
   "cell_type": "code",
   "execution_count": 12,
   "id": "45bb49ba-39e3-4f4b-981f-8edde0a4cafa",
   "metadata": {
    "tags": []
   },
   "outputs": [
    {
     "name": "stdout",
     "output_type": "stream",
     "text": [
      "INFO:spectra.py:372:read_spectra: iotime 0.659 sec to read coadd-1-80674-thru20210116.fits at 2023-09-20T16:10:38.342144\n",
      "INFO:spectra.py:372:read_spectra: iotime 0.884 sec to read coadd-2-80682-thru20210109.fits at 2023-09-20T16:10:39.264098\n",
      "INFO:spectra.py:372:read_spectra: iotime 0.731 sec to read coadd-1-80698-thru20210318.fits at 2023-09-20T16:10:40.012767\n",
      "INFO:spectra.py:372:read_spectra: iotime 0.800 sec to read coadd-5-80698-thru20210318.fits at 2023-09-20T16:10:40.831705\n",
      "INFO:spectra.py:372:read_spectra: iotime 0.907 sec to read coadd-5-80708-thru20210221.fits at 2023-09-20T16:10:41.757240\n",
      "INFO:spectra.py:372:read_spectra: iotime 0.865 sec to read coadd-4-80712-thru20210222.fits at 2023-09-20T16:10:42.640857\n",
      "INFO:spectra.py:372:read_spectra: iotime 0.479 sec to read coadd-7-80856-thru20210318.fits at 2023-09-20T16:10:43.138647\n",
      "INFO:spectra.py:372:read_spectra: iotime 1.036 sec to read coadd-3-80859-thru20210321.fits at 2023-09-20T16:10:44.193095\n",
      "INFO:spectra.py:372:read_spectra: iotime 0.825 sec to read coadd-6-80893-thru20210404.fits at 2023-09-20T16:10:45.035760\n",
      "INFO:spectra.py:372:read_spectra: iotime 0.982 sec to read coadd-9-80897-thru20210406.fits at 2023-09-20T16:10:46.035648\n"
     ]
    }
   ],
   "source": [
    "# Loop over the files that contain these targets and assemble the subsets.\n",
    "# Note the use of read_spectra(filename, targetids=...) to filter while reading,\n",
    "# instead of reading the entire file and filtering afterward.\n",
    "spectra_list = list()\n",
    "for tileid, night, petal in np.unique(bright_qso_zcat['TILEID', 'LASTNIGHT', 'PETAL_LOC']):\n",
    "    coaddfile = desispec.io.findfile('coadd', tile=tileid, night=night, spectrograph=petal,\n",
    "                                     groupname='cumulative')\n",
    "    spectra = desispec.io.read_spectra(coaddfile, targetids=bright_qso_zcat['TARGETID'])\n",
    "    spectra_camcoadd = coadd_cameras(spectra)\n",
    "    spectra_list.append(spectra_camcoadd)"
   ]
  },
  {
   "cell_type": "code",
   "execution_count": 13,
   "id": "61c956b2-bf26-4e78-a7b6-eb4eb730836b",
   "metadata": {
    "tags": []
   },
   "outputs": [],
   "source": [
    "# stack those N>>1 subsets into a single Spectrum object\n",
    "best_spectra = stack(spectra_list)"
   ]
  },
  {
   "cell_type": "code",
   "execution_count": 14,
   "id": "09783490-17a7-4b73-a93c-d72d275988d0",
   "metadata": {
    "tags": []
   },
   "outputs": [],
   "source": [
    "# Sort both the spectra and the zcat by TARGETID so that they\n",
    "# are row-matched, and then attach zcat to spectra so that it\n",
    "# will be included in output file\n",
    "ii = np.argsort(best_spectra.fibermap['TARGETID'])\n",
    "best_spectra = best_spectra[ii]\n",
    "\n",
    "jj = np.argsort(bright_qso_zcat['TARGETID'])\n",
    "bright_qso_zcat = bright_qso_zcat[jj]\n",
    "\n",
    "assert np.all(best_spectra.fibermap['TARGETID'] == bright_qso_zcat['TARGETID'])\n",
    "\n",
    "best_spectra.extra_catalog = bright_qso_zcat"
   ]
  },
  {
   "cell_type": "code",
   "execution_count": 15,
   "id": "6c336711-b440-4046-8369-5aab2af31bc8",
   "metadata": {
    "tags": []
   },
   "outputs": [
    {
     "name": "stdout",
     "output_type": "stream",
     "text": [
      "INFO:spectra.py:184:write_spectra: iotime 0.056 sec to write desi_bright_qso.fits at 2023-09-20T16:10:46.267363\n"
     ]
    },
    {
     "data": {
      "text/plain": [
       "'/pscratch/sd/s/sjbailey/desi_bright_qso.fits'"
      ]
     },
     "execution_count": 15,
     "metadata": {},
     "output_type": "execute_result"
    }
   ],
   "source": [
    "# write output for further analysis\n",
    "outfile = os.path.expandvars('$SCRATCH/desi_bright_qso.fits')\n",
    "desispec.io.write_spectra(outfile, best_spectra)"
   ]
  },
  {
   "cell_type": "markdown",
   "id": "66580eea-43e0-4855-9d1d-708f9f07e6dc",
   "metadata": {},
   "source": [
    "Read it back in.\n",
    "The bright_qso_zcat that we attached to the stacked spectra before\n",
    "writing is now included as `qso.extra_catalog`."
   ]
  },
  {
   "cell_type": "code",
   "execution_count": 16,
   "id": "ff152c1b-c6ba-4094-9092-2c537ba41447",
   "metadata": {
    "tags": []
   },
   "outputs": [
    {
     "name": "stdout",
     "output_type": "stream",
     "text": [
      "INFO:spectra.py:372:read_spectra: iotime 0.021 sec to read desi_bright_qso.fits at 2023-09-20T16:10:46.293740\n",
      "     TARGETID     LASTNIGHT         Z          ... PETAL_LOC   FLUX_G   TILEID\n",
      "----------------- --------- ------------------ ... --------- ---------- ------\n",
      "39627217130493416  20210116  2.544975906861089 ...         1    65.9629  80674\n",
      "39628170290268893  20210404 2.0050244697713833 ...         6  59.962227  80893\n",
      "39628210912103893  20210321  2.755069936210957 ...         3 118.559364  80859\n",
      "39628438411150843  20210318 2.0771515712878044 ...         7   74.12616  80856\n",
      "39628454605358968  20210221  2.866434757277841 ...         5   88.01636  80708\n",
      "39628511480121439  20210318 2.0897803029105906 ...         1  73.675964  80698\n",
      "39628523018653064  20210406 2.5714594724078568 ...         9    65.7126  80897\n",
      "39628526546061698  20210109 2.6987046629928293 ...         2   70.07165  80682\n",
      "39632950383345740  20210318 2.5001202098916853 ...         5  129.35292  80698\n",
      "39633315216492822  20210222  2.259111679446162 ...         4  61.812695  80712\n"
     ]
    }
   ],
   "source": [
    "# confirm that we can read it back in\n",
    "qsos = desispec.io.read_spectra(outfile)\n",
    "print(qsos.extra_catalog)"
   ]
  },
  {
   "cell_type": "code",
   "execution_count": 17,
   "id": "dec47697-0ce4-46af-8bea-4020ff852ea6",
   "metadata": {
    "tags": []
   },
   "outputs": [
    {
     "data": {
      "image/png": "[encoded data removed]",
      "text/plain": [
       "<Figure size 640x480 with 1 Axes>"
      ]
     },
     "metadata": {},
     "output_type": "display_data"
    }
   ],
   "source": [
    "# plot them for fun\n",
    "import matplotlib.pyplot as plt\n",
    "\n",
    "for i in range(qsos.num_spectra()):\n",
    "    z = qsos.extra_catalog['Z'][i]\n",
    "    plt.plot(qsos.wave['brz']/(1+z), qsos.flux['brz'][i], alpha=0.5)\n",
    "\n",
    "plt.xlabel('Restframe wavelength [A]')\n",
    "plt.ylabel('Flux')\n",
    "plt.show()"
   ]
  },
  {
   "cell_type": "markdown",
   "id": "5e4f1026-2c4f-4753-92c9-aa4dfefd68af",
   "metadata": {
    "tags": []
   },
   "source": [
    "## Exercise\n",
    "\n",
    "When reading in the spectra from multiple tiles, the code used\n",
    "```python\n",
    "for tileid, night, petal in np.unique(bright_qso_zcat['TILEID', 'LASTNIGHT', 'PETAL_LOC']):\n",
    "    ...\n",
    "```\n",
    "\n",
    "What was the purpose of `np.unique(...)`?  Did it actually matter in this case?"
   ]
  }
 ],
 "metadata": {
  "kernelspec": {
   "display_name": "DESI main",
   "language": "python",
   "name": "desi-main"
  },
  "language_info": {
   "codemirror_mode": {
    "name": "ipython",
    "version": 3
   },
   "file_extension": ".py",
   "mimetype": "text/x-python",
   "name": "python",
   "nbconvert_exporter": "python",
   "pygments_lexer": "ipython3",
   "version": "3.10.8"
  }
 },
 "nbformat": 4,
 "nbformat_minor": 5
}
