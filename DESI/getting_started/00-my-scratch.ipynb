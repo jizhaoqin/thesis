{
 "cells": [
  {
   "cell_type": "markdown",
   "id": "0bf12802-ef96-4452-8401-28729387a6a5",
   "metadata": {},
   "source": [
    "# From `intro_to_DESI_EDR_files.ipynb`"
   ]
  },
  {
   "cell_type": "code",
   "execution_count": 1,
   "id": "8d73df22-ed6d-4992-b65e-38508e7baa22",
   "metadata": {
    "tags": []
   },
   "outputs": [],
   "source": [
    "# import some helpful python packages \n",
    "import os\n",
    "import numpy as np\n",
    "\n",
    "from astropy.io import fits\n",
    "from astropy.table import Table\n",
    "from astropy.convolution import convolve, Gaussian1DKernel\n",
    "\n",
    "import matplotlib \n",
    "import matplotlib.pyplot as plt\n",
    "\n",
    "plt.style.use('../mpl/desi.mplstyle')"
   ]
  },
  {
   "cell_type": "code",
   "execution_count": 2,
   "id": "0bb55fd8-3e6d-4ded-a595-cbf8c0598775",
   "metadata": {
    "tags": []
   },
   "outputs": [],
   "source": [
    "# import DESI related modules - \n",
    "from desimodel.footprint import radec2pix      # For getting healpix values\n",
    "import desispec.io                             # Input/Output functions related to DESI spectra\n",
    "from desispec import coaddition                # Functions related to coadding the spectra\n",
    "\n",
    "# DESI targeting masks - \n",
    "from desitarget.sv1 import sv1_targetmask    # For SV1\n",
    "from desitarget.sv2 import sv2_targetmask    # For SV2\n",
    "from desitarget.sv3 import sv3_targetmask    # For SV3"
   ]
  },
  {
   "cell_type": "code",
   "execution_count": 3,
   "id": "642c2770-0c94-4fda-984e-913bc7a86e43",
   "metadata": {
    "tags": []
   },
   "outputs": [
    {
     "name": "stdout",
     "output_type": "stream",
     "text": [
      "/global/cfs/cdirs/desi/spectro/redux/iron\n"
     ]
    }
   ],
   "source": [
    "# Release directory path\n",
    "\n",
    "specprod = 'iron'    # Internal name for the EDR\n",
    "specprod_dir = '/global/cfs/cdirs/desi/spectro/redux/' + specprod\n",
    "print(specprod_dir)"
   ]
  },
  {
   "cell_type": "code",
   "execution_count": 4,
   "id": "64dbb7a5-1d92-40f7-aa41-1782c913ca1d",
   "metadata": {
    "tags": []
   },
   "outputs": [
    {
     "data": {
      "text/plain": [
       "['healpix',\n",
       " 'tiles',\n",
       " 'exposures-iron.csv',\n",
       " 'run',\n",
       " 'calibnight',\n",
       " 'exposures',\n",
       " 'tiles-iron.fits',\n",
       " 'processing_tables',\n",
       " 'preproc',\n",
       " 'inventory-iron.txt',\n",
       " 'exposure_tables',\n",
       " 'redux_iron.sha256sum',\n",
       " 'exposures-iron.fits',\n",
       " 'tiles-iron.csv',\n",
       " 'zcatalog']"
      ]
     },
     "execution_count": 4,
     "metadata": {},
     "output_type": "execute_result"
    }
   ],
   "source": [
    "# List everything in this directory\n",
    "os.listdir(specprod_dir)"
   ]
  },
  {
   "cell_type": "code",
   "execution_count": 9,
   "id": "19681af3-1c43-49e4-8e67-4e7dfcade7c4",
   "metadata": {},
   "outputs": [
    {
     "name": "stdout",
     "output_type": "stream",
     "text": [
      "Tiles table columns: ['NIGHT', 'EXPID', 'TILEID', 'TILERA', 'TILEDEC', 'MJD', 'SURVEY', 'PROGRAM', 'FAPRGRM', 'FAFLAVOR', 'EXPTIME', 'EFFTIME_SPEC', 'GOALTIME', 'GOALTYPE', 'MINTFRAC', 'AIRMASS', 'EBV', 'SEEING_ETC', 'EFFTIME_ETC', 'TSNR2_ELG', 'TSNR2_QSO', 'TSNR2_LRG', 'TSNR2_LYA', 'TSNR2_BGS', 'TSNR2_GPBDARK', 'TSNR2_GPBBRIGHT', 'TSNR2_GPBBACKUP', 'LRG_EFFTIME_DARK', 'ELG_EFFTIME_DARK', 'BGS_EFFTIME_BRIGHT', 'LYA_EFFTIME_DARK', 'GPB_EFFTIME_DARK', 'GPB_EFFTIME_BRIGHT', 'GPB_EFFTIME_BACKUP', 'TRANSPARENCY_GFA', 'SEEING_GFA', 'FIBER_FRACFLUX_GFA', 'FIBER_FRACFLUX_ELG_GFA', 'FIBER_FRACFLUX_BGS_GFA', 'FIBERFAC_GFA', 'FIBERFAC_ELG_GFA', 'FIBERFAC_BGS_GFA', 'AIRMASS_GFA', 'SKY_MAG_AB_GFA', 'SKY_MAG_G_SPEC', 'SKY_MAG_R_SPEC', 'SKY_MAG_Z_SPEC', 'EFFTIME_GFA', 'EFFTIME_DARK_GFA', 'EFFTIME_BRIGHT_GFA', 'EFFTIME_BACKUP_GFA']\n"
     ]
    }
   ],
   "source": [
    "exp_table = Table.read(f'{specprod_dir}/exposures-{specprod}.fits', hdu='EXPOSURES')\n",
    "print(f\"Tiles table columns: {exp_table.colnames}\")"
   ]
  },
  {
   "cell_type": "code",
   "execution_count": 10,
   "id": "5664e3d0-056e-4c74-bf4f-3c050bcd8393",
   "metadata": {},
   "outputs": [
    {
     "data": {
      "text/html": [
       "<div><i>Table length=5</i>\n",
       "<table id=\"table140475045868640\" class=\"table-striped table-bordered table-condensed\">\n",
       "<thead><tr><th>NIGHT</th><th>EXPID</th><th>TILEID</th><th>TILERA</th><th>TILEDEC</th><th>MJD</th><th>SURVEY</th><th>PROGRAM</th><th>FAPRGRM</th><th>FAFLAVOR</th><th>EXPTIME</th><th>EFFTIME_SPEC</th><th>GOALTIME</th><th>GOALTYPE</th><th>MINTFRAC</th><th>AIRMASS</th><th>EBV</th><th>SEEING_ETC</th><th>EFFTIME_ETC</th><th>TSNR2_ELG</th><th>TSNR2_QSO</th><th>TSNR2_LRG</th><th>TSNR2_LYA</th><th>TSNR2_BGS</th><th>TSNR2_GPBDARK</th><th>TSNR2_GPBBRIGHT</th><th>TSNR2_GPBBACKUP</th><th>LRG_EFFTIME_DARK</th><th>ELG_EFFTIME_DARK</th><th>BGS_EFFTIME_BRIGHT</th><th>LYA_EFFTIME_DARK</th><th>GPB_EFFTIME_DARK</th><th>GPB_EFFTIME_BRIGHT</th><th>GPB_EFFTIME_BACKUP</th><th>TRANSPARENCY_GFA</th><th>SEEING_GFA</th><th>FIBER_FRACFLUX_GFA</th><th>FIBER_FRACFLUX_ELG_GFA</th><th>FIBER_FRACFLUX_BGS_GFA</th><th>FIBERFAC_GFA</th><th>FIBERFAC_ELG_GFA</th><th>FIBERFAC_BGS_GFA</th><th>AIRMASS_GFA</th><th>SKY_MAG_AB_GFA</th><th>SKY_MAG_G_SPEC</th><th>SKY_MAG_R_SPEC</th><th>SKY_MAG_Z_SPEC</th><th>EFFTIME_GFA</th><th>EFFTIME_DARK_GFA</th><th>EFFTIME_BRIGHT_GFA</th><th>EFFTIME_BACKUP_GFA</th></tr></thead>\n",
       "<thead><tr><th>int32</th><th>int32</th><th>int32</th><th>float64</th><th>float64</th><th>float64</th><th>bytes7</th><th>bytes6</th><th>bytes16</th><th>bytes19</th><th>float64</th><th>float64</th><th>float64</th><th>bytes6</th><th>float64</th><th>float32</th><th>float64</th><th>float64</th><th>float32</th><th>float32</th><th>float32</th><th>float32</th><th>float64</th><th>float32</th><th>float32</th><th>float32</th><th>float32</th><th>float32</th><th>float32</th><th>float32</th><th>float64</th><th>float32</th><th>float32</th><th>float32</th><th>float64</th><th>float64</th><th>float64</th><th>float64</th><th>float64</th><th>float64</th><th>float64</th><th>float64</th><th>float64</th><th>float64</th><th>float64</th><th>float64</th><th>float64</th><th>float64</th><th>float64</th><th>float64</th><th>float64</th></tr></thead>\n",
       "<tr><td>20210529</td><td>90247</td><td>373</td><td>245.832</td><td>43.335</td><td>59364.36430717</td><td>sv3</td><td>bright</td><td>bright</td><td>sv3bright</td><td>1117.044921875</td><td>337.6169128417969</td><td>220.0</td><td>bright</td><td>0.9</td><td>1.068032</td><td>0.009423913434147835</td><td>1.4692250490188599</td><td>223.98949</td><td>44.475147</td><td>8.6310425</td><td>27.963772</td><td>13.32962854905054</td><td>2411.5493</td><td>2913.2263</td><td>571.0539</td><td>3861.4192</td><td>344.7333</td><td>382.4863</td><td>337.6169</td><td>152.48772523755858</td><td>252.18994</td><td>299.93616</td><td>283.0008</td><td>1.033268169456845</td><td>1.5989511114379837</td><td>0.3463963950802347</td><td>0.2711160875582591</td><td>0.13095087611297396</td><td>0.5744627241541538</td><td>0.6178762888349207</td><td>0.6495438397604425</td><td>1.0794371013994377</td><td>20.525505155668775</td><td>20.297341392770107</td><td>20.449208280154785</td><td>19.76493542876646</td><td>302.50769913715436</td><td>253.50730817203686</td><td>302.50769913715436</td><td>273.4625058258671</td></tr>\n",
       "<tr><td>20210529</td><td>90248</td><td>400</td><td>252.442</td><td>34.39</td><td>59364.37940271</td><td>sv3</td><td>bright</td><td>bright</td><td>sv3bright</td><td>939.0352783203125</td><td>324.3939208984375</td><td>220.0</td><td>bright</td><td>0.9</td><td>1.048001</td><td>0.02507576160132885</td><td>1.29488205909729</td><td>223.24913</td><td>42.884575</td><td>8.598594</td><td>26.822409</td><td>13.778553664730861</td><td>2317.0994</td><td>2856.3599</td><td>555.2721</td><td>3844.6543</td><td>330.66275</td><td>368.80737</td><td>324.39392</td><td>157.62331993475487</td><td>247.26717</td><td>291.64703</td><td>281.7721</td><td>1.0140228921898826</td><td>1.457591698451905</td><td>0.40184047540259993</td><td>0.30849427371325466</td><td>0.14702371651459745</td><td>0.6728532105171252</td><td>0.7109799191994934</td><td>0.7364581942095623</td><td>1.0582610372774308</td><td>20.471386857019684</td><td>20.238753596063795</td><td>20.384506599404546</td><td>19.781617847518657</td><td>290.8780128434468</td><td>247.4650862587995</td><td>290.8780128434468</td><td>288.78444084042695</td></tr>\n",
       "<tr><td>20210529</td><td>90249</td><td>427</td><td>269.538</td><td>65.929</td><td>59364.39286466</td><td>sv3</td><td>bright</td><td>bright</td><td>sv3bright</td><td>638.1410522460938</td><td>305.1478576660156</td><td>220.0</td><td>bright</td><td>0.9</td><td>1.210807</td><td>0.03996047377586365</td><td>1.233667016029358</td><td>222.87892</td><td>40.401855</td><td>9.118238</td><td>25.374088</td><td>12.912202950241044</td><td>2179.6274</td><td>2848.7534</td><td>533.6405</td><td>4032.643</td><td>312.80807</td><td>347.45596</td><td>305.14786</td><td>147.71247739144215</td><td>246.60869</td><td>280.28543</td><td>295.54968</td><td>1.0477574055550516</td><td>1.08992566816822</td><td>0.5676842869416672</td><td>0.41038684882798</td><td>0.18894336064826067</td><td>0.9630449341670511</td><td>0.9581835389545319</td><td>0.9601785625345641</td><td>1.213112847568369</td><td>20.346008656681235</td><td>20.16165043687451</td><td>20.307942291873115</td><td>19.595014353283528</td><td>282.96405063110075</td><td>247.82334776412873</td><td>282.96405063110075</td><td>360.81216722111327</td></tr>\n",
       "<tr><td>20210529</td><td>90250</td><td>565</td><td>269.926</td><td>62.441</td><td>59364.40219283</td><td>sv3</td><td>bright</td><td>bright</td><td>sv3bright</td><td>523.5750122070312</td><td>301.34124755859375</td><td>220.0</td><td>bright</td><td>0.9</td><td>1.170556</td><td>0.031614355742931366</td><td>1.1474930047988892</td><td>222.65558</td><td>40.03024</td><td>9.407354</td><td>24.999666</td><td>15.261678844550625</td><td>2152.4375</td><td>2863.223</td><td>528.574</td><td>4095.7031</td><td>308.19223</td><td>344.26007</td><td>301.34125</td><td>174.58991312083205</td><td>247.86128</td><td>277.62433</td><td>300.1713</td><td>1.0429984187389545</td><td>0.9969984126737262</td><td>0.6200876372740602</td><td>0.44224438682694484</td><td>0.20191861148396323</td><td>1.0563439920369584</td><td>1.0352732075685347</td><td>1.0277561394185621</td><td>1.173014299261516</td><td>20.36560251288922</td><td>20.187495833922565</td><td>20.329918150146984</td><td>19.650058927549892</td><td>275.4071756801791</td><td>242.9241353658027</td><td>275.4071756801791</td><td>374.1056713204288</td></tr>\n",
       "<tr><td>20210610</td><td>93262</td><td>521</td><td>212.891</td><td>-0.679</td><td>59376.20555175</td><td>sv3</td><td>dark</td><td>dark</td><td>sv3dark</td><td>1378.7406005859375</td><td>1226.9554443359375</td><td>1200.0</td><td>dark</td><td>0.9</td><td>1.203036</td><td>0.0666235014796257</td><td>1.0793989896774292</td><td>1211.8282</td><td>142.66924</td><td>35.086723</td><td>104.27875</td><td>94.79930891506373</td><td>8636.729</td><td>14916.666</td><td>2550.5806</td><td>14568.372</td><td>1285.5332</td><td>1226.9554</td><td>1209.142</td><td>1084.4811554467772</td><td>1291.2944</td><td>1339.6482</td><td>1067.706</td><td>1.0477155953118782</td><td>1.1643937671224673</td><td>0.5229161006689221</td><td>0.3831374061617432</td><td>0.17778791649211756</td><td>0.9079479628674408</td><td>0.913489169970082</td><td>0.920782544887284</td><td>1.2150209931269338</td><td>21.440992248024607</td><td>22.150373534329454</td><td>21.455090258428452</td><td>19.739430862128977</td><td>1196.2902742514004</td><td>1196.2902742514004</td><td>1109.612455201237</td><td>944.7471739245647</td></tr>\n",
       "</table></div>"
      ],
      "text/plain": [
       "<Table length=5>\n",
       " NIGHT   EXPID TILEID ... EFFTIME_BRIGHT_GFA EFFTIME_BACKUP_GFA\n",
       " int32   int32 int32  ...      float64            float64      \n",
       "-------- ----- ------ ... ------------------ ------------------\n",
       "20210529 90247    373 ... 302.50769913715436  273.4625058258671\n",
       "20210529 90248    400 ...  290.8780128434468 288.78444084042695\n",
       "20210529 90249    427 ... 282.96405063110075 360.81216722111327\n",
       "20210529 90250    565 ...  275.4071756801791  374.1056713204288\n",
       "20210610 93262    521 ...  1109.612455201237  944.7471739245647"
      ]
     },
     "execution_count": 10,
     "metadata": {},
     "output_type": "execute_result"
    }
   ],
   "source": [
    "exp_table[-5:]"
   ]
  },
  {
   "cell_type": "markdown",
   "id": "0b281189-52cb-4f91-aef2-40da865b2850",
   "metadata": {},
   "source": [
    "Let's use this to find the number of exposures in each `SURVEY` and each `PROGRAM`."
   ]
  },
  {
   "cell_type": "code",
   "execution_count": 11,
   "id": "b030b0d1-c42b-4f3c-a6e5-d51ceac18d51",
   "metadata": {
    "tags": []
   },
   "outputs": [
    {
     "name": "stdout",
     "output_type": "stream",
     "text": [
      "cmx: Nexps=4\n",
      "sv1: Nexps=1673\n",
      "sv2: Nexps=72\n",
      "sv3: Nexps=710\n"
     ]
    }
   ],
   "source": [
    "for survey in ['cmx', 'sv1', 'sv2', 'sv3']:\n",
    "    print(f'{survey}: Nexps={np.sum(exp_table[\"SURVEY\"]==survey)}')"
   ]
  },
  {
   "cell_type": "code",
   "execution_count": 12,
   "id": "481fd35b-2882-445c-9edd-a9aa9334b55f",
   "metadata": {
    "tags": []
   },
   "outputs": [
    {
     "name": "stdout",
     "output_type": "stream",
     "text": [
      "bright: Nexps=897\n",
      "dark: Nexps=1194\n"
     ]
    }
   ],
   "source": [
    "for program in ['bright', 'dark']:\n",
    "    print(f'{program}: Nexps={np.sum(exp_table[\"PROGRAM\"]==program)}')"
   ]
  },
  {
   "cell_type": "markdown",
   "id": "1ae1343d-8e8f-47e7-b3d9-72de31e5df97",
   "metadata": {
    "tags": []
   },
   "source": [
    "## Redshift Catalogs\n",
    "\n",
    "The redshift catalogs that are in the `zcatalog/` directory are divided into `zpix` and `ztile` files. The `zpix` files have the format: `zpix-{survey}-{program}.fits`, while the `ztile` have the format: `ztile-{survey}-{program}-{group}.fits`. The datamodel for the different files within this folder can be found [here](https://desidatamodel.readthedocs.io/en/latest/DESI_SPECTRO_REDUX/SPECPROD/zcatalog/index.html). Each of these files contain redshift and targeting information of the sources based on how their spectra are coadded. \n",
    "\n",
    "* **survey**: SURVEY that the target was observed in. This can be sv1, sv2, or main.\n",
    "* **program**: FIBER ASSIGNMENT PROGRAM. This is the planned observing conditions for the target. It can be dark or bright or backup. In case of cmx and sv1, there is 'other' as well.\n",
    "* **group**: This denotes what type of coadd. It can be perexp, pernight, or cumulative.\n",
    "\n",
    "For example, `zpix-sv1-dark.fits` contains information about the targets that were observed in SV1 for the _dark_ program. Since it is healpix based, the resulting spectra for a particular target is the coadded spectra across all tiles that were observed within the given `SURVEY` and `PROGRAM`. This will provide the highest S/N version of each target.\n",
    "\n",
    "Note that some of the targets were observed in multiple surveys and/or programs. In such cases, one may want to select the _PRIMARY_ spectrum of a given object. This information is available in the redshift summary catalogs, which will be explained in detail below."
   ]
  },
  {
   "cell_type": "code",
   "execution_count": 5,
   "id": "7acc83be-710e-455d-8225-87c2047c9146",
   "metadata": {
    "collapsed": true,
    "jupyter": {
     "outputs_hidden": true
    },
    "tags": []
   },
   "outputs": [
    {
     "data": {
      "text/plain": [
       "['ztile-special-dark-cumulative.fits',\n",
       " 'zpix-main-dark.fits',\n",
       " 'zpix-sv2-backup.fits',\n",
       " 'zpix-sv3-bright.fits',\n",
       " 'ztile-special-dark-pernight.fits',\n",
       " 'zpix-special-backup.fits',\n",
       " 'ztile-sv3-bright-pernight.fits',\n",
       " 'ztile-sv1-bright-pernight.fits',\n",
       " 'ztile-sv2-bright-pernight.fits',\n",
       " 'zpix-sv3-dark.fits',\n",
       " 'zpix-sv3-backup.fits',\n",
       " 'ztile-main-dark-cumulative.fits',\n",
       " 'ztile-sv1-dark-cumulative.fits',\n",
       " 'v1',\n",
       " 'zpix-sv1-bright.fits',\n",
       " 'ztile-cmx-other-cumulative.fits',\n",
       " 'zpix-cmx-other.fits',\n",
       " 'ztile-special-backup-cumulative.fits',\n",
       " 'zpix-sv2-dark.fits',\n",
       " 'zpix-sv1-dark.fits',\n",
       " 'ztile-sv3-backup-cumulative.fits',\n",
       " 'ztile-special-bright-cumulative.fits',\n",
       " 'ztile-sv1-other-cumulative.fits',\n",
       " 'ztile-cmx-other-pernight.fits',\n",
       " 'ztile-sv2-dark-cumulative.fits',\n",
       " 'ztile-sv3-bright-cumulative.fits',\n",
       " 'zpix-main-backup.fits',\n",
       " 'ztile-sv2-dark-pernight.fits',\n",
       " 'zall-pix-iron.fits',\n",
       " 'ztile-special-other-cumulative.fits',\n",
       " 'ztile-sv3-backup-pernight.fits',\n",
       " 'ztile-sv1-dark-pernight.fits',\n",
       " 'v0',\n",
       " 'zpix-special-bright.fits',\n",
       " 'ztile-main-bright-cumulative.fits',\n",
       " 'zpix-sv1-other.fits',\n",
       " 'ztile-sv2-backup-pernight.fits',\n",
       " 'ztile-sv2-bright-cumulative.fits',\n",
       " 'ztile-sv1-other-pernight.fits',\n",
       " 'zpix-special-dark.fits',\n",
       " 'ztile-sv1-backup-pernight.fits',\n",
       " 'ztile-sv2-backup-cumulative.fits',\n",
       " 'zall-tilecumulative-iron.fits',\n",
       " 'zpix-main-bright.fits',\n",
       " 'ztile-sv1-backup-cumulative.fits',\n",
       " 'zpix-sv1-backup.fits',\n",
       " 'ztile-special-other-pernight.fits',\n",
       " 'ztile-sv3-dark-cumulative.fits',\n",
       " 'zpix-sv2-bright.fits',\n",
       " 'ztile-sv1-bright-cumulative.fits',\n",
       " 'ztile-main-backup-cumulative.fits',\n",
       " 'zpix-special-other.fits',\n",
       " 'ztile-sv3-dark-pernight.fits']"
      ]
     },
     "execution_count": 5,
     "metadata": {},
     "output_type": "execute_result"
    }
   ],
   "source": [
    "# Listing all the available redshift catalogs\n",
    "\n",
    "os.listdir(f'{specprod_dir}/zcatalog')"
   ]
  },
  {
   "cell_type": "markdown",
   "id": "3b8315af-3422-4728-9fb3-6468db5073c7",
   "metadata": {},
   "source": [
    "Now, we will look at the summary redshift catalogs that contain the `PRIMARY` spectra information\n",
    "\n",
    "<a class=\"anchor\" id=\"summary_zcatalog\"></a>\n",
    "## Summary Redshift Catalogs\n",
    "\n",
    "There are two summary redshift catalogs: <br/>\n",
    "**zall-pix-fuji.fits** <br/> \n",
    "This is a stack of all the healpix-based redshift catalogs, including all surveys and programs. The datamodel is [here](https://desidatamodel.readthedocs.io/en/latest/DESI_SPECTRO_REDUX/SPECPROD/zcatalog/zall-pix-SPECPROD.html). <br/>\n",
    "**zall-tilecumulative-fuji.fits** <br/>\n",
    "This is a stack of all the tile-based cumulative redshift catalogs, including all surveys and programs. The datamodel is [here](https://desidatamodel.readthedocs.io/en/latest/DESI_SPECTRO_REDUX/SPECPROD/zcatalog/zall-tilecumulative-SPECPROD.html).\n",
    "\n",
    "For both these summary catalogs, all the columns in the original catalogs ([zpix-SURVEY-PROGRAM.fits](https://desidatamodel.readthedocs.io/en/latest/DESI_SPECTRO_REDUX/SPECPROD/zcatalog/zpix-SURVEY-PROGRAM.html) and [ztile-SURVEY-PROGRAM-GROUPTYPE.fits](https://desidatamodel.readthedocs.io/en/latest/DESI_SPECTRO_REDUX/SPECPROD/zcatalog/zpix-SURVEY-PROGRAM.html)) are included. <br/>\n",
    "Four new columns are added:\n",
    "\n",
    "1. SV_NSPEC - Number of SV spectra available of each target.\n",
    "2. SV_PRIMARY - PRIMARY flag for the sources with SV spectra.\n",
    "3. ZCAT_NSPEC - Number of spectra available in the entire catalog of each target.\n",
    "4. ZCAT_PRIMARY - PRIMARY flag for the sources in the entire catalog."
   ]
  },
  {
   "cell_type": "markdown",
   "id": "5881fa0a-8e9e-446a-966f-659ecf94fad1",
   "metadata": {},
   "source": [
    "### Tile-based vs healpix-based\n",
    "The choice of which you use will depend on your specific science case. If you want the hightest S/N spectra then you'll likely want to use healpix based redshifts. If you want a more consistant observing depth among the redshfits in your sample, or you need objects that fit on a single pointing, then tile redshifts may be of more \n",
    "interest.\n",
    "\n",
    "We will focus here on the healpix based redshifts."
   ]
  },
  {
   "cell_type": "markdown",
   "id": "c3fa1ee3-9d62-4957-acef-286154611e46",
   "metadata": {},
   "source": [
    "### Working with the zall-pix file"
   ]
  },
  {
   "cell_type": "code",
   "execution_count": 6,
   "id": "9ea0f465-9554-4df2-9819-689ece835a19",
   "metadata": {
    "tags": []
   },
   "outputs": [],
   "source": [
    "zpix_cat = Table.read(f'{specprod_dir}/zcatalog/zall-pix-{specprod}.fits', hdu=\"ZCATALOG\")"
   ]
  },
  {
   "cell_type": "code",
   "execution_count": 7,
   "id": "3c4e46dd-2a33-4dc0-b75e-fb461436e25c",
   "metadata": {
    "tags": []
   },
   "outputs": [
    {
     "name": "stdout",
     "output_type": "stream",
     "text": [
      "<TableColumns names=('TARGETID','SURVEY','PROGRAM','HEALPIX','SPGRPVAL','Z','ZERR','ZWARN','CHI2','COEFF','NPIXELS','SPECTYPE','SUBTYPE','NCOEFF','DELTACHI2','COADD_FIBERSTATUS','TARGET_RA','TARGET_DEC','PMRA','PMDEC','REF_EPOCH','FA_TARGET','FA_TYPE','OBJTYPE','SUBPRIORITY','OBSCONDITIONS','RELEASE','BRICKNAME','BRICKID','BRICK_OBJID','MORPHTYPE','EBV','FLUX_G','FLUX_R','FLUX_Z','FLUX_W1','FLUX_W2','FLUX_IVAR_G','FLUX_IVAR_R','FLUX_IVAR_Z','FLUX_IVAR_W1','FLUX_IVAR_W2','FIBERFLUX_G','FIBERFLUX_R','FIBERFLUX_Z','FIBERTOTFLUX_G','FIBERTOTFLUX_R','FIBERTOTFLUX_Z','MASKBITS','SERSIC','SHAPE_R','SHAPE_E1','SHAPE_E2','REF_ID','REF_CAT','GAIA_PHOT_G_MEAN_MAG','GAIA_PHOT_BP_MEAN_MAG','GAIA_PHOT_RP_MEAN_MAG','PARALLAX','PHOTSYS','PRIORITY_INIT','NUMOBS_INIT','CMX_TARGET','DESI_TARGET','BGS_TARGET','MWS_TARGET','SCND_TARGET','SV1_DESI_TARGET','SV1_BGS_TARGET','SV1_MWS_TARGET','SV1_SCND_TARGET','SV2_DESI_TARGET','SV2_BGS_TARGET','SV2_MWS_TARGET','SV2_SCND_TARGET','SV3_DESI_TARGET','SV3_BGS_TARGET','SV3_MWS_TARGET','SV3_SCND_TARGET','PLATE_RA','PLATE_DEC','COADD_NUMEXP','COADD_EXPTIME','COADD_NUMNIGHT','COADD_NUMTILE','MEAN_DELTA_X','RMS_DELTA_X','MEAN_DELTA_Y','RMS_DELTA_Y','MEAN_FIBER_RA','STD_FIBER_RA','MEAN_FIBER_DEC','STD_FIBER_DEC','MEAN_PSF_TO_FIBER_SPECFLUX','TSNR2_GPBDARK_B','TSNR2_ELG_B','TSNR2_GPBBRIGHT_B','TSNR2_LYA_B','TSNR2_BGS_B','TSNR2_GPBBACKUP_B','TSNR2_QSO_B','TSNR2_LRG_B','TSNR2_GPBDARK_R','TSNR2_ELG_R','TSNR2_GPBBRIGHT_R','TSNR2_LYA_R','TSNR2_BGS_R','TSNR2_GPBBACKUP_R','TSNR2_QSO_R','TSNR2_LRG_R','TSNR2_GPBDARK_Z','TSNR2_ELG_Z','TSNR2_GPBBRIGHT_Z','TSNR2_LYA_Z','TSNR2_BGS_Z','TSNR2_GPBBACKUP_Z','TSNR2_QSO_Z','TSNR2_LRG_Z','TSNR2_GPBDARK','TSNR2_ELG','TSNR2_GPBBRIGHT','TSNR2_LYA','TSNR2_BGS','TSNR2_GPBBACKUP','TSNR2_QSO','TSNR2_LRG','MAIN_NSPEC','MAIN_PRIMARY','SV_NSPEC','SV_PRIMARY','ZCAT_NSPEC','ZCAT_PRIMARY')>\n"
     ]
    }
   ],
   "source": [
    "print(zpix_cat.columns)"
   ]
  },
  {
   "cell_type": "code",
   "execution_count": 17,
   "id": "5a3f16f2-2d17-489d-8254-0a9db51b8610",
   "metadata": {
    "collapsed": true,
    "jupyter": {
     "outputs_hidden": true
    },
    "tags": []
   },
   "outputs": [
    {
     "data": {
      "text/plain": [
       "sv1_desi_mask:\n",
       "  - [LRG,              0, \"LRG\", {'obsconditions': 'DARK', 'priorities': {'UNOBS': 3200, 'DONE': 2, 'OBS': 1, 'DONOTOBSERVE': 0, 'MORE_ZWARN': 3200, 'MORE_ZGOOD': 3200}, 'numobs': 2}]\n",
       "  - [ELG,              1, \"ELG\", {'obsconditions': 'DARK|GRAY', 'priorities': {'UNOBS': 3000, 'DONE': 2, 'OBS': 1, 'DONOTOBSERVE': 0, 'MORE_ZWARN': 3000, 'MORE_ZGOOD': 3000}, 'numobs': 1}]\n",
       "  - [QSO,              2, \"QSO\", {'obsconditions': 'DARK', 'priorities': {'UNOBS': 3400, 'MORE_ZGOOD': 3350, 'MORE_ZWARN': 3300, 'MORE_MIDZQSO': 100, 'DONE': 2, 'OBS': 1, 'DONOTOBSERVE': 0}, 'numobs': 4}]\n",
       "  - [LRG_OPT,          3, \"LRG from baseline version of optical cuts\", {'obsconditions': 'DARK', 'priorities': {'UNOBS': 3200, 'DONE': 2, 'OBS': 1, 'DONOTOBSERVE': 0, 'MORE_ZWARN': 3200, 'MORE_ZGOOD': 3200}, 'numobs': 4}]\n",
       "  - [LRG_IR,           4, \"LRG from baseline version of IR cuts\", {'obsconditions': 'DARK', 'priorities': {'UNOBS': 3200, 'DONE': 2, 'OBS': 1, 'DONOTOBSERVE': 0, 'MORE_ZWARN': 3200, 'MORE_ZGOOD': 3200}, 'numobs': 4}]\n",
       "  - [LRG_SV_OPT,       5, \"LRG from relaxed version of optical cuts\", {'obsconditions': 'DARK', 'priorities': {'UNOBS': 3200, 'DONE': 2, 'OBS': 1, 'DONOTOBSERVE': 0, 'MORE_ZWARN': 3200, 'MORE_ZGOOD': 3200}, 'numobs': 4}]\n",
       "  - [LRG_SV_IR,        6, \"LRG from relaxed version of IR cuts\", {'obsconditions': 'DARK', 'priorities': {'UNOBS': 3200, 'DONE': 2, 'OBS': 1, 'DONOTOBSERVE': 0, 'MORE_ZWARN': 3200, 'MORE_ZGOOD': 3200}, 'numobs': 4}]\n",
       "  - [LOWZ_FILLER,      7, \"LRG-like low-z filler sample (NOT used for SV1)\", {'obsconditions': 'DARK', 'priorities': {'UNOBS': 10, 'DONE': 2, 'OBS': 1, 'DONOTOBSERVE': 0, 'MORE_ZWARN': 10, 'MORE_ZGOOD': 10}, 'numobs': 1}]\n",
       "  - [ELG_SV_GTOT,      8, \"ELG from relaxed version of FDR cuts and g-limit\", {'obsconditions': 'DARK|GRAY', 'priorities': {'UNOBS': 3000, 'DONE': 2, 'OBS': 1, 'DONOTOBSERVE': 0, 'MORE_ZWARN': 3000, 'MORE_ZGOOD': 3000}, 'numobs': 1}]\n",
       "  - [ELG_SV_GFIB,      9, \"ELG from relaxed version of FDR cuts and g-fiber-limit\", {'obsconditions': 'DARK|GRAY', 'priorities': {'UNOBS': 3000, 'DONE': 2, 'OBS': 1, 'DONOTOBSERVE': 0, 'MORE_ZWARN': 3000, 'MORE_ZGOOD': 3000}, 'numobs': 1}]\n",
       "  - [ELG_FDR_GTOT,    10, \"ELG from FDR cuts with g-mag-limit\", {'obsconditions': 'DARK|GRAY', 'priorities': {'UNOBS': 3000, 'DONE': 2, 'OBS': 1, 'DONOTOBSERVE': 0, 'MORE_ZWARN': 3000, 'MORE_ZGOOD': 3000}, 'numobs': 1}]\n",
       "  - [ELG_FDR_GFIB,    11, \"ELG from FDR cuts with g-fiber-mag-limit\", {'obsconditions': 'DARK|GRAY', 'priorities': {'UNOBS': 3000, 'DONE': 2, 'OBS': 1, 'DONOTOBSERVE': 0, 'MORE_ZWARN': 3000, 'MORE_ZGOOD': 3000}, 'numobs': 1}]\n",
       "  - [QSO_COLOR_4PASS, 12, \"Low-z (tracer) QSO using color cuts\", {'obsconditions': 'DARK', 'priorities': {'UNOBS': 3400, 'MORE_ZGOOD': 3350, 'MORE_ZWARN': 3300, 'MORE_MIDZQSO': 100, 'DONE': 2, 'OBS': 1, 'DONOTOBSERVE': 0}, 'numobs': 4}]\n",
       "  - [QSO_RF_4PASS,    13, \"Low-z (tracer) QSO using random forest\", {'obsconditions': 'DARK', 'priorities': {'UNOBS': 3400, 'MORE_ZGOOD': 3350, 'MORE_ZWARN': 3300, 'MORE_MIDZQSO': 100, 'DONE': 2, 'OBS': 1, 'DONOTOBSERVE': 0}, 'numobs': 4}]\n",
       "  - [QSO_COLOR_8PASS, 14, \"High-z (Lyman-Alpha) QSO using color cuts\", {'obsconditions': 'DARK', 'priorities': {'UNOBS': 3400, 'MORE_ZGOOD': 3350, 'MORE_ZWARN': 3300, 'MORE_MIDZQSO': 100, 'DONE': 2, 'OBS': 1, 'DONOTOBSERVE': 0}, 'numobs': 8}]\n",
       "  - [QSO_RF_8PASS,    15, \"High-z (Lyman-Alpha) QSO using random forest\", {'obsconditions': 'DARK', 'priorities': {'UNOBS': 3400, 'MORE_ZGOOD': 3350, 'MORE_ZWARN': 3300, 'MORE_MIDZQSO': 100, 'DONE': 2, 'OBS': 1, 'DONOTOBSERVE': 0}, 'numobs': 8}]\n",
       "  - [QSO_HZ_F,        16, \"QSO at high-redshift and faint\", {'obsconditions': 'DARK', 'priorities': {'UNOBS': 3400, 'MORE_ZGOOD': 3350, 'MORE_ZWARN': 3300, 'MORE_MIDZQSO': 100, 'DONE': 2, 'OBS': 1, 'DONOTOBSERVE': 0}, 'numobs': 4}]\n",
       "  - [QSO_Z5,          17, \"z~5 QSO\", {'obsconditions': 'DARK', 'priorities': {'UNOBS': 3400, 'MORE_ZGOOD': 3350, 'MORE_ZWARN': 3300, 'MORE_MIDZQSO': 100, 'DONE': 2, 'OBS': 1, 'DONOTOBSERVE': 0}, 'numobs': 4}]\n",
       "  - [LRG_OPT_NORTH,   18, \"LRG from baseline version of optical cuts tuned for Bok/Mosaic\", {'obsconditions': 'DARK', 'priorities': {'UNOBS': 0, 'DONE': 0, 'OBS': 0, 'DONOTOBSERVE': 0, 'MORE_ZWARN': 0, 'MORE_ZGOOD': 0}, 'numobs': 0}]\n",
       "  - [LRG_IR_NORTH,    19, \"LRG from baseline version of IR cuts tuned for Bok/Mosaic\", {'obsconditions': 'DARK', 'priorities': {'UNOBS': 0, 'DONE': 0, 'OBS': 0, 'DONOTOBSERVE': 0, 'MORE_ZWARN': 0, 'MORE_ZGOOD': 0}, 'numobs': 0}]\n",
       "  - [LRG_SV_OPT_NORTH, 20, \"LRG from relaxed version of optical cuts tuned for Bok/Mosaic\", {'obsconditions': 'DARK', 'priorities': {'UNOBS': 0, 'DONE': 0, 'OBS': 0, 'DONOTOBSERVE': 0, 'MORE_ZWARN': 0, 'MORE_ZGOOD': 0}, 'numobs': 0}]\n",
       "  - [LRG_SV_IR_NORTH, 21, \"LRG from relaxed version of IR cuts tuned for Bok/Mosaic\", {'obsconditions': 'DARK', 'priorities': {'UNOBS': 0, 'DONE': 0, 'OBS': 0, 'DONOTOBSERVE': 0, 'MORE_ZWARN': 0, 'MORE_ZGOOD': 0}, 'numobs': 0}]\n",
       "  - [LOWZ_FILLER_NORTH, 22, \"LRG-like low-z filler sample tuned for Bok/Mosaic (NOT used for SV1)\", {'obsconditions': 'DARK', 'priorities': {'UNOBS': 0, 'DONE': 0, 'OBS': 0, 'DONOTOBSERVE': 0, 'MORE_ZWARN': 0, 'MORE_ZGOOD': 0}, 'numobs': 0}]\n",
       "  - [LRG_OPT_SOUTH,   23, \"LRG from baseline version of optical cuts tuned for DECam\", {'obsconditions': 'DARK', 'priorities': {'UNOBS': 0, 'DONE': 0, 'OBS': 0, 'DONOTOBSERVE': 0, 'MORE_ZWARN': 0, 'MORE_ZGOOD': 0}, 'numobs': 0}]\n",
       "  - [LRG_IR_SOUTH,    24, \"LRG from baseline version of IR cuts tuned for DECam\", {'obsconditions': 'DARK', 'priorities': {'UNOBS': 0, 'DONE': 0, 'OBS': 0, 'DONOTOBSERVE': 0, 'MORE_ZWARN': 0, 'MORE_ZGOOD': 0}, 'numobs': 0}]\n",
       "  - [LRG_SV_OPT_SOUTH, 25, \"LRG from relaxed version of optical cuts tuned for DECam\", {'obsconditions': 'DARK', 'priorities': {'UNOBS': 0, 'DONE': 0, 'OBS': 0, 'DONOTOBSERVE': 0, 'MORE_ZWARN': 0, 'MORE_ZGOOD': 0}, 'numobs': 0}]\n",
       "  - [LRG_SV_IR_SOUTH, 26, \"LRG from relaxed version of IR cuts tuned for DECam\", {'obsconditions': 'DARK', 'priorities': {'UNOBS': 0, 'DONE': 0, 'OBS': 0, 'DONOTOBSERVE': 0, 'MORE_ZWARN': 0, 'MORE_ZGOOD': 0}, 'numobs': 0}]\n",
       "  - [LOWZ_FILLER_SOUTH, 27, \"LRG-like low-z filler sample tuned for DECam (NOT used for SV1)\", {'obsconditions': 'DARK', 'priorities': {'UNOBS': 0, 'DONE': 0, 'OBS': 0, 'DONOTOBSERVE': 0, 'MORE_ZWARN': 0, 'MORE_ZGOOD': 0}, 'numobs': 0}]\n",
       "  - [ELG_SV_GTOT_NORTH, 28, \"ELG from relaxed version of FDR cuts and g-limit for Bok/Mosaic\", {'obsconditions': 'DARK|GRAY', 'priorities': {'UNOBS': 0, 'DONE': 0, 'OBS': 0, 'DONOTOBSERVE': 0, 'MORE_ZWARN': 0, 'MORE_ZGOOD': 0}, 'numobs': 0}]\n",
       "  - [ELG_SV_GFIB_NORTH, 29, \"ELG from relaxed version of FDR cuts and g-fiber-limit for Bok/Mosaic\", {'obsconditions': 'DARK|GRAY', 'priorities': {'UNOBS': 0, 'DONE': 0, 'OBS': 0, 'DONOTOBSERVE': 0, 'MORE_ZWARN': 0, 'MORE_ZGOOD': 0}, 'numobs': 0}]\n",
       "  - [ELG_FDR_GTOT_NORTH, 30, \"ELG from FDR cuts with g-mag-limit for Bok/Mosaic\", {'obsconditions': 'DARK|GRAY', 'priorities': {'UNOBS': 0, 'DONE': 0, 'OBS': 0, 'DONOTOBSERVE': 0, 'MORE_ZWARN': 0, 'MORE_ZGOOD': 0}, 'numobs': 0}]\n",
       "  - [ELG_FDR_GFIB_NORTH, 31, \"ELG from FDR cuts with g-fiber-mag-limit for Bok/Mosaic\", {'obsconditions': 'DARK|GRAY', 'priorities': {'UNOBS': 0, 'DONE': 0, 'OBS': 0, 'DONOTOBSERVE': 0, 'MORE_ZWARN': 0, 'MORE_ZGOOD': 0}, 'numobs': 0}]\n",
       "  - [SKY,             32, \"Blank sky locations\", {'obsconditions': 'DARK|GRAY|BRIGHT|BACKUP|TWILIGHT12|TWILIGHT18', 'priorities': {}, 'numobs': -1}]\n",
       "  - [STD_FAINT,       33, \"Standard stars for dark/gray conditions\", {'obsconditions': 'DARK|GRAY', 'priorities': {}, 'numobs': -1}]\n",
       "  - [STD_WD,          34, \"White Dwarf stars\", {'obsconditions': 'DARK|GRAY|BRIGHT', 'priorities': {}, 'numobs': -1}]\n",
       "  - [STD_BRIGHT,      35, \"Standard stars for BRIGHT conditions\", {'obsconditions': 'BRIGHT', 'priorities': {}, 'numobs': -1}]\n",
       "  - [BAD_SKY,         36, \"Blank sky locations that are imperfect but still useable\", {'obsconditions': 'DARK|GRAY|BRIGHT|BACKUP|TWILIGHT12|TWILIGHT18', 'priorities': {'UNOBS': 0, 'OBS': 0, 'DONE': 0, 'MORE_ZWARN': 0, 'MORE_ZGOOD': 0, 'DONOTOBSERVE': 1}, 'numobs': 0}]\n",
       "  - [SUPP_SKY,        37, \"SKY is based on Gaia-avoidance (SKY will be set, too)\", {'obsconditions': 'DARK|GRAY|BRIGHT|BACKUP|TWILIGHT12|TWILIGHT18', 'priorities': {}, 'numobs': -1}]\n",
       "  - [ELG_SV_GTOT_SOUTH, 38, \"ELG from relaxed version of FDR cuts and g-limit for DECam\", {'obsconditions': 'DARK|GRAY', 'priorities': {'UNOBS': 0, 'DONE': 0, 'OBS': 0, 'DONOTOBSERVE': 0, 'MORE_ZWARN': 0, 'MORE_ZGOOD': 0}, 'numobs': 0}]\n",
       "  - [ELG_SV_GFIB_SOUTH, 39, \"ELG from relaxed version of FDR cuts and g-fiber-limit for DECam\", {'obsconditions': 'DARK|GRAY', 'priorities': {'UNOBS': 0, 'DONE': 0, 'OBS': 0, 'DONOTOBSERVE': 0, 'MORE_ZWARN': 0, 'MORE_ZGOOD': 0}, 'numobs': 0}]\n",
       "  - [ELG_FDR_GTOT_SOUTH, 40, \"ELG from FDR cuts with g-mag-limit for DECam\", {'obsconditions': 'DARK|GRAY', 'priorities': {'UNOBS': 0, 'DONE': 0, 'OBS': 0, 'DONOTOBSERVE': 0, 'MORE_ZWARN': 0, 'MORE_ZGOOD': 0}, 'numobs': 0}]\n",
       "  - [ELG_FDR_GFIB_SOUTH, 41, \"ELG from FDR cuts with g-fiber-mag-limit for DECam\", {'obsconditions': 'DARK|GRAY', 'priorities': {'UNOBS': 0, 'DONE': 0, 'OBS': 0, 'DONOTOBSERVE': 0, 'MORE_ZWARN': 0, 'MORE_ZGOOD': 0}, 'numobs': 0}]\n",
       "  - [QSO_COLOR_4PASS_NORTH, 42, \"Low-z (tracer) QSO using color cuts tuned for Bok/Mosaic\", {'obsconditions': 'DARK', 'priorities': {'UNOBS': 0, 'DONE': 0, 'OBS': 0, 'DONOTOBSERVE': 0, 'MORE_ZWARN': 0, 'MORE_ZGOOD': 0}, 'numobs': 0}]\n",
       "  - [QSO_RF_4PASS_NORTH, 43, \"Low-z (tracer) QSO using random forest tuned for Bok/Mosaic\", {'obsconditions': 'DARK', 'priorities': {'UNOBS': 0, 'DONE': 0, 'OBS': 0, 'DONOTOBSERVE': 0, 'MORE_ZWARN': 0, 'MORE_ZGOOD': 0}, 'numobs': 0}]\n",
       "  - [QSO_COLOR_8PASS_NORTH, 44, \"High-z (Lyman-Alpha) QSO using color cuts tuned for Bok/Mosaic\", {'obsconditions': 'DARK', 'priorities': {'UNOBS': 0, 'DONE': 0, 'OBS': 0, 'DONOTOBSERVE': 0, 'MORE_ZWARN': 0, 'MORE_ZGOOD': 0}, 'numobs': 0}]\n",
       "  - [QSO_RF_8PASS_NORTH, 45, \"High-z (Lyman-Alpha) QSO using random forest tuned for Bok/Mosaic\", {'obsconditions': 'DARK', 'priorities': {'UNOBS': 0, 'DONE': 0, 'OBS': 0, 'DONOTOBSERVE': 0, 'MORE_ZWARN': 0, 'MORE_ZGOOD': 0}, 'numobs': 0}]\n",
       "  - [QSO_HZ_F_NORTH,  46, \"QSO at high-redshift and faint tuned for Bok/Mosaic\", {'obsconditions': 'DARK', 'priorities': {'UNOBS': 0, 'DONE': 0, 'OBS': 0, 'DONOTOBSERVE': 0, 'MORE_ZWARN': 0, 'MORE_ZGOOD': 0}, 'numobs': 0}]\n",
       "  - [QSO_Z5_NORTH,    47, \"z~5 QSO tuned for Bok/Mosaic\", {'obsconditions': 'DARK', 'priorities': {'UNOBS': 0, 'DONE': 0, 'OBS': 0, 'DONOTOBSERVE': 0, 'MORE_ZWARN': 0, 'MORE_ZGOOD': 0}, 'numobs': 0}]\n",
       "  - [QSO_COLOR_4PASS_SOUTH, 48, \"Low-z (tracer) QSO using color cuts tuned for DECam\", {'obsconditions': 'DARK', 'priorities': {'UNOBS': 0, 'DONE': 0, 'OBS': 0, 'DONOTOBSERVE': 0, 'MORE_ZWARN': 0, 'MORE_ZGOOD': 0}, 'numobs': 0}]\n",
       "  - [NO_TARGET,       49, \"No known target at this location\", {'obsconditions': 'DARK|GRAY|BRIGHT|BACKUP|TWILIGHT12|TWILIGHT18', 'priorities': {}, 'numobs': -1}]\n",
       "  - [BRIGHT_OBJECT,   50, \"Known bright object to avoid\", {'obsconditions': 'APOCALYPSE', 'priorities': {}, 'numobs': -1}]\n",
       "  - [IN_BRIGHT_OBJECT, 51, \"Too near a bright object; DO NOT OBSERVE\", {'obsconditions': 'APOCALYPSE', 'priorities': {}, 'numobs': -1}]\n",
       "  - [NEAR_BRIGHT_OBJECT, 52, \"Near a bright object but ok to observe\", {'obsconditions': 'DARK|GRAY|BRIGHT|BACKUP|TWILIGHT12|TWILIGHT18', 'priorities': {}, 'numobs': -1}]\n",
       "  - [QSO_RF_4PASS_SOUTH, 53, \"Low-z (tracer) QSO using random forest tuned for DECam\", {'obsconditions': 'DARK', 'priorities': {'UNOBS': 0, 'DONE': 0, 'OBS': 0, 'DONOTOBSERVE': 0, 'MORE_ZWARN': 0, 'MORE_ZGOOD': 0}, 'numobs': 0}]\n",
       "  - [QSO_COLOR_8PASS_SOUTH, 54, \"High-z (Lyman-Alpha) QSO using color cuts tuned for DECam\", {'obsconditions': 'DARK', 'priorities': {'UNOBS': 0, 'DONE': 0, 'OBS': 0, 'DONOTOBSERVE': 0, 'MORE_ZWARN': 0, 'MORE_ZGOOD': 0}, 'numobs': 0}]\n",
       "  - [QSO_RF_8PASS_SOUTH, 55, \"High-z (Lyman-Alpha) QSO using random forest tuned for DECam\", {'obsconditions': 'DARK', 'priorities': {'UNOBS': 0, 'DONE': 0, 'OBS': 0, 'DONOTOBSERVE': 0, 'MORE_ZWARN': 0, 'MORE_ZGOOD': 0}, 'numobs': 0}]\n",
       "  - [QSO_HZ_F_SOUTH,  56, \"QSO at high-redshift and faint tuned for DECam\", {'obsconditions': 'DARK', 'priorities': {'UNOBS': 0, 'DONE': 0, 'OBS': 0, 'DONOTOBSERVE': 0, 'MORE_ZWARN': 0, 'MORE_ZGOOD': 0}, 'numobs': 0}]\n",
       "  - [QSO_Z5_SOUTH,    57, \"z~5 QSO tuned for DECam\", {'obsconditions': 'DARK', 'priorities': {'UNOBS': 0, 'DONE': 0, 'OBS': 0, 'DONOTOBSERVE': 0, 'MORE_ZWARN': 0, 'MORE_ZGOOD': 0}, 'numobs': 0}]\n",
       "  - [BGS_ANY,         60, \"Any BGS bit is set\", {'obsconditions': 'BRIGHT', 'priorities': {}, 'numobs': -1}]\n",
       "  - [MWS_ANY,         61, \"Any MWS bit is set\", {'obsconditions': 'BRIGHT', 'priorities': {}, 'numobs': -1}]\n",
       "  - [SCND_ANY,        62, \"Any secondary bit is set\", {'obsconditions': 'DARK|GRAY|BRIGHT|BACKUP|TWILIGHT12|TWILIGHT18', 'priorities': {}, 'numobs': -1}]"
      ]
     },
     "execution_count": 17,
     "metadata": {},
     "output_type": "execute_result"
    }
   ],
   "source": [
    "# Targetting bits are coded in the sv*_targetmask.desi_mask\n",
    "## The long list of targeting reflects the complexity of the targeting process and helps in subselecting from the main target types.\n",
    "\n",
    "sv1_targetmask.desi_mask"
   ]
  },
  {
   "cell_type": "code",
   "execution_count": 19,
   "id": "d6d60b52-37cb-4c79-b3de-5db03fee2641",
   "metadata": {
    "tags": []
   },
   "outputs": [
    {
     "name": "stdout",
     "output_type": "stream",
     "text": [
      "8589934592 34359738368 42949672960\n",
      "8589934592 34359738368 42949672960\n"
     ]
    }
   ],
   "source": [
    "# A simple example of using the bitmasks\n",
    "\n",
    "print(sv1_targetmask.desi_mask.mask(\"STD_FAINT\"), sv1_targetmask.desi_mask.mask(\"STD_BRIGHT\"), sv1_targetmask.desi_mask.mask(\"STD_FAINT|STD_BRIGHT\"))\n",
    "print(2**33, 2**35, 2**33 + 2**35)"
   ]
  },
  {
   "cell_type": "code",
   "execution_count": 7,
   "id": "97256d92-4092-40be-afef-693b67097a97",
   "metadata": {
    "tags": []
   },
   "outputs": [],
   "source": [
    "# Targeting information about the DESI targetting is stored in the different desi_target columns\n",
    "# sv1_targetmask.desi_mask corresponds to SV1_DESI_TARGET\n",
    "# sv2_targetmask.desi_mask corresponds to SV2_DESI_TARGET\n",
    "# sv3_targetmask.desi_mask corresponds to SV3_DESI_TARGET\n",
    "\n",
    "sv1_desi_tgt = zpix_cat['SV1_DESI_TARGET']\n",
    "sv2_desi_tgt = zpix_cat['SV2_DESI_TARGET']\n",
    "sv3_desi_tgt = zpix_cat['SV3_DESI_TARGET']\n",
    "\n",
    "sv1_desi_mask = sv1_targetmask.desi_mask\n",
    "sv2_desi_mask = sv2_targetmask.desi_mask\n",
    "sv3_desi_mask = sv3_targetmask.desi_mask"
   ]
  },
  {
   "cell_type": "code",
   "execution_count": 30,
   "id": "acadc784-9f23-417d-9e3a-021ae0e60421",
   "metadata": {
    "tags": []
   },
   "outputs": [
    {
     "name": "stdout",
     "output_type": "stream",
     "text": [
      "<class 'astropy.table.column.Column'> (28425963,) <class 'desiutil.bitmask.BitMask'> LRG              bit 0 mask 0x1 - LRG\n"
     ]
    }
   ],
   "source": [
    "print(type(sv1_desi_tgt), sv1_desi_tgt.shape, type(sv1_desi_mask), sv1_desi_mask[0])"
   ]
  },
  {
   "cell_type": "code",
   "execution_count": 38,
   "id": "efc118c1-e84f-4f79-a947-5385b51d91b5",
   "metadata": {
    "tags": []
   },
   "outputs": [
    {
     "name": "stdout",
     "output_type": "stream",
     "text": [
      "<class 'numpy.ndarray'>\n"
     ]
    }
   ],
   "source": [
    "# Selecting candidates - \n",
    "# The code below selects the individual targets observed in all the SV1, SV2, and SV3 tiles.\n",
    "\n",
    "## All BGS targets from sv1, sv2, and sv3\n",
    "is_bgs = (sv1_desi_tgt & sv1_desi_mask['BGS_ANY'] != 0)|(sv2_desi_tgt & sv2_desi_mask['BGS_ANY'] != 0)|(sv3_desi_tgt & sv3_desi_mask['BGS_ANY'] != 0)\n",
    "# Number of sources of each target type\n",
    "n_bgs = len(zpix_cat[is_bgs])"
   ]
  },
  {
   "cell_type": "code",
   "execution_count": 39,
   "id": "5b521517-80f2-4911-b8bf-1598ffb38f50",
   "metadata": {
    "tags": []
   },
   "outputs": [
    {
     "name": "stdout",
     "output_type": "stream",
     "text": [
      "<class 'numpy.ndarray'> 28425963\n"
     ]
    }
   ],
   "source": [
    "print(type(is_bgs), len(is_bgs))"
   ]
  },
  {
   "cell_type": "code",
   "execution_count": 59,
   "id": "832e38ca-7d20-4180-a9d1-3cd12747a051",
   "metadata": {
    "tags": []
   },
   "outputs": [],
   "source": [
    "demo = zpix_cat[is_bgs][:10]"
   ]
  },
  {
   "cell_type": "code",
   "execution_count": 60,
   "id": "76eb7aee-0d77-46ff-8ad3-85f7533ace9f",
   "metadata": {
    "tags": []
   },
   "outputs": [
    {
     "data": {
      "text/html": [
       "<div><i>Table length=10</i>\n",
       "<table id=\"table139810798583520\" class=\"table-striped table-bordered table-condensed\">\n",
       "<thead><tr><th>TARGETID</th><th>SURVEY</th><th>PROGRAM</th><th>HEALPIX</th><th>SPGRPVAL</th><th>Z</th><th>ZERR</th><th>ZWARN</th><th>CHI2</th><th>COEFF</th><th>NPIXELS</th><th>SPECTYPE</th><th>SUBTYPE</th><th>NCOEFF</th><th>DELTACHI2</th><th>COADD_FIBERSTATUS</th><th>TARGET_RA</th><th>TARGET_DEC</th><th>PMRA</th><th>PMDEC</th><th>REF_EPOCH</th><th>FA_TARGET</th><th>FA_TYPE</th><th>OBJTYPE</th><th>SUBPRIORITY</th><th>OBSCONDITIONS</th><th>RELEASE</th><th>BRICKNAME</th><th>BRICKID</th><th>BRICK_OBJID</th><th>MORPHTYPE</th><th>EBV</th><th>FLUX_G</th><th>FLUX_R</th><th>FLUX_Z</th><th>FLUX_W1</th><th>FLUX_W2</th><th>FLUX_IVAR_G</th><th>FLUX_IVAR_R</th><th>FLUX_IVAR_Z</th><th>FLUX_IVAR_W1</th><th>FLUX_IVAR_W2</th><th>FIBERFLUX_G</th><th>FIBERFLUX_R</th><th>FIBERFLUX_Z</th><th>FIBERTOTFLUX_G</th><th>FIBERTOTFLUX_R</th><th>FIBERTOTFLUX_Z</th><th>MASKBITS</th><th>SERSIC</th><th>SHAPE_R</th><th>SHAPE_E1</th><th>SHAPE_E2</th><th>REF_ID</th><th>REF_CAT</th><th>GAIA_PHOT_G_MEAN_MAG</th><th>GAIA_PHOT_BP_MEAN_MAG</th><th>GAIA_PHOT_RP_MEAN_MAG</th><th>PARALLAX</th><th>PHOTSYS</th><th>PRIORITY_INIT</th><th>NUMOBS_INIT</th><th>CMX_TARGET</th><th>DESI_TARGET</th><th>BGS_TARGET</th><th>MWS_TARGET</th><th>SCND_TARGET</th><th>SV1_DESI_TARGET</th><th>SV1_BGS_TARGET</th><th>SV1_MWS_TARGET</th><th>SV1_SCND_TARGET</th><th>SV2_DESI_TARGET</th><th>SV2_BGS_TARGET</th><th>SV2_MWS_TARGET</th><th>SV2_SCND_TARGET</th><th>SV3_DESI_TARGET</th><th>SV3_BGS_TARGET</th><th>SV3_MWS_TARGET</th><th>SV3_SCND_TARGET</th><th>PLATE_RA</th><th>PLATE_DEC</th><th>COADD_NUMEXP</th><th>COADD_EXPTIME</th><th>COADD_NUMNIGHT</th><th>COADD_NUMTILE</th><th>MEAN_DELTA_X</th><th>RMS_DELTA_X</th><th>MEAN_DELTA_Y</th><th>RMS_DELTA_Y</th><th>MEAN_FIBER_RA</th><th>STD_FIBER_RA</th><th>MEAN_FIBER_DEC</th><th>STD_FIBER_DEC</th><th>MEAN_PSF_TO_FIBER_SPECFLUX</th><th>TSNR2_GPBDARK_B</th><th>TSNR2_ELG_B</th><th>TSNR2_GPBBRIGHT_B</th><th>TSNR2_LYA_B</th><th>TSNR2_BGS_B</th><th>TSNR2_GPBBACKUP_B</th><th>TSNR2_QSO_B</th><th>TSNR2_LRG_B</th><th>TSNR2_GPBDARK_R</th><th>TSNR2_ELG_R</th><th>TSNR2_GPBBRIGHT_R</th><th>TSNR2_LYA_R</th><th>TSNR2_BGS_R</th><th>TSNR2_GPBBACKUP_R</th><th>TSNR2_QSO_R</th><th>TSNR2_LRG_R</th><th>TSNR2_GPBDARK_Z</th><th>TSNR2_ELG_Z</th><th>TSNR2_GPBBRIGHT_Z</th><th>TSNR2_LYA_Z</th><th>TSNR2_BGS_Z</th><th>TSNR2_GPBBACKUP_Z</th><th>TSNR2_QSO_Z</th><th>TSNR2_LRG_Z</th><th>TSNR2_GPBDARK</th><th>TSNR2_ELG</th><th>TSNR2_GPBBRIGHT</th><th>TSNR2_LYA</th><th>TSNR2_BGS</th><th>TSNR2_GPBBACKUP</th><th>TSNR2_QSO</th><th>TSNR2_LRG</th><th>MAIN_NSPEC</th><th>MAIN_PRIMARY</th><th>SV_NSPEC</th><th>SV_PRIMARY</th><th>ZCAT_NSPEC</th><th>ZCAT_PRIMARY</th></tr></thead>\n",
       "<thead><tr><th>int64</th><th>bytes7</th><th>bytes6</th><th>int32</th><th>int32</th><th>float64</th><th>float64</th><th>int64</th><th>float64</th><th>float64[10]</th><th>int64</th><th>bytes6</th><th>bytes20</th><th>int64</th><th>float64</th><th>int32</th><th>float64</th><th>float64</th><th>float32</th><th>float32</th><th>float32</th><th>int64</th><th>uint8</th><th>bytes3</th><th>float64</th><th>int32</th><th>int16</th><th>bytes8</th><th>int32</th><th>int32</th><th>bytes4</th><th>float32</th><th>float32</th><th>float32</th><th>float32</th><th>float32</th><th>float32</th><th>float32</th><th>float32</th><th>float32</th><th>float32</th><th>float32</th><th>float32</th><th>float32</th><th>float32</th><th>float32</th><th>float32</th><th>float32</th><th>int16</th><th>float32</th><th>float32</th><th>float32</th><th>float32</th><th>int64</th><th>bytes2</th><th>float32</th><th>float32</th><th>float32</th><th>float32</th><th>bytes1</th><th>int64</th><th>int64</th><th>int64</th><th>int64</th><th>int64</th><th>int64</th><th>int64</th><th>int64</th><th>int64</th><th>int64</th><th>int64</th><th>int64</th><th>int64</th><th>int64</th><th>int64</th><th>int64</th><th>int64</th><th>int64</th><th>int64</th><th>float64</th><th>float64</th><th>int16</th><th>float32</th><th>int16</th><th>int16</th><th>float32</th><th>float32</th><th>float32</th><th>float32</th><th>float64</th><th>float32</th><th>float64</th><th>float32</th><th>float32</th><th>float32</th><th>float32</th><th>float32</th><th>float32</th><th>float32</th><th>float32</th><th>float32</th><th>float32</th><th>float32</th><th>float32</th><th>float32</th><th>float32</th><th>float32</th><th>float32</th><th>float32</th><th>float32</th><th>float32</th><th>float32</th><th>float32</th><th>float32</th><th>float32</th><th>float32</th><th>float32</th><th>float32</th><th>float32</th><th>float32</th><th>float32</th><th>float32</th><th>float32</th><th>float32</th><th>float32</th><th>float32</th><th>int32</th><th>bool</th><th>int32</th><th>bool</th><th>int64</th><th>bool</th></tr></thead>\n",
       "<tr><td>39633487573027812</td><td>sv1</td><td>backup</td><td>7543</td><td>7543</td><td>0.932752477574551</td><td>2.232146096148817e-46</td><td>518</td><td>9.000000000000002e+99</td><td>0.0 .. 0.0</td><td>0</td><td>GALAXY</td><td>--</td><td>10</td><td>0.0</td><td>512</td><td>177.09914973580632</td><td>69.78972872458297</td><td>5.965992</td><td>-2.154366</td><td>2021.2224</td><td>3458764513820540928</td><td>1</td><td>TGT</td><td>0.3483189078040533</td><td>7</td><td>9011</td><td>1767p697</td><td>641456</td><td>3044</td><td>PSF</td><td>0.012502538</td><td>4.3591485</td><td>31.002502</td><td>43.928177</td><td>24.098131</td><td>11.013512</td><td>62.345085</td><td>12.311493</td><td>1.1904991</td><td>1.3637573</td><td>0.700737</td><td>3.3859954</td><td>24.081385</td><td>34.121483</td><td>26.84848</td><td>59.82547</td><td>72.801956</td><td>2072</td><td>0.0</td><td>0.0</td><td>0.0</td><td>0.0</td><td>1061605590746555136</td><td>G2</td><td>19.491877</td><td>0.0</td><td>0.0</td><td>0.37880346</td><td>N</td><td>1100</td><td>1</td><td>0</td><td>0</td><td>0</td><td>0</td><td>0</td><td>3458764513820540928</td><td>2570</td><td>17</td><td>0</td><td>0</td><td>0</td><td>0</td><td>0</td><td>0</td><td>0</td><td>0</td><td>0</td><td>177.09914973580632</td><td>69.78972872458297</td><td>0</td><td>0.0</td><td>0</td><td>0</td><td>-4.832</td><td>4.832</td><td>2.913</td><td>2.913</td><td>177.04627452349018</td><td>0.0</td><td>69.77719183580702</td><td>0.0</td><td>0.0</td><td>63.12422</td><td>0.022767447</td><td>62.131706</td><td>8.577588</td><td>679.0401</td><td>58.29815</td><td>0.30570373</td><td>0.78199416</td><td>3083.46</td><td>7.3631525</td><td>3014.004</td><td>0.005302651</td><td>3390.9707</td><td>2754.8167</td><td>1.0958098</td><td>31.583372</td><td>9.824189e-06</td><td>37.87404</td><td>9.624132e-06</td><td>0.0</td><td>7971.7783</td><td>8.87042e-06</td><td>3.8165112</td><td>50.320282</td><td>3146.5842</td><td>45.25996</td><td>3076.1355</td><td>8.5828905</td><td>12041.789</td><td>2813.1147</td><td>5.2180247</td><td>82.68565</td><td>0</td><td>False</td><td>1</td><td>True</td><td>2</td><td>False</td></tr>\n",
       "<tr><td>39633491716998359</td><td>sv1</td><td>backup</td><td>7548</td><td>7548</td><td>1.1740819206448814</td><td>0.00035175786828599233</td><td>0</td><td>8632.353412371129</td><td>5.788790109033574 .. 0.0</td><td>7898</td><td>QSO</td><td>LOZ</td><td>4</td><td>1842.4068622030318</td><td>0</td><td>173.6457110782341</td><td>70.18888380176844</td><td>-0.3064713</td><td>0.27902663</td><td>2021.1458</td><td>8070463726390095957</td><td>1</td><td>TGT</td><td>0.9211791781789317</td><td>63</td><td>9011</td><td>1737p702</td><td>642444</td><td>1239</td><td>PSF</td><td>0.0121016195</td><td>20.215437</td><td>42.178715</td><td>41.719902</td><td>139.09836</td><td>275.7249</td><td>234.62234</td><td>65.40025</td><td>74.67821</td><td>1.9517388</td><td>0.46013427</td><td>15.745045</td><td>32.851418</td><td>32.49407</td><td>15.745045</td><td>32.851418</td><td>32.49407</td><td>0</td><td>0.0</td><td>0.0</td><td>0.0</td><td>0.0</td><td>1062379951875295360</td><td>G2</td><td>19.102213</td><td>19.583513</td><td>18.449755</td><td>-0.04324165</td><td>N</td><td>3400</td><td>4</td><td>0</td><td>0</td><td>0</td><td>0</td><td>0</td><td>8070463726390095957</td><td>514</td><td>17</td><td>34359738368</td><td>0</td><td>0</td><td>0</td><td>0</td><td>0</td><td>0</td><td>0</td><td>0</td><td>173.6457110782341</td><td>70.18888380176844</td><td>1</td><td>300.0676</td><td>1</td><td>1</td><td>1.076</td><td>1.5266516</td><td>0.899</td><td>1.2685527</td><td>173.65702234731725</td><td>121.03362</td><td>70.18551136320335</td><td>12.086399</td><td>0.3945</td><td>42.223923</td><td>0.025779344</td><td>25.618155</td><td>17.108335</td><td>476.94568</td><td>53.369972</td><td>0.49042434</td><td>0.5239035</td><td>2921.9712</td><td>6.7164135</td><td>1802.7675</td><td>0.009285177</td><td>2068.491</td><td>3430.5852</td><td>1.467554</td><td>20.170584</td><td>6.0156076e-06</td><td>32.230896</td><td>3.6826752e-06</td><td>0.0</td><td>4460.9062</td><td>7.341647e-06</td><td>4.5912666</td><td>30.58489</td><td>2964.195</td><td>38.973087</td><td>1828.3856</td><td>17.11762</td><td>7006.343</td><td>3483.955</td><td>6.549245</td><td>51.279377</td><td>0</td><td>False</td><td>1</td><td>True</td><td>2</td><td>True</td></tr>\n",
       "<tr><td>39633495806445941</td><td>sv1</td><td>backup</td><td>7549</td><td>7549</td><td>1.2668087697077974</td><td>0.00020546227726553123</td><td>0</td><td>10996.49230222404</td><td>8.908973492325844 .. 0.0</td><td>7746</td><td>QSO</td><td>LOZ</td><td>4</td><td>3164.282698497176</td><td>0</td><td>179.03046966196396</td><td>70.86639298857585</td><td>0.4734316</td><td>-0.33995137</td><td>2021.2224</td><td>8070503308806111236</td><td>1</td><td>TGT</td><td>0.168378151054291</td><td>63</td><td>9011</td><td>1788p707</td><td>643419</td><td>2421</td><td>PSF</td><td>0.012782482</td><td>16.248775</td><td>26.652971</td><td>22.833118</td><td>31.91382</td><td>44.717247</td><td>242.75047</td><td>96.49724</td><td>66.34564</td><td>3.9354756</td><td>1.1126251</td><td>12.653941</td><td>20.756344</td><td>17.781584</td><td>12.653941</td><td>20.756344</td><td>17.781584</td><td>0</td><td>0.0</td><td>0.0</td><td>0.0</td><td>0.0</td><td>1062471142620572672</td><td>G2</td><td>19.674908</td><td>19.998869</td><td>19.197037</td><td>0.06966187</td><td>N</td><td>3400</td><td>8</td><td>0</td><td>0</td><td>0</td><td>0</td><td>0</td><td>8070503308806111236</td><td>514</td><td>17</td><td>34359869440</td><td>0</td><td>0</td><td>0</td><td>0</td><td>0</td><td>0</td><td>0</td><td>0</td><td>179.03046966196396</td><td>70.86639298857585</td><td>1</td><td>1820.0594</td><td>1</td><td>1</td><td>0.003</td><td>0.003</td><td>-0.016</td><td>0.016</td><td>179.03050522750874</td><td>0.0</td><td>70.86645674737139</td><td>0.0</td><td>0.789</td><td>28.20104</td><td>0.020779515</td><td>5.704381</td><td>15.600335</td><td>121.314926</td><td>49.969257</td><td>0.5571734</td><td>0.22722366</td><td>2527.9175</td><td>6.2621527</td><td>508.3861</td><td>0.013522423</td><td>596.6861</td><td>4358.4834</td><td>1.8170894</td><td>8.771501</td><td>4.5889615e-06</td><td>40.94892</td><td>9.2320624e-07</td><td>0.0</td><td>1561.1603</td><td>7.927878e-06</td><td>7.77375</td><td>16.671135</td><td>2556.1184</td><td>47.231853</td><td>514.0905</td><td>15.613857</td><td>2279.1614</td><td>4408.4526</td><td>10.148012</td><td>25.669859</td><td>0</td><td>False</td><td>1</td><td>True</td><td>2</td><td>False</td></tr>\n",
       "<tr><td>39633480975388030</td><td>sv1</td><td>backup</td><td>7606</td><td>7606</td><td>-0.00021966969156874685</td><td>5.736017182951275e-07</td><td>0</td><td>45239.595637016784</td><td>7290.839989657325 .. 256.4745339102788</td><td>7797</td><td>GALAXY</td><td>--</td><td>10</td><td>86169.91029102277</td><td>0</td><td>149.06867471862407</td><td>69.09446944028252</td><td>-0.8815696</td><td>-1.82289</td><td>2021.2224</td><td>3458764513820540928</td><td>1</td><td>TGT</td><td>0.5241983973030326</td><td>7</td><td>9011</td><td>1491p690</td><td>639883</td><td>3454</td><td>PSF</td><td>0.07992683</td><td>19.215893</td><td>21.66076</td><td>14.261427</td><td>77.89195</td><td>71.17631</td><td>152.65974</td><td>61.53404</td><td>31.036861</td><td>2.1203291</td><td>0.7194719</td><td>14.958361</td><td>16.861536</td><td>11.101621</td><td>15.431027</td><td>17.941296</td><td>12.260053</td><td>4096</td><td>0.0</td><td>0.0</td><td>0.0</td><td>0.0</td><td>1070470987363040640</td><td>G2</td><td>19.768269</td><td>18.53254</td><td>18.014023</td><td>-0.43314877</td><td>N</td><td>1100</td><td>1</td><td>0</td><td>0</td><td>0</td><td>0</td><td>0</td><td>3458764513820540928</td><td>514</td><td>17</td><td>0</td><td>0</td><td>0</td><td>0</td><td>0</td><td>0</td><td>0</td><td>0</td><td>0</td><td>149.06867471862407</td><td>69.09446944028252</td><td>1</td><td>1820.038</td><td>1</td><td>1</td><td>0.0</td><td>0.0</td><td>-0.002</td><td>0.002</td><td>149.0686741045242</td><td>0.0</td><td>69.09447734704169</td><td>0.0</td><td>0.789</td><td>48.622234</td><td>0.015471121</td><td>9.716101</td><td>10.360986</td><td>96.32624</td><td>87.20803</td><td>0.41428512</td><td>0.1871024</td><td>2304.0356</td><td>6.1020727</td><td>456.58063</td><td>0.007176538</td><td>504.9389</td><td>3975.0208</td><td>1.7276573</td><td>8.333368</td><td>6.5070444e-06</td><td>29.329176</td><td>1.2947883e-06</td><td>0.0</td><td>1241.0535</td><td>1.1443393e-05</td><td>5.899992</td><td>12.647162</td><td>2352.658</td><td>35.44672</td><td>466.29672</td><td>10.368162</td><td>1842.3186</td><td>4062.2288</td><td>8.041935</td><td>21.167633</td><td>0</td><td>False</td><td>1</td><td>True</td><td>2</td><td>False</td></tr>\n",
       "<tr><td>39633485282936143</td><td>sv1</td><td>backup</td><td>7612</td><td>7612</td><td>0.932752477574551</td><td>2.232146096148817e-46</td><td>518</td><td>9.000000000000002e+99</td><td>0.0 .. 0.0</td><td>0</td><td>GALAXY</td><td>--</td><td>10</td><td>0.0</td><td>512</td><td>147.65474222879428</td><td>69.6086602688169</td><td>-1.1004543</td><td>-0.6983863</td><td>2021.2224</td><td>3458773309916192853</td><td>1</td><td>TGT</td><td>0.4109009831520489</td><td>7</td><td>9011</td><td>1477p695</td><td>640910</td><td>1359</td><td>PSF</td><td>0.10163111</td><td>17.60167</td><td>26.41879</td><td>31.278097</td><td>132.54585</td><td>154.37903</td><td>426.407</td><td>172.50826</td><td>87.20739</td><td>1.926622</td><td>0.6030544</td><td>13.708971</td><td>20.576141</td><td>24.360786</td><td>13.708971</td><td>20.576141</td><td>24.360786</td><td>0</td><td>0.0</td><td>0.0</td><td>0.0</td><td>0.0</td><td>1071299568156550784</td><td>G2</td><td>20.067957</td><td>20.11879</td><td>18.753279</td><td>0.052748743</td><td>N</td><td>3400</td><td>4</td><td>0</td><td>0</td><td>0</td><td>0</td><td>0</td><td>3458773309916192853</td><td>514</td><td>17</td><td>0</td><td>0</td><td>0</td><td>0</td><td>0</td><td>0</td><td>0</td><td>0</td><td>0</td><td>147.65474222879428</td><td>69.6086602688169</td><td>0</td><td>0.0</td><td>0</td><td>0</td><td>1.255</td><td>1.255</td><td>-1.62</td><td>1.62</td><td>147.6681326259602</td><td>0.0</td><td>69.6153681196983</td><td>0.0</td><td>0.0</td><td>61.44855</td><td>0.019082626</td><td>60.301247</td><td>6.1493173</td><td>585.79944</td><td>55.933914</td><td>0.254255</td><td>0.7261297</td><td>3386.9817</td><td>8.468885</td><td>3295.3108</td><td>0.0056902515</td><td>3655.8745</td><td>2960.745</td><td>1.2285243</td><td>35.868652</td><td>1.1942546e-05</td><td>47.844284</td><td>1.165234e-05</td><td>0.0</td><td>9855.554</td><td>1.058019e-05</td><td>4.7847614</td><td>62.901924</td><td>3448.4302</td><td>56.332253</td><td>3355.612</td><td>6.1550074</td><td>14097.228</td><td>3016.679</td><td>6.267541</td><td>99.496704</td><td>0</td><td>False</td><td>1</td><td>True</td><td>2</td><td>False</td></tr>\n",
       "<tr><td>39633495743530917</td><td>sv1</td><td>backup</td><td>7634</td><td>7634</td><td>-1.3102785926445693e-05</td><td>3.22925439449277e-05</td><td>0</td><td>7723.0729531132765</td><td>824.976752385541 .. 0.0</td><td>7927</td><td>STAR</td><td>K</td><td>5</td><td>380.1093066549711</td><td>0</td><td>167.57089465207014</td><td>70.62901075587205</td><td>-9.021398</td><td>-14.490482</td><td>2021.1458</td><td>3458764513820540928</td><td>1</td><td>TGT</td><td>0.7593492644365233</td><td>7</td><td>9011</td><td>1675p707</td><td>643404</td><td>1957</td><td>PSF</td><td>0.022391982</td><td>5.2066216</td><td>28.09874</td><td>15.193202</td><td>8.633945</td><td>-2.7189188</td><td>192.6089</td><td>84.973206</td><td>71.520874</td><td>1.9561393</td><td>0.9296571</td><td>4.027271</td><td>21.7341</td><td>11.751794</td><td>4.799623</td><td>25.234356</td><td>13.5947485</td><td>16</td><td>0.0</td><td>0.0</td><td>0.0</td><td>0.0</td><td>1074417134593111168</td><td>G2</td><td>20.049006</td><td>0.0</td><td>0.0</td><td>-0.22530213</td><td>N</td><td>1100</td><td>1</td><td>0</td><td>0</td><td>0</td><td>0</td><td>0</td><td>3458764513820540928</td><td>2570</td><td>17</td><td>0</td><td>0</td><td>0</td><td>0</td><td>0</td><td>0</td><td>0</td><td>0</td><td>0</td><td>167.57089465207014</td><td>70.62901075587205</td><td>3</td><td>900.2466</td><td>1</td><td>3</td><td>-0.6596</td><td>1.0483265</td><td>-0.2126</td><td>0.60593814</td><td>167.5628909141796</td><td>107.35176</td><td>70.62983013335605</td><td>7.638345</td><td>0.4734</td><td>114.15126</td><td>0.05519837</td><td>75.63217</td><td>31.503315</td><td>1032.9749</td><td>138.45354</td><td>1.0768019</td><td>1.2467582</td><td>5806.4814</td><td>13.931713</td><td>3447.2532</td><td>0.018743588</td><td>3898.0652</td><td>7174.161</td><td>3.0528355</td><td>39.77187</td><td>1.373256e-05</td><td>73.29355</td><td>8.302036e-06</td><td>0.0</td><td>8985.313</td><td>1.6976443e-05</td><td>11.09193</td><td>63.39046</td><td>5920.633</td><td>87.28046</td><td>3522.8853</td><td>31.522058</td><td>13916.354</td><td>7312.6147</td><td>15.221567</td><td>104.40909</td><td>0</td><td>False</td><td>1</td><td>True</td><td>1</td><td>True</td></tr>\n",
       "<tr><td>39633495743531519</td><td>sv1</td><td>backup</td><td>7634</td><td>7634</td><td>-3.0460255500630513e-05</td><td>5.978011452251636e-07</td><td>0</td><td>92966.3651139651</td><td>17755.9646622179 .. 0.0</td><td>7923</td><td>STAR</td><td>K</td><td>5</td><td>249339.50066918886</td><td>0</td><td>167.69038006036484</td><td>70.65884549212578</td><td>-5.322913</td><td>0.86352026</td><td>2021.1458</td><td>3458764513820540928</td><td>1</td><td>TGT</td><td>0.6975763265663822</td><td>7</td><td>9011</td><td>1675p707</td><td>643404</td><td>2559</td><td>PSF</td><td>0.021609992</td><td>16.932064</td><td>90.760925</td><td>101.708115</td><td>49.7111</td><td>22.117012</td><td>45.017506</td><td>34.152824</td><td>6.579657</td><td>1.2349253</td><td>0.6672557</td><td>13.150935</td><td>70.49295</td><td>78.9955</td><td>99.82018</td><td>174.31123</td><td>287.24106</td><td>2064</td><td>0.0</td><td>0.0</td><td>0.0</td><td>0.0</td><td>1074418680782002176</td><td>G2</td><td>18.243982</td><td>0.0</td><td>0.0</td><td>0.06613107</td><td>N</td><td>1100</td><td>1</td><td>0</td><td>0</td><td>0</td><td>0</td><td>0</td><td>3458764513820540928</td><td>2570</td><td>17</td><td>0</td><td>0</td><td>0</td><td>0</td><td>0</td><td>0</td><td>0</td><td>0</td><td>0</td><td>167.69038006036484</td><td>70.65884549212578</td><td>8</td><td>2970.4731</td><td>1</td><td>1</td><td>-0.45255557</td><td>1.3580105</td><td>0.44111112</td><td>1.326012</td><td>167.68468485819005</td><td>175.13371</td><td>70.65715784053711</td><td>17.224932</td><td>0.70133334</td><td>307.7484</td><td>0.121105805</td><td>72.90778</td><td>84.877014</td><td>955.913</td><td>502.72684</td><td>3.0977497</td><td>1.5233719</td><td>11436.27</td><td>27.773897</td><td>2954.5532</td><td>0.036567025</td><td>3358.364</td><td>17883.104</td><td>7.829646</td><td>44.628162</td><td>3.135003e-05</td><td>152.10214</td><td>7.5505577e-06</td><td>0.0</td><td>7788.0635</td><td>5.0064275e-05</td><td>29.241356</td><td>73.49037</td><td>11744.018</td><td>179.99715</td><td>3027.461</td><td>84.91358</td><td>12102.34</td><td>18385.83</td><td>40.16875</td><td>119.64191</td><td>0</td><td>False</td><td>1</td><td>True</td><td>2</td><td>True</td></tr>\n",
       "<tr><td>39633497731629598</td><td>sv1</td><td>backup</td><td>7640</td><td>7640</td><td>-0.0001550623827446476</td><td>3.3268207898349835e-06</td><td>0</td><td>17125.237747037638</td><td>1607.206729641879 .. 0.0</td><td>7929</td><td>STAR</td><td>K</td><td>5</td><td>12514.269394820702</td><td>0</td><td>166.3701120272621</td><td>71.01459242763501</td><td>-13.678789</td><td>4.4217463</td><td>2021.1458</td><td>3458764513820540928</td><td>1</td><td>TGT</td><td>0.9216408222094804</td><td>7</td><td>9011</td><td>1666p710</td><td>643878</td><td>542</td><td>PSF</td><td>0.027615344</td><td>10.581048</td><td>30.506155</td><td>40.60677</td><td>29.338884</td><td>12.392107</td><td>39.833836</td><td>42.876503</td><td>43.927975</td><td>1.1490555</td><td>0.58820045</td><td>8.20665</td><td>23.660542</td><td>31.494568</td><td>12.693012</td><td>26.845978</td><td>40.261246</td><td>2076</td><td>0.0</td><td>0.0</td><td>0.0</td><td>0.0</td><td>1075235343042983040</td><td>G2</td><td>19.774641</td><td>0.0</td><td>0.0</td><td>1.4887778</td><td>N</td><td>1100</td><td>1</td><td>0</td><td>0</td><td>0</td><td>0</td><td>0</td><td>3458764513820540928</td><td>2570</td><td>17</td><td>0</td><td>0</td><td>0</td><td>0</td><td>0</td><td>0</td><td>0</td><td>0</td><td>0</td><td>166.3701120272621</td><td>71.01459242763501</td><td>9</td><td>3270.5413</td><td>1</td><td>2</td><td>-0.00022222222</td><td>0.007760298</td><td>0.00066666666</td><td>0.0032998316</td><td>166.37010990743877</td><td>1.0572324</td><td>71.01458975130504</td><td>0.045939673</td><td>0.789</td><td>231.29535</td><td>0.086772576</td><td>45.893993</td><td>64.27058</td><td>522.583</td><td>394.5648</td><td>2.3186402</td><td>0.9764668</td><td>11066.208</td><td>24.760975</td><td>2165.9905</td><td>0.04069163</td><td>2427.4917</td><td>17776.598</td><td>7.5419583</td><td>35.352966</td><td>3.764069e-05</td><td>135.10963</td><td>7.385847e-06</td><td>0.0</td><td>5953.819</td><td>6.118788e-05</td><td>27.576477</td><td>60.430904</td><td>11297.503</td><td>159.95738</td><td>2211.8845</td><td>64.31127</td><td>8903.894</td><td>18171.162</td><td>37.437077</td><td>96.76034</td><td>0</td><td>False</td><td>1</td><td>True</td><td>1</td><td>True</td></tr>\n",
       "<tr><td>39633509169497259</td><td>sv1</td><td>backup</td><td>7642</td><td>7642</td><td>0.3306872979149908</td><td>3.840628980590673e-05</td><td>0</td><td>9738.104308694601</td><td>8.64197644386512 .. 0.0</td><td>7929</td><td>QSO</td><td>LOZ</td><td>4</td><td>22020.885125294328</td><td>0</td><td>167.1390170498203</td><td>72.43638120370633</td><td>0.1175817</td><td>-0.049939957</td><td>2021.1458</td><td>8070463726390095957</td><td>1</td><td>TGT</td><td>0.9158584987153892</td><td>63</td><td>9011</td><td>1672p725</td><td>646605</td><td>1195</td><td>PSF</td><td>0.033086184</td><td>25.77166</td><td>33.92565</td><td>45.21102</td><td>113.96134</td><td>128.14021</td><td>208.37607</td><td>137.93791</td><td>32.04756</td><td>2.1267111</td><td>0.68045163</td><td>20.068533</td><td>26.41809</td><td>35.20607</td><td>20.068533</td><td>26.41809</td><td>35.20607</td><td>0</td><td>0.0</td><td>0.0</td><td>0.0</td><td>0.0</td><td>1075575092136623360</td><td>G2</td><td>19.478346</td><td>19.300598</td><td>18.3693</td><td>0.079645194</td><td>N</td><td>3400</td><td>4</td><td>0</td><td>0</td><td>0</td><td>0</td><td>0</td><td>8070463726390095957</td><td>514</td><td>17</td><td>34359738368</td><td>0</td><td>0</td><td>0</td><td>0</td><td>0</td><td>0</td><td>0</td><td>0</td><td>167.1390170498203</td><td>72.43638120370633</td><td>3</td><td>900.2194</td><td>1</td><td>3</td><td>0.23754546</td><td>0.2790528</td><td>1.1264546</td><td>1.3212192</td><td>167.14237963263108</td><td>24.707638</td><td>72.43199157283952</td><td>9.68529</td><td>0.21518181</td><td>228.82852</td><td>0.19568707</td><td>194.55254</td><td>84.96426</td><td>4940.8228</td><td>230.49632</td><td>2.955359</td><td>5.7896767</td><td>23210.469</td><td>54.358013</td><td>20427.727</td><td>0.0764586</td><td>24027.47</td><td>21006.732</td><td>9.069338</td><td>217.70464</td><td>4.005458e-05</td><td>284.18478</td><td>3.4707005e-05</td><td>0.0</td><td>52297.457</td><td>3.7810914e-05</td><td>31.50805</td><td>343.7884</td><td>23439.297</td><td>338.7385</td><td>20622.28</td><td>85.04072</td><td>81265.75</td><td>21237.229</td><td>43.532745</td><td>567.2827</td><td>0</td><td>False</td><td>1</td><td>True</td><td>1</td><td>True</td></tr>\n",
       "<tr><td>39633510985632229</td><td>sv1</td><td>backup</td><td>7664</td><td>7664</td><td>0.08754483800622231</td><td>1.3286336126933339e-05</td><td>0</td><td>26506.040026672184</td><td>85.64059859914177 .. 0.0</td><td>7897</td><td>QSO</td><td>LOZ</td><td>4</td><td>89695.0917154774</td><td>0</td><td>165.65330486680392</td><td>72.77736343956454</td><td>-0.14946857</td><td>-0.0061477143</td><td>2021.1458</td><td>3458764513820540928</td><td>1</td><td>TGT</td><td>0.670341975807539</td><td>7</td><td>9011</td><td>1654p727</td><td>647038</td><td>2533</td><td>PSF</td><td>0.051166173</td><td>188.46913</td><td>308.18588</td><td>511.15195</td><td>654.56866</td><td>927.7447</td><td>44.4629</td><td>28.98252</td><td>5.5009313</td><td>0.472067</td><td>0.15988705</td><td>146.63208</td><td>239.77367</td><td>397.6846</td><td>149.5005</td><td>246.47618</td><td>410.24384</td><td>152</td><td>0.0</td><td>0.0</td><td>0.0</td><td>0.0</td><td>1078638572049839488</td><td>G2</td><td>16.90986</td><td>16.872644</td><td>15.796006</td><td>-0.020057606</td><td>N</td><td>1100</td><td>1</td><td>0</td><td>0</td><td>0</td><td>0</td><td>0</td><td>3458764513820540928</td><td>2570</td><td>17</td><td>0</td><td>0</td><td>0</td><td>0</td><td>0</td><td>0</td><td>0</td><td>0</td><td>0</td><td>165.65330486680392</td><td>72.77736343956454</td><td>1</td><td>300.0793</td><td>1</td><td>1</td><td>0.006</td><td>0.006</td><td>-0.012</td><td>0.012</td><td>165.6533860654789</td><td>0.0</td><td>72.7774084448226</td><td>0.0</td><td>0.789</td><td>7.6914825</td><td>0.004378904</td><td>1.5598394</td><td>2.6990743</td><td>26.50702</td><td>13.515884</td><td>0.114698894</td><td>0.05243599</td><td>366.814</td><td>0.8077539</td><td>74.44467</td><td>0.0020628332</td><td>84.6247</td><td>646.82367</td><td>0.24320504</td><td>1.1588516</td><td>1.0026279e-06</td><td>4.1469555</td><td>2.038985e-07</td><td>0.0</td><td>186.11542</td><td>1.7855682e-06</td><td>0.8249156</td><td>1.8314106</td><td>374.5055</td><td>4.9590883</td><td>76.00451</td><td>2.701137</td><td>297.24713</td><td>660.33954</td><td>1.1828195</td><td>3.0426984</td><td>0</td><td>False</td><td>1</td><td>True</td><td>1</td><td>True</td></tr>\n",
       "</table></div>"
      ],
      "text/plain": [
       "<Table length=10>\n",
       "     TARGETID     SURVEY PROGRAM HEALPIX ... SV_PRIMARY ZCAT_NSPEC ZCAT_PRIMARY\n",
       "      int64       bytes7  bytes6  int32  ...    bool      int64        bool    \n",
       "----------------- ------ ------- ------- ... ---------- ---------- ------------\n",
       "39633487573027812    sv1  backup    7543 ...       True          2        False\n",
       "39633491716998359    sv1  backup    7548 ...       True          2         True\n",
       "39633495806445941    sv1  backup    7549 ...       True          2        False\n",
       "39633480975388030    sv1  backup    7606 ...       True          2        False\n",
       "39633485282936143    sv1  backup    7612 ...       True          2        False\n",
       "39633495743530917    sv1  backup    7634 ...       True          1         True\n",
       "39633495743531519    sv1  backup    7634 ...       True          2         True\n",
       "39633497731629598    sv1  backup    7640 ...       True          1         True\n",
       "39633509169497259    sv1  backup    7642 ...       True          1         True\n",
       "39633510985632229    sv1  backup    7664 ...       True          1         True"
      ]
     },
     "execution_count": 60,
     "metadata": {},
     "output_type": "execute_result"
    }
   ],
   "source": [
    "demo"
   ]
  },
  {
   "cell_type": "code",
   "execution_count": 62,
   "id": "78fcd6b8-e513-4a0d-9a51-565dd760e915",
   "metadata": {
    "tags": []
   },
   "outputs": [
    {
     "data": {
      "text/html": [
       "<div><i>Table length=8</i>\n",
       "<table id=\"table139810809563600\" class=\"table-striped table-bordered table-condensed\">\n",
       "<thead><tr><th>TARGETID</th><th>SURVEY</th><th>PROGRAM</th><th>HEALPIX</th><th>SPGRPVAL</th><th>Z</th><th>ZERR</th><th>ZWARN</th><th>CHI2</th><th>COEFF</th><th>NPIXELS</th><th>SPECTYPE</th><th>SUBTYPE</th><th>NCOEFF</th><th>DELTACHI2</th><th>COADD_FIBERSTATUS</th><th>TARGET_RA</th><th>TARGET_DEC</th><th>PMRA</th><th>PMDEC</th><th>REF_EPOCH</th><th>FA_TARGET</th><th>FA_TYPE</th><th>OBJTYPE</th><th>SUBPRIORITY</th><th>OBSCONDITIONS</th><th>RELEASE</th><th>BRICKNAME</th><th>BRICKID</th><th>BRICK_OBJID</th><th>MORPHTYPE</th><th>EBV</th><th>FLUX_G</th><th>FLUX_R</th><th>FLUX_Z</th><th>FLUX_W1</th><th>FLUX_W2</th><th>FLUX_IVAR_G</th><th>FLUX_IVAR_R</th><th>FLUX_IVAR_Z</th><th>FLUX_IVAR_W1</th><th>FLUX_IVAR_W2</th><th>FIBERFLUX_G</th><th>FIBERFLUX_R</th><th>FIBERFLUX_Z</th><th>FIBERTOTFLUX_G</th><th>FIBERTOTFLUX_R</th><th>FIBERTOTFLUX_Z</th><th>MASKBITS</th><th>SERSIC</th><th>SHAPE_R</th><th>SHAPE_E1</th><th>SHAPE_E2</th><th>REF_ID</th><th>REF_CAT</th><th>GAIA_PHOT_G_MEAN_MAG</th><th>GAIA_PHOT_BP_MEAN_MAG</th><th>GAIA_PHOT_RP_MEAN_MAG</th><th>PARALLAX</th><th>PHOTSYS</th><th>PRIORITY_INIT</th><th>NUMOBS_INIT</th><th>CMX_TARGET</th><th>DESI_TARGET</th><th>BGS_TARGET</th><th>MWS_TARGET</th><th>SCND_TARGET</th><th>SV1_DESI_TARGET</th><th>SV1_BGS_TARGET</th><th>SV1_MWS_TARGET</th><th>SV1_SCND_TARGET</th><th>SV2_DESI_TARGET</th><th>SV2_BGS_TARGET</th><th>SV2_MWS_TARGET</th><th>SV2_SCND_TARGET</th><th>SV3_DESI_TARGET</th><th>SV3_BGS_TARGET</th><th>SV3_MWS_TARGET</th><th>SV3_SCND_TARGET</th><th>PLATE_RA</th><th>PLATE_DEC</th><th>COADD_NUMEXP</th><th>COADD_EXPTIME</th><th>COADD_NUMNIGHT</th><th>COADD_NUMTILE</th><th>MEAN_DELTA_X</th><th>RMS_DELTA_X</th><th>MEAN_DELTA_Y</th><th>RMS_DELTA_Y</th><th>MEAN_FIBER_RA</th><th>STD_FIBER_RA</th><th>MEAN_FIBER_DEC</th><th>STD_FIBER_DEC</th><th>MEAN_PSF_TO_FIBER_SPECFLUX</th><th>TSNR2_GPBDARK_B</th><th>TSNR2_ELG_B</th><th>TSNR2_GPBBRIGHT_B</th><th>TSNR2_LYA_B</th><th>TSNR2_BGS_B</th><th>TSNR2_GPBBACKUP_B</th><th>TSNR2_QSO_B</th><th>TSNR2_LRG_B</th><th>TSNR2_GPBDARK_R</th><th>TSNR2_ELG_R</th><th>TSNR2_GPBBRIGHT_R</th><th>TSNR2_LYA_R</th><th>TSNR2_BGS_R</th><th>TSNR2_GPBBACKUP_R</th><th>TSNR2_QSO_R</th><th>TSNR2_LRG_R</th><th>TSNR2_GPBDARK_Z</th><th>TSNR2_ELG_Z</th><th>TSNR2_GPBBRIGHT_Z</th><th>TSNR2_LYA_Z</th><th>TSNR2_BGS_Z</th><th>TSNR2_GPBBACKUP_Z</th><th>TSNR2_QSO_Z</th><th>TSNR2_LRG_Z</th><th>TSNR2_GPBDARK</th><th>TSNR2_ELG</th><th>TSNR2_GPBBRIGHT</th><th>TSNR2_LYA</th><th>TSNR2_BGS</th><th>TSNR2_GPBBACKUP</th><th>TSNR2_QSO</th><th>TSNR2_LRG</th><th>MAIN_NSPEC</th><th>MAIN_PRIMARY</th><th>SV_NSPEC</th><th>SV_PRIMARY</th><th>ZCAT_NSPEC</th><th>ZCAT_PRIMARY</th></tr></thead>\n",
       "<thead><tr><th>int64</th><th>bytes7</th><th>bytes6</th><th>int32</th><th>int32</th><th>float64</th><th>float64</th><th>int64</th><th>float64</th><th>float64[10]</th><th>int64</th><th>bytes6</th><th>bytes20</th><th>int64</th><th>float64</th><th>int32</th><th>float64</th><th>float64</th><th>float32</th><th>float32</th><th>float32</th><th>int64</th><th>uint8</th><th>bytes3</th><th>float64</th><th>int32</th><th>int16</th><th>bytes8</th><th>int32</th><th>int32</th><th>bytes4</th><th>float32</th><th>float32</th><th>float32</th><th>float32</th><th>float32</th><th>float32</th><th>float32</th><th>float32</th><th>float32</th><th>float32</th><th>float32</th><th>float32</th><th>float32</th><th>float32</th><th>float32</th><th>float32</th><th>float32</th><th>int16</th><th>float32</th><th>float32</th><th>float32</th><th>float32</th><th>int64</th><th>bytes2</th><th>float32</th><th>float32</th><th>float32</th><th>float32</th><th>bytes1</th><th>int64</th><th>int64</th><th>int64</th><th>int64</th><th>int64</th><th>int64</th><th>int64</th><th>int64</th><th>int64</th><th>int64</th><th>int64</th><th>int64</th><th>int64</th><th>int64</th><th>int64</th><th>int64</th><th>int64</th><th>int64</th><th>int64</th><th>float64</th><th>float64</th><th>int16</th><th>float32</th><th>int16</th><th>int16</th><th>float32</th><th>float32</th><th>float32</th><th>float32</th><th>float64</th><th>float32</th><th>float64</th><th>float32</th><th>float32</th><th>float32</th><th>float32</th><th>float32</th><th>float32</th><th>float32</th><th>float32</th><th>float32</th><th>float32</th><th>float32</th><th>float32</th><th>float32</th><th>float32</th><th>float32</th><th>float32</th><th>float32</th><th>float32</th><th>float32</th><th>float32</th><th>float32</th><th>float32</th><th>float32</th><th>float32</th><th>float32</th><th>float32</th><th>float32</th><th>float32</th><th>float32</th><th>float32</th><th>float32</th><th>float32</th><th>float32</th><th>float32</th><th>int32</th><th>bool</th><th>int32</th><th>bool</th><th>int64</th><th>bool</th></tr></thead>\n",
       "<tr><td>39633491716998359</td><td>sv1</td><td>backup</td><td>7548</td><td>7548</td><td>1.1740819206448814</td><td>0.00035175786828599233</td><td>0</td><td>8632.353412371129</td><td>5.788790109033574 .. 0.0</td><td>7898</td><td>QSO</td><td>LOZ</td><td>4</td><td>1842.4068622030318</td><td>0</td><td>173.6457110782341</td><td>70.18888380176844</td><td>-0.3064713</td><td>0.27902663</td><td>2021.1458</td><td>8070463726390095957</td><td>1</td><td>TGT</td><td>0.9211791781789317</td><td>63</td><td>9011</td><td>1737p702</td><td>642444</td><td>1239</td><td>PSF</td><td>0.0121016195</td><td>20.215437</td><td>42.178715</td><td>41.719902</td><td>139.09836</td><td>275.7249</td><td>234.62234</td><td>65.40025</td><td>74.67821</td><td>1.9517388</td><td>0.46013427</td><td>15.745045</td><td>32.851418</td><td>32.49407</td><td>15.745045</td><td>32.851418</td><td>32.49407</td><td>0</td><td>0.0</td><td>0.0</td><td>0.0</td><td>0.0</td><td>1062379951875295360</td><td>G2</td><td>19.102213</td><td>19.583513</td><td>18.449755</td><td>-0.04324165</td><td>N</td><td>3400</td><td>4</td><td>0</td><td>0</td><td>0</td><td>0</td><td>0</td><td>8070463726390095957</td><td>514</td><td>17</td><td>34359738368</td><td>0</td><td>0</td><td>0</td><td>0</td><td>0</td><td>0</td><td>0</td><td>0</td><td>173.6457110782341</td><td>70.18888380176844</td><td>1</td><td>300.0676</td><td>1</td><td>1</td><td>1.076</td><td>1.5266516</td><td>0.899</td><td>1.2685527</td><td>173.65702234731725</td><td>121.03362</td><td>70.18551136320335</td><td>12.086399</td><td>0.3945</td><td>42.223923</td><td>0.025779344</td><td>25.618155</td><td>17.108335</td><td>476.94568</td><td>53.369972</td><td>0.49042434</td><td>0.5239035</td><td>2921.9712</td><td>6.7164135</td><td>1802.7675</td><td>0.009285177</td><td>2068.491</td><td>3430.5852</td><td>1.467554</td><td>20.170584</td><td>6.0156076e-06</td><td>32.230896</td><td>3.6826752e-06</td><td>0.0</td><td>4460.9062</td><td>7.341647e-06</td><td>4.5912666</td><td>30.58489</td><td>2964.195</td><td>38.973087</td><td>1828.3856</td><td>17.11762</td><td>7006.343</td><td>3483.955</td><td>6.549245</td><td>51.279377</td><td>0</td><td>False</td><td>1</td><td>True</td><td>2</td><td>True</td></tr>\n",
       "<tr><td>39633495806445941</td><td>sv1</td><td>backup</td><td>7549</td><td>7549</td><td>1.2668087697077974</td><td>0.00020546227726553123</td><td>0</td><td>10996.49230222404</td><td>8.908973492325844 .. 0.0</td><td>7746</td><td>QSO</td><td>LOZ</td><td>4</td><td>3164.282698497176</td><td>0</td><td>179.03046966196396</td><td>70.86639298857585</td><td>0.4734316</td><td>-0.33995137</td><td>2021.2224</td><td>8070503308806111236</td><td>1</td><td>TGT</td><td>0.168378151054291</td><td>63</td><td>9011</td><td>1788p707</td><td>643419</td><td>2421</td><td>PSF</td><td>0.012782482</td><td>16.248775</td><td>26.652971</td><td>22.833118</td><td>31.91382</td><td>44.717247</td><td>242.75047</td><td>96.49724</td><td>66.34564</td><td>3.9354756</td><td>1.1126251</td><td>12.653941</td><td>20.756344</td><td>17.781584</td><td>12.653941</td><td>20.756344</td><td>17.781584</td><td>0</td><td>0.0</td><td>0.0</td><td>0.0</td><td>0.0</td><td>1062471142620572672</td><td>G2</td><td>19.674908</td><td>19.998869</td><td>19.197037</td><td>0.06966187</td><td>N</td><td>3400</td><td>8</td><td>0</td><td>0</td><td>0</td><td>0</td><td>0</td><td>8070503308806111236</td><td>514</td><td>17</td><td>34359869440</td><td>0</td><td>0</td><td>0</td><td>0</td><td>0</td><td>0</td><td>0</td><td>0</td><td>179.03046966196396</td><td>70.86639298857585</td><td>1</td><td>1820.0594</td><td>1</td><td>1</td><td>0.003</td><td>0.003</td><td>-0.016</td><td>0.016</td><td>179.03050522750874</td><td>0.0</td><td>70.86645674737139</td><td>0.0</td><td>0.789</td><td>28.20104</td><td>0.020779515</td><td>5.704381</td><td>15.600335</td><td>121.314926</td><td>49.969257</td><td>0.5571734</td><td>0.22722366</td><td>2527.9175</td><td>6.2621527</td><td>508.3861</td><td>0.013522423</td><td>596.6861</td><td>4358.4834</td><td>1.8170894</td><td>8.771501</td><td>4.5889615e-06</td><td>40.94892</td><td>9.2320624e-07</td><td>0.0</td><td>1561.1603</td><td>7.927878e-06</td><td>7.77375</td><td>16.671135</td><td>2556.1184</td><td>47.231853</td><td>514.0905</td><td>15.613857</td><td>2279.1614</td><td>4408.4526</td><td>10.148012</td><td>25.669859</td><td>0</td><td>False</td><td>1</td><td>True</td><td>2</td><td>False</td></tr>\n",
       "<tr><td>39633480975388030</td><td>sv1</td><td>backup</td><td>7606</td><td>7606</td><td>-0.00021966969156874685</td><td>5.736017182951275e-07</td><td>0</td><td>45239.595637016784</td><td>7290.839989657325 .. 256.4745339102788</td><td>7797</td><td>GALAXY</td><td>--</td><td>10</td><td>86169.91029102277</td><td>0</td><td>149.06867471862407</td><td>69.09446944028252</td><td>-0.8815696</td><td>-1.82289</td><td>2021.2224</td><td>3458764513820540928</td><td>1</td><td>TGT</td><td>0.5241983973030326</td><td>7</td><td>9011</td><td>1491p690</td><td>639883</td><td>3454</td><td>PSF</td><td>0.07992683</td><td>19.215893</td><td>21.66076</td><td>14.261427</td><td>77.89195</td><td>71.17631</td><td>152.65974</td><td>61.53404</td><td>31.036861</td><td>2.1203291</td><td>0.7194719</td><td>14.958361</td><td>16.861536</td><td>11.101621</td><td>15.431027</td><td>17.941296</td><td>12.260053</td><td>4096</td><td>0.0</td><td>0.0</td><td>0.0</td><td>0.0</td><td>1070470987363040640</td><td>G2</td><td>19.768269</td><td>18.53254</td><td>18.014023</td><td>-0.43314877</td><td>N</td><td>1100</td><td>1</td><td>0</td><td>0</td><td>0</td><td>0</td><td>0</td><td>3458764513820540928</td><td>514</td><td>17</td><td>0</td><td>0</td><td>0</td><td>0</td><td>0</td><td>0</td><td>0</td><td>0</td><td>0</td><td>149.06867471862407</td><td>69.09446944028252</td><td>1</td><td>1820.038</td><td>1</td><td>1</td><td>0.0</td><td>0.0</td><td>-0.002</td><td>0.002</td><td>149.0686741045242</td><td>0.0</td><td>69.09447734704169</td><td>0.0</td><td>0.789</td><td>48.622234</td><td>0.015471121</td><td>9.716101</td><td>10.360986</td><td>96.32624</td><td>87.20803</td><td>0.41428512</td><td>0.1871024</td><td>2304.0356</td><td>6.1020727</td><td>456.58063</td><td>0.007176538</td><td>504.9389</td><td>3975.0208</td><td>1.7276573</td><td>8.333368</td><td>6.5070444e-06</td><td>29.329176</td><td>1.2947883e-06</td><td>0.0</td><td>1241.0535</td><td>1.1443393e-05</td><td>5.899992</td><td>12.647162</td><td>2352.658</td><td>35.44672</td><td>466.29672</td><td>10.368162</td><td>1842.3186</td><td>4062.2288</td><td>8.041935</td><td>21.167633</td><td>0</td><td>False</td><td>1</td><td>True</td><td>2</td><td>False</td></tr>\n",
       "<tr><td>39633495743530917</td><td>sv1</td><td>backup</td><td>7634</td><td>7634</td><td>-1.3102785926445693e-05</td><td>3.22925439449277e-05</td><td>0</td><td>7723.0729531132765</td><td>824.976752385541 .. 0.0</td><td>7927</td><td>STAR</td><td>K</td><td>5</td><td>380.1093066549711</td><td>0</td><td>167.57089465207014</td><td>70.62901075587205</td><td>-9.021398</td><td>-14.490482</td><td>2021.1458</td><td>3458764513820540928</td><td>1</td><td>TGT</td><td>0.7593492644365233</td><td>7</td><td>9011</td><td>1675p707</td><td>643404</td><td>1957</td><td>PSF</td><td>0.022391982</td><td>5.2066216</td><td>28.09874</td><td>15.193202</td><td>8.633945</td><td>-2.7189188</td><td>192.6089</td><td>84.973206</td><td>71.520874</td><td>1.9561393</td><td>0.9296571</td><td>4.027271</td><td>21.7341</td><td>11.751794</td><td>4.799623</td><td>25.234356</td><td>13.5947485</td><td>16</td><td>0.0</td><td>0.0</td><td>0.0</td><td>0.0</td><td>1074417134593111168</td><td>G2</td><td>20.049006</td><td>0.0</td><td>0.0</td><td>-0.22530213</td><td>N</td><td>1100</td><td>1</td><td>0</td><td>0</td><td>0</td><td>0</td><td>0</td><td>3458764513820540928</td><td>2570</td><td>17</td><td>0</td><td>0</td><td>0</td><td>0</td><td>0</td><td>0</td><td>0</td><td>0</td><td>0</td><td>167.57089465207014</td><td>70.62901075587205</td><td>3</td><td>900.2466</td><td>1</td><td>3</td><td>-0.6596</td><td>1.0483265</td><td>-0.2126</td><td>0.60593814</td><td>167.5628909141796</td><td>107.35176</td><td>70.62983013335605</td><td>7.638345</td><td>0.4734</td><td>114.15126</td><td>0.05519837</td><td>75.63217</td><td>31.503315</td><td>1032.9749</td><td>138.45354</td><td>1.0768019</td><td>1.2467582</td><td>5806.4814</td><td>13.931713</td><td>3447.2532</td><td>0.018743588</td><td>3898.0652</td><td>7174.161</td><td>3.0528355</td><td>39.77187</td><td>1.373256e-05</td><td>73.29355</td><td>8.302036e-06</td><td>0.0</td><td>8985.313</td><td>1.6976443e-05</td><td>11.09193</td><td>63.39046</td><td>5920.633</td><td>87.28046</td><td>3522.8853</td><td>31.522058</td><td>13916.354</td><td>7312.6147</td><td>15.221567</td><td>104.40909</td><td>0</td><td>False</td><td>1</td><td>True</td><td>1</td><td>True</td></tr>\n",
       "<tr><td>39633495743531519</td><td>sv1</td><td>backup</td><td>7634</td><td>7634</td><td>-3.0460255500630513e-05</td><td>5.978011452251636e-07</td><td>0</td><td>92966.3651139651</td><td>17755.9646622179 .. 0.0</td><td>7923</td><td>STAR</td><td>K</td><td>5</td><td>249339.50066918886</td><td>0</td><td>167.69038006036484</td><td>70.65884549212578</td><td>-5.322913</td><td>0.86352026</td><td>2021.1458</td><td>3458764513820540928</td><td>1</td><td>TGT</td><td>0.6975763265663822</td><td>7</td><td>9011</td><td>1675p707</td><td>643404</td><td>2559</td><td>PSF</td><td>0.021609992</td><td>16.932064</td><td>90.760925</td><td>101.708115</td><td>49.7111</td><td>22.117012</td><td>45.017506</td><td>34.152824</td><td>6.579657</td><td>1.2349253</td><td>0.6672557</td><td>13.150935</td><td>70.49295</td><td>78.9955</td><td>99.82018</td><td>174.31123</td><td>287.24106</td><td>2064</td><td>0.0</td><td>0.0</td><td>0.0</td><td>0.0</td><td>1074418680782002176</td><td>G2</td><td>18.243982</td><td>0.0</td><td>0.0</td><td>0.06613107</td><td>N</td><td>1100</td><td>1</td><td>0</td><td>0</td><td>0</td><td>0</td><td>0</td><td>3458764513820540928</td><td>2570</td><td>17</td><td>0</td><td>0</td><td>0</td><td>0</td><td>0</td><td>0</td><td>0</td><td>0</td><td>0</td><td>167.69038006036484</td><td>70.65884549212578</td><td>8</td><td>2970.4731</td><td>1</td><td>1</td><td>-0.45255557</td><td>1.3580105</td><td>0.44111112</td><td>1.326012</td><td>167.68468485819005</td><td>175.13371</td><td>70.65715784053711</td><td>17.224932</td><td>0.70133334</td><td>307.7484</td><td>0.121105805</td><td>72.90778</td><td>84.877014</td><td>955.913</td><td>502.72684</td><td>3.0977497</td><td>1.5233719</td><td>11436.27</td><td>27.773897</td><td>2954.5532</td><td>0.036567025</td><td>3358.364</td><td>17883.104</td><td>7.829646</td><td>44.628162</td><td>3.135003e-05</td><td>152.10214</td><td>7.5505577e-06</td><td>0.0</td><td>7788.0635</td><td>5.0064275e-05</td><td>29.241356</td><td>73.49037</td><td>11744.018</td><td>179.99715</td><td>3027.461</td><td>84.91358</td><td>12102.34</td><td>18385.83</td><td>40.16875</td><td>119.64191</td><td>0</td><td>False</td><td>1</td><td>True</td><td>2</td><td>True</td></tr>\n",
       "<tr><td>39633497731629598</td><td>sv1</td><td>backup</td><td>7640</td><td>7640</td><td>-0.0001550623827446476</td><td>3.3268207898349835e-06</td><td>0</td><td>17125.237747037638</td><td>1607.206729641879 .. 0.0</td><td>7929</td><td>STAR</td><td>K</td><td>5</td><td>12514.269394820702</td><td>0</td><td>166.3701120272621</td><td>71.01459242763501</td><td>-13.678789</td><td>4.4217463</td><td>2021.1458</td><td>3458764513820540928</td><td>1</td><td>TGT</td><td>0.9216408222094804</td><td>7</td><td>9011</td><td>1666p710</td><td>643878</td><td>542</td><td>PSF</td><td>0.027615344</td><td>10.581048</td><td>30.506155</td><td>40.60677</td><td>29.338884</td><td>12.392107</td><td>39.833836</td><td>42.876503</td><td>43.927975</td><td>1.1490555</td><td>0.58820045</td><td>8.20665</td><td>23.660542</td><td>31.494568</td><td>12.693012</td><td>26.845978</td><td>40.261246</td><td>2076</td><td>0.0</td><td>0.0</td><td>0.0</td><td>0.0</td><td>1075235343042983040</td><td>G2</td><td>19.774641</td><td>0.0</td><td>0.0</td><td>1.4887778</td><td>N</td><td>1100</td><td>1</td><td>0</td><td>0</td><td>0</td><td>0</td><td>0</td><td>3458764513820540928</td><td>2570</td><td>17</td><td>0</td><td>0</td><td>0</td><td>0</td><td>0</td><td>0</td><td>0</td><td>0</td><td>0</td><td>166.3701120272621</td><td>71.01459242763501</td><td>9</td><td>3270.5413</td><td>1</td><td>2</td><td>-0.00022222222</td><td>0.007760298</td><td>0.00066666666</td><td>0.0032998316</td><td>166.37010990743877</td><td>1.0572324</td><td>71.01458975130504</td><td>0.045939673</td><td>0.789</td><td>231.29535</td><td>0.086772576</td><td>45.893993</td><td>64.27058</td><td>522.583</td><td>394.5648</td><td>2.3186402</td><td>0.9764668</td><td>11066.208</td><td>24.760975</td><td>2165.9905</td><td>0.04069163</td><td>2427.4917</td><td>17776.598</td><td>7.5419583</td><td>35.352966</td><td>3.764069e-05</td><td>135.10963</td><td>7.385847e-06</td><td>0.0</td><td>5953.819</td><td>6.118788e-05</td><td>27.576477</td><td>60.430904</td><td>11297.503</td><td>159.95738</td><td>2211.8845</td><td>64.31127</td><td>8903.894</td><td>18171.162</td><td>37.437077</td><td>96.76034</td><td>0</td><td>False</td><td>1</td><td>True</td><td>1</td><td>True</td></tr>\n",
       "<tr><td>39633509169497259</td><td>sv1</td><td>backup</td><td>7642</td><td>7642</td><td>0.3306872979149908</td><td>3.840628980590673e-05</td><td>0</td><td>9738.104308694601</td><td>8.64197644386512 .. 0.0</td><td>7929</td><td>QSO</td><td>LOZ</td><td>4</td><td>22020.885125294328</td><td>0</td><td>167.1390170498203</td><td>72.43638120370633</td><td>0.1175817</td><td>-0.049939957</td><td>2021.1458</td><td>8070463726390095957</td><td>1</td><td>TGT</td><td>0.9158584987153892</td><td>63</td><td>9011</td><td>1672p725</td><td>646605</td><td>1195</td><td>PSF</td><td>0.033086184</td><td>25.77166</td><td>33.92565</td><td>45.21102</td><td>113.96134</td><td>128.14021</td><td>208.37607</td><td>137.93791</td><td>32.04756</td><td>2.1267111</td><td>0.68045163</td><td>20.068533</td><td>26.41809</td><td>35.20607</td><td>20.068533</td><td>26.41809</td><td>35.20607</td><td>0</td><td>0.0</td><td>0.0</td><td>0.0</td><td>0.0</td><td>1075575092136623360</td><td>G2</td><td>19.478346</td><td>19.300598</td><td>18.3693</td><td>0.079645194</td><td>N</td><td>3400</td><td>4</td><td>0</td><td>0</td><td>0</td><td>0</td><td>0</td><td>8070463726390095957</td><td>514</td><td>17</td><td>34359738368</td><td>0</td><td>0</td><td>0</td><td>0</td><td>0</td><td>0</td><td>0</td><td>0</td><td>167.1390170498203</td><td>72.43638120370633</td><td>3</td><td>900.2194</td><td>1</td><td>3</td><td>0.23754546</td><td>0.2790528</td><td>1.1264546</td><td>1.3212192</td><td>167.14237963263108</td><td>24.707638</td><td>72.43199157283952</td><td>9.68529</td><td>0.21518181</td><td>228.82852</td><td>0.19568707</td><td>194.55254</td><td>84.96426</td><td>4940.8228</td><td>230.49632</td><td>2.955359</td><td>5.7896767</td><td>23210.469</td><td>54.358013</td><td>20427.727</td><td>0.0764586</td><td>24027.47</td><td>21006.732</td><td>9.069338</td><td>217.70464</td><td>4.005458e-05</td><td>284.18478</td><td>3.4707005e-05</td><td>0.0</td><td>52297.457</td><td>3.7810914e-05</td><td>31.50805</td><td>343.7884</td><td>23439.297</td><td>338.7385</td><td>20622.28</td><td>85.04072</td><td>81265.75</td><td>21237.229</td><td>43.532745</td><td>567.2827</td><td>0</td><td>False</td><td>1</td><td>True</td><td>1</td><td>True</td></tr>\n",
       "<tr><td>39633510985632229</td><td>sv1</td><td>backup</td><td>7664</td><td>7664</td><td>0.08754483800622231</td><td>1.3286336126933339e-05</td><td>0</td><td>26506.040026672184</td><td>85.64059859914177 .. 0.0</td><td>7897</td><td>QSO</td><td>LOZ</td><td>4</td><td>89695.0917154774</td><td>0</td><td>165.65330486680392</td><td>72.77736343956454</td><td>-0.14946857</td><td>-0.0061477143</td><td>2021.1458</td><td>3458764513820540928</td><td>1</td><td>TGT</td><td>0.670341975807539</td><td>7</td><td>9011</td><td>1654p727</td><td>647038</td><td>2533</td><td>PSF</td><td>0.051166173</td><td>188.46913</td><td>308.18588</td><td>511.15195</td><td>654.56866</td><td>927.7447</td><td>44.4629</td><td>28.98252</td><td>5.5009313</td><td>0.472067</td><td>0.15988705</td><td>146.63208</td><td>239.77367</td><td>397.6846</td><td>149.5005</td><td>246.47618</td><td>410.24384</td><td>152</td><td>0.0</td><td>0.0</td><td>0.0</td><td>0.0</td><td>1078638572049839488</td><td>G2</td><td>16.90986</td><td>16.872644</td><td>15.796006</td><td>-0.020057606</td><td>N</td><td>1100</td><td>1</td><td>0</td><td>0</td><td>0</td><td>0</td><td>0</td><td>3458764513820540928</td><td>2570</td><td>17</td><td>0</td><td>0</td><td>0</td><td>0</td><td>0</td><td>0</td><td>0</td><td>0</td><td>0</td><td>165.65330486680392</td><td>72.77736343956454</td><td>1</td><td>300.0793</td><td>1</td><td>1</td><td>0.006</td><td>0.006</td><td>-0.012</td><td>0.012</td><td>165.6533860654789</td><td>0.0</td><td>72.7774084448226</td><td>0.0</td><td>0.789</td><td>7.6914825</td><td>0.004378904</td><td>1.5598394</td><td>2.6990743</td><td>26.50702</td><td>13.515884</td><td>0.114698894</td><td>0.05243599</td><td>366.814</td><td>0.8077539</td><td>74.44467</td><td>0.0020628332</td><td>84.6247</td><td>646.82367</td><td>0.24320504</td><td>1.1588516</td><td>1.0026279e-06</td><td>4.1469555</td><td>2.038985e-07</td><td>0.0</td><td>186.11542</td><td>1.7855682e-06</td><td>0.8249156</td><td>1.8314106</td><td>374.5055</td><td>4.9590883</td><td>76.00451</td><td>2.701137</td><td>297.24713</td><td>660.33954</td><td>1.1828195</td><td>3.0426984</td><td>0</td><td>False</td><td>1</td><td>True</td><td>1</td><td>True</td></tr>\n",
       "</table></div>"
      ],
      "text/plain": [
       "<Table length=8>\n",
       "     TARGETID     SURVEY PROGRAM HEALPIX ... SV_PRIMARY ZCAT_NSPEC ZCAT_PRIMARY\n",
       "      int64       bytes7  bytes6  int32  ...    bool      int64        bool    \n",
       "----------------- ------ ------- ------- ... ---------- ---------- ------------\n",
       "39633491716998359    sv1  backup    7548 ...       True          2         True\n",
       "39633495806445941    sv1  backup    7549 ...       True          2        False\n",
       "39633480975388030    sv1  backup    7606 ...       True          2        False\n",
       "39633495743530917    sv1  backup    7634 ...       True          1         True\n",
       "39633495743531519    sv1  backup    7634 ...       True          2         True\n",
       "39633497731629598    sv1  backup    7640 ...       True          1         True\n",
       "39633509169497259    sv1  backup    7642 ...       True          1         True\n",
       "39633510985632229    sv1  backup    7664 ...       True          1         True"
      ]
     },
     "execution_count": 62,
     "metadata": {},
     "output_type": "execute_result"
    }
   ],
   "source": [
    "is_confident = demo[\"DELTACHI2\"] > 40\n",
    "not_confident = demo[\"DELTACHI2\"] < 40\n",
    "demo[is_confident]"
   ]
  },
  {
   "cell_type": "code",
   "execution_count": 66,
   "id": "d6314f94-e540-4cfb-ae03-343ca36ee0e2",
   "metadata": {
    "tags": []
   },
   "outputs": [
    {
     "data": {
      "text/plain": [
       "array([0, 1, 1, 1, 0, 1, 1, 1, 1, 1])"
      ]
     },
     "execution_count": 66,
     "metadata": {},
     "output_type": "execute_result"
    }
   ],
   "source": [
    "is_confident.astype(int)  # flag of confidence -> Δχ^2>40 or not"
   ]
  }
 ],
 "metadata": {
  "kernelspec": {
   "display_name": "DESI main",
   "language": "python",
   "name": "desi-main"
  },
  "language_info": {
   "codemirror_mode": {
    "name": "ipython",
    "version": 3
   },
   "file_extension": ".py",
   "mimetype": "text/x-python",
   "name": "python",
   "nbconvert_exporter": "python",
   "pygments_lexer": "ipython3",
   "version": "3.10.14"
  }
 },
 "nbformat": 4,
 "nbformat_minor": 5
}
