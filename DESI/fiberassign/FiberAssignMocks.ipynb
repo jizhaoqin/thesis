{
 "cells": [
  {
   "cell_type": "markdown",
   "metadata": {},
   "source": [
    "# fiberassign on Mock Catalogs"
   ]
  },
  {
   "cell_type": "markdown",
   "metadata": {},
   "source": [
    "**NOTE**: this tutorial takes ~30 minutes just to run all the steps"
   ]
  },
  {
   "cell_type": "code",
   "execution_count": null,
   "metadata": {},
   "outputs": [],
   "source": [
    "import os, sys, subprocess, fitsio, shutil\n",
    "from pkg_resources import resource_filename\n",
    "from collections import Counter\n",
    "\n",
    "import numpy as np\n",
    "from astropy.table import Table\n",
    "from astropy.io import fits\n",
    "\n",
    "import desimodel.io\n",
    "import desimodel.focalplane\n",
    "import desimodel.footprint\n",
    "from desitarget.targetmask import desi_mask, obsconditions\n",
    "import matplotlib.pyplot as plt"
   ]
  },
  {
   "cell_type": "markdown",
   "metadata": {},
   "source": [
    "## Learning goals\n",
    "\n",
    "In this notebook you will learn how to:\n",
    "\n",
    "* Generate mock files from simulations to feed into fiberassign.\n",
    "* Run fiberassign using the files generated above.\n",
    "* Explore the outputs of fiberassign to estimate its efficiency.\n",
    "\n",
    "\n",
    "See https://desi.lbl.gov/trac/wiki/Computing/JupyterAtNERSC for instructions on configuring jupyter kernels with pre-installed DESI software at NERSC.  This tutorial was last tested with the 22.2 kernel on April 2022.\n",
    "\n",
    "This notebook reuses code in the [main fiberassign notebook](https://github.com/desihub/tutorials/blob/master/FiberAssign.ipynb)."
   ]
  },
  {
   "cell_type": "code",
   "execution_count": null,
   "metadata": {},
   "outputs": [],
   "source": [
    "workdir = os.path.join(os.environ['SCRATCH'], 'desi', 'test', 'fiberassign_mock')\n",
    "os.makedirs(workdir, exist_ok=True)\n",
    "outdir = os.path.join(workdir, 'output')\n",
    "os.makedirs(outdir, exist_ok=True)\n",
    "shutil.copy(resource_filename('desitarget.mock', 'data/select-mock-targets.yaml'), workdir)\n",
    "os.chdir(workdir)"
   ]
  },
  {
   "cell_type": "code",
   "execution_count": null,
   "metadata": {},
   "outputs": [],
   "source": [
    "# This is the content of the configuration file to be passed to select_mock_targets\n",
    "!cat select-mock-targets.yaml"
   ]
  },
  {
   "cell_type": "markdown",
   "metadata": {},
   "source": [
    "Some more files needed to run fiberassign"
   ]
  },
  {
   "cell_type": "code",
   "execution_count": null,
   "metadata": {},
   "outputs": [],
   "source": [
    "mtlfile = os.path.join(workdir, 'mtl.fits')\n",
    "truthfile = os.path.join(workdir, 'truth.fits')\n",
    "starfile = os.path.join(workdir, 'std.fits')\n",
    "targetcutfile = os.path.join(workdir, 'targets.fits') \n",
    "skycutfile = os.path.join(workdir, 'sky.fits') \n",
    "tilefile = os.path.join(workdir, \"tiles.fits\")"
   ]
  },
  {
   "cell_type": "code",
   "execution_count": null,
   "metadata": {},
   "outputs": [],
   "source": [
    "# tile selection\n",
    "program = \"dark\"\n",
    "\n",
    "tiles = desimodel.io.load_tiles()\n",
    "bright = tiles['PROGRAM']=='BRIGHT'\n",
    "    \n",
    "small = ((tiles['RA']>12) & (tiles['RA']<20) & (tiles['DEC']<1) & (tiles['DEC']>-1))\n",
    "\n",
    "if program==\"bright\":\n",
    "    Table(tiles[(bright)&(small)]).write(tilefile, overwrite=True)\n",
    "else:\n",
    "    Table(tiles[(~bright) & (small)]).write(tilefile, overwrite=True)\n",
    "\n",
    "print(\"Wrote tiles to {}\".format(tilefile))"
   ]
  },
  {
   "cell_type": "code",
   "execution_count": null,
   "metadata": {},
   "outputs": [],
   "source": [
    "!pwd\n",
    "!ls"
   ]
  },
  {
   "cell_type": "code",
   "execution_count": null,
   "metadata": {},
   "outputs": [],
   "source": [
    "cmd = \"srun -A desi -N 2 -n 16 -c 8\"  # -c 8 not 4 for hyperthreading\n",
    "cmd += \" -C haswell -t 01:00:00 --qos interactive \"\n",
    "cmd += \" mpi_select_mock_targets --no-spectra --nproc 4 --nside 32 --seed 10\"\n",
    "cmd += \" -c ./select-mock-targets.yaml \"\n",
    "cmd += \" --output_dir ./ \"\n",
    "cmd += \" --tiles ./tiles.fits\"\n",
    "print(cmd)"
   ]
  },
  {
   "cell_type": "code",
   "execution_count": null,
   "metadata": {},
   "outputs": [],
   "source": [
    "# To run target selection comment out these lines. it should take ~30 minutes\n",
    "print('RUNNING: '+cmd)\n",
    "try:\n",
    "    results = subprocess.check_output(cmd.split(), stderr=subprocess.STDOUT)\n",
    "    print(results.decode())\n",
    "    print('--- SUCCESS ---')\n",
    "except subprocess.CalledProcessError as ex:\n",
    "    print('--- ERROR {} ---'.format(ex.returncode))\n",
    "    print(ex.output.decode())\n",
    "    raise ex"
   ]
  },
  {
   "cell_type": "code",
   "execution_count": null,
   "metadata": {},
   "outputs": [],
   "source": [
    "cmd = 'join_mock_targets --overwrite --mockdir ./'\n",
    "print('RUNNING: '+cmd)\n",
    "try:\n",
    "    results = subprocess.check_output(cmd.split(), stderr=subprocess.STDOUT)\n",
    "    print(results.decode())\n",
    "    print('--- SUCCESS ---')\n",
    "except subprocess.CalledProcessError as ex:\n",
    "    print('--- ERROR {} ---'.format(ex.returncode))\n",
    "    print(ex.output.decode())\n",
    "    raise ex"
   ]
  },
  {
   "cell_type": "code",
   "execution_count": null,
   "metadata": {},
   "outputs": [],
   "source": [
    "mtldata = Table.read('mtl-dark.fits')\n",
    "plt.scatter(mtldata['RA'], mtldata['DEC'],s=0.1, alpha=0.1)\n",
    "plt.xlabel('RA')\n",
    "plt.ylabel('DEC')"
   ]
  },
  {
   "cell_type": "markdown",
   "metadata": {},
   "source": [
    "By default, fiberassign uses the real focalplane geometry and properties at the current time.  During operations, if a fiber broke yesterday and you run fiberassign today with an up-to-date desimodel data checkout, then that fiber will not be assigned.  For this tutorial, we will run fiberassign with a *rundate* set to a time in the past before the start of commissioning.  This will give us a nominal focalplane layout with all positioners working."
   ]
  },
  {
   "cell_type": "code",
   "execution_count": null,
   "metadata": {},
   "outputs": [],
   "source": [
    "assign_date = \"2022-01-01T00:00:00+00:00\""
   ]
  },
  {
   "cell_type": "code",
   "execution_count": null,
   "metadata": {},
   "outputs": [],
   "source": [
    "# Run fiberassign\n",
    "cmd = 'fiberassign --overwrite --mtl mtl-dark.fits --sky sky.fits'\n",
    "cmd += ' --rundate {}'.format(assign_date)\n",
    "cmd += ' --footprint ./tiles.fits'\n",
    "cmd += ' --outdir ./output/'\n",
    "cmd = cmd.format(outdir=outdir)"
   ]
  },
  {
   "cell_type": "code",
   "execution_count": null,
   "metadata": {},
   "outputs": [],
   "source": [
    "print('RUNNING: '+cmd)\n",
    "try:\n",
    "    results = subprocess.check_output(cmd.split(), stderr=subprocess.STDOUT)\n",
    "    print(results.decode())\n",
    "    print('--- SUCCESS ---')\n",
    "except subprocess.CalledProcessError as ex:\n",
    "    print('--- ERROR {} ---'.format(ex.returncode))\n",
    "    print(ex.output.decode())\n",
    "    raise ex"
   ]
  },
  {
   "cell_type": "code",
   "execution_count": null,
   "metadata": {},
   "outputs": [],
   "source": [
    "!ls output"
   ]
  },
  {
   "cell_type": "code",
   "execution_count": null,
   "metadata": {},
   "outputs": [],
   "source": [
    "tiles = Table.read(\"tiles.fits\")\n",
    "targets = Table.read(\"mtl-dark.fits\")"
   ]
  },
  {
   "cell_type": "code",
   "execution_count": null,
   "metadata": {},
   "outputs": [],
   "source": [
    "# Gather all outputs\n",
    "assignments = list()\n",
    "for tileid in tiles['TILEID']:\n",
    "    fafile = '{}/fiberassign-{:06d}.fits'.format(outdir, tileid)\n",
    "    assignments.append(Table.read(fafile, hdu=1))\n",
    "    \n",
    "assigned_targetids = np.concatenate([tmp['TARGETID'] for tmp in assignments])\n",
    "isAssigned = np.in1d(targets['TARGETID'], assigned_targetids)\n",
    "\n",
    "plt.figure(figsize=(12,4))\n",
    "plt.plot(targets['RA'][isAssigned], targets['DEC'][isAssigned], 'k,')\n",
    "plt.title('Targets assigned to fibers')\n",
    "plt.xlabel('RA [deg]')\n",
    "plt.ylabel('DEC [deg]')"
   ]
  },
  {
   "cell_type": "code",
   "execution_count": null,
   "metadata": {},
   "outputs": [],
   "source": [
    "plt.figure(figsize=(12,4))\n",
    "plt.plot(targets['RA'][~isAssigned], targets['DEC'][~isAssigned], 'k,')\n",
    "plt.title('Targets left unassigned to fibers')\n",
    "plt.xlabel('RA [deg]')\n",
    "plt.ylabel('DEC [deg]')"
   ]
  },
  {
   "cell_type": "code",
   "execution_count": null,
   "metadata": {},
   "outputs": [],
   "source": []
  }
 ],
 "metadata": {
  "kernelspec": {
   "display_name": "DESI 22.2",
   "language": "python",
   "name": "desi-22.2"
  },
  "language_info": {
   "codemirror_mode": {
    "name": "ipython",
    "version": 3
   },
   "file_extension": ".py",
   "mimetype": "text/x-python",
   "name": "python",
   "nbconvert_exporter": "python",
   "pygments_lexer": "ipython3",
   "version": "3.9.7"
  }
 },
 "nbformat": 4,
 "nbformat_minor": 4
}
