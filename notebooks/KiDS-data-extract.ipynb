{
 "cells": [
  {
   "cell_type": "markdown",
   "id": "d830002e-3f88-4ef3-be98-d3d2dad466ef",
   "metadata": {},
   "source": [
    "## KiDS data extract"
   ]
  },
  {
   "cell_type": "code",
   "execution_count": 1,
   "id": "9c8d2d21-cb9f-4235-8ecd-53c0ad4ee34f",
   "metadata": {
    "tags": []
   },
   "outputs": [],
   "source": [
    "# import some python packages \n",
    "import gc\n",
    "import os\n",
    "import numpy as np\n",
    "\n",
    "from astropy.table import Table\n",
    "from astropy.io import fits"
   ]
  },
  {
   "cell_type": "code",
   "execution_count": 2,
   "id": "316b61eb-389e-42e9-99b5-12be4b72d44f",
   "metadata": {
    "tags": []
   },
   "outputs": [
    {
     "name": "stdout",
     "output_type": "stream",
     "text": [
      "/pscratch/sd/t/torluca/kids_dr4\n"
     ]
    }
   ],
   "source": [
    "# data directory path\n",
    "Luca_KIDS_data_dir = \"/pscratch/sd/t/torluca/kids_dr4\"\n",
    "specprod_dir = Luca_KIDS_data_dir\n",
    "print(specprod_dir)"
   ]
  },
  {
   "cell_type": "code",
   "execution_count": 4,
   "id": "d22cb170-7d4b-4a9e-a676-1ce6ec1a1325",
   "metadata": {
    "tags": []
   },
   "outputs": [
    {
     "name": "stdout",
     "output_type": "stream",
     "text": [
      "Filename: /pscratch/sd/t/torluca/kids_dr4/KiDS_DR4.1_157.0_1.5_ugriZYJHKs_cat.fits\n",
      "No.    Name      Ver    Type      Cards   Dimensions   Format\n",
      "  0  PRIMARY       1 PrimaryHDU     327   ()      \n",
      "  1  PHASE3CATALOG    1 BinTableHDU   1631   87001R x 306C   [30A, 16A, 16A, 1J, 1J, 1J, 1E, 1E, 1E, 1E, 1E, 1E, 1E, 1E, 1E, 1E, 1E, 1E, 1E, 1D, 1D, 1E, 1E, 1E, 1E, 1E, 1E, 1E, 1E, 1E, 1E, 1I, 1E, 1E, 1E, 1E, 1E, 1E, 1E, 1E, 1E, 1E, 1E, 1J, 1J, 1J, 1J, 1E, 1E, 1E, 1E, 1E, 1E, 1E, 1E, 1J, 1J, 1J, 1J, 1E, 1E, 1E, 1E, 1E, 1E, 1E, 1E, 1E, 1E, 1E, 1E, 1E, 1E, 1E, 1E, 1I, 1I, 1I, 1I, 1I, 1I, 1D, 1D, 1E, 1E, 1E, 1E, 1E, 1E, 1E, 1E, 1E, 1E, 1E, 1E, 1D, 1D, 1E, 1E, 1E, 1E, 1E, 1E, 1E, 1E, 1E, 1E, 1E, 1E, 1E, 1E, 1E, 1E, 1E, 1E, 1E, 1E, 1E, 1E, 1E, 1E, 1E, 1E, 1E, 1E, 1E, 1E, 1E, 1E, 1E, 1E, 1E, 1E, 1E, 1E, 1E, 1E, 1E, 1E, 1E, 1E, 1I, 1I, 1I, 1I, 1I, 1I, 1I, 1I, 1D, 1D, 1I, 1J, 1I, 1E, 1E, 1E, 1E, 1I, 1E, 1E, 1E, 1E, 1I, 1E, 1E, 1E, 1E, 1I, 1E, 1E, 1E, 1E, 1I, 1E, 1E, 1E, 1E, 1I, 1E, 1E, 1E, 1E, 1I, 1E, 1E, 1E, 1E, 1I, 1E, 1E, 1E, 1E, 1I, 1E, 1E, 1E, 1E, 1I, 1E, 1E, 1E, 1E, 1I, 1E, 1E, 1E, 1E, 1E, 1E, 1E, 1E, 1E, 1E, 1E, 1E, 1E, 1E, 1E, 1E, 1E, 1E, 1E, 1E, 1E, 1E, 1E, 1E, 1E, 1I, 1E, 1E, 1E, 1E, 1I, 1E, 1E, 1E, 1E, 1I, 1E, 1E, 1E, 1E, 1I, 1E, 1E, 1E, 1E, 1I, 1E, 1E, 1E, 1E, 1I, 1E, 1E, 1E, 1E, 1I, 1E, 1E, 1E, 1E, 1I, 1E, 1E, 1E, 1E, 1I, 1E, 1E, 1E, 1E, 1E, 1E, 1E, 1E, 1E, 1E, 1E, 1D, 1D, 1D, 1D, 1D, 1D, 1D, 1D, 1D, 1J, 1J, 1J, 1J, 1J, 1J, 1E, 1J, 1E, 1E, 1E, 1E, 1E, 1E, 1E, 1E]   \n",
      "  2  FIELDS        1 BinTableHDU     23   2R x 4C   [1J, 1J, 1J, 16A]   \n"
     ]
    }
   ],
   "source": [
    "data_file = \"KiDS_DR4.1_157.0_1.5_ugriZYJHKs_cat.fits\"\n",
    "hdulist = fits.open(f'{specprod_dir}/{data_file}')\n",
    "hdulist.info()\n",
    "\n",
    "KIDS_data = Table.read(f'{specprod_dir}/{data_file}', hdu=\"PHASE3CATALOG\")"
   ]
  },
  {
   "cell_type": "code",
   "execution_count": 4,
   "id": "70969cc1-6bc5-4d1b-82c3-fdd0ebd2ad88",
   "metadata": {
    "tags": []
   },
   "outputs": [
    {
     "data": {
      "text/plain": [
       "0"
      ]
     },
     "execution_count": 4,
     "metadata": {},
     "output_type": "execute_result"
    }
   ],
   "source": [
    "gc.collect()"
   ]
  },
  {
   "cell_type": "markdown",
   "id": "90a87988-cad8-41e5-a7f4-4682b8a82ad6",
   "metadata": {},
   "source": [
    "- For the beginning, let's make it more manageble by selecting only the galaxies that live in the KiDS-VIKING 1000 footprint.\n",
    "- You can select these galaxies via RA,DEC with"
   ]
  },
  {
   "cell_type": "code",
   "execution_count": 5,
   "id": "e9fc7d9e-65c1-43ce-b0ee-ccda9af19dbd",
   "metadata": {
    "tags": []
   },
   "outputs": [
    {
     "data": {
      "text/html": [
       "<div><i>Table length=5</i>\n",
       "<table id=\"table140467920054704\" class=\"table-striped table-bordered table-condensed\">\n",
       "<thead><tr><th>ID</th><th>KIDS_TILE</th><th>THELI_NAME</th><th>SeqNr</th><th>SLID</th><th>SID</th><th>FLUX_AUTO</th><th>FLUXERR_AUTO</th><th>MAG_AUTO</th><th>MAGERR_AUTO</th><th>KRON_RADIUS</th><th>BackGr</th><th>Level</th><th>MU_THRESHOLD</th><th>MaxVal</th><th>MU_MAX</th><th>ISOAREA_WORLD</th><th>Xpos</th><th>Ypos</th><th>RAJ2000</th><th>DECJ2000</th><th>A_WORLD</th><th>B_WORLD</th><th>THETA_J2000</th><th>THETA_WORLD</th><th>ERRA_WORLD</th><th>ERRB_WORLD</th><th>ERRTHETA_J2000</th><th>ERRTHETA_WORLD</th><th>FWHM_IMAGE</th><th>FWHM_WORLD</th><th>Flag</th><th>FLUX_RADIUS</th><th>CLASS_STAR</th><th>EXTINCTION_u</th><th>EXTINCTION_g</th><th>EXTINCTION_r</th><th>EXTINCTION_i</th><th>Agaper_0p7</th><th>Bgaper_0p7</th><th>Agaper_1p0</th><th>Bgaper_1p0</th><th>PAgaap</th><th>FLAG_GAAP_0p7_u</th><th>FLAG_GAAP_0p7_g</th><th>FLAG_GAAP_0p7_r</th><th>FLAG_GAAP_0p7_i</th><th>FLUX_GAAP_0p7_u</th><th>FLUX_GAAP_0p7_g</th><th>FLUX_GAAP_0p7_r</th><th>FLUX_GAAP_0p7_i</th><th>FLUXERR_GAAP_0p7_u</th><th>FLUXERR_GAAP_0p7_g</th><th>FLUXERR_GAAP_0p7_r</th><th>FLUXERR_GAAP_0p7_i</th><th>FLAG_GAAP_1p0_u</th><th>FLAG_GAAP_1p0_g</th><th>FLAG_GAAP_1p0_r</th><th>FLAG_GAAP_1p0_i</th><th>FLUX_GAAP_1p0_u</th><th>FLUX_GAAP_1p0_g</th><th>FLUX_GAAP_1p0_r</th><th>FLUX_GAAP_1p0_i</th><th>FLUXERR_GAAP_1p0_u</th><th>FLUXERR_GAAP_1p0_g</th><th>FLUXERR_GAAP_1p0_r</th><th>FLUXERR_GAAP_1p0_i</th><th>MAG_ISO</th><th>MAGERR_ISO</th><th>FLUX_ISO</th><th>FLUXERR_ISO</th><th>MAG_ISOCOR</th><th>MAGERR_ISOCOR</th><th>FLUX_ISOCOR</th><th>FLUXERR_ISOCOR</th><th>NIMAFLAGS_ISO</th><th>IMAFLAGS_ISO</th><th>XMIN_IMAGE</th><th>YMIN_IMAGE</th><th>XMAX_IMAGE</th><th>YMAX_IMAGE</th><th>X_WORLD</th><th>Y_WORLD</th><th>X2_WORLD</th><th>Y2_WORLD</th><th>XY_WORLD</th><th>ERRX2_WORLD</th><th>ERRY2_WORLD</th><th>ERRXY_WORLD</th><th>CXX_WORLD</th><th>CYY_WORLD</th><th>CXY_WORLD</th><th>ERRCXX_WORLD</th><th>ERRCYY_WORLD</th><th>ERRCXY_WORLD</th><th>A_IMAGE</th><th>B_IMAGE</th><th>ERRA_IMAGE</th><th>ERRB_IMAGE</th><th>S_ELLIPTICITY</th><th>S_ELONGATION</th><th>MAG_APER_4</th><th>MAGERR_APER_4</th><th>FLUX_APER_4</th><th>FLUXERR_APER_4</th><th>MAG_APER_6</th><th>MAGERR_APER_6</th><th>FLUX_APER_6</th><th>FLUXERR_APER_6</th><th>MAG_APER_8</th><th>MAGERR_APER_8</th><th>FLUX_APER_8</th><th>FLUXERR_APER_8</th><th>MAG_APER_10</th><th>MAGERR_APER_10</th><th>FLUX_APER_10</th><th>FLUXERR_APER_10</th><th>MAG_APER_14</th><th>MAGERR_APER_14</th><th>FLUX_APER_14</th><th>FLUXERR_APER_14</th><th>MAG_APER_20</th><th>MAGERR_APER_20</th><th>FLUX_APER_20</th><th>FLUXERR_APER_20</th><th>MAG_APER_30</th><th>MAGGERR_APER_30</th><th>FLUXERR_APER_30</th><th>FLUX_APER_30</th><th>MAG_APER_40</th><th>MAGERR_APER_40</th><th>FLUX_APER_40</th><th>FLUXERR_APER_40</th><th>MAG_APER_60</th><th>MAGERR_APER_60</th><th>FLUX_APER_60</th><th>FLUXERR_APER_60</th><th>MAG_APER_100</th><th>MAGERR_APER_100</th><th>FLUX_APER_100</th><th>FLUXERR_APER_100</th><th>ISO0</th><th>ISO1</th><th>ISO2</th><th>ISO3</th><th>ISO4</th><th>ISO5</th><th>ISO6</th><th>ISO7</th><th>ALPHA_J2000</th><th>DELTA_J2000</th><th>SG2DPHOT</th><th>HTM</th><th>FIELD_POS</th><th>MAG_GAAP_0p7_Z</th><th>MAGERR_GAAP_0p7_Z</th><th>FLUX_GAAP_0p7_Z</th><th>FLUXERR_GAAP_0p7_Z</th><th>FLAG_GAAP_0p7_Z</th><th>MAG_GAAP_1p0_Z</th><th>MAGERR_GAAP_1p0_Z</th><th>FLUX_GAAP_1p0_Z</th><th>FLUXERR_GAAP_1p0_Z</th><th>FLAG_GAAP_1p0_Z</th><th>MAG_GAAP_0p7_Y</th><th>MAGERR_GAAP_0p7_Y</th><th>FLUX_GAAP_0p7_Y</th><th>FLUXERR_GAAP_0p7_Y</th><th>FLAG_GAAP_0p7_Y</th><th>MAG_GAAP_1p0_Y</th><th>MAGERR_GAAP_1p0_Y</th><th>FLUX_GAAP_1p0_Y</th><th>FLUXERR_GAAP_1p0_Y</th><th>FLAG_GAAP_1p0_Y</th><th>MAG_GAAP_0p7_J</th><th>MAGERR_GAAP_0p7_J</th><th>FLUX_GAAP_0p7_J</th><th>FLUXERR_GAAP_0p7_J</th><th>FLAG_GAAP_0p7_J</th><th>MAG_GAAP_1p0_J</th><th>MAGERR_GAAP_1p0_J</th><th>FLUX_GAAP_1p0_J</th><th>FLUXERR_GAAP_1p0_J</th><th>FLAG_GAAP_1p0_J</th><th>MAG_GAAP_0p7_H</th><th>MAGERR_GAAP_0p7_H</th><th>FLUX_GAAP_0p7_H</th><th>FLUXERR_GAAP_0p7_H</th><th>FLAG_GAAP_0p7_H</th><th>MAG_GAAP_1p0_H</th><th>MAGERR_GAAP_1p0_H</th><th>FLUX_GAAP_1p0_H</th><th>FLUXERR_GAAP_1p0_H</th><th>FLAG_GAAP_1p0_H</th><th>MAG_GAAP_0p7_Ks</th><th>MAGERR_GAAP_0p7_Ks</th><th>FLUX_GAAP_0p7_Ks</th><th>FLUXERR_GAAP_0p7_Ks</th><th>FLAG_GAAP_0p7_Ks</th><th>MAG_GAAP_1p0_Ks</th><th>MAGERR_GAAP_1p0_Ks</th><th>FLUX_GAAP_1p0_Ks</th><th>FLUXERR_GAAP_1p0_Ks</th><th>FLAG_GAAP_1p0_Ks</th><th>EXTINCTION_Z</th><th>EXTINCTION_Y</th><th>EXTINCTION_J</th><th>EXTINCTION_H</th><th>EXTINCTION_Ks</th><th>MAG_GAAP_0p7_u</th><th>MAGERR_GAAP_0p7_u</th><th>MAG_GAAP_0p7_g</th><th>MAGERR_GAAP_0p7_g</th><th>MAG_GAAP_0p7_r</th><th>MAGERR_GAAP_0p7_r</th><th>MAG_GAAP_0p7_i</th><th>MAGERR_GAAP_0p7_i</th><th>MAG_GAAP_1p0_u</th><th>MAGERR_GAAP_1p0_u</th><th>MAG_GAAP_1p0_g</th><th>MAGERR_GAAP_1p0_g</th><th>MAG_GAAP_1p0_r</th><th>MAGERR_GAAP_1p0_r</th><th>MAG_GAAP_1p0_i</th><th>MAGERR_GAAP_1p0_i</th><th>MAG_GAAP_u</th><th>MAGERR_GAAP_u</th><th>FLUX_GAAP_u</th><th>FLUXERR_GAAP_u</th><th>FLAG_GAAP_u</th><th>MAG_GAAP_g</th><th>MAGERR_GAAP_g</th><th>FLUX_GAAP_g</th><th>FLUXERR_GAAP_g</th><th>FLAG_GAAP_g</th><th>MAG_GAAP_r</th><th>MAGERR_GAAP_r</th><th>FLUX_GAAP_r</th><th>FLUXERR_GAAP_r</th><th>FLAG_GAAP_r</th><th>MAG_GAAP_i</th><th>MAGERR_GAAP_i</th><th>FLUX_GAAP_i</th><th>FLUXERR_GAAP_i</th><th>FLAG_GAAP_i</th><th>MAG_GAAP_Z</th><th>MAGERR_GAAP_Z</th><th>FLUX_GAAP_Z</th><th>FLUXERR_GAAP_Z</th><th>FLAG_GAAP_Z</th><th>MAG_GAAP_Y</th><th>MAGERR_GAAP_Y</th><th>FLUX_GAAP_Y</th><th>FLUXERR_GAAP_Y</th><th>FLAG_GAAP_Y</th><th>MAG_GAAP_J</th><th>MAGERR_GAAP_J</th><th>FLUX_GAAP_J</th><th>FLUXERR_GAAP_J</th><th>FLAG_GAAP_J</th><th>MAG_GAAP_H</th><th>MAGERR_GAAP_H</th><th>FLUX_GAAP_H</th><th>FLUXERR_GAAP_H</th><th>FLAG_GAAP_H</th><th>MAG_GAAP_Ks</th><th>MAGERR_GAAP_Ks</th><th>FLUX_GAAP_Ks</th><th>FLUXERR_GAAP_Ks</th><th>FLAG_GAAP_Ks</th><th>Agaper</th><th>Bgaper</th><th>MAG_LIM_u</th><th>MAG_LIM_g</th><th>MAG_LIM_r</th><th>MAG_LIM_i</th><th>MAG_LIM_Z</th><th>MAG_LIM_Y</th><th>MAG_LIM_J</th><th>MAG_LIM_H</th><th>MAG_LIM_Ks</th><th>Z_B</th><th>Z_B_MIN</th><th>Z_B_MAX</th><th>T_B</th><th>ODDS</th><th>Z_ML</th><th>T_ML</th><th>CHI_SQUARED_BPZ</th><th>M_0</th><th>BPZ_FILT</th><th>NBPZ_FILT</th><th>BPZ_NONDETFILT</th><th>NBPZ_NONDETFILT</th><th>BPZ_FLAGFILT</th><th>NBPZ_FLAGFILT</th><th>SG_FLAG</th><th>MASK</th><th>COLOUR_GAAP_u_g</th><th>COLOUR_GAAP_g_r</th><th>COLOUR_GAAP_r_i</th><th>COLOUR_GAAP_i_Z</th><th>COLOUR_GAAP_Z_Y</th><th>COLOUR_GAAP_Y_J</th><th>COLOUR_GAAP_J_H</th><th>COLOUR_GAAP_H_Ks</th></tr></thead>\n",
       "<thead><tr><th></th><th></th><th></th><th></th><th></th><th></th><th>ct</th><th>ct</th><th>mag</th><th>mag</th><th>pix</th><th>ct</th><th>ct</th><th>mag / arcsec2</th><th>ct</th><th>mag / arcsec2</th><th>deg2</th><th>pix</th><th>pix</th><th>deg</th><th>deg</th><th>deg</th><th>deg</th><th>deg</th><th>deg</th><th>deg</th><th>deg</th><th>deg</th><th>deg</th><th>pix</th><th>deg</th><th></th><th>pix</th><th></th><th>mag</th><th>mag</th><th>mag</th><th>mag</th><th>arcsec</th><th>arcsec</th><th>arcsec</th><th>arcsec</th><th>deg</th><th></th><th></th><th></th><th></th><th>ct</th><th>ct</th><th>ct</th><th>ct</th><th>ct</th><th>ct</th><th>ct</th><th>ct</th><th></th><th></th><th></th><th></th><th>ct</th><th>ct</th><th>ct</th><th>ct</th><th>ct</th><th>ct</th><th>ct</th><th>ct</th><th>mag</th><th>mag</th><th>ct</th><th>ct</th><th>mag</th><th>mag</th><th>ct</th><th>ct</th><th></th><th></th><th>pix</th><th>pix</th><th>pix</th><th>pix</th><th>deg</th><th>deg</th><th>deg2</th><th>deg2</th><th>deg2</th><th>deg2</th><th>deg2</th><th>deg2</th><th>1 / deg2</th><th>1 / deg2</th><th>1 / deg2</th><th>1 / deg2</th><th>1 / deg2</th><th>1 / deg2</th><th>pix</th><th>pix</th><th>pix</th><th>pix</th><th></th><th></th><th>mag</th><th>mag</th><th>ct</th><th>ct</th><th>mag</th><th>mag</th><th>ct</th><th>ct</th><th>mag</th><th>mag</th><th>ct</th><th>ct</th><th>mag</th><th>mag</th><th>ct</th><th>ct</th><th>mag</th><th>mag</th><th>ct</th><th>ct</th><th>mag</th><th>mag</th><th>ct</th><th>ct</th><th>mag</th><th>mag</th><th>ct</th><th>ct</th><th>mag</th><th>mag</th><th>ct</th><th>ct</th><th>mag</th><th>mag</th><th>ct</th><th>ct</th><th>mag</th><th>mag</th><th>ct</th><th>ct</th><th>pix2</th><th>pix2</th><th>pix2</th><th>pix2</th><th>pix2</th><th>pix2</th><th>pix2</th><th>pix2</th><th>deg</th><th>deg</th><th></th><th></th><th></th><th>mag</th><th>mag</th><th>ct</th><th>ct</th><th></th><th>mag</th><th>mag</th><th>ct</th><th>ct</th><th></th><th>mag</th><th>mag</th><th>ct</th><th>ct</th><th></th><th>mag</th><th>mag</th><th>ct</th><th>ct</th><th></th><th>mag</th><th>mag</th><th>ct</th><th>ct</th><th></th><th>mag</th><th>mag</th><th>ct</th><th>ct</th><th></th><th>mag</th><th>mag</th><th>ct</th><th>ct</th><th></th><th>mag</th><th>mag</th><th>ct</th><th>ct</th><th></th><th>mag</th><th>mag</th><th>ct</th><th>ct</th><th></th><th>mag</th><th>mag</th><th>ct</th><th>ct</th><th></th><th>mag</th><th>mag</th><th>mag</th><th>mag</th><th>mag</th><th>mag</th><th>mag</th><th>mag</th><th>mag</th><th>mag</th><th>mag</th><th>mag</th><th>mag</th><th>mag</th><th>mag</th><th>mag</th><th>mag</th><th>mag</th><th>mag</th><th>mag</th><th>mag</th><th>mag</th><th>mag</th><th>ct</th><th>ct</th><th></th><th>mag</th><th>mag</th><th>ct</th><th>ct</th><th></th><th>mag</th><th>mag</th><th>ct</th><th>ct</th><th></th><th>mag</th><th>mag</th><th>ct</th><th>ct</th><th></th><th>mag</th><th>mag</th><th>ct</th><th>ct</th><th></th><th>mag</th><th>mag</th><th>ct</th><th>ct</th><th></th><th>mag</th><th>mag</th><th>ct</th><th>ct</th><th></th><th>mag</th><th>mag</th><th>ct</th><th>ct</th><th></th><th>mag</th><th>mag</th><th>ct</th><th>ct</th><th></th><th>arcsec</th><th>arcsec</th><th>mag</th><th>mag</th><th>mag</th><th>mag</th><th>mag</th><th>mag</th><th>mag</th><th>mag</th><th>mag</th><th></th><th></th><th></th><th></th><th></th><th></th><th></th><th></th><th>mag</th><th></th><th></th><th></th><th></th><th></th><th></th><th></th><th></th><th>mag</th><th>mag</th><th>mag</th><th>mag</th><th>mag</th><th>mag</th><th>mag</th><th>mag</th></tr></thead>\n",
       "<thead><tr><th>bytes30</th><th>bytes16</th><th>bytes16</th><th>int32</th><th>int32</th><th>int32</th><th>float32</th><th>float32</th><th>float32</th><th>float32</th><th>float32</th><th>float32</th><th>float32</th><th>float32</th><th>float32</th><th>float32</th><th>float32</th><th>float32</th><th>float32</th><th>float64</th><th>float64</th><th>float32</th><th>float32</th><th>float32</th><th>float32</th><th>float32</th><th>float32</th><th>float32</th><th>float32</th><th>float32</th><th>float32</th><th>int16</th><th>float32</th><th>float32</th><th>float32</th><th>float32</th><th>float32</th><th>float32</th><th>float32</th><th>float32</th><th>float32</th><th>float32</th><th>float32</th><th>int32</th><th>int32</th><th>int32</th><th>int32</th><th>float32</th><th>float32</th><th>float32</th><th>float32</th><th>float32</th><th>float32</th><th>float32</th><th>float32</th><th>int32</th><th>int32</th><th>int32</th><th>int32</th><th>float32</th><th>float32</th><th>float32</th><th>float32</th><th>float32</th><th>float32</th><th>float32</th><th>float32</th><th>float32</th><th>float32</th><th>float32</th><th>float32</th><th>float32</th><th>float32</th><th>float32</th><th>float32</th><th>int16</th><th>int16</th><th>int16</th><th>int16</th><th>int16</th><th>int16</th><th>float64</th><th>float64</th><th>float32</th><th>float32</th><th>float32</th><th>float32</th><th>float32</th><th>float32</th><th>float32</th><th>float32</th><th>float32</th><th>float32</th><th>float32</th><th>float32</th><th>float64</th><th>float64</th><th>float32</th><th>float32</th><th>float32</th><th>float32</th><th>float32</th><th>float32</th><th>float32</th><th>float32</th><th>float32</th><th>float32</th><th>float32</th><th>float32</th><th>float32</th><th>float32</th><th>float32</th><th>float32</th><th>float32</th><th>float32</th><th>float32</th><th>float32</th><th>float32</th><th>float32</th><th>float32</th><th>float32</th><th>float32</th><th>float32</th><th>float32</th><th>float32</th><th>float32</th><th>float32</th><th>float32</th><th>float32</th><th>float32</th><th>float32</th><th>float32</th><th>float32</th><th>float32</th><th>float32</th><th>float32</th><th>float32</th><th>float32</th><th>float32</th><th>float32</th><th>float32</th><th>int16</th><th>int16</th><th>int16</th><th>int16</th><th>int16</th><th>int16</th><th>int16</th><th>int16</th><th>float64</th><th>float64</th><th>int16</th><th>int32</th><th>int16</th><th>float32</th><th>float32</th><th>float32</th><th>float32</th><th>int16</th><th>float32</th><th>float32</th><th>float32</th><th>float32</th><th>int16</th><th>float32</th><th>float32</th><th>float32</th><th>float32</th><th>int16</th><th>float32</th><th>float32</th><th>float32</th><th>float32</th><th>int16</th><th>float32</th><th>float32</th><th>float32</th><th>float32</th><th>int16</th><th>float32</th><th>float32</th><th>float32</th><th>float32</th><th>int16</th><th>float32</th><th>float32</th><th>float32</th><th>float32</th><th>int16</th><th>float32</th><th>float32</th><th>float32</th><th>float32</th><th>int16</th><th>float32</th><th>float32</th><th>float32</th><th>float32</th><th>int16</th><th>float32</th><th>float32</th><th>float32</th><th>float32</th><th>int16</th><th>float32</th><th>float32</th><th>float32</th><th>float32</th><th>float32</th><th>float32</th><th>float32</th><th>float32</th><th>float32</th><th>float32</th><th>float32</th><th>float32</th><th>float32</th><th>float32</th><th>float32</th><th>float32</th><th>float32</th><th>float32</th><th>float32</th><th>float32</th><th>float32</th><th>float32</th><th>float32</th><th>float32</th><th>float32</th><th>int16</th><th>float32</th><th>float32</th><th>float32</th><th>float32</th><th>int16</th><th>float32</th><th>float32</th><th>float32</th><th>float32</th><th>int16</th><th>float32</th><th>float32</th><th>float32</th><th>float32</th><th>int16</th><th>float32</th><th>float32</th><th>float32</th><th>float32</th><th>int16</th><th>float32</th><th>float32</th><th>float32</th><th>float32</th><th>int16</th><th>float32</th><th>float32</th><th>float32</th><th>float32</th><th>int16</th><th>float32</th><th>float32</th><th>float32</th><th>float32</th><th>int16</th><th>float32</th><th>float32</th><th>float32</th><th>float32</th><th>int16</th><th>float32</th><th>float32</th><th>float32</th><th>float32</th><th>float32</th><th>float32</th><th>float32</th><th>float32</th><th>float32</th><th>float32</th><th>float32</th><th>float64</th><th>float64</th><th>float64</th><th>float64</th><th>float64</th><th>float64</th><th>float64</th><th>float64</th><th>float64</th><th>int32</th><th>int32</th><th>int32</th><th>int32</th><th>int32</th><th>int32</th><th>float32</th><th>int32</th><th>float32</th><th>float32</th><th>float32</th><th>float32</th><th>float32</th><th>float32</th><th>float32</th><th>float32</th></tr></thead>\n",
       "<tr><td>KiDSDR4 J102925.939-015900.62</td><td>KIDS_157.0_-1.5</td><td>KIDS_157p0_m1p5</td><td>2811</td><td>55110181</td><td>2810</td><td>59.27501</td><td>0.43542</td><td>20.19782</td><td>0.007977496</td><td>3.574517</td><td>-0.003464981</td><td>0.03765512</td><td>24.95635</td><td>2.172205</td><td>20.43982</td><td>6.537238e-07</td><td>4479.534</td><td>2180.484</td><td>157.35808</td><td>-1.983508</td><td>0.0001568185</td><td>0.0001485072</td><td>-84.33257</td><td>-5.667424</td><td>1.429068e-06</td><td>1.327788e-06</td><td>-80.18579</td><td>-9.814213</td><td>4.111663</td><td>0.0002444155</td><td>0</td><td>2.699584</td><td>0.9261175</td><td>0.2028505</td><td>0.1580597</td><td>0.109345</td><td>0.08125506</td><td>0.9</td><td>0.88</td><td>1.15</td><td>1.13</td><td>5.7</td><td>0</td><td>0</td><td>0</td><td>0</td><td>1.4506e-10</td><td>2.002e-09</td><td>7.8776e-09</td><td>1.5001e-08</td><td>9.12e-11</td><td>3.79e-11</td><td>4.06e-11</td><td>1.26e-10</td><td>0</td><td>0</td><td>0</td><td>0</td><td>1.2985e-10</td><td>2.0723e-09</td><td>8.0608e-09</td><td>1.5512e-08</td><td>9.73e-11</td><td>3.99e-11</td><td>4.66e-11</td><td>1.43e-10</td><td>20.22348</td><td>0.007246146</td><td>57.89077</td><td>0.3862661</td><td>20.18116</td><td>0.007927677</td><td>60.1915</td><td>0.4393911</td><td>0</td><td>0</td><td>4472</td><td>2172</td><td>4488</td><td>2188</td><td>157.35808</td><td>-1.983508</td><td>2.456729e-08</td><td>2.207913e-08</td><td>-2.493781e-10</td><td>2.034122e-12</td><td>1.771134e-12</td><td>-4.689654e-14</td><td>0.02207913</td><td>0.02456729</td><td>0.0004987512</td><td>1.771134e-06</td><td>2.034122e-06</td><td>9.379214e-08</td><td>2.638286</td><td>2.49847</td><td>0.0240425</td><td>0.02233845</td><td>0.05299497</td><td>1.055961</td><td>21.3349</td><td>0.007176315</td><td>20.79886</td><td>0.1374394</td><td>20.82087</td><td>0.005919416</td><td>33.39284</td><td>0.182013</td><td>20.56449</td><td>0.005748689</td><td>42.28666</td><td>0.2238424</td><td>20.41918</td><td>0.005943947</td><td>48.34251</td><td>0.2645905</td><td>20.26745</td><td>0.006762336</td><td>55.59299</td><td>0.3461681</td><td>20.18064</td><td>0.008510952</td><td>60.22023</td><td>0.4719443</td><td>20.12924</td><td>0.01183328</td><td>0.6879843</td><td>63.13978</td><td>20.12924</td><td>0.01560698</td><td>63.13989</td><td>0.9073878</td><td>20.2043</td><td>0.02502669</td><td>58.92225</td><td>1.357854</td><td>20.58601</td><td>0.06170293</td><td>41.45686</td><td>2.355442</td><td>185</td><td>164</td><td>117</td><td>79</td><td>51</td><td>33</td><td>21</td><td>12</td><td>157.35808</td><td>-1.983508</td><td>5</td><td>1599021240</td><td>1</td><td>19.1886</td><td>0.00551831</td><td>21113.975</td><td>107.31283</td><td>0</td><td>19.1597</td><td>0.00623646</td><td>21682.465</td><td>124.54394</td><td>0</td><td>19.0508</td><td>0.0106218</td><td>23970.973</td><td>234.50928</td><td>0</td><td>19.025</td><td>0.0120979</td><td>24547.178</td><td>273.5193</td><td>0</td><td>18.854</td><td>0.00742216</td><td>28734.03</td><td>196.4277</td><td>0</td><td>18.8178</td><td>0.00847042</td><td>29708.498</td><td>231.77211</td><td>0</td><td>18.7013</td><td>0.016681</td><td>33072.848</td><td>508.12256</td><td>0</td><td>18.6749</td><td>0.0194167</td><td>33888.17</td><td>606.0362</td><td>0</td><td>19.0188</td><td>0.0254289</td><td>24686.92</td><td>578.19</td><td>0</td><td>19.0043</td><td>0.0295876</td><td>25020.691</td><td>681.8434</td><td>0</td><td>0.06044945</td><td>0.05213258</td><td>0.033876035</td><td>0.021502154</td><td>0.014402386</td><td>24.603058</td><td>0.6826081</td><td>21.66565</td><td>0.020554148</td><td>20.23681</td><td>0.0055957255</td><td>19.594465</td><td>0.009119576</td><td>24.732992</td><td>0.81357044</td><td>21.630865</td><td>0.02090473</td><td>20.214153</td><td>0.0062767104</td><td>19.561296</td><td>0.010009043</td><td>24.400208</td><td>0.6826081</td><td>1.4506e-10</td><td>9.12e-11</td><td>0</td><td>21.50759</td><td>0.020554148</td><td>2.002e-09</td><td>3.79e-11</td><td>0</td><td>20.127466</td><td>0.0055957255</td><td>7.8776e-09</td><td>4.06e-11</td><td>0</td><td>19.51321</td><td>0.009119576</td><td>1.5001e-08</td><td>1.26e-10</td><td>0</td><td>19.12815</td><td>0.00551831</td><td>21113.975</td><td>107.31283</td><td>0</td><td>18.998669</td><td>0.0106218</td><td>23970.973</td><td>234.50928</td><td>0</td><td>18.820124</td><td>0.00742216</td><td>28734.03</td><td>196.4277</td><td>0</td><td>18.679798</td><td>0.016681</td><td>33072.848</td><td>508.12256</td><td>0</td><td>19.004398</td><td>0.0254289</td><td>24686.92</td><td>578.19</td><td>0</td><td>0.9</td><td>0.88</td><td>25.106937</td><td>25.972712</td><td>25.956478</td><td>24.783838</td><td>24.92337</td><td>24.0746</td><td>24.266994</td><td>23.235079</td><td>23.094824</td><td>0.19</td><td>0.16</td><td>0.21</td><td>1.0</td><td>1.0</td><td>0.19</td><td>1.0</td><td>111.957</td><td>19.381</td><td>511</td><td>9</td><td>0</td><td>0</td><td>0</td><td>0</td><td>0.0</td><td>0</td><td>2.8926182</td><td>1.3801231</td><td>0.6142559</td><td>0.38505936</td><td>0.12948227</td><td>0.178545</td><td>0.14032555</td><td>-0.32460022</td></tr>\n",
       "<tr><td>KiDSDR4 J102650.318-015900.66</td><td>KIDS_157.0_-1.5</td><td>KIDS_157p0_m1p5</td><td>2815</td><td>55110181</td><td>2814</td><td>0.534735</td><td>0.14255</td><td>25.30965</td><td>0.2895066</td><td>6.774987</td><td>-0.001352238</td><td>0.03754783</td><td>24.95635</td><td>0.05916422</td><td>24.35192</td><td>1.413457e-08</td><td>15381.5</td><td>2180.515</td><td>156.709661</td><td>-1.983519</td><td>2.991889e-05</td><td>2.950581e-05</td><td>-45.89023</td><td>-44.10977</td><td>8.369529e-06</td><td>8.363641e-06</td><td>-29.38899</td><td>-60.61101</td><td>2.740575</td><td>0.000162912</td><td>0</td><td>1.393956</td><td>0.4527492</td><td>0.2049694</td><td>0.1597107</td><td>0.1104872</td><td>0.0821038</td><td>0.71</td><td>0.71</td><td>1.01</td><td>1.01</td><td>44.1</td><td>0</td><td>0</td><td>0</td><td>0</td><td>--</td><td>--</td><td>1.1861e-10</td><td>2.4391e-10</td><td>--</td><td>--</td><td>3.64e-11</td><td>1.21e-10</td><td>0</td><td>0</td><td>0</td><td>0</td><td>--</td><td>5.8889e-11</td><td>8.5356e-11</td><td>2.7327e-10</td><td>--</td><td>3.89e-11</td><td>4.25e-11</td><td>1.35e-10</td><td>26.3178</td><td>0.2615436</td><td>0.2112897</td><td>0.05088535</td><td>25.52325</td><td>0.2892957</td><td>0.4392391</td><td>0.1170074</td><td>0</td><td>0</td><td>15381</td><td>2180</td><td>15382</td><td>2181</td><td>156.709661</td><td>-1.983519</td><td>8.832475e-10</td><td>8.824849e-10</td><td>-1.226755e-11</td><td>6.997422e-11</td><td>7.00253e-11</td><td>-4.213056e-14</td><td>0.0008824849</td><td>0.0008832475</td><td>2.453486e-05</td><td>7.002529e-05</td><td>6.997422e-05</td><td>8.426028e-08</td><td>0.503335</td><td>0.496408</td><td>0.1408048</td><td>0.140709</td><td>0.01376259</td><td>1.013955</td><td>25.55319</td><td>0.2291012</td><td>0.427292</td><td>0.09014098</td><td>25.2828</td><td>0.2668937</td><td>0.548126</td><td>0.1347066</td><td>25.45598</td><td>0.4163185</td><td>0.4673122</td><td>0.1791443</td><td>25.55329</td><td>0.5685501</td><td>0.4272501</td><td>0.2236769</td><td>26.21549</td><td>1.460248</td><td>0.2321685</td><td>0.3121763</td><td>--</td><td>--</td><td>--</td><td>--</td><td>99.0</td><td>99.0</td><td>0.6684683</td><td>-1.271867</td><td>--</td><td>--</td><td>--</td><td>--</td><td>--</td><td>--</td><td>--</td><td>--</td><td>22.76619</td><td>0.4364513</td><td>5.565758</td><td>2.236816</td><td>4</td><td>4</td><td>4</td><td>4</td><td>3</td><td>3</td><td>3</td><td>2</td><td>156.709661</td><td>-1.983519</td><td>0</td><td>-722183535</td><td>1</td><td>--</td><td>--</td><td>--</td><td>--</td><td>1</td><td>--</td><td>--</td><td>--</td><td>--</td><td>1</td><td>--</td><td>--</td><td>--</td><td>--</td><td>1</td><td>--</td><td>--</td><td>--</td><td>--</td><td>1</td><td>--</td><td>--</td><td>--</td><td>--</td><td>1</td><td>--</td><td>--</td><td>--</td><td>--</td><td>1</td><td>--</td><td>--</td><td>--</td><td>--</td><td>1</td><td>--</td><td>--</td><td>--</td><td>--</td><td>1</td><td>--</td><td>--</td><td>--</td><td>--</td><td>1</td><td>--</td><td>--</td><td>--</td><td>--</td><td>1</td><td>0.061080884</td><td>0.052677136</td><td>0.03422989</td><td>0.021726757</td><td>0.014552828</td><td>--</td><td>--</td><td>--</td><td>--</td><td>24.792492</td><td>0.33319953</td><td>24.06669</td><td>0.538617</td><td>--</td><td>--</td><td>25.496912</td><td>0.71719915</td><td>25.152012</td><td>0.5406039</td><td>23.946486</td><td>0.536372</td><td>--</td><td>--</td><td>--</td><td>--</td><td>0</td><td>--</td><td>--</td><td>--</td><td>--</td><td>0</td><td>24.682005</td><td>0.33319953</td><td>1.1861e-10</td><td>3.64e-11</td><td>0</td><td>23.984587</td><td>0.538617</td><td>2.4391e-10</td><td>1.21e-10</td><td>0</td><td>--</td><td>--</td><td>--</td><td>--</td><td>1</td><td>--</td><td>--</td><td>--</td><td>--</td><td>1</td><td>--</td><td>--</td><td>--</td><td>--</td><td>1</td><td>--</td><td>--</td><td>--</td><td>--</td><td>1</td><td>--</td><td>--</td><td>--</td><td>--</td><td>1</td><td>0.71</td><td>0.71</td><td>25.194935</td><td>25.927818</td><td>26.075043</td><td>24.8278</td><td>-99.0</td><td>-99.0</td><td>-99.0</td><td>-99.0</td><td>-99.0</td><td>0.63</td><td>0.49</td><td>1.25</td><td>4.0</td><td>0.25091</td><td>4.4</td><td>5.0</td><td>0.006</td><td>24.407</td><td>12</td><td>2</td><td>3</td><td>2</td><td>496</td><td>5</td><td>1.0</td><td>1008</td><td>0.0</td><td>--</td><td>0.6974182</td><td>--</td><td>0.0</td><td>0.0</td><td>0.0</td><td>0.0</td></tr>\n",
       "<tr><td>KiDSDR4 J102839.514-015900.54</td><td>KIDS_157.0_-1.5</td><td>KIDS_157p0_m1p5</td><td>2816</td><td>55110181</td><td>2815</td><td>0.5656247</td><td>0.1410308</td><td>25.24868</td><td>0.2707792</td><td>5.563608</td><td>-0.001474836</td><td>0.03710994</td><td>24.95635</td><td>0.0712501</td><td>24.1501</td><td>1.766821e-08</td><td>7731.833</td><td>2181.405</td><td>157.164644</td><td>-1.983484</td><td>4.43129e-05</td><td>2.654407e-05</td><td>70.03508</td><td>19.96492</td><td>1.049317e-05</td><td>6.062852e-06</td><td>71.58521</td><td>18.41479</td><td>3.391848</td><td>0.0002016265</td><td>0</td><td>1.262505</td><td>0.488062</td><td>0.2003981</td><td>0.1561488</td><td>0.108023</td><td>0.0802727</td><td>0.72</td><td>0.71</td><td>1.01</td><td>1.0</td><td>-20.0</td><td>0</td><td>0</td><td>0</td><td>0</td><td>--</td><td>8.3753e-11</td><td>1.5327e-10</td><td>4.8669e-10</td><td>--</td><td>3.86e-11</td><td>3.7e-11</td><td>1.19e-10</td><td>0</td><td>0</td><td>0</td><td>0</td><td>--</td><td>1.0027e-10</td><td>1.3956e-10</td><td>5.4763e-10</td><td>--</td><td>3.77e-11</td><td>4.27e-11</td><td>1.33e-10</td><td>25.97563</td><td>0.2112625</td><td>0.2895652</td><td>0.05632991</td><td>25.35746</td><td>0.2526338</td><td>0.5116988</td><td>0.1190354</td><td>0</td><td>0</td><td>7731</td><td>2181</td><td>7733</td><td>2182</td><td>157.164644</td><td>-1.983484</td><td>1.816848e-09</td><td>8.513728e-10</td><td>4.040586e-10</td><td>1.027873e-10</td><td>4.407755e-11</td><td>2.19839e-11</td><td>0.0008513728</td><td>0.001816848</td><td>-0.0008081091</td><td>4.407755e-05</td><td>0.0001027873</td><td>-4.396736e-05</td><td>0.745477</td><td>0.446583</td><td>0.1765269</td><td>0.1020029</td><td>0.4009439</td><td>1.669293</td><td>25.42372</td><td>0.2000949</td><td>0.4814081</td><td>0.08869917</td><td>25.07136</td><td>0.216407</td><td>0.6659717</td><td>0.132708</td><td>25.11905</td><td>0.3008694</td><td>0.6373515</td><td>0.1765742</td><td>25.04808</td><td>0.3520923</td><td>0.6804022</td><td>0.2205933</td><td>24.76376</td><td>0.3789437</td><td>0.8840877</td><td>0.3084894</td><td>24.89059</td><td>0.6079154</td><td>0.7866154</td><td>0.4403274</td><td>24.31568</td><td>0.5369124</td><td>0.6603906</td><td>1.335756</td><td>24.23167</td><td>0.6625142</td><td>1.443218</td><td>0.880435</td><td>25.64326</td><td>3.649079</td><td>0.3932727</td><td>1.321439</td><td>23.83861</td><td>1.153542</td><td>2.072791</td><td>2.201704</td><td>5</td><td>5</td><td>5</td><td>4</td><td>4</td><td>3</td><td>3</td><td>1</td><td>157.164644</td><td>-1.983484</td><td>0</td><td>-1642137836</td><td>1</td><td>--</td><td>--</td><td>--</td><td>--</td><td>1</td><td>--</td><td>--</td><td>--</td><td>--</td><td>1</td><td>--</td><td>--</td><td>--</td><td>--</td><td>1</td><td>--</td><td>--</td><td>--</td><td>--</td><td>1</td><td>--</td><td>--</td><td>--</td><td>--</td><td>1</td><td>--</td><td>--</td><td>--</td><td>--</td><td>1</td><td>--</td><td>--</td><td>--</td><td>--</td><td>1</td><td>--</td><td>--</td><td>--</td><td>--</td><td>1</td><td>--</td><td>--</td><td>--</td><td>--</td><td>1</td><td>--</td><td>--</td><td>--</td><td>--</td><td>1</td><td>0.059718635</td><td>0.051502313</td><td>0.033466484</td><td>0.0212422</td><td>0.014228266</td><td>--</td><td>--</td><td>25.111809</td><td>0.50039303</td><td>24.514153</td><td>0.2621011</td><td>23.316635</td><td>0.26547205</td><td>--</td><td>--</td><td>24.91907</td><td>0.40822032</td><td>24.618196</td><td>0.33219355</td><td>23.191748</td><td>0.263687</td><td>--</td><td>--</td><td>--</td><td>--</td><td>0</td><td>24.95566</td><td>0.50039303</td><td>8.3753e-11</td><td>3.86e-11</td><td>0</td><td>24.40613</td><td>0.2621011</td><td>1.5327e-10</td><td>3.7e-11</td><td>0</td><td>23.236362</td><td>0.26547205</td><td>4.8669e-10</td><td>1.19e-10</td><td>0</td><td>--</td><td>--</td><td>--</td><td>--</td><td>1</td><td>--</td><td>--</td><td>--</td><td>--</td><td>1</td><td>--</td><td>--</td><td>--</td><td>--</td><td>1</td><td>--</td><td>--</td><td>--</td><td>--</td><td>1</td><td>--</td><td>--</td><td>--</td><td>--</td><td>1</td><td>0.72</td><td>0.71</td><td>25.159376</td><td>25.952843</td><td>26.05729</td><td>24.845898</td><td>-99.0</td><td>-99.0</td><td>-99.0</td><td>-99.0</td><td>-99.0</td><td>0.77</td><td>0.56</td><td>1.13</td><td>1.364</td><td>0.35907</td><td>1.65</td><td>1.182</td><td>0.035</td><td>23.878</td><td>14</td><td>3</td><td>1</td><td>1</td><td>496</td><td>5</td><td>1.0</td><td>992</td><td>--</td><td>0.54953</td><td>1.1697674</td><td>--</td><td>0.0</td><td>0.0</td><td>0.0</td><td>0.0</td></tr>\n",
       "<tr><td>KiDSDR4 J102607.821-015900.41</td><td>KIDS_157.0_-1.5</td><td>KIDS_157p0_m1p5</td><td>2817</td><td>55110181</td><td>2816</td><td>1.27866</td><td>0.2552712</td><td>24.36311</td><td>0.2168086</td><td>8.161736</td><td>-0.001886774</td><td>0.03731923</td><td>24.95635</td><td>0.08723126</td><td>23.93039</td><td>1.766821e-08</td><td>18358.74</td><td>2181.016</td><td>156.532589</td><td>-1.983449</td><td>4.390678e-05</td><td>4.059013e-05</td><td>2.966942</td><td>87.03306</td><td>8.948505e-06</td><td>8.287881e-06</td><td>-0.2169647</td><td>-89.78304</td><td>3.732592</td><td>0.0002218819</td><td>0</td><td>2.415542</td><td>0.4742092</td><td>0.2039963</td><td>0.1589525</td><td>0.1099626</td><td>0.08171403</td><td>0.72</td><td>0.72</td><td>1.01</td><td>1.01</td><td>-87.0</td><td>0</td><td>0</td><td>0</td><td>0</td><td>1.7201e-10</td><td>2.1546e-10</td><td>2.0859e-10</td><td>2.905e-10</td><td>8.51e-11</td><td>3.91e-11</td><td>3.64e-11</td><td>1.21e-10</td><td>0</td><td>0</td><td>0</td><td>0</td><td>1.3958e-10</td><td>2.2174e-10</td><td>1.9979e-10</td><td>2.6916e-10</td><td>8.46e-11</td><td>3.87e-11</td><td>4.23e-11</td><td>1.34e-10</td><td>25.79229</td><td>0.2117534</td><td>0.3428345</td><td>0.06684747</td><td>24.83586</td><td>0.2143532</td><td>0.8272858</td><td>0.1632885</td><td>0</td><td>0</td><td>18358</td><td>2180</td><td>18360</td><td>2182</td><td>156.532589</td><td>-1.983449</td><td>1.64831e-09</td><td>1.927055e-09</td><td>1.448607e-11</td><td>6.868912e-11</td><td>8.007557e-11</td><td>-4.311883e-14</td><td>0.001927055</td><td>0.00164831</td><td>-2.897184e-05</td><td>8.007557e-05</td><td>6.868912e-05</td><td>8.623679e-08</td><td>0.7387</td><td>0.682894</td><td>0.1505518</td><td>0.1394368</td><td>0.07554698</td><td>1.081721</td><td>25.41738</td><td>0.2010211</td><td>0.484226</td><td>0.08963135</td><td>24.86994</td><td>0.1811555</td><td>0.8017237</td><td>0.1337354</td><td>24.56436</td><td>0.1820334</td><td>1.062317</td><td>0.1780637</td><td>24.48715</td><td>0.211465</td><td>1.140617</td><td>0.2221001</td><td>24.26145</td><td>0.2401608</td><td>1.404175</td><td>0.3105229</td><td>25.51824</td><td>1.089818</td><td>0.4412707</td><td>0.4428221</td><td>99.0</td><td>99.0</td><td>0.663596</td><td>-0.9919558</td><td>--</td><td>--</td><td>--</td><td>--</td><td>--</td><td>--</td><td>--</td><td>--</td><td>--</td><td>--</td><td>--</td><td>--</td><td>5</td><td>5</td><td>5</td><td>4</td><td>3</td><td>3</td><td>2</td><td>1</td><td>156.532589</td><td>-1.983449</td><td>0</td><td>-723169516</td><td>1</td><td>--</td><td>--</td><td>--</td><td>--</td><td>1</td><td>--</td><td>--</td><td>--</td><td>--</td><td>1</td><td>--</td><td>--</td><td>--</td><td>--</td><td>1</td><td>--</td><td>--</td><td>--</td><td>--</td><td>1</td><td>--</td><td>--</td><td>--</td><td>--</td><td>1</td><td>--</td><td>--</td><td>--</td><td>--</td><td>1</td><td>--</td><td>--</td><td>--</td><td>--</td><td>1</td><td>--</td><td>--</td><td>--</td><td>--</td><td>1</td><td>--</td><td>--</td><td>--</td><td>--</td><td>1</td><td>--</td><td>--</td><td>--</td><td>--</td><td>1</td><td>0.060790896</td><td>0.05242705</td><td>0.03406738</td><td>0.021623608</td><td>0.014483738</td><td>24.418043</td><td>0.5371557</td><td>24.085894</td><td>0.19703095</td><td>24.179562</td><td>0.1894664</td><td>23.8769</td><td>0.45223433</td><td>24.654541</td><td>0.6580691</td><td>24.057386</td><td>0.18949215</td><td>24.228664</td><td>0.22987455</td><td>23.962938</td><td>0.5405285</td><td>24.214046</td><td>0.5371557</td><td>1.7201e-10</td><td>8.51e-11</td><td>0</td><td>23.92694</td><td>0.19703095</td><td>2.1546e-10</td><td>3.91e-11</td><td>0</td><td>24.0696</td><td>0.1894664</td><td>2.0859e-10</td><td>3.64e-11</td><td>0</td><td>23.795185</td><td>0.45223433</td><td>2.905e-10</td><td>1.21e-10</td><td>0</td><td>--</td><td>--</td><td>--</td><td>--</td><td>1</td><td>--</td><td>--</td><td>--</td><td>--</td><td>1</td><td>--</td><td>--</td><td>--</td><td>--</td><td>1</td><td>--</td><td>--</td><td>--</td><td>--</td><td>1</td><td>--</td><td>--</td><td>--</td><td>--</td><td>1</td><td>0.72</td><td>0.72</td><td>25.1821</td><td>25.938868</td><td>26.075043</td><td>24.8278</td><td>-99.0</td><td>-99.0</td><td>-99.0</td><td>-99.0</td><td>-99.0</td><td>1.2</td><td>0.91</td><td>1.62</td><td>6.0</td><td>0.32631</td><td>1.93</td><td>6.0</td><td>0.019</td><td>23.885</td><td>15</td><td>4</td><td>0</td><td>0</td><td>496</td><td>5</td><td>1.0</td><td>13286</td><td>0.28710556</td><td>-0.14265823</td><td>0.27441406</td><td>--</td><td>0.0</td><td>0.0</td><td>0.0</td><td>0.0</td></tr>\n",
       "<tr><td>KiDSDR4 J102702.216-015900.54</td><td>KIDS_157.0_-1.5</td><td>KIDS_157p0_m1p5</td><td>2818</td><td>55110181</td><td>2817</td><td>2.380988</td><td>0.2575683</td><td>23.68811</td><td>0.1174803</td><td>4.314309</td><td>-0.0003321097</td><td>0.03772884</td><td>24.95635</td><td>0.1354221</td><td>23.45284</td><td>8.834105e-08</td><td>14547.97</td><td>2181.252</td><td>156.759237</td><td>-1.983484</td><td>8.84859e-05</td><td>7.148871e-05</td><td>-53.58245</td><td>-36.41755</td><td>6.760351e-06</td><td>5.55814e-06</td><td>-47.53064</td><td>-42.46936</td><td>5.862861</td><td>0.0003485145</td><td>0</td><td>2.166101</td><td>0.1385777</td><td>0.205288</td><td>0.159959</td><td>0.1106589</td><td>0.08223142</td><td>0.77</td><td>0.75</td><td>1.05</td><td>1.03</td><td>36.4</td><td>0</td><td>0</td><td>0</td><td>0</td><td>2.2914e-10</td><td>3.5813e-10</td><td>3.6785e-10</td><td>3.9794e-10</td><td>8.4e-11</td><td>3.86e-11</td><td>3.75e-11</td><td>1.22e-10</td><td>0</td><td>0</td><td>0</td><td>0</td><td>2.447e-10</td><td>3.9046e-10</td><td>3.402e-10</td><td>3.2515e-10</td><td>8.68e-11</td><td>3.92e-11</td><td>4.39e-11</td><td>1.37e-10</td><td>23.95545</td><td>0.07652061</td><td>1.861318</td><td>0.1311502</td><td>23.54943</td><td>0.0966608</td><td>2.705385</td><td>0.2407962</td><td>0</td><td>0</td><td>14545</td><td>2179</td><td>14550</td><td>2184</td><td>156.759237</td><td>-1.983484</td><td>6.871432e-09</td><td>6.068958e-09</td><td>-1.299004e-09</td><td>3.895088e-11</td><td>3.764438e-11</td><td>-7.375834e-12</td><td>0.006068958</td><td>0.006871432</td><td>0.002597982</td><td>3.764438e-05</td><td>3.895088e-05</td><td>1.475152e-05</td><td>1.488616</td><td>1.202731</td><td>0.1137312</td><td>0.09351002</td><td>0.1920475</td><td>1.237697</td><td>24.58447</td><td>0.09653615</td><td>1.042822</td><td>0.092698</td><td>23.97309</td><td>0.08112004</td><td>1.831309</td><td>0.1367918</td><td>23.76465</td><td>0.08874756</td><td>2.218918</td><td>0.1813293</td><td>23.71847</td><td>0.105808</td><td>2.315317</td><td>0.2255792</td><td>23.69268</td><td>0.1440463</td><td>2.37097</td><td>0.3144839</td><td>24.07627</td><td>0.2921049</td><td>1.665292</td><td>0.447919</td><td>24.06196</td><td>0.43182</td><td>0.6709476</td><td>1.687391</td><td>25.02397</td><td>1.397956</td><td>0.6956818</td><td>0.8955177</td><td>--</td><td>--</td><td>--</td><td>--</td><td>--</td><td>--</td><td>--</td><td>--</td><td>25</td><td>25</td><td>22</td><td>19</td><td>12</td><td>7</td><td>4</td><td>1</td><td>156.759237</td><td>-1.983484</td><td>0</td><td>-1552922734</td><td>1</td><td>--</td><td>--</td><td>--</td><td>--</td><td>1</td><td>--</td><td>--</td><td>--</td><td>--</td><td>1</td><td>--</td><td>--</td><td>--</td><td>--</td><td>1</td><td>--</td><td>--</td><td>--</td><td>--</td><td>1</td><td>--</td><td>--</td><td>--</td><td>--</td><td>1</td><td>--</td><td>--</td><td>--</td><td>--</td><td>1</td><td>--</td><td>--</td><td>--</td><td>--</td><td>1</td><td>--</td><td>--</td><td>--</td><td>--</td><td>1</td><td>--</td><td>--</td><td>--</td><td>--</td><td>1</td><td>--</td><td>--</td><td>--</td><td>--</td><td>1</td><td>0.061175823</td><td>0.052759014</td><td>0.034283094</td><td>0.021760527</td><td>0.014575448</td><td>24.106676</td><td>0.39801797</td><td>23.534208</td><td>0.11702292</td><td>23.563618</td><td>0.110683985</td><td>23.535223</td><td>0.33286378</td><td>24.045013</td><td>0.3851324</td><td>23.443056</td><td>0.109001845</td><td>23.650763</td><td>0.14010529</td><td>23.757755</td><td>0.4574684</td><td>23.901388</td><td>0.39801797</td><td>2.2914e-10</td><td>8.4e-11</td><td>0</td><td>23.374249</td><td>0.11702292</td><td>3.5813e-10</td><td>3.86e-11</td><td>0</td><td>23.45296</td><td>0.110683985</td><td>3.6785e-10</td><td>3.75e-11</td><td>0</td><td>23.452991</td><td>0.33286378</td><td>3.9794e-10</td><td>1.22e-10</td><td>0</td><td>--</td><td>--</td><td>--</td><td>--</td><td>1</td><td>--</td><td>--</td><td>--</td><td>--</td><td>1</td><td>--</td><td>--</td><td>--</td><td>--</td><td>1</td><td>--</td><td>--</td><td>--</td><td>--</td><td>1</td><td>--</td><td>--</td><td>--</td><td>--</td><td>1</td><td>0.77</td><td>0.75</td><td>25.196228</td><td>25.952843</td><td>26.042717</td><td>24.818865</td><td>-99.0</td><td>-99.0</td><td>-99.0</td><td>-99.0</td><td>-99.0</td><td>1.35</td><td>1.15</td><td>1.71</td><td>5.364</td><td>0.45974</td><td>0.03</td><td>6.0</td><td>0.02</td><td>23.483</td><td>15</td><td>4</td><td>0</td><td>0</td><td>496</td><td>5</td><td>1.0</td><td>992</td><td>0.52713966</td><td>-0.078710556</td><td>-3.2424927e-05</td><td>--</td><td>0.0</td><td>0.0</td><td>0.0</td><td>0.0</td></tr>\n",
       "</table></div>"
      ],
      "text/plain": [
       "<Table length=5>\n",
       "              ID                 KIDS_TILE    ... COLOUR_GAAP_H_Ks\n",
       "                                              ...       mag       \n",
       "           bytes30                bytes16     ...     float32     \n",
       "----------------------------- --------------- ... ----------------\n",
       "KiDSDR4 J102925.939-015900.62 KIDS_157.0_-1.5 ...      -0.32460022\n",
       "KiDSDR4 J102650.318-015900.66 KIDS_157.0_-1.5 ...              0.0\n",
       "KiDSDR4 J102839.514-015900.54 KIDS_157.0_-1.5 ...              0.0\n",
       "KiDSDR4 J102607.821-015900.41 KIDS_157.0_-1.5 ...              0.0\n",
       "KiDSDR4 J102702.216-015900.54 KIDS_157.0_-1.5 ...              0.0"
      ]
     },
     "execution_count": 5,
     "metadata": {},
     "output_type": "execute_result"
    }
   ],
   "source": [
    "KIDS_data[:5]"
   ]
  },
  {
   "cell_type": "code",
   "execution_count": 9,
   "id": "5a61c008-de99-48ad-87ba-04df3332a1f6",
   "metadata": {
    "tags": []
   },
   "outputs": [
    {
     "name": "stderr",
     "output_type": "stream",
     "text": [
      "WARNING: UnitsWarning: 'nanomaggy' did not parse as fits unit: At col 0, Unit 'nanomaggy' not supported by the FITS standard.  If this is meant to be a custom unit, define it with 'u.def_unit'. To have it recognized inside a file reader or other code, enable it with 'u.add_enabled_units'. For details, see https://docs.astropy.org/en/latest/units/combining_and_defining.html [astropy.units.core]\n",
      "WARNING: UnitsWarning: 'nanomaggy^-2' did not parse as fits unit: At col 0, Unit 'nanomaggy' not supported by the FITS standard.  If this is meant to be a custom unit, define it with 'u.def_unit'. To have it recognized inside a file reader or other code, enable it with 'u.add_enabled_units'. For details, see https://docs.astropy.org/en/latest/units/combining_and_defining.html [astropy.units.core]\n"
     ]
    }
   ],
   "source": [
    "zall_tilecumulative_kids1000.write('./data/KiDS-VIKING-1000.fits', format='fits')"
   ]
  },
  {
   "cell_type": "markdown",
   "id": "1454c293-36f9-471f-afe0-102cf9153016",
   "metadata": {},
   "source": [
    "## KiDS data classification"
   ]
  },
  {
   "cell_type": "code",
   "execution_count": 3,
   "id": "d330ff0c-26c8-4660-84cc-44405fe4ad6e",
   "metadata": {
    "tags": []
   },
   "outputs": [
    {
     "name": "stderr",
     "output_type": "stream",
     "text": [
      "WARNING: UnitsWarning: 'nanomaggy' did not parse as fits unit: At col 0, Unit 'nanomaggy' not supported by the FITS standard.  If this is meant to be a custom unit, define it with 'u.def_unit'. To have it recognized inside a file reader or other code, enable it with 'u.add_enabled_units'. For details, see https://docs.astropy.org/en/latest/units/combining_and_defining.html [astropy.units.core]\n",
      "WARNING: UnitsWarning: 'nanomaggy^-2' did not parse as fits unit: At col 0, Unit 'nanomaggy' not supported by the FITS standard.  If this is meant to be a custom unit, define it with 'u.def_unit'. To have it recognized inside a file reader or other code, enable it with 'u.add_enabled_units'. For details, see https://docs.astropy.org/en/latest/units/combining_and_defining.html [astropy.units.core]\n"
     ]
    }
   ],
   "source": [
    "zall_tilecumulative_kids1000 = Table.read('../data/KiDS-VIKING-1000.fits', hdu=\"ZCATALOG\")"
   ]
  },
  {
   "cell_type": "code",
   "execution_count": 5,
   "id": "a6b58f9a-cb61-48ed-a96f-f978d5106c63",
   "metadata": {
    "tags": []
   },
   "outputs": [],
   "source": [
    "from desitarget.targetmask import desi_mask, bgs_mask, scnd_mask # main survey\n",
    "\n",
    "from desitarget.sv1.sv1_targetmask import desi_mask as desi_masksv1\n",
    "from desitarget.sv1.sv1_targetmask import bgs_mask as bgs_masksv1\n",
    "from desitarget.sv1.sv1_targetmask import scnd_mask as scnd_masksv1 # SV1\n",
    "\n",
    "from desitarget.sv2.sv2_targetmask import desi_mask as desi_masksv2\n",
    "from desitarget.sv2.sv2_targetmask import bgs_mask as bgs_masksv2\n",
    "from desitarget.sv2.sv2_targetmask import scnd_mask as scnd_masksv2 #SV2\n",
    "\n",
    "from desitarget.sv3.sv3_targetmask import desi_mask as desi_masksv3\n",
    "from desitarget.sv3.sv3_targetmask import bgs_mask as bgs_masksv3\n",
    "from desitarget.sv3.sv3_targetmask import scnd_mask  as scnd_masksv3# SV3\n",
    "\n",
    "bgs_tgtmask  = desi_mask[\"BGS_ANY\"]\n",
    "lrg_tgtmask  = desi_mask[\"LRG\"]\n",
    "elg_tgtmask  = desi_mask[\"ELG\"]\n",
    "qso_tgtmask  = desi_mask[\"QSO\"]\n",
    "mws_tgtmask  = desi_mask[\"MWS_ANY\"]\n",
    "scnd_tgtmask = desi_mask[\"SCND_ANY\"] #main\n",
    "\n",
    "bgs_tgtmasksv1  = desi_masksv1[\"BGS_ANY\"]\n",
    "lrg_tgtmasksv1  = desi_masksv1[\"LRG\"]\n",
    "elg_tgtmasksv1  = desi_masksv1[\"ELG\"]\n",
    "qso_tgtmasksv1  = desi_masksv1[\"QSO\"]\n",
    "mws_tgtmasksv1  = desi_masksv1[\"MWS_ANY\"]\n",
    "scnd_tgtmasksv1 = desi_masksv1[\"SCND_ANY\"] #sv1\n",
    "\n",
    "bgs_tgtmasksv2  = desi_masksv2[\"BGS_ANY\"]\n",
    "lrg_tgtmasksv2  = desi_masksv2[\"LRG\"]\n",
    "elg_tgtmasksv2  = desi_masksv2[\"ELG\"]\n",
    "qso_tgtmasksv2  = desi_masksv2[\"QSO\"]\n",
    "mws_tgtmasksv2  = desi_masksv2[\"MWS_ANY\"]\n",
    "scnd_tgtmasksv2 = desi_masksv2[\"SCND_ANY\"] #sv2\n",
    "\n",
    "bgs_tgtmasksv3  = desi_masksv3[\"BGS_ANY\"]\n",
    "lrg_tgtmasksv3  = desi_masksv3[\"LRG\"]\n",
    "elg_tgtmasksv3  = desi_masksv3[\"ELG\"]\n",
    "qso_tgtmasksv3  = desi_masksv3[\"QSO\"]\n",
    "mws_tgtmasksv3  = desi_masksv3[\"MWS_ANY\"]\n",
    "scnd_tgtmasksv3 = desi_masksv3[\"SCND_ANY\"] #sv3"
   ]
  },
  {
   "cell_type": "code",
   "execution_count": 6,
   "id": "fc41ca76-a220-4ff0-a05c-43828121aff4",
   "metadata": {
    "tags": []
   },
   "outputs": [],
   "source": [
    "#-- all BGS targets\n",
    "is_bgs = (zall_tilecumulative_kids1000['DESI_TARGET'] & bgs_tgtmask != 0) | (zall_tilecumulative_kids1000[\"SV1_DESI_TARGET\"] & bgs_tgtmasksv1 != 0) | \\\n",
    "         (zall_tilecumulative_kids1000[\"SV2_DESI_TARGET\"] & bgs_tgtmasksv2 != 0) | (zall_tilecumulative_kids1000[\"SV3_DESI_TARGET\"] & bgs_tgtmasksv3 != 0)\n",
    "\n",
    "#-- all LRG targets\n",
    "is_lrg = (zall_tilecumulative_kids1000['DESI_TARGET'] & lrg_tgtmask != 0) | (zall_tilecumulative_kids1000[\"SV1_DESI_TARGET\"] & lrg_tgtmasksv1 != 0) | \\\n",
    "         (zall_tilecumulative_kids1000[\"SV2_DESI_TARGET\"] & lrg_tgtmasksv2 != 0) | (zall_tilecumulative_kids1000[\"SV3_DESI_TARGET\"] & lrg_tgtmasksv3 != 0)\n",
    "\n",
    "#-- all ELG targets\n",
    "is_elg = (zall_tilecumulative_kids1000['DESI_TARGET'] & elg_tgtmask != 0) | (zall_tilecumulative_kids1000[\"SV1_DESI_TARGET\"] & elg_tgtmasksv1 != 0) | \\\n",
    "         (zall_tilecumulative_kids1000[\"SV2_DESI_TARGET\"] & elg_tgtmasksv2 != 0) | (zall_tilecumulative_kids1000[\"SV3_DESI_TARGET\"] & elg_tgtmasksv3 != 0)\n",
    "\n",
    "#-- all QSO targets\n",
    "is_qso = (zall_tilecumulative_kids1000['DESI_TARGET'] & qso_tgtmask != 0) | (zall_tilecumulative_kids1000[\"SV1_DESI_TARGET\"] & qso_tgtmasksv1 != 0) | \\\n",
    "         (zall_tilecumulative_kids1000[\"SV2_DESI_TARGET\"] & qso_tgtmasksv2 != 0) | (zall_tilecumulative_kids1000[\"SV3_DESI_TARGET\"] & qso_tgtmasksv3 != 0)\n",
    "\n",
    "#-- all Milky Way targets\n",
    "is_mws = (zall_tilecumulative_kids1000['DESI_TARGET'] & mws_tgtmask != 0) | (zall_tilecumulative_kids1000[\"SV1_DESI_TARGET\"] & mws_tgtmasksv1 != 0) | \\\n",
    "         (zall_tilecumulative_kids1000[\"SV2_DESI_TARGET\"] & mws_tgtmasksv2 != 0) | (zall_tilecumulative_kids1000[\"SV3_DESI_TARGET\"] & mws_tgtmasksv3 != 0)\n",
    "\n",
    "#-- all secondary targets\n",
    "is_scnd = (zall_tilecumulative_kids1000['DESI_TARGET'] & scnd_tgtmask != 0) | (zall_tilecumulative_kids1000[\"SV1_DESI_TARGET\"] & scnd_tgtmasksv1 != 0) | \\\n",
    "          (zall_tilecumulative_kids1000[\"SV2_DESI_TARGET\"] & scnd_tgtmasksv2 != 0) | (zall_tilecumulative_kids1000[\"SV3_DESI_TARGET\"] & scnd_tgtmasksv3 != 0)\n",
    "\n",
    "#-- dc3r2 targets\n",
    "is_dc3r2 = ((zall_tilecumulative_kids1000[\"SCND_TARGET\"] & scnd_mask[\"DC3R2_GAMA\"]) > 0)|((zall_tilecumulative_kids1000[\"SV1_SCND_TARGET\"] & scnd_masksv1[\"DC3R2_GAMA\"]) > 0)| \\\n",
    "           ((zall_tilecumulative_kids1000[\"SV3_SCND_TARGET\"] & scnd_masksv3[\"DC3R2_GAMA\"]) > 0)"
   ]
  },
  {
   "cell_type": "code",
   "execution_count": 16,
   "id": "ff38444c-d86d-4ec7-8616-3c98612d4a48",
   "metadata": {
    "tags": []
   },
   "outputs": [
    {
     "name": "stdout",
     "output_type": "stream",
     "text": [
      "<class 'numpy.ndarray'> 6083490 bool\n",
      "6083490\n"
     ]
    },
    {
     "data": {
      "text/plain": [
       "1969"
      ]
     },
     "execution_count": 16,
     "metadata": {},
     "output_type": "execute_result"
    }
   ],
   "source": [
    "print(type(is_bgs), len(is_bgs), is_bgs.dtype)\n",
    "print(len(zall_tilecumulative_kids1000))\n",
    "gc.collect()"
   ]
  },
  {
   "cell_type": "code",
   "execution_count": 23,
   "id": "103bf737-c682-40f2-94af-1ace8312ad14",
   "metadata": {
    "tags": []
   },
   "outputs": [
    {
     "name": "stderr",
     "output_type": "stream",
     "text": [
      "WARNING: UnitsWarning: 'nanomaggy' did not parse as fits unit: At col 0, Unit 'nanomaggy' not supported by the FITS standard.  If this is meant to be a custom unit, define it with 'u.def_unit'. To have it recognized inside a file reader or other code, enable it with 'u.add_enabled_units'. For details, see https://docs.astropy.org/en/latest/units/combining_and_defining.html [astropy.units.core]\n",
      "WARNING: UnitsWarning: 'nanomaggy^-2' did not parse as fits unit: At col 0, Unit 'nanomaggy' not supported by the FITS standard.  If this is meant to be a custom unit, define it with 'u.def_unit'. To have it recognized inside a file reader or other code, enable it with 'u.add_enabled_units'. For details, see https://docs.astropy.org/en/latest/units/combining_and_defining.html [astropy.units.core]\n"
     ]
    }
   ],
   "source": [
    "zall_tilecumulative_kids1000[is_dc3r2].write('../data/iron-KiDS-DC3R2.fits', format='fits')"
   ]
  }
 ],
 "metadata": {
  "kernelspec": {
   "display_name": "DESI main",
   "language": "python",
   "name": "desi-main"
  },
  "language_info": {
   "codemirror_mode": {
    "name": "ipython",
    "version": 3
   },
   "file_extension": ".py",
   "mimetype": "text/x-python",
   "name": "python",
   "nbconvert_exporter": "python",
   "pygments_lexer": "ipython3",
   "version": "3.10.14"
  }
 },
 "nbformat": 4,
 "nbformat_minor": 5
}
