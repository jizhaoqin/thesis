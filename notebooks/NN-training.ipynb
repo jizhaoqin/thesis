{
 "cells": [
  {
   "cell_type": "markdown",
   "id": "fed8ab65-379a-46a9-89b3-85d75607d6bc",
   "metadata": {
    "tags": []
   },
   "source": [
    "## 1. Get Raw Astropy Data"
   ]
  },
  {
   "cell_type": "code",
   "execution_count": 5,
   "id": "40a92a86-86d7-429a-88c2-5e72e9211ee3",
   "metadata": {
    "tags": []
   },
   "outputs": [],
   "source": [
    "import gc\n",
    "import os\n",
    "import numpy as np\n",
    "import matplotlib.pyplot as plt\n",
    "\n",
    "from astropy.table import Table\n",
    "from astropy.io import fits"
   ]
  },
  {
   "cell_type": "code",
   "execution_count": 79,
   "id": "f048d313-b670-4c61-bdff-2bdca50dbd0b",
   "metadata": {
    "tags": []
   },
   "outputs": [
    {
     "name": "stderr",
     "output_type": "stream",
     "text": [
      "WARNING: UnitsWarning: 'nanomaggy' did not parse as fits unit: At col 0, Unit 'nanomaggy' not supported by the FITS standard.  If this is meant to be a custom unit, define it with 'u.def_unit'. To have it recognized inside a file reader or other code, enable it with 'u.add_enabled_units'. For details, see https://docs.astropy.org/en/latest/units/combining_and_defining.html [astropy.units.core]\n",
      "WARNING: UnitsWarning: 'nanomaggy^-2' did not parse as fits unit: At col 0, Unit 'nanomaggy' not supported by the FITS standard.  If this is meant to be a custom unit, define it with 'u.def_unit'. To have it recognized inside a file reader or other code, enable it with 'u.add_enabled_units'. For details, see https://docs.astropy.org/en/latest/units/combining_and_defining.html [astropy.units.core]\n"
     ]
    }
   ],
   "source": [
    "# choose desi data release, target galaxy type (could be wrongly determined, need rule out non galaxy targets later)\n",
    "target_name = \"ELG\"\n",
    "data = Table.read(f'../data/iron-KiDS-{target_name}.fits', hdu=\"ZCATALOG\")\n",
    "# hdulist = fits.open(f'../data/iron-KiDS-{target_name}.fits')\n",
    "# hdulist.info()"
   ]
  },
  {
   "cell_type": "code",
   "execution_count": 83,
   "id": "13bff50a-4bef-4735-96e9-b441bc8afeb0",
   "metadata": {
    "tags": []
   },
   "outputs": [
    {
     "name": "stdout",
     "output_type": "stream",
     "text": [
      "['GALAXY' 'QSO' 'STAR']\n"
     ]
    },
    {
     "data": {
      "text/html": [
       "<div><i>Table length=3</i>\n",
       "<table id=\"table140162456394560\" class=\"table-striped table-bordered table-condensed\">\n",
       "<thead><tr><th>TARGETID</th><th>SURVEY</th><th>PROGRAM</th><th>FIRSTNIGHT</th><th>LASTNIGHT</th><th>SPGRPVAL</th><th>Z</th><th>ZERR</th><th>ZWARN</th><th>CHI2</th><th>COEFF</th><th>NPIXELS</th><th>SPECTYPE</th><th>SUBTYPE</th><th>NCOEFF</th><th>DELTACHI2</th><th>PETAL_LOC</th><th>DEVICE_LOC</th><th>LOCATION</th><th>FIBER</th><th>COADD_FIBERSTATUS</th><th>TARGET_RA</th><th>TARGET_DEC</th><th>PMRA</th><th>PMDEC</th><th>REF_EPOCH</th><th>LAMBDA_REF</th><th>FA_TARGET</th><th>FA_TYPE</th><th>OBJTYPE</th><th>FIBERASSIGN_X</th><th>FIBERASSIGN_Y</th><th>PRIORITY</th><th>SUBPRIORITY</th><th>OBSCONDITIONS</th><th>RELEASE</th><th>BRICKNAME</th><th>BRICKID</th><th>BRICK_OBJID</th><th>MORPHTYPE</th><th>EBV</th><th>FLUX_G</th><th>FLUX_R</th><th>FLUX_Z</th><th>FLUX_W1</th><th>FLUX_W2</th><th>FLUX_IVAR_G</th><th>FLUX_IVAR_R</th><th>FLUX_IVAR_Z</th><th>FLUX_IVAR_W1</th><th>FLUX_IVAR_W2</th><th>FIBERFLUX_G</th><th>FIBERFLUX_R</th><th>FIBERFLUX_Z</th><th>FIBERTOTFLUX_G</th><th>FIBERTOTFLUX_R</th><th>FIBERTOTFLUX_Z</th><th>MASKBITS</th><th>SERSIC</th><th>SHAPE_R</th><th>SHAPE_E1</th><th>SHAPE_E2</th><th>REF_ID</th><th>REF_CAT</th><th>GAIA_PHOT_G_MEAN_MAG</th><th>GAIA_PHOT_BP_MEAN_MAG</th><th>GAIA_PHOT_RP_MEAN_MAG</th><th>PARALLAX</th><th>PHOTSYS</th><th>PRIORITY_INIT</th><th>NUMOBS_INIT</th><th>CMX_TARGET</th><th>DESI_TARGET</th><th>BGS_TARGET</th><th>MWS_TARGET</th><th>SCND_TARGET</th><th>SV1_DESI_TARGET</th><th>SV1_BGS_TARGET</th><th>SV1_MWS_TARGET</th><th>SV1_SCND_TARGET</th><th>SV2_DESI_TARGET</th><th>SV2_BGS_TARGET</th><th>SV2_MWS_TARGET</th><th>SV2_SCND_TARGET</th><th>SV3_DESI_TARGET</th><th>SV3_BGS_TARGET</th><th>SV3_MWS_TARGET</th><th>SV3_SCND_TARGET</th><th>PLATE_RA</th><th>PLATE_DEC</th><th>TILEID</th><th>COADD_NUMEXP</th><th>COADD_EXPTIME</th><th>COADD_NUMNIGHT</th><th>COADD_NUMTILE</th><th>MEAN_DELTA_X</th><th>RMS_DELTA_X</th><th>MEAN_DELTA_Y</th><th>RMS_DELTA_Y</th><th>MEAN_PSF_TO_FIBER_SPECFLUX</th><th>MEAN_FIBER_X</th><th>MEAN_FIBER_Y</th><th>MEAN_FIBER_RA</th><th>STD_FIBER_RA</th><th>MEAN_FIBER_DEC</th><th>STD_FIBER_DEC</th><th>MIN_MJD</th><th>MAX_MJD</th><th>MEAN_MJD</th><th>TSNR2_GPBDARK_B</th><th>TSNR2_ELG_B</th><th>TSNR2_GPBBRIGHT_B</th><th>TSNR2_LYA_B</th><th>TSNR2_BGS_B</th><th>TSNR2_GPBBACKUP_B</th><th>TSNR2_QSO_B</th><th>TSNR2_LRG_B</th><th>TSNR2_GPBDARK_R</th><th>TSNR2_ELG_R</th><th>TSNR2_GPBBRIGHT_R</th><th>TSNR2_LYA_R</th><th>TSNR2_BGS_R</th><th>TSNR2_GPBBACKUP_R</th><th>TSNR2_QSO_R</th><th>TSNR2_LRG_R</th><th>TSNR2_GPBDARK_Z</th><th>TSNR2_ELG_Z</th><th>TSNR2_GPBBRIGHT_Z</th><th>TSNR2_LYA_Z</th><th>TSNR2_BGS_Z</th><th>TSNR2_GPBBACKUP_Z</th><th>TSNR2_QSO_Z</th><th>TSNR2_LRG_Z</th><th>TSNR2_GPBDARK</th><th>TSNR2_ELG</th><th>TSNR2_GPBBRIGHT</th><th>TSNR2_LYA</th><th>TSNR2_BGS</th><th>TSNR2_GPBBACKUP</th><th>TSNR2_QSO</th><th>TSNR2_LRG</th><th>MAIN_NSPEC</th><th>MAIN_PRIMARY</th><th>SV_NSPEC</th><th>SV_PRIMARY</th><th>ZCAT_NSPEC</th><th>ZCAT_PRIMARY</th><th>DESINAME</th></tr></thead>\n",
       "<thead><tr><th></th><th></th><th></th><th></th><th></th><th></th><th></th><th></th><th></th><th></th><th></th><th></th><th></th><th></th><th></th><th></th><th></th><th></th><th></th><th></th><th></th><th>deg</th><th>deg</th><th>mas / yr</th><th>mas / yr</th><th>yr</th><th>Angstrom</th><th></th><th></th><th></th><th>mm</th><th>mm</th><th></th><th></th><th></th><th></th><th></th><th></th><th></th><th></th><th>mag</th><th>nanomaggy</th><th>nanomaggy</th><th>nanomaggy</th><th>nanomaggy</th><th>nanomaggy</th><th>nanomaggy^-2</th><th>nanomaggy^-2</th><th>nanomaggy^-2</th><th>nanomaggy^-2</th><th>nanomaggy^-2</th><th>nanomaggy</th><th>nanomaggy</th><th>nanomaggy</th><th>nanomaggy</th><th>nanomaggy</th><th>nanomaggy</th><th></th><th></th><th>arcsec</th><th></th><th></th><th></th><th></th><th>mag</th><th>mag</th><th>mag</th><th>mas</th><th></th><th></th><th></th><th></th><th></th><th></th><th></th><th></th><th></th><th></th><th></th><th></th><th></th><th></th><th></th><th></th><th></th><th></th><th></th><th></th><th>deg</th><th>deg</th><th></th><th></th><th>s</th><th></th><th></th><th>mm</th><th>mm</th><th>mm</th><th>mm</th><th></th><th>mm</th><th>mm</th><th>deg</th><th>arcsec</th><th>deg</th><th>arcsec</th><th></th><th></th><th></th><th></th><th></th><th></th><th></th><th></th><th></th><th></th><th></th><th></th><th></th><th></th><th></th><th></th><th></th><th></th><th></th><th></th><th></th><th></th><th></th><th></th><th></th><th></th><th></th><th></th><th></th><th></th><th></th><th></th><th></th><th></th><th></th><th></th><th></th><th></th><th></th><th></th><th></th><th></th></tr></thead>\n",
       "<thead><tr><th>int64</th><th>bytes7</th><th>bytes6</th><th>int32</th><th>int32</th><th>int32</th><th>float64</th><th>float64</th><th>int64</th><th>float64</th><th>float64[10]</th><th>int64</th><th>bytes6</th><th>bytes20</th><th>int64</th><th>float64</th><th>int16</th><th>int32</th><th>int64</th><th>int32</th><th>int32</th><th>float64</th><th>float64</th><th>float32</th><th>float32</th><th>float32</th><th>float32</th><th>int64</th><th>uint8</th><th>bytes3</th><th>float32</th><th>float32</th><th>int32</th><th>float64</th><th>int32</th><th>int16</th><th>bytes8</th><th>int32</th><th>int32</th><th>bytes4</th><th>float32</th><th>float32</th><th>float32</th><th>float32</th><th>float32</th><th>float32</th><th>float32</th><th>float32</th><th>float32</th><th>float32</th><th>float32</th><th>float32</th><th>float32</th><th>float32</th><th>float32</th><th>float32</th><th>float32</th><th>int16</th><th>float32</th><th>float32</th><th>float32</th><th>float32</th><th>int64</th><th>bytes2</th><th>float32</th><th>float32</th><th>float32</th><th>float32</th><th>bytes1</th><th>int64</th><th>int64</th><th>int64</th><th>int64</th><th>int64</th><th>int64</th><th>int64</th><th>int64</th><th>int64</th><th>int64</th><th>int64</th><th>int64</th><th>int64</th><th>int64</th><th>int64</th><th>int64</th><th>int64</th><th>int64</th><th>int64</th><th>float64</th><th>float64</th><th>int32</th><th>int16</th><th>float32</th><th>int16</th><th>int16</th><th>float32</th><th>float32</th><th>float32</th><th>float32</th><th>float32</th><th>float32</th><th>float32</th><th>float64</th><th>float32</th><th>float64</th><th>float32</th><th>float64</th><th>float64</th><th>float64</th><th>float32</th><th>float32</th><th>float32</th><th>float32</th><th>float32</th><th>float32</th><th>float32</th><th>float32</th><th>float32</th><th>float32</th><th>float32</th><th>float32</th><th>float32</th><th>float32</th><th>float32</th><th>float32</th><th>float32</th><th>float32</th><th>float32</th><th>float32</th><th>float32</th><th>float32</th><th>float32</th><th>float32</th><th>float32</th><th>float32</th><th>float32</th><th>float32</th><th>float32</th><th>float32</th><th>float32</th><th>float32</th><th>int16</th><th>bool</th><th>int16</th><th>bool</th><th>int16</th><th>bool</th><th>bytes22</th></tr></thead>\n",
       "<tr><td>39636608957287040</td><td>main</td><td>bright</td><td>20210609</td><td>20210609</td><td>20210609</td><td>0.735236376737678</td><td>0.00021059863767976204</td><td>0</td><td>7668.967475390062</td><td>0.8096358807164004 .. 0.0</td><td>7848</td><td>QSO</td><td>LOZ</td><td>4</td><td>105.24627841822803</td><td>4</td><td>397</td><td>4397</td><td>2196</td><td>0</td><td>237.12988963930846</td><td>0.9846187252709787</td><td>-0.78889036</td><td>0.8530999</td><td>2015.5</td><td>5400.0</td><td>1152921504607502434</td><td>1</td><td>TGT</td><td>291.31552</td><td>248.0183</td><td>2000</td><td>0.5956282285858943</td><td>517</td><td>9012</td><td>2371p010</td><td>337076</td><td>2688</td><td>REX</td><td>0.097547084</td><td>5.2370977</td><td>6.60978</td><td>9.061281</td><td>40.8621</td><td>38.56908</td><td>478.44708</td><td>237.10822</td><td>43.635223</td><td>2.4697897</td><td>0.63371</td><td>3.4959078</td><td>4.4122114</td><td>6.0486565</td><td>3.4959078</td><td>4.4122114</td><td>6.0486565</td><td>0</td><td>1.0</td><td>0.27559835</td><td>0.0</td><td>0.0</td><td>4422692618294513920</td><td>G2</td><td>20.836832</td><td>20.607641</td><td>19.927036</td><td>-2.6638594</td><td>S</td><td>2000</td><td>2</td><td>0</td><td>1152921504607502434</td><td>262148</td><td>0</td><td>0</td><td>0</td><td>0</td><td>0</td><td>0</td><td>0</td><td>0</td><td>0</td><td>0</td><td>0</td><td>0</td><td>0</td><td>0</td><td>237.12988963930846</td><td>0.9846187252709787</td><td>20000</td><td>1</td><td>1038.3943</td><td>1</td><td>1</td><td>0.008</td><td>0.008</td><td>0.004</td><td>0.004</td><td>0.7807264</td><td>291.302</td><td>248.014</td><td>237.12991944321982</td><td>0.0</td><td>0.9846044111847582</td><td>0.0</td><td>59375.25086466</td><td>59375.25086466</td><td>59375.25086466</td><td>17.03843</td><td>0.015757158</td><td>3.4147117</td><td>8.245517</td><td>92.099655</td><td>22.70847</td><td>0.34832022</td><td>0.18998238</td><td>2578.6292</td><td>5.843808</td><td>498.0883</td><td>0.012400824</td><td>578.6373</td><td>2947.1501</td><td>1.4510251</td><td>8.793492</td><td>2.5490087e-06</td><td>18.701902</td><td>5.0735764e-07</td><td>0.0</td><td>908.5451</td><td>3.3036804e-06</td><td>3.2205832</td><td>9.159133</td><td>2595.6675</td><td>24.561468</td><td>501.503</td><td>8.257917</td><td>1579.2821</td><td>2969.8586</td><td>5.0199285</td><td>18.142609</td><td>2</td><td>False</td><td>0</td><td>False</td><td>2</td><td>False</td><td>DESI J237.1298+00.9846</td></tr>\n",
       "<tr><td>39627788738630431</td><td>main</td><td>bright</td><td>20210609</td><td>20210609</td><td>20210609</td><td>0.1059174314154084</td><td>1.6333861595753628e-06</td><td>0</td><td>8973.999777317047</td><td>727.9588576303086 .. 23.372976646654497</td><td>7813</td><td>GALAXY</td><td>--</td><td>10</td><td>12799.232614517212</td><td>7</td><td>175</td><td>7175</td><td>3525</td><td>0</td><td>239.2076090302646</td><td>0.07886079187405383</td><td>0.0</td><td>0.0</td><td>2015.5</td><td>5400.0</td><td>1152921504607502370</td><td>1</td><td>TGT</td><td>-228.08406</td><td>19.833298</td><td>2100</td><td>0.10477758489695899</td><td>517</td><td>9010</td><td>2391p000</td><td>331324</td><td>4895</td><td>DEV</td><td>0.13608778</td><td>6.5298123</td><td>8.967872</td><td>12.556219</td><td>9.377029</td><td>9.813348</td><td>545.6345</td><td>216.18872</td><td>42.563744</td><td>2.7601888</td><td>0.63097334</td><td>2.5615265</td><td>3.517933</td><td>4.925576</td><td>2.5615416</td><td>3.5180237</td><td>4.925818</td><td>0</td><td>4.0</td><td>0.8209962</td><td>-0.09026812</td><td>-0.031975415</td><td>0</td><td>--</td><td>0.0</td><td>0.0</td><td>0.0</td><td>0.0</td><td>S</td><td>2100</td><td>2</td><td>0</td><td>1152921504607502370</td><td>65545</td><td>0</td><td>0</td><td>0</td><td>0</td><td>0</td><td>0</td><td>0</td><td>0</td><td>0</td><td>0</td><td>0</td><td>0</td><td>0</td><td>0</td><td>239.2076090302646</td><td>0.07886079187405383</td><td>20000</td><td>1</td><td>1038.3943</td><td>1</td><td>1</td><td>0.002</td><td>0.002</td><td>0.002</td><td>0.002</td><td>0.7666568</td><td>-228.081</td><td>19.831</td><td>239.20761694085706</td><td>0.0</td><td>0.0788526461527774</td><td>0.0</td><td>59375.25086469</td><td>59375.25086469</td><td>59375.25086469</td><td>30.637463</td><td>0.019326685</td><td>5.937438</td><td>11.213362</td><td>109.90607</td><td>39.209885</td><td>0.4319953</td><td>0.21978652</td><td>2193.17</td><td>5.193027</td><td>414.95126</td><td>0.008601156</td><td>465.12857</td><td>2549.9548</td><td>1.2788368</td><td>7.5968018</td><td>5.338679e-06</td><td>22.188545</td><td>1.0326502e-06</td><td>0.0</td><td>1057.4545</td><td>6.7935543e-06</td><td>3.9196668</td><td>10.877336</td><td>2223.8074</td><td>27.400898</td><td>420.8887</td><td>11.221963</td><td>1632.4891</td><td>2589.1648</td><td>5.630499</td><td>18.693924</td><td>1</td><td>True</td><td>0</td><td>False</td><td>1</td><td>True</td><td>DESI J239.2076+00.788</td></tr>\n",
       "<tr><td>39627757897912367</td><td>main</td><td>bright</td><td>20210604</td><td>20210604</td><td>20210604</td><td>0.7258651179129548</td><td>0.00010337850679687333</td><td>0</td><td>7808.979547552764</td><td>2.3142234743216488 .. 0.0</td><td>7904</td><td>QSO</td><td>LOZ</td><td>4</td><td>538.371160033159</td><td>0</td><td>362</td><td>362</td><td>157</td><td>0</td><td>200.94066075956243</td><td>-1.3249460639375263</td><td>-0.713375</td><td>0.097999334</td><td>2015.5</td><td>5400.0</td><td>1152921504607502370</td><td>1</td><td>TGT</td><td>-9.185705</td><td>-331.39554</td><td>2000</td><td>0.5992132981320464</td><td>517</td><td>9010</td><td>2008m012</td><td>323971</td><td>4143</td><td>REX</td><td>0.02972417</td><td>7.2376323</td><td>7.7567844</td><td>13.555072</td><td>47.952057</td><td>63.86385</td><td>593.7953</td><td>79.20056</td><td>69.95726</td><td>2.2471664</td><td>0.52880025</td><td>5.003414</td><td>5.362307</td><td>9.370695</td><td>5.0056853</td><td>5.3680844</td><td>9.382206</td><td>0</td><td>1.0</td><td>0.23829865</td><td>0.0</td><td>0.0</td><td>3638342731463608832</td><td>G2</td><td>20.198015</td><td>19.878242</td><td>19.232416</td><td>0.36956066</td><td>S</td><td>2000</td><td>2</td><td>0</td><td>1152921504607502370</td><td>262148</td><td>0</td><td>0</td><td>0</td><td>0</td><td>0</td><td>0</td><td>0</td><td>0</td><td>0</td><td>0</td><td>0</td><td>0</td><td>0</td><td>0</td><td>200.94066075956243</td><td>-1.3249460639375263</td><td>20005</td><td>1</td><td>500.5977</td><td>1</td><td>1</td><td>0.0</td><td>0.0</td><td>0.001</td><td>0.001</td><td>0.78449994</td><td>-9.187</td><td>-331.394</td><td>200.94066075059322</td><td>0.0</td><td>-1.32494984710817</td><td>0.0</td><td>59370.15122237</td><td>59370.15122237</td><td>59370.15122237</td><td>31.294699</td><td>0.011962696</td><td>5.979223</td><td>7.7435145</td><td>70.35076</td><td>47.83807</td><td>0.30500466</td><td>0.140149</td><td>2283.4456</td><td>4.6699824</td><td>425.7438</td><td>0.009159907</td><td>505.51373</td><td>3153.654</td><td>1.449619</td><td>6.9952617</td><td>3.1566417e-06</td><td>15.979631</td><td>6.0422974e-07</td><td>0.0</td><td>761.8386</td><td>4.875004e-06</td><td>3.2494996</td><td>7.61552</td><td>2314.7402</td><td>20.661577</td><td>431.72302</td><td>7.7526746</td><td>1337.7031</td><td>3201.4922</td><td>5.004123</td><td>14.750931</td><td>2</td><td>False</td><td>0</td><td>False</td><td>2</td><td>False</td><td>DESI J200.9406-01.3249</td></tr>\n",
       "</table></div>"
      ],
      "text/plain": [
       "<Table length=3>\n",
       "     TARGETID     SURVEY PROGRAM ... ZCAT_PRIMARY        DESINAME       \n",
       "                                 ...                                    \n",
       "      int64       bytes7  bytes6 ...     bool            bytes22        \n",
       "----------------- ------ ------- ... ------------ ----------------------\n",
       "39636608957287040   main  bright ...        False DESI J237.1298+00.9846\n",
       "39627788738630431   main  bright ...         True  DESI J239.2076+00.788\n",
       "39627757897912367   main  bright ...        False DESI J200.9406-01.3249"
      ]
     },
     "execution_count": 83,
     "metadata": {},
     "output_type": "execute_result"
    }
   ],
   "source": [
    "print(np.unique(np.array(data[\"SPECTYPE\"], dtype=\"str\")))\n",
    "data[:3]"
   ]
  },
  {
   "cell_type": "code",
   "execution_count": 84,
   "id": "31b03069-4e47-4085-9cdb-a14795c77b06",
   "metadata": {
    "tags": []
   },
   "outputs": [
    {
     "name": "stdout",
     "output_type": "stream",
     "text": [
      "1643424(1643424) galaxy targets, which are 90.47% of total targets, others are QSO, STAR\n",
      "1206085 (73.39%) galaxies have confident redshift by DESI redrock algorithm\n"
     ]
    }
   ],
   "source": [
    "# galaxy selection\n",
    "is_galaxy = data[\"SPECTYPE\"] == \"GALAXY\"\n",
    "galaxies = data[is_galaxy]\n",
    "z_criterion = 15\n",
    "is_confident_galaxy = galaxies[\"DELTACHI2\"] > z_criterion\n",
    "\n",
    "print(f\"{len(galaxies)}({len(is_confident_galaxy)}) galaxy targets, which are {is_galaxy.sum()/len(data):.2%} of total targets, others are QSO, STAR\")\n",
    "print(f\"{is_confident_galaxy.sum()} ({is_confident_galaxy.sum()/len(galaxies):.2%}) galaxies have confident redshift by DESI redrock algorithm\")"
   ]
  },
  {
   "cell_type": "code",
   "execution_count": 97,
   "id": "0ce98d84-25db-4e3f-9c70-8e816b2cc1af",
   "metadata": {
    "tags": []
   },
   "outputs": [
    {
     "name": "stdout",
     "output_type": "stream",
     "text": [
      "range of redrock z: [-4.31e-03, 1.70e+00]\n",
      "1640905 (99.8467%) galaxies with z in range [0, 1.698]\n"
     ]
    },
    {
     "data": {
      "image/png": "[encoded data removed]",
      "text/plain": [
       "<Figure size 640x480 with 1 Axes>"
      ]
     },
     "metadata": {},
     "output_type": "display_data"
    }
   ],
   "source": [
    "data = galaxies[\"Z\"]\n",
    "print(f\"range of redrock z: [{data.min():.2e}, {data.max():.2e}]\")\n",
    "lboundary, rboundary = 0, data.max()\n",
    "filters = lboundary <= data\n",
    "print(f\"{filters.sum()} ({filters.sum()/len(galaxies):.4%}) galaxies with z in range [{lboundary}, {rboundary:.4}]\")\n",
    "\n",
    "plt.hist(data, bins=20, edgecolor='black', density=True)\n",
    "plt.xlabel(\"z\")\n",
    "plt.ylabel(\"percentage\")\n",
    "plt.show()"
   ]
  },
  {
   "cell_type": "code",
   "execution_count": 76,
   "id": "b99eb06a-3982-4233-8953-c5b87a8b9e65",
   "metadata": {
    "tags": []
   },
   "outputs": [
    {
     "name": "stdout",
     "output_type": "stream",
     "text": [
      "range of redrock z error: [2.23e-46, 2.13e-03]\n",
      "1616093 (98.3369%) galaxies with z_err in range [0, 0.0002]\n"
     ]
    },
    {
     "data": {
      "image/png": "[encoded data removed]",
      "text/plain": [
       "<Figure size 640x480 with 1 Axes>"
      ]
     },
     "metadata": {},
     "output_type": "display_data"
    }
   ],
   "source": [
    "data = galaxies[\"ZERR\"]\n",
    "print(f\"range of redrock z error: [{data.min():.2e}, {data.max():.2e}]\")\n",
    "rboundary = 2e-4\n",
    "filters = data <= rboundary\n",
    "print(f\"{filters.sum()} ({filters.sum()/len(galaxies):.4%}) galaxies with z_err in range [0, {rboundary}]\")\n",
    "\n",
    "plt.hist(data[filters], bins=20, edgecolor='black', density=False)\n",
    "plt.xticks(rotation=45)\n",
    "plt.xlabel(\"z_err\")\n",
    "plt.ylabel(\"counts\")\n",
    "plt.show()"
   ]
  },
  {
   "cell_type": "code",
   "execution_count": 107,
   "id": "7f4d8310-a8dc-45d8-a7c5-541d02df2127",
   "metadata": {
    "tags": []
   },
   "outputs": [
    {
     "name": "stdout",
     "output_type": "stream",
     "text": [
      "range of redrock CHI2: [2496, 9.00e+99]\n",
      "1602010 (97.4800%) galaxies with CHI2 in range [7000, 10000]\n"
     ]
    },
    {
     "data": {
      "image/png": "[encoded data removed]",
      "text/plain": [
       "<Figure size 640x480 with 1 Axes>"
      ]
     },
     "metadata": {},
     "output_type": "display_data"
    }
   ],
   "source": [
    "data = galaxies[\"CHI2\"]\n",
    "print(f\"range of redrock CHI2: [{data.min():.0f}, {data.max():.2e}]\")\n",
    "lboundary, rboundary = 7000, 10000\n",
    "filters = (lboundary <= data) & (data <= rboundary)\n",
    "print(f\"{filters.sum()} ({filters.sum()/len(galaxies):.4%}) galaxies with CHI2 in range [{lboundary}, {rboundary}]\")\n",
    "\n",
    "plt.hist(data[filters], bins=15, edgecolor='black', density=False)\n",
    "plt.xlabel(r\"$\\chi^2$\")\n",
    "plt.ylabel(\"counts\")\n",
    "plt.show()"
   ]
  },
  {
   "cell_type": "code",
   "execution_count": 128,
   "id": "0e5ddc9a-b9d9-452b-b3ca-dfca6d86955e",
   "metadata": {
    "tags": []
   },
   "outputs": [
    {
     "name": "stdout",
     "output_type": "stream",
     "text": [
      "range of redrock DELTACHI2: [0, 7.49e+05]\n",
      "1191833 (72.5213%) galaxies with DELTACHI2 in range [15, 5000]\n"
     ]
    },
    {
     "data": {
      "image/png": "[encoded data removed]",
      "text/plain": [
       "<Figure size 640x480 with 1 Axes>"
      ]
     },
     "metadata": {},
     "output_type": "display_data"
    }
   ],
   "source": [
    "# DELTACHI2 = CHI2_2ndbest - CHI2_best\n",
    "data = galaxies[\"DELTACHI2\"]\n",
    "print(f\"range of redrock DELTACHI2: [{data.min():.0f}, {data.max():.2e}]\")\n",
    "lboundary, rboundary = 15, 5000\n",
    "filters = (lboundary <= data) & (data <= rboundary)\n",
    "print(f\"{filters.sum()} ({filters.sum()/len(galaxies):.4%}) galaxies with DELTACHI2 in range [{lboundary}, {rboundary}]\")\n",
    "\n",
    "plt.hist(data[filters], bins=15, edgecolor='black', density=False)\n",
    "plt.xlabel(r\"$\\Delta\\chi^2$\")\n",
    "plt.ylabel(\"counts\")\n",
    "plt.show()"
   ]
  },
  {
   "cell_type": "code",
   "execution_count": 129,
   "id": "1f609d29-f35c-41ea-91c8-3fe9a691b1e3",
   "metadata": {
    "tags": []
   },
   "outputs": [
    {
     "data": {
      "text/plain": [
       "9069"
      ]
     },
     "execution_count": 129,
     "metadata": {},
     "output_type": "execute_result"
    }
   ],
   "source": [
    "gc.collect()"
   ]
  },
  {
   "cell_type": "code",
   "execution_count": 136,
   "id": "0765c5bd-b616-44df-aa24-479e62be5b7e",
   "metadata": {
    "tags": []
   },
   "outputs": [
    {
     "data": {
      "text/plain": [
       "array([ 0.      ,  0.      , 20.725872, ...,  0.      ,  0.      ,\n",
       "        0.      ], dtype=float32)"
      ]
     },
     "execution_count": 136,
     "metadata": {},
     "output_type": "execute_result"
    }
   ],
   "source": [
    "galaxies[\"GAIA_PHOT_G_MEAN_MAG\"].data"
   ]
  },
  {
   "cell_type": "markdown",
   "id": "27919a26-fc1c-488a-9cb3-f9429387c108",
   "metadata": {
    "tags": []
   },
   "source": [
    "## 2. Process data for training (as `CLASS DataLoader`)"
   ]
  },
  {
   "cell_type": "code",
   "execution_count": 12,
   "id": "2f98651e-2617-4abd-93b1-f4a6fe0213fe",
   "metadata": {
    "tags": []
   },
   "outputs": [],
   "source": [
    "import torch\n",
    "from torch.utils.data import Dataset, TensorDataset, DataLoader, random_split\n",
    "from torch import nn"
   ]
  },
  {
   "cell_type": "code",
   "execution_count": 13,
   "id": "38c5f58c-deee-421d-8cc8-dde2ac92fa6c",
   "metadata": {
    "tags": []
   },
   "outputs": [],
   "source": [
    "# normalization strategy\n",
    "def z_score_normalization(array):\n",
    "    # -> N(0, 1)\n",
    "    return (array - array.mean()) / array.std()\n",
    "\n",
    "\n",
    "def min_max_normalization(array):\n",
    "    # -> [0, 1]\n",
    "    return (array - array.min()) / (array.max() - array.min())"
   ]
  },
  {
   "cell_type": "code",
   "execution_count": 14,
   "id": "d55e870c-fe0f-4466-ad27-938498ba2781",
   "metadata": {
    "tags": []
   },
   "outputs": [
    {
     "data": {
      "text/plain": [
       "3574.9104"
      ]
     },
     "execution_count": 14,
     "metadata": {},
     "output_type": "execute_result"
    }
   ],
   "source": [
    "data[\"FLUX_W1\"].data.max()"
   ]
  },
  {
   "cell_type": "code",
   "execution_count": 15,
   "id": "f71951e4-cec9-4f46-aeae-4482232a45ed",
   "metadata": {
    "tags": []
   },
   "outputs": [
    {
     "name": "stdout",
     "output_type": "stream",
     "text": [
      "(1643424, 18) float32\n"
     ]
    }
   ],
   "source": [
    "dtype = np.float32\n",
    "in_data_column = [\n",
    "    # magnitude\n",
    "    \"EBV\",\n",
    "    \"FLUX_G\",\n",
    "    \"FLUX_R\",\n",
    "    \"FLUX_Z\",\n",
    "    \"FLUX_W1\",\n",
    "    \"FLUX_W2\",\n",
    "    \"FIBERFLUX_G\",\n",
    "    \"FIBERFLUX_R\",\n",
    "    \"FIBERFLUX_Z\",\n",
    "    \"FIBERTOTFLUX_G\",\n",
    "    \"FIBERTOTFLUX_R\",\n",
    "    \"FIBERTOTFLUX_Z\",\n",
    "    # shape\n",
    "    \"SERSIC\",\n",
    "    \"SHAPE_R\",\n",
    "    \"SHAPE_E1\",\n",
    "    \"SHAPE_E2\",\n",
    "    # exposure\n",
    "    \"COADD_NUMEXP\",\n",
    "    \"COADD_EXPTIME\",\n",
    "]\n",
    "\n",
    "# input data preprocess and normalization\n",
    "np_in_data = np.zeros(len(galaxies))\n",
    "for column in in_data_column:\n",
    "    # transform flux to magnitude\n",
    "    # if \"FLUX_\" in column:\n",
    "    #     normalize = 22.5 - np.log10(data[column].data.astype(dtype))\n",
    "    # else:\n",
    "    #     normalize = data[column].data.astype(dtype)\n",
    "    normalize = galaxies[column].data.astype(dtype)\n",
    "    normalize = z_score_normalization(normalize)\n",
    "    np_in_data = np.vstack((np_in_data, normalize))\n",
    "\n",
    "np_in_data = np_in_data[1:, :].astype(dtype).T\n",
    "# input data dimension\n",
    "in_data_shape = np_in_data.shape[1]\n",
    "print(np_in_data.shape, np_in_data.dtype)"
   ]
  },
  {
   "cell_type": "code",
   "execution_count": 16,
   "id": "647957e7-790e-404e-8edc-a0081585385e",
   "metadata": {
    "tags": []
   },
   "outputs": [
    {
     "name": "stdout",
     "output_type": "stream",
     "text": [
      "1816597\n",
      "(1643424,) float32\n"
     ]
    }
   ],
   "source": [
    "print(len(is_confident))\n",
    "is_confident_galaxy = is_confident_galaxy[is_galaxy]\n",
    "np_out_data = is_confident_galaxy.astype(dtype).squeeze()\n",
    "dataset = TensorDataset(torch.as_tensor(np_in_data), torch.as_tensor(np_out_data))\n",
    "print(np_out_data.shape, np_out_data.dtype)"
   ]
  },
  {
   "cell_type": "code",
   "execution_count": 17,
   "id": "b16d2658-6696-461a-975c-4717b3fb8e2e",
   "metadata": {
    "tags": []
   },
   "outputs": [],
   "source": [
    "# Use random_split to create the splits\n",
    "train_dataset, val_dataset, test_dataset = random_split(dataset, [0.8, 0.1, 0.1])"
   ]
  },
  {
   "cell_type": "code",
   "execution_count": 18,
   "id": "c434f597-71bc-41db-aeb8-3ac73062b1f5",
   "metadata": {
    "tags": []
   },
   "outputs": [
    {
     "name": "stdout",
     "output_type": "stream",
     "text": [
      "<class 'torch.utils.data.dataloader.DataLoader'> 5136 1314816 1453277.6\n",
      "info of input data: <class 'torch.Tensor'>, torch.Size([256, 18]), torch.float32\n",
      "info of output flag: <class 'torch.Tensor'>, torch.Size([256]) torch.float32\n"
     ]
    }
   ],
   "source": [
    "batch_size = 256\n",
    "# construct instances for class `DataLoader`, with parameters \n",
    "train_dataloader = DataLoader(train_dataset, batch_size=batch_size, shuffle=True)\n",
    "test_dataloader = DataLoader(test_dataset, batch_size=batch_size, shuffle=True)\n",
    "val_dataloader = DataLoader(val_dataset, batch_size=batch_size, shuffle=True)\n",
    "\n",
    "# `DataLoader` instances are iterable, but not subscpriptable\n",
    "print(type(train_dataloader), len(train_dataloader), len(train_dataloader)*batch_size, len(data)*0.8)\n",
    "\n",
    "for X, y in train_dataloader:\n",
    "    print(f\"info of input data: {type(X)}, {X.shape}, {X.dtype}\")\n",
    "    print(f\"info of output flag: {type(y)}, {y.shape} {y.dtype}\")\n",
    "    break  # only show index 0"
   ]
  },
  {
   "cell_type": "code",
   "execution_count": 19,
   "id": "454b233b-7e51-4f5e-b091-16dfe8bbccf3",
   "metadata": {
    "tags": []
   },
   "outputs": [
    {
     "data": {
      "text/plain": [
       "0"
      ]
     },
     "execution_count": 19,
     "metadata": {},
     "output_type": "execute_result"
    }
   ],
   "source": [
    "gc.collect()"
   ]
  },
  {
   "cell_type": "markdown",
   "id": "61f78fe4-fec8-4be4-a92a-dd14017ba773",
   "metadata": {
    "tags": []
   },
   "source": [
    "## 3. Define neural network and training"
   ]
  },
  {
   "cell_type": "code",
   "execution_count": 20,
   "id": "7b4559ac-3f86-4584-b20f-26d714045bac",
   "metadata": {
    "tags": []
   },
   "outputs": [
    {
     "name": "stdout",
     "output_type": "stream",
     "text": [
      "Using cuda device\n",
      "NeuralNetwork(\n",
      "  (model): Sequential(\n",
      "    (0): Linear(in_features=18, out_features=64, bias=True)\n",
      "    (1): LeakyReLU(negative_slope=0.2)\n",
      "    (2): Linear(in_features=64, out_features=128, bias=True)\n",
      "    (3): LeakyReLU(negative_slope=0.2)\n",
      "    (4): Linear(in_features=128, out_features=64, bias=True)\n",
      "    (5): LeakyReLU(negative_slope=0.2)\n",
      "    (6): Linear(in_features=64, out_features=32, bias=True)\n",
      "    (7): LeakyReLU(negative_slope=0.2)\n",
      "    (8): Linear(in_features=32, out_features=1, bias=True)\n",
      "    (9): Sigmoid()\n",
      "  )\n",
      ")\n"
     ]
    }
   ],
   "source": [
    "# Get cpu, gpu or mps device for training.\n",
    "device = (\n",
    "    \"cuda\"\n",
    "    if torch.cuda.is_available()\n",
    "    else \"mps\"\n",
    "    if torch.backends.mps.is_available()\n",
    "    else \"cpu\"\n",
    ")\n",
    "print(f\"Using {device} device\")\n",
    "\n",
    "# Define model\n",
    "class NeuralNetwork(nn.Module):\n",
    "    def __init__(self):\n",
    "        super().__init__()\n",
    "        self.model = nn.Sequential(\n",
    "            nn.Linear(in_features=in_data_shape, out_features=64),\n",
    "            nn.LeakyReLU(0.2),\n",
    "            nn.Linear(in_features=64, out_features=128),\n",
    "            nn.LeakyReLU(0.2),\n",
    "            nn.Linear(in_features=128, out_features=64),\n",
    "            nn.LeakyReLU(0.2),\n",
    "            nn.Linear(in_features=64, out_features=32),\n",
    "            nn.LeakyReLU(0.2),\n",
    "            nn.Linear(in_features=32, out_features=1),\n",
    "            nn.Sigmoid(),\n",
    "        )\n",
    "        self.model.to(device)\n",
    "\n",
    "    def forward(self, inputs):\n",
    "        return self.model(inputs)\n",
    "\n",
    "model = NeuralNetwork()\n",
    "print(model)"
   ]
  },
  {
   "cell_type": "code",
   "execution_count": 21,
   "id": "66c0f78e-ba16-485c-861b-9c8435c2dad4",
   "metadata": {
    "tags": []
   },
   "outputs": [],
   "source": [
    "# To train a model, we need a loss function and an optimizer.\n",
    "loss_fn = nn.BCELoss()\n",
    "optimizer = torch.optim.Adam(model.parameters(), lr=1e-3)"
   ]
  },
  {
   "cell_type": "code",
   "execution_count": 22,
   "id": "8e5d7a38-b613-4427-b548-97c50e0ae70d",
   "metadata": {
    "tags": []
   },
   "outputs": [],
   "source": [
    "# In a single training loop, the model makes predictions on the training dataset (fed to it in batches),\n",
    "# and backpropagates the prediction error to adjust the model’s parameters.\n",
    "def train(dataloader, model, loss_fn, optimizer):\n",
    "    size = len(dataloader.dataset)\n",
    "    \n",
    "    model.train() # default is true, means training, false means evaluation mode\n",
    "    for batch, (X, y) in enumerate(dataloader):\n",
    "        X, y = X.to(device), y.to(device)\n",
    "\n",
    "        # clear gradients for the optimizer, for next time optimization\n",
    "        optimizer.zero_grad()\n",
    "        \n",
    "        # forward pass to predict the output with current network\n",
    "        pred = model(X)\n",
    "        \n",
    "        # Compute the loss, output is torch.Tensor\n",
    "        y = y.unsqueeze(1)\n",
    "        loss = loss_fn(pred, y)\n",
    "\n",
    "        # Backpropagation\n",
    "        loss.backward()\n",
    "        \n",
    "        # update the weights of the network\n",
    "        optimizer.step()\n",
    "\n",
    "        if batch % 400 == 0:\n",
    "            loss, current = loss.item(), (batch + 1) * len(X)\n",
    "            print(f\"loss: {loss:>7f}  [{current:>7d}/{size:>7d}]\")\n",
    "\n",
    "\n",
    "# check the model’s performance against the test dataset to ensure it is learning.\n",
    "def test(dataloader, model, loss_fn):\n",
    "    size = len(dataloader.dataset)\n",
    "    num_batches = len(dataloader)\n",
    "    model.eval()\n",
    "    test_loss, correct = 0, 0\n",
    "    with torch.no_grad():\n",
    "        for X, y in dataloader:\n",
    "            X, y = X.to(device), y.to(device)\n",
    "            y = y.unsqueeze(1)\n",
    "            pred = model(X)\n",
    "            test_loss += loss_fn(pred, y).item()\n",
    "            correct += ((pred > 0.5) == y).type(torch.float).sum().item()\n",
    "    test_loss /= num_batches\n",
    "    correct /= size\n",
    "    print(f\"Test Info: \\n Accuracy: {correct:0.2%}, Avg loss: {test_loss:>8f} \\n\")"
   ]
  },
  {
   "cell_type": "code",
   "execution_count": 23,
   "id": "a5baca90-62bd-4aed-8cb9-ee3027728037",
   "metadata": {
    "tags": []
   },
   "outputs": [
    {
     "name": "stdout",
     "output_type": "stream",
     "text": [
      "Epoch 1\n",
      "-------------------------------\n",
      "loss: 0.697676  [    256/1314740]\n",
      "loss: 0.541392  [ 102656/1314740]\n",
      "loss: 0.504081  [ 205056/1314740]\n",
      "loss: 0.466664  [ 307456/1314740]\n",
      "loss: 0.505140  [ 409856/1314740]\n",
      "loss: 0.474492  [ 512256/1314740]\n",
      "loss: 0.426970  [ 614656/1314740]\n",
      "loss: 0.525020  [ 717056/1314740]\n",
      "loss: 0.503427  [ 819456/1314740]\n",
      "loss: 0.450326  [ 921856/1314740]\n",
      "loss: 0.499487  [1024256/1314740]\n",
      "loss: 0.510227  [1126656/1314740]\n",
      "loss: 0.506467  [1229056/1314740]\n",
      "Test Info: \n",
      " Accuracy: 76.42%, Avg loss: 0.480104 \n",
      "\n",
      "Done!\n"
     ]
    }
   ],
   "source": [
    "epochs = 1\n",
    "for t in range(epochs):\n",
    "    print(f\"Epoch {t+1}\\n-------------------------------\")\n",
    "    train(train_dataloader, model, loss_fn, optimizer)\n",
    "    test(test_dataloader, model, loss_fn)\n",
    "print(\"Done!\")"
   ]
  },
  {
   "cell_type": "code",
   "execution_count": 24,
   "id": "a3be7928-a674-458f-8c61-cd7a0908d0fe",
   "metadata": {
    "tags": []
   },
   "outputs": [
    {
     "name": "stdout",
     "output_type": "stream",
     "text": [
      "256 256 1643424\n",
      "tensor([[0.8294],\n",
      "        [0.5629],\n",
      "        [0.8548],\n",
      "        [0.9508],\n",
      "        [0.8577],\n",
      "        [0.9834],\n",
      "        [0.9549],\n",
      "        [0.4743],\n",
      "        [0.4582],\n",
      "        [0.8883]], device='cuda:0') tensor([1., 1., 1., 1., 1., 1., 1., 0., 0., 1.], device='cuda:0')\n",
      "161.0\n",
      "162.0\n"
     ]
    }
   ],
   "source": [
    "# This model can now be used to make predictions.\n",
    "classes = [\n",
    "    \"confident\",\n",
    "    \"not-confident\",\n",
    "]\n",
    "\n",
    "model.eval()\n",
    "for x, y in test_dataloader:\n",
    "    # torch.no_grad(): Context-manager that disables gradient calculation.\n",
    "    with torch.no_grad():\n",
    "        x = x.to(device)\n",
    "        y = y.to(device)\n",
    "        pred = model(x)\n",
    "        print(len(pred), len(y), len(is_confident_galaxy))\n",
    "        print(pred[:10], y[:10])\n",
    "        print((pred > 0.5).type(torch.float).sum().item())\n",
    "        print(y.sum().item())\n",
    "        # predicted, actual = classes[pred[0].argmax()], classes[y[0]]\n",
    "        # print(f'Predicted: \"{predicted}\", Actual: \"{actual}\"')\n",
    "        # print(pred[0], pred[0].argmax())\n",
    "    break"
   ]
  },
  {
   "cell_type": "code",
   "execution_count": 25,
   "id": "360439dd-231f-49dd-9c16-bf344a2017d6",
   "metadata": {
    "tags": []
   },
   "outputs": [
    {
     "data": {
      "text/plain": [
       "0"
      ]
     },
     "execution_count": 25,
     "metadata": {},
     "output_type": "execute_result"
    }
   ],
   "source": [
    "gc.collect()"
   ]
  }
 ],
 "metadata": {
  "kernelspec": {
   "display_name": "DESI main",
   "language": "python",
   "name": "desi-main"
  },
  "language_info": {
   "codemirror_mode": {
    "name": "ipython",
    "version": 3
   },
   "file_extension": ".py",
   "mimetype": "text/x-python",
   "name": "python",
   "nbconvert_exporter": "python",
   "pygments_lexer": "ipython3",
   "version": "3.10.14"
  }
 },
 "nbformat": 4,
 "nbformat_minor": 5
}
